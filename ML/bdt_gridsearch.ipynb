{
 "cells": [
  {
   "cell_type": "code",
   "execution_count": 89,
   "metadata": {},
   "outputs": [],
   "source": [
    "# Imports\n",
    "import numpy as np\n",
    "import pandas as pd\n",
    "import matplotlib.pyplot as plt\n",
    "\n",
    "from sklearn import model_selection , preprocessing\n",
    "from sklearn.utils import shuffle\n",
    "\n",
    "from daml import plot"
   ]
  },
  {
   "cell_type": "code",
   "execution_count": 90,
   "metadata": {},
   "outputs": [],
   "source": [
    "# signal\n",
    "s0 = pd.read_csv ( \"signal.csv\" )\n",
    "s1 = pd.read_csv ( \"0.csv\" )\n",
    "s2 = pd.read_csv ( \"30.csv\" )\n",
    "s3 = pd.read_csv ( \"60.csv\" )\n",
    "\n",
    "# bkg\n",
    "b1 = pd.read_csv ( \"sideband.csv\" )\n",
    "b2 = pd.read_csv ( \"nearsignal.csv\" )"
   ]
  },
  {
   "cell_type": "code",
   "execution_count": 91,
   "metadata": {},
   "outputs": [
    {
     "data": {
      "text/html": [
       "<div>\n",
       "<style scoped>\n",
       "    .dataframe tbody tr th:only-of-type {\n",
       "        vertical-align: middle;\n",
       "    }\n",
       "\n",
       "    .dataframe tbody tr th {\n",
       "        vertical-align: top;\n",
       "    }\n",
       "\n",
       "    .dataframe thead th {\n",
       "        text-align: right;\n",
       "    }\n",
       "</style>\n",
       "<table border=\"1\" class=\"dataframe\">\n",
       "  <thead>\n",
       "    <tr style=\"text-align: right;\">\n",
       "      <th></th>\n",
       "      <th>phib</th>\n",
       "      <th>phif</th>\n",
       "      <th>phitstar</th>\n",
       "      <th>phiw</th>\n",
       "      <th>t</th>\n",
       "      <th>thetab</th>\n",
       "      <th>thetaf</th>\n",
       "      <th>thetah</th>\n",
       "      <th>thetat</th>\n",
       "      <th>thetaw</th>\n",
       "      <th>tt</th>\n",
       "      <th>tth</th>\n",
       "      <th>isSignal</th>\n",
       "    </tr>\n",
       "  </thead>\n",
       "  <tbody>\n",
       "    <tr>\n",
       "      <td>0</td>\n",
       "      <td>2.920753</td>\n",
       "      <td>1.090986</td>\n",
       "      <td>1.733981</td>\n",
       "      <td>0.137239</td>\n",
       "      <td>268.494580</td>\n",
       "      <td>0.653567</td>\n",
       "      <td>0.682121</td>\n",
       "      <td>0.917943</td>\n",
       "      <td>0.971721</td>\n",
       "      <td>0.566443</td>\n",
       "      <td>1268.745280</td>\n",
       "      <td>1430.672788</td>\n",
       "      <td>0</td>\n",
       "    </tr>\n",
       "    <tr>\n",
       "      <td>1</td>\n",
       "      <td>2.835025</td>\n",
       "      <td>1.946042</td>\n",
       "      <td>1.402751</td>\n",
       "      <td>2.896944</td>\n",
       "      <td>201.750574</td>\n",
       "      <td>0.781232</td>\n",
       "      <td>-0.180910</td>\n",
       "      <td>-0.915062</td>\n",
       "      <td>0.501745</td>\n",
       "      <td>0.743011</td>\n",
       "      <td>716.177864</td>\n",
       "      <td>923.922878</td>\n",
       "      <td>0</td>\n",
       "    </tr>\n",
       "    <tr>\n",
       "      <td>2</td>\n",
       "      <td>2.973645</td>\n",
       "      <td>2.530269</td>\n",
       "      <td>1.016207</td>\n",
       "      <td>1.918484</td>\n",
       "      <td>291.116294</td>\n",
       "      <td>0.412756</td>\n",
       "      <td>-0.916697</td>\n",
       "      <td>-0.677089</td>\n",
       "      <td>0.732552</td>\n",
       "      <td>0.761561</td>\n",
       "      <td>673.165946</td>\n",
       "      <td>807.950518</td>\n",
       "      <td>0</td>\n",
       "    </tr>\n",
       "    <tr>\n",
       "      <td>3</td>\n",
       "      <td>1.654473</td>\n",
       "      <td>1.665302</td>\n",
       "      <td>2.096471</td>\n",
       "      <td>0.131641</td>\n",
       "      <td>315.002068</td>\n",
       "      <td>0.144500</td>\n",
       "      <td>-0.940423</td>\n",
       "      <td>0.789105</td>\n",
       "      <td>0.133557</td>\n",
       "      <td>0.407656</td>\n",
       "      <td>837.942784</td>\n",
       "      <td>977.678059</td>\n",
       "      <td>0</td>\n",
       "    </tr>\n",
       "    <tr>\n",
       "      <td>4</td>\n",
       "      <td>2.122228</td>\n",
       "      <td>1.143082</td>\n",
       "      <td>0.394234</td>\n",
       "      <td>0.968614</td>\n",
       "      <td>235.680119</td>\n",
       "      <td>0.006688</td>\n",
       "      <td>0.710969</td>\n",
       "      <td>-0.932373</td>\n",
       "      <td>0.739628</td>\n",
       "      <td>0.535162</td>\n",
       "      <td>523.067557</td>\n",
       "      <td>702.426124</td>\n",
       "      <td>0</td>\n",
       "    </tr>\n",
       "  </tbody>\n",
       "</table>\n",
       "</div>"
      ],
      "text/plain": [
       "       phib      phif  phitstar      phiw           t    thetab    thetaf  \\\n",
       "0  2.920753  1.090986  1.733981  0.137239  268.494580  0.653567  0.682121   \n",
       "1  2.835025  1.946042  1.402751  2.896944  201.750574  0.781232 -0.180910   \n",
       "2  2.973645  2.530269  1.016207  1.918484  291.116294  0.412756 -0.916697   \n",
       "3  1.654473  1.665302  2.096471  0.131641  315.002068  0.144500 -0.940423   \n",
       "4  2.122228  1.143082  0.394234  0.968614  235.680119  0.006688  0.710969   \n",
       "\n",
       "     thetah    thetat    thetaw           tt          tth  isSignal  \n",
       "0  0.917943  0.971721  0.566443  1268.745280  1430.672788         0  \n",
       "1 -0.915062  0.501745  0.743011   716.177864   923.922878         0  \n",
       "2 -0.677089  0.732552  0.761561   673.165946   807.950518         0  \n",
       "3  0.789105  0.133557  0.407656   837.942784   977.678059         0  \n",
       "4 -0.932373  0.739628  0.535162   523.067557   702.426124         0  "
      ]
     },
     "execution_count": 91,
     "metadata": {},
     "output_type": "execute_result"
    }
   ],
   "source": [
    "# total bkg\n",
    "b = pd.concat([b1,b2])\n",
    "b = shuffle(b,random_state=42).reset_index(drop=True)\n",
    "b.head()"
   ]
  },
  {
   "cell_type": "code",
   "execution_count": 92,
   "metadata": {},
   "outputs": [],
   "source": [
    "c0 = ['phib', 'phif', 'phitstar', 'phiw', 't', 'thetab', 'thetaf', 'thetah','thetat', 'thetaw', 'tt', 'tth']\n",
    "Answer_to_all_questions = 42"
   ]
  },
  {
   "cell_type": "code",
   "execution_count": 93,
   "metadata": {},
   "outputs": [],
   "source": [
    "# dftrain, dfeval, y_train, y_eval \n",
    "def preprocess(s, b):\n",
    "    # sample signal\n",
    "    S0 = s.sample(b.shape[0], random_state=42)\n",
    "\n",
    "    # training dataset\n",
    "    train0 = pd.concat([S0,b])\n",
    "\n",
    "    # Shuffle training dataset\n",
    "    train0 = shuffle(train0,random_state=42).reset_index(drop=True)\n",
    "    \n",
    "    # Standardize\n",
    "    sc0 = preprocessing . StandardScaler ()\n",
    "    input_data0 = sc0 . fit_transform ( train0[c0[0:12]] )\n",
    "    target0 = train0['isSignal']\n",
    "\n",
    "    # set random seed\n",
    "    Answer_to_all_questions = 42\n",
    "    # train - test split of dataset\n",
    "    train_data0 , test_data0 , train_target0 , test_target0 = model_selection . train_test_split (\\\n",
    "    input_data0 , target0 , test_size =0.3 , random_state = Answer_to_all_questions )\n",
    "    \n",
    "    return  train_data0 , test_data0 , train_target0 , test_target0"
   ]
  },
  {
   "cell_type": "markdown",
   "metadata": {},
   "source": [
    "## signal vs. background"
   ]
  },
  {
   "cell_type": "code",
   "execution_count": 94,
   "metadata": {},
   "outputs": [],
   "source": [
    "from sklearn . ensemble import GradientBoostingClassifier\n",
    "from sklearn . model_selection import GridSearchCV\n",
    "\n",
    "from sklearn . model_selection import cross_val_score\n",
    "from sklearn . model_selection import KFold\n",
    "from sklearn . pipeline import Pipeline\n",
    "from sklearn.metrics import confusion_matrix, roc_curve\n",
    "\n",
    "from dt_utils import *\n",
    "from nn_utils import *"
   ]
  },
  {
   "cell_type": "code",
   "execution_count": 95,
   "metadata": {},
   "outputs": [],
   "source": [
    "train_data0 , test_data0 , train_target0 , test_target0 = preprocess(s0,b)"
   ]
  },
  {
   "cell_type": "code",
   "execution_count": 96,
   "metadata": {},
   "outputs": [
    {
     "name": "stdout",
     "output_type": "stream",
     "text": [
      "(15548, 12) (15548,) (6664, 12) (6664,)\n"
     ]
    }
   ],
   "source": [
    "print ( train_data0 . shape , train_target0 . shape , test_data0 . shape , test_target0 . shape )"
   ]
  },
  {
   "cell_type": "code",
   "execution_count": 97,
   "metadata": {},
   "outputs": [],
   "source": [
    "param_grid_ = {\n",
    " 'n_estimators' :[50,100] ,\n",
    " 'learning_rate' : [0.1 , 0.05, 0.01] ,\n",
    " 'max_depth' :[5 , 10] ,\n",
    " 'min_samples_leaf' :[50 ,100] ,\n",
    " 'max_depth' :[5,10] \n",
    "}\n",
    "njobs_ = 12 # jobs to run in parallel"
   ]
  },
  {
   "cell_type": "code",
   "execution_count": 98,
   "metadata": {},
   "outputs": [],
   "source": [
    "kfold = KFold ( n_splits =10 , random_state = Answer_to_all_questions , shuffle = True )"
   ]
  },
  {
   "cell_type": "code",
   "execution_count": 99,
   "metadata": {},
   "outputs": [
    {
     "name": "stdout",
     "output_type": "stream",
     "text": [
      "Fitting 10 folds for each of 24 candidates, totalling 240 fits\n"
     ]
    },
    {
     "name": "stderr",
     "output_type": "stream",
     "text": [
      "[Parallel(n_jobs=12)]: Using backend LokyBackend with 12 concurrent workers.\n",
      "[Parallel(n_jobs=12)]: Done  26 tasks      | elapsed:   10.9s\n",
      "[Parallel(n_jobs=12)]: Done 176 tasks      | elapsed:  1.6min\n",
      "[Parallel(n_jobs=12)]: Done 240 out of 240 | elapsed:  2.3min finished\n"
     ]
    },
    {
     "data": {
      "text/plain": [
       "GridSearchCV(cv=KFold(n_splits=10, random_state=42, shuffle=True),\n",
       "             error_score='raise-deprecating',\n",
       "             estimator=GradientBoostingClassifier(criterion='friedman_mse',\n",
       "                                                  init=None, learning_rate=0.1,\n",
       "                                                  loss='deviance', max_depth=3,\n",
       "                                                  max_features=None,\n",
       "                                                  max_leaf_nodes=None,\n",
       "                                                  min_impurity_decrease=0.0,\n",
       "                                                  min_impurity_split=None,\n",
       "                                                  min_samples_leaf=1,\n",
       "                                                  min_samples_split=2,\n",
       "                                                  min_weigh...\n",
       "                                                  n_iter_no_change=None,\n",
       "                                                  presort='auto',\n",
       "                                                  random_state=None,\n",
       "                                                  subsample=1.0, tol=0.0001,\n",
       "                                                  validation_fraction=0.1,\n",
       "                                                  verbose=0, warm_start=False),\n",
       "             iid='warn', n_jobs=12,\n",
       "             param_grid={'learning_rate': [0.1, 0.05, 0.01],\n",
       "                         'max_depth': [5, 10], 'min_samples_leaf': [50, 100],\n",
       "                         'n_estimators': [50, 100]},\n",
       "             pre_dispatch='2*n_jobs', refit=True, return_train_score=False,\n",
       "             scoring=None, verbose=1)"
      ]
     },
     "execution_count": 99,
     "metadata": {},
     "output_type": "execute_result"
    }
   ],
   "source": [
    "# Grid search\n",
    "gbc = GradientBoostingClassifier ()\n",
    "classifier = GridSearchCV ( estimator = gbc , cv = kfold , param_grid = param_grid_ ,\n",
    "n_jobs = njobs_ , verbose =1)\n",
    "classifier . fit ( train_data0 , train_target0 .values. ravel ())"
   ]
  },
  {
   "cell_type": "code",
   "execution_count": 100,
   "metadata": {},
   "outputs": [],
   "source": [
    "best0 = classifier . best_estimator_"
   ]
  },
  {
   "cell_type": "code",
   "execution_count": 101,
   "metadata": {},
   "outputs": [
    {
     "data": {
      "text/plain": [
       "GradientBoostingClassifier(criterion='friedman_mse', init=None,\n",
       "                           learning_rate=0.05, loss='deviance', max_depth=10,\n",
       "                           max_features=None, max_leaf_nodes=None,\n",
       "                           min_impurity_decrease=0.0, min_impurity_split=None,\n",
       "                           min_samples_leaf=50, min_samples_split=2,\n",
       "                           min_weight_fraction_leaf=0.0, n_estimators=100,\n",
       "                           n_iter_no_change=None, presort='auto',\n",
       "                           random_state=None, subsample=1.0, tol=0.0001,\n",
       "                           validation_fraction=0.1, verbose=0,\n",
       "                           warm_start=False)"
      ]
     },
     "execution_count": 101,
     "metadata": {},
     "output_type": "execute_result"
    }
   ],
   "source": [
    "best0 . fit ( train_data0 , train_target0.values.ravel ())"
   ]
  },
  {
   "cell_type": "code",
   "execution_count": 102,
   "metadata": {
    "scrolled": false
   },
   "outputs": [
    {
     "data": {
      "image/png": "[encoded data removed]",
      "text/plain": [
       "<Figure size 432x432 with 1 Axes>"
      ]
     },
     "metadata": {
      "needs_background": "light"
     },
     "output_type": "display_data"
    }
   ],
   "source": [
    "# Predictions\n",
    "pred0 = best0.predict(test_data0)\n",
    "        \n",
    "# Define confusion matrix and classes\n",
    "cm = confusion_matrix(test_target0,pred0)\n",
    "\n",
    "names_ = ['bkg','signal']\n",
    "plot.confusion_matrix (cm, labels=names_, normalise=True);"
   ]
  },
  {
   "cell_type": "code",
   "execution_count": 103,
   "metadata": {},
   "outputs": [
    {
     "data": {
      "image/png": "[encoded data removed]",
      "text/plain": [
       "<Figure size 432x288 with 1 Axes>"
      ]
     },
     "metadata": {
      "needs_background": "light"
     },
     "output_type": "display_data"
    }
   ],
   "source": [
    "# Calculate false positive rate and true positive rate\n",
    "fpr, tpr, threshold = roc_curve(test_target0, pred0)\n",
    "roc_auc = metrics.auc(fpr, tpr)\n",
    "# Plot ROC curve\n",
    "plt.title('Receiver Operating Characteristic')\n",
    "plt.plot(fpr, tpr, 'b', label = 'AUC = %0.2f' % roc_auc)\n",
    "plt.legend(loc = 'lower right')\n",
    "plt.plot([0, 1], [0, 1],'r--')\n",
    "plt.xlim([0, 1])\n",
    "plt.ylim([0, 1])\n",
    "plt.ylabel('True Positive Rate')\n",
    "plt.xlabel('False Positive Rate')\n",
    "plt.show()"
   ]
  },
  {
   "cell_type": "code",
   "execution_count": 104,
   "metadata": {},
   "outputs": [],
   "source": [
    "def importance(best):\n",
    "    # Combine weights and variables\n",
    "    data_tuples = list(zip(c0,(best.feature_importances_).tolist()))\n",
    "    weight = pd.DataFrame(data_tuples, columns=['variable','weight'])\n",
    "    # Rank by weight\n",
    "    weight = weight.sort_values(\"weight\",ascending=False)[[\"variable\",\"weight\"]]\n",
    "    \n",
    "    plt.figure(figsize=(8,5))\n",
    "    plt.bar(weight['variable'],weight['weight'])\n",
    "    plt.ylabel('weight')\n",
    "    plt.title('Impact weights of input features')\n",
    "    plt.show()\n",
    "    return weight"
   ]
  },
  {
   "cell_type": "code",
   "execution_count": 105,
   "metadata": {},
   "outputs": [
    {
     "data": {
      "image/png": "[encoded data removed]",
      "text/plain": [
       "<Figure size 576x360 with 1 Axes>"
      ]
     },
     "metadata": {
      "needs_background": "light"
     },
     "output_type": "display_data"
    },
    {
     "data": {
      "text/html": [
       "<div>\n",
       "<style scoped>\n",
       "    .dataframe tbody tr th:only-of-type {\n",
       "        vertical-align: middle;\n",
       "    }\n",
       "\n",
       "    .dataframe tbody tr th {\n",
       "        vertical-align: top;\n",
       "    }\n",
       "\n",
       "    .dataframe thead th {\n",
       "        text-align: right;\n",
       "    }\n",
       "</style>\n",
       "<table border=\"1\" class=\"dataframe\">\n",
       "  <thead>\n",
       "    <tr style=\"text-align: right;\">\n",
       "      <th></th>\n",
       "      <th>variable</th>\n",
       "      <th>weight</th>\n",
       "    </tr>\n",
       "  </thead>\n",
       "  <tbody>\n",
       "    <tr>\n",
       "      <td>11</td>\n",
       "      <td>tth</td>\n",
       "      <td>0.220556</td>\n",
       "    </tr>\n",
       "    <tr>\n",
       "      <td>10</td>\n",
       "      <td>tt</td>\n",
       "      <td>0.194174</td>\n",
       "    </tr>\n",
       "    <tr>\n",
       "      <td>7</td>\n",
       "      <td>thetah</td>\n",
       "      <td>0.083481</td>\n",
       "    </tr>\n",
       "    <tr>\n",
       "      <td>4</td>\n",
       "      <td>t</td>\n",
       "      <td>0.068484</td>\n",
       "    </tr>\n",
       "    <tr>\n",
       "      <td>6</td>\n",
       "      <td>thetaf</td>\n",
       "      <td>0.065722</td>\n",
       "    </tr>\n",
       "    <tr>\n",
       "      <td>1</td>\n",
       "      <td>phif</td>\n",
       "      <td>0.059979</td>\n",
       "    </tr>\n",
       "    <tr>\n",
       "      <td>9</td>\n",
       "      <td>thetaw</td>\n",
       "      <td>0.056200</td>\n",
       "    </tr>\n",
       "    <tr>\n",
       "      <td>5</td>\n",
       "      <td>thetab</td>\n",
       "      <td>0.054869</td>\n",
       "    </tr>\n",
       "    <tr>\n",
       "      <td>3</td>\n",
       "      <td>phiw</td>\n",
       "      <td>0.051985</td>\n",
       "    </tr>\n",
       "    <tr>\n",
       "      <td>8</td>\n",
       "      <td>thetat</td>\n",
       "      <td>0.050245</td>\n",
       "    </tr>\n",
       "    <tr>\n",
       "      <td>0</td>\n",
       "      <td>phib</td>\n",
       "      <td>0.048079</td>\n",
       "    </tr>\n",
       "    <tr>\n",
       "      <td>2</td>\n",
       "      <td>phitstar</td>\n",
       "      <td>0.046227</td>\n",
       "    </tr>\n",
       "  </tbody>\n",
       "</table>\n",
       "</div>"
      ],
      "text/plain": [
       "    variable    weight\n",
       "11       tth  0.220556\n",
       "10        tt  0.194174\n",
       "7     thetah  0.083481\n",
       "4          t  0.068484\n",
       "6     thetaf  0.065722\n",
       "1       phif  0.059979\n",
       "9     thetaw  0.056200\n",
       "5     thetab  0.054869\n",
       "3       phiw  0.051985\n",
       "8     thetat  0.050245\n",
       "0       phib  0.048079\n",
       "2   phitstar  0.046227"
      ]
     },
     "execution_count": 105,
     "metadata": {},
     "output_type": "execute_result"
    }
   ],
   "source": [
    "importance(best0)"
   ]
  },
  {
   "cell_type": "markdown",
   "metadata": {},
   "source": [
    "## cp0 vs. bkg"
   ]
  },
  {
   "cell_type": "code",
   "execution_count": 106,
   "metadata": {},
   "outputs": [
    {
     "name": "stdout",
     "output_type": "stream",
     "text": [
      "Fitting 10 folds for each of 24 candidates, totalling 240 fits\n"
     ]
    },
    {
     "name": "stderr",
     "output_type": "stream",
     "text": [
      "[Parallel(n_jobs=12)]: Using backend LokyBackend with 12 concurrent workers.\n",
      "[Parallel(n_jobs=12)]: Done  26 tasks      | elapsed:    9.4s\n",
      "[Parallel(n_jobs=12)]: Done 176 tasks      | elapsed:  1.6min\n",
      "[Parallel(n_jobs=12)]: Done 240 out of 240 | elapsed:  2.3min finished\n"
     ]
    },
    {
     "data": {
      "text/plain": [
       "GradientBoostingClassifier(criterion='friedman_mse', init=None,\n",
       "                           learning_rate=0.1, loss='deviance', max_depth=10,\n",
       "                           max_features=None, max_leaf_nodes=None,\n",
       "                           min_impurity_decrease=0.0, min_impurity_split=None,\n",
       "                           min_samples_leaf=100, min_samples_split=2,\n",
       "                           min_weight_fraction_leaf=0.0, n_estimators=50,\n",
       "                           n_iter_no_change=None, presort='auto',\n",
       "                           random_state=None, subsample=1.0, tol=0.0001,\n",
       "                           validation_fraction=0.1, verbose=0,\n",
       "                           warm_start=False)"
      ]
     },
     "execution_count": 106,
     "metadata": {},
     "output_type": "execute_result"
    }
   ],
   "source": [
    "train_data0 , test_data0 , train_target0 , test_target0 = preprocess(s1,b)\n",
    "\n",
    "# Grid search\n",
    "gbc = GradientBoostingClassifier ()\n",
    "classifier = GridSearchCV ( estimator = gbc , cv = kfold , param_grid = param_grid_ ,\n",
    "n_jobs = njobs_ , verbose =1)\n",
    "classifier . fit ( train_data0 , train_target0 .values. ravel ())\n",
    "\n",
    "# fit\n",
    "best0 = classifier . best_estimator_\n",
    "best0 . fit ( train_data0 , train_target0.values.ravel ())"
   ]
  },
  {
   "cell_type": "code",
   "execution_count": 107,
   "metadata": {},
   "outputs": [
    {
     "data": {
      "image/png": "[encoded data removed]",
      "text/plain": [
       "<Figure size 432x432 with 1 Axes>"
      ]
     },
     "metadata": {
      "needs_background": "light"
     },
     "output_type": "display_data"
    }
   ],
   "source": [
    "# Predictions\n",
    "pred0 = best0.predict(test_data0)\n",
    "        \n",
    "# Define confusion matrix and classes\n",
    "cm = confusion_matrix(test_target0,pred0)\n",
    "\n",
    "names_ = ['bkg','signal']\n",
    "plot.confusion_matrix (cm, labels=names_, normalise=True);"
   ]
  },
  {
   "cell_type": "code",
   "execution_count": 108,
   "metadata": {},
   "outputs": [
    {
     "data": {
      "image/png": "[encoded data removed]",
      "text/plain": [
       "<Figure size 432x288 with 1 Axes>"
      ]
     },
     "metadata": {
      "needs_background": "light"
     },
     "output_type": "display_data"
    }
   ],
   "source": [
    "# Calculate false positive rate and true positive rate\n",
    "fpr, tpr, threshold = roc_curve(test_target0, pred0)\n",
    "roc_auc = metrics.auc(fpr, tpr)\n",
    "# Plot ROC curve\n",
    "plt.title('Receiver Operating Characteristic')\n",
    "plt.plot(fpr, tpr, 'b', label = 'AUC = %0.2f' % roc_auc)\n",
    "plt.legend(loc = 'lower right')\n",
    "plt.plot([0, 1], [0, 1],'r--')\n",
    "plt.xlim([0, 1])\n",
    "plt.ylim([0, 1])\n",
    "plt.ylabel('True Positive Rate')\n",
    "plt.xlabel('False Positive Rate')\n",
    "plt.show()"
   ]
  },
  {
   "cell_type": "code",
   "execution_count": 109,
   "metadata": {},
   "outputs": [
    {
     "data": {
      "image/png": "[encoded data removed]",
      "text/plain": [
       "<Figure size 576x360 with 1 Axes>"
      ]
     },
     "metadata": {
      "needs_background": "light"
     },
     "output_type": "display_data"
    },
    {
     "data": {
      "text/html": [
       "<div>\n",
       "<style scoped>\n",
       "    .dataframe tbody tr th:only-of-type {\n",
       "        vertical-align: middle;\n",
       "    }\n",
       "\n",
       "    .dataframe tbody tr th {\n",
       "        vertical-align: top;\n",
       "    }\n",
       "\n",
       "    .dataframe thead th {\n",
       "        text-align: right;\n",
       "    }\n",
       "</style>\n",
       "<table border=\"1\" class=\"dataframe\">\n",
       "  <thead>\n",
       "    <tr style=\"text-align: right;\">\n",
       "      <th></th>\n",
       "      <th>variable</th>\n",
       "      <th>weight</th>\n",
       "    </tr>\n",
       "  </thead>\n",
       "  <tbody>\n",
       "    <tr>\n",
       "      <td>11</td>\n",
       "      <td>tth</td>\n",
       "      <td>0.263654</td>\n",
       "    </tr>\n",
       "    <tr>\n",
       "      <td>10</td>\n",
       "      <td>tt</td>\n",
       "      <td>0.213860</td>\n",
       "    </tr>\n",
       "    <tr>\n",
       "      <td>7</td>\n",
       "      <td>thetah</td>\n",
       "      <td>0.097580</td>\n",
       "    </tr>\n",
       "    <tr>\n",
       "      <td>6</td>\n",
       "      <td>thetaf</td>\n",
       "      <td>0.064269</td>\n",
       "    </tr>\n",
       "    <tr>\n",
       "      <td>9</td>\n",
       "      <td>thetaw</td>\n",
       "      <td>0.060787</td>\n",
       "    </tr>\n",
       "    <tr>\n",
       "      <td>5</td>\n",
       "      <td>thetab</td>\n",
       "      <td>0.059843</td>\n",
       "    </tr>\n",
       "    <tr>\n",
       "      <td>4</td>\n",
       "      <td>t</td>\n",
       "      <td>0.051593</td>\n",
       "    </tr>\n",
       "    <tr>\n",
       "      <td>3</td>\n",
       "      <td>phiw</td>\n",
       "      <td>0.041581</td>\n",
       "    </tr>\n",
       "    <tr>\n",
       "      <td>2</td>\n",
       "      <td>phitstar</td>\n",
       "      <td>0.039741</td>\n",
       "    </tr>\n",
       "    <tr>\n",
       "      <td>1</td>\n",
       "      <td>phif</td>\n",
       "      <td>0.037236</td>\n",
       "    </tr>\n",
       "    <tr>\n",
       "      <td>0</td>\n",
       "      <td>phib</td>\n",
       "      <td>0.036515</td>\n",
       "    </tr>\n",
       "    <tr>\n",
       "      <td>8</td>\n",
       "      <td>thetat</td>\n",
       "      <td>0.033342</td>\n",
       "    </tr>\n",
       "  </tbody>\n",
       "</table>\n",
       "</div>"
      ],
      "text/plain": [
       "    variable    weight\n",
       "11       tth  0.263654\n",
       "10        tt  0.213860\n",
       "7     thetah  0.097580\n",
       "6     thetaf  0.064269\n",
       "9     thetaw  0.060787\n",
       "5     thetab  0.059843\n",
       "4          t  0.051593\n",
       "3       phiw  0.041581\n",
       "2   phitstar  0.039741\n",
       "1       phif  0.037236\n",
       "0       phib  0.036515\n",
       "8     thetat  0.033342"
      ]
     },
     "execution_count": 109,
     "metadata": {},
     "output_type": "execute_result"
    }
   ],
   "source": [
    "importance(best0)"
   ]
  },
  {
   "cell_type": "markdown",
   "metadata": {},
   "source": [
    "## cp30 vs bkg"
   ]
  },
  {
   "cell_type": "code",
   "execution_count": 110,
   "metadata": {},
   "outputs": [
    {
     "name": "stdout",
     "output_type": "stream",
     "text": [
      "Fitting 10 folds for each of 24 candidates, totalling 240 fits\n"
     ]
    },
    {
     "name": "stderr",
     "output_type": "stream",
     "text": [
      "[Parallel(n_jobs=12)]: Using backend LokyBackend with 12 concurrent workers.\n",
      "[Parallel(n_jobs=12)]: Done  26 tasks      | elapsed:    9.6s\n",
      "[Parallel(n_jobs=12)]: Done 176 tasks      | elapsed:  1.7min\n",
      "[Parallel(n_jobs=12)]: Done 240 out of 240 | elapsed:  2.3min finished\n"
     ]
    },
    {
     "data": {
      "text/plain": [
       "GradientBoostingClassifier(criterion='friedman_mse', init=None,\n",
       "                           learning_rate=0.05, loss='deviance', max_depth=10,\n",
       "                           max_features=None, max_leaf_nodes=None,\n",
       "                           min_impurity_decrease=0.0, min_impurity_split=None,\n",
       "                           min_samples_leaf=100, min_samples_split=2,\n",
       "                           min_weight_fraction_leaf=0.0, n_estimators=100,\n",
       "                           n_iter_no_change=None, presort='auto',\n",
       "                           random_state=None, subsample=1.0, tol=0.0001,\n",
       "                           validation_fraction=0.1, verbose=0,\n",
       "                           warm_start=False)"
      ]
     },
     "execution_count": 110,
     "metadata": {},
     "output_type": "execute_result"
    }
   ],
   "source": [
    "train_data0 , test_data0 , train_target0 , test_target0 = preprocess(s2,b)\n",
    "\n",
    "# Grid search\n",
    "gbc = GradientBoostingClassifier ()\n",
    "classifier = GridSearchCV ( estimator = gbc , cv = kfold , param_grid = param_grid_ ,\n",
    "n_jobs = njobs_ , verbose =1)\n",
    "classifier . fit ( train_data0 , train_target0 .values. ravel ())\n",
    "\n",
    "# fit\n",
    "best0 = classifier . best_estimator_\n",
    "best0 . fit ( train_data0 , train_target0.values.ravel ())"
   ]
  },
  {
   "cell_type": "code",
   "execution_count": 111,
   "metadata": {},
   "outputs": [
    {
     "data": {
      "image/png": "[encoded data removed]",
      "text/plain": [
       "<Figure size 432x432 with 1 Axes>"
      ]
     },
     "metadata": {
      "needs_background": "light"
     },
     "output_type": "display_data"
    }
   ],
   "source": [
    "# Predictions\n",
    "pred0 = best0.predict(test_data0)\n",
    "        \n",
    "# Define confusion matrix and classes\n",
    "cm = confusion_matrix(test_target0,pred0)\n",
    "\n",
    "names_ = ['bkg','signal']\n",
    "plot.confusion_matrix (cm, labels=names_, normalise=True);"
   ]
  },
  {
   "cell_type": "code",
   "execution_count": 112,
   "metadata": {},
   "outputs": [
    {
     "data": {
      "image/png": "[encoded data removed]",
      "text/plain": [
       "<Figure size 432x288 with 1 Axes>"
      ]
     },
     "metadata": {
      "needs_background": "light"
     },
     "output_type": "display_data"
    }
   ],
   "source": [
    "# Calculate false positive rate and true positive rate\n",
    "fpr, tpr, threshold = roc_curve(test_target0, pred0)\n",
    "roc_auc = metrics.auc(fpr, tpr)\n",
    "# Plot ROC curve\n",
    "plt.title('Receiver Operating Characteristic')\n",
    "plt.plot(fpr, tpr, 'b', label = 'AUC = %0.2f' % roc_auc)\n",
    "plt.legend(loc = 'lower right')\n",
    "plt.plot([0, 1], [0, 1],'r--')\n",
    "plt.xlim([0, 1])\n",
    "plt.ylim([0, 1])\n",
    "plt.ylabel('True Positive Rate')\n",
    "plt.xlabel('False Positive Rate')\n",
    "plt.show()"
   ]
  },
  {
   "cell_type": "code",
   "execution_count": 113,
   "metadata": {},
   "outputs": [
    {
     "data": {
      "image/png": "[encoded data removed]",
      "text/plain": [
       "<Figure size 576x360 with 1 Axes>"
      ]
     },
     "metadata": {
      "needs_background": "light"
     },
     "output_type": "display_data"
    },
    {
     "data": {
      "text/html": [
       "<div>\n",
       "<style scoped>\n",
       "    .dataframe tbody tr th:only-of-type {\n",
       "        vertical-align: middle;\n",
       "    }\n",
       "\n",
       "    .dataframe tbody tr th {\n",
       "        vertical-align: top;\n",
       "    }\n",
       "\n",
       "    .dataframe thead th {\n",
       "        text-align: right;\n",
       "    }\n",
       "</style>\n",
       "<table border=\"1\" class=\"dataframe\">\n",
       "  <thead>\n",
       "    <tr style=\"text-align: right;\">\n",
       "      <th></th>\n",
       "      <th>variable</th>\n",
       "      <th>weight</th>\n",
       "    </tr>\n",
       "  </thead>\n",
       "  <tbody>\n",
       "    <tr>\n",
       "      <td>11</td>\n",
       "      <td>tth</td>\n",
       "      <td>0.246095</td>\n",
       "    </tr>\n",
       "    <tr>\n",
       "      <td>10</td>\n",
       "      <td>tt</td>\n",
       "      <td>0.239357</td>\n",
       "    </tr>\n",
       "    <tr>\n",
       "      <td>7</td>\n",
       "      <td>thetah</td>\n",
       "      <td>0.108088</td>\n",
       "    </tr>\n",
       "    <tr>\n",
       "      <td>6</td>\n",
       "      <td>thetaf</td>\n",
       "      <td>0.056924</td>\n",
       "    </tr>\n",
       "    <tr>\n",
       "      <td>4</td>\n",
       "      <td>t</td>\n",
       "      <td>0.048118</td>\n",
       "    </tr>\n",
       "    <tr>\n",
       "      <td>5</td>\n",
       "      <td>thetab</td>\n",
       "      <td>0.047769</td>\n",
       "    </tr>\n",
       "    <tr>\n",
       "      <td>1</td>\n",
       "      <td>phif</td>\n",
       "      <td>0.047601</td>\n",
       "    </tr>\n",
       "    <tr>\n",
       "      <td>9</td>\n",
       "      <td>thetaw</td>\n",
       "      <td>0.044336</td>\n",
       "    </tr>\n",
       "    <tr>\n",
       "      <td>0</td>\n",
       "      <td>phib</td>\n",
       "      <td>0.042265</td>\n",
       "    </tr>\n",
       "    <tr>\n",
       "      <td>3</td>\n",
       "      <td>phiw</td>\n",
       "      <td>0.040095</td>\n",
       "    </tr>\n",
       "    <tr>\n",
       "      <td>8</td>\n",
       "      <td>thetat</td>\n",
       "      <td>0.039951</td>\n",
       "    </tr>\n",
       "    <tr>\n",
       "      <td>2</td>\n",
       "      <td>phitstar</td>\n",
       "      <td>0.039402</td>\n",
       "    </tr>\n",
       "  </tbody>\n",
       "</table>\n",
       "</div>"
      ],
      "text/plain": [
       "    variable    weight\n",
       "11       tth  0.246095\n",
       "10        tt  0.239357\n",
       "7     thetah  0.108088\n",
       "6     thetaf  0.056924\n",
       "4          t  0.048118\n",
       "5     thetab  0.047769\n",
       "1       phif  0.047601\n",
       "9     thetaw  0.044336\n",
       "0       phib  0.042265\n",
       "3       phiw  0.040095\n",
       "8     thetat  0.039951\n",
       "2   phitstar  0.039402"
      ]
     },
     "execution_count": 113,
     "metadata": {},
     "output_type": "execute_result"
    }
   ],
   "source": [
    "importance(best0)"
   ]
  },
  {
   "cell_type": "markdown",
   "metadata": {},
   "source": [
    "## cp60 vs bkg"
   ]
  },
  {
   "cell_type": "code",
   "execution_count": 114,
   "metadata": {},
   "outputs": [
    {
     "name": "stdout",
     "output_type": "stream",
     "text": [
      "Fitting 10 folds for each of 24 candidates, totalling 240 fits\n"
     ]
    },
    {
     "name": "stderr",
     "output_type": "stream",
     "text": [
      "[Parallel(n_jobs=12)]: Using backend LokyBackend with 12 concurrent workers.\n",
      "[Parallel(n_jobs=12)]: Done  26 tasks      | elapsed:    9.3s\n",
      "[Parallel(n_jobs=12)]: Done 176 tasks      | elapsed:  1.7min\n",
      "[Parallel(n_jobs=12)]: Done 240 out of 240 | elapsed:  2.4min finished\n"
     ]
    },
    {
     "data": {
      "text/plain": [
       "GradientBoostingClassifier(criterion='friedman_mse', init=None,\n",
       "                           learning_rate=0.05, loss='deviance', max_depth=10,\n",
       "                           max_features=None, max_leaf_nodes=None,\n",
       "                           min_impurity_decrease=0.0, min_impurity_split=None,\n",
       "                           min_samples_leaf=100, min_samples_split=2,\n",
       "                           min_weight_fraction_leaf=0.0, n_estimators=100,\n",
       "                           n_iter_no_change=None, presort='auto',\n",
       "                           random_state=None, subsample=1.0, tol=0.0001,\n",
       "                           validation_fraction=0.1, verbose=0,\n",
       "                           warm_start=False)"
      ]
     },
     "execution_count": 114,
     "metadata": {},
     "output_type": "execute_result"
    }
   ],
   "source": [
    "train_data0 , test_data0 , train_target0 , test_target0 = preprocess(s3,b)\n",
    "\n",
    "# Grid search\n",
    "gbc = GradientBoostingClassifier ()\n",
    "classifier = GridSearchCV ( estimator = gbc , cv = kfold , param_grid = param_grid_ ,\n",
    "n_jobs = njobs_ , verbose =1)\n",
    "classifier . fit ( train_data0 , train_target0 .values. ravel ())\n",
    "\n",
    "# fit\n",
    "best0 = classifier . best_estimator_\n",
    "best0 . fit ( train_data0 , train_target0.values.ravel ())"
   ]
  },
  {
   "cell_type": "code",
   "execution_count": 115,
   "metadata": {},
   "outputs": [
    {
     "data": {
      "image/png": "[encoded data removed]",
      "text/plain": [
       "<Figure size 432x432 with 1 Axes>"
      ]
     },
     "metadata": {
      "needs_background": "light"
     },
     "output_type": "display_data"
    }
   ],
   "source": [
    "# Predictions\n",
    "pred0 = best0.predict(test_data0)\n",
    "        \n",
    "# Define confusion matrix and classes\n",
    "cm = confusion_matrix(test_target0,pred0)\n",
    "\n",
    "names_ = ['bkg','signal']\n",
    "plot.confusion_matrix (cm, labels=names_, normalise=True);"
   ]
  },
  {
   "cell_type": "code",
   "execution_count": 116,
   "metadata": {},
   "outputs": [
    {
     "data": {
      "image/png": "[encoded data removed]",
      "text/plain": [
       "<Figure size 432x288 with 1 Axes>"
      ]
     },
     "metadata": {
      "needs_background": "light"
     },
     "output_type": "display_data"
    }
   ],
   "source": [
    "# Calculate false positive rate and true positive rate\n",
    "fpr, tpr, threshold = roc_curve(test_target0, pred0)\n",
    "roc_auc = metrics.auc(fpr, tpr)\n",
    "# Plot ROC curve\n",
    "plt.title('Receiver Operating Characteristic')\n",
    "plt.plot(fpr, tpr, 'b', label = 'AUC = %0.2f' % roc_auc)\n",
    "plt.legend(loc = 'lower right')\n",
    "plt.plot([0, 1], [0, 1],'r--')\n",
    "plt.xlim([0, 1])\n",
    "plt.ylim([0, 1])\n",
    "plt.ylabel('True Positive Rate')\n",
    "plt.xlabel('False Positive Rate')\n",
    "plt.show()"
   ]
  },
  {
   "cell_type": "code",
   "execution_count": 117,
   "metadata": {},
   "outputs": [
    {
     "data": {
      "image/png": "[encoded data removed]",
      "text/plain": [
       "<Figure size 576x360 with 1 Axes>"
      ]
     },
     "metadata": {
      "needs_background": "light"
     },
     "output_type": "display_data"
    },
    {
     "data": {
      "text/html": [
       "<div>\n",
       "<style scoped>\n",
       "    .dataframe tbody tr th:only-of-type {\n",
       "        vertical-align: middle;\n",
       "    }\n",
       "\n",
       "    .dataframe tbody tr th {\n",
       "        vertical-align: top;\n",
       "    }\n",
       "\n",
       "    .dataframe thead th {\n",
       "        text-align: right;\n",
       "    }\n",
       "</style>\n",
       "<table border=\"1\" class=\"dataframe\">\n",
       "  <thead>\n",
       "    <tr style=\"text-align: right;\">\n",
       "      <th></th>\n",
       "      <th>variable</th>\n",
       "      <th>weight</th>\n",
       "    </tr>\n",
       "  </thead>\n",
       "  <tbody>\n",
       "    <tr>\n",
       "      <td>11</td>\n",
       "      <td>tth</td>\n",
       "      <td>0.268842</td>\n",
       "    </tr>\n",
       "    <tr>\n",
       "      <td>10</td>\n",
       "      <td>tt</td>\n",
       "      <td>0.242258</td>\n",
       "    </tr>\n",
       "    <tr>\n",
       "      <td>7</td>\n",
       "      <td>thetah</td>\n",
       "      <td>0.132688</td>\n",
       "    </tr>\n",
       "    <tr>\n",
       "      <td>8</td>\n",
       "      <td>thetat</td>\n",
       "      <td>0.056252</td>\n",
       "    </tr>\n",
       "    <tr>\n",
       "      <td>6</td>\n",
       "      <td>thetaf</td>\n",
       "      <td>0.055127</td>\n",
       "    </tr>\n",
       "    <tr>\n",
       "      <td>3</td>\n",
       "      <td>phiw</td>\n",
       "      <td>0.039300</td>\n",
       "    </tr>\n",
       "    <tr>\n",
       "      <td>1</td>\n",
       "      <td>phif</td>\n",
       "      <td>0.039111</td>\n",
       "    </tr>\n",
       "    <tr>\n",
       "      <td>9</td>\n",
       "      <td>thetaw</td>\n",
       "      <td>0.038093</td>\n",
       "    </tr>\n",
       "    <tr>\n",
       "      <td>5</td>\n",
       "      <td>thetab</td>\n",
       "      <td>0.037071</td>\n",
       "    </tr>\n",
       "    <tr>\n",
       "      <td>4</td>\n",
       "      <td>t</td>\n",
       "      <td>0.034419</td>\n",
       "    </tr>\n",
       "    <tr>\n",
       "      <td>2</td>\n",
       "      <td>phitstar</td>\n",
       "      <td>0.033597</td>\n",
       "    </tr>\n",
       "    <tr>\n",
       "      <td>0</td>\n",
       "      <td>phib</td>\n",
       "      <td>0.023242</td>\n",
       "    </tr>\n",
       "  </tbody>\n",
       "</table>\n",
       "</div>"
      ],
      "text/plain": [
       "    variable    weight\n",
       "11       tth  0.268842\n",
       "10        tt  0.242258\n",
       "7     thetah  0.132688\n",
       "8     thetat  0.056252\n",
       "6     thetaf  0.055127\n",
       "3       phiw  0.039300\n",
       "1       phif  0.039111\n",
       "9     thetaw  0.038093\n",
       "5     thetab  0.037071\n",
       "4          t  0.034419\n",
       "2   phitstar  0.033597\n",
       "0       phib  0.023242"
      ]
     },
     "execution_count": 117,
     "metadata": {},
     "output_type": "execute_result"
    }
   ],
   "source": [
    "importance(best0)"
   ]
  },
  {
   "cell_type": "markdown",
   "metadata": {},
   "source": [
    "## cp0 vs cp30 vs cp60"
   ]
  },
  {
   "cell_type": "code",
   "execution_count": 53,
   "metadata": {},
   "outputs": [],
   "source": [
    "# dftrain, dfeval, y_train, y_eval \n",
    "def cp(a,b,c):\n",
    "    \n",
    "    shape = min(a.shape[0],b.shape[0],c.shape[0])\n",
    "    a.insert(13,'alpha',0)\n",
    "    b = b.sample(shape, random_state=42)\n",
    "    b.insert(13,'alpha',1)\n",
    "    c = c.sample(shape, random_state=42)\n",
    "    c.insert(13,'alpha',2)\n",
    "    \n",
    "    # training dataset\n",
    "    train0 = pd.concat([a,b,c])\n",
    "\n",
    "    # Shuffle training dataset\n",
    "    train0 = shuffle(train0,random_state=42).reset_index(drop=True)\n",
    "    \n",
    "    # Standardize\n",
    "    sc0 = preprocessing . StandardScaler ()\n",
    "    input_data0 = sc0 . fit_transform ( train0[c0[0:12]] )\n",
    "    target0 = train0['alpha']\n",
    "\n",
    "    # set random seed\n",
    "    Answer_to_all_questions = 42\n",
    "    # train - test split of dataset\n",
    "    train_data0 , test_data0 , train_target0 , test_target0 = model_selection . train_test_split (\\\n",
    "    input_data0 , target0 , test_size =0.3 , random_state = Answer_to_all_questions )\n",
    "    \n",
    "    return train_data0 , test_data0 , train_target0 , test_target0"
   ]
  },
  {
   "cell_type": "code",
   "execution_count": 57,
   "metadata": {},
   "outputs": [],
   "source": [
    "train_data0 , test_data0 , train_target0 , test_target0 = cp(s1,s2,s3)"
   ]
  },
  {
   "cell_type": "code",
   "execution_count": 58,
   "metadata": {},
   "outputs": [
    {
     "name": "stdout",
     "output_type": "stream",
     "text": [
      "      Iter       Train Loss   Remaining Time \n",
      "         1       87607.8273            3.53m\n",
      "         2       87338.5717            3.43m\n",
      "         3       87063.2404            3.46m\n",
      "         4       86828.9616            3.33m\n",
      "         5       86575.8653            3.25m\n",
      "         6       86336.7681            3.17m\n",
      "         7       86125.7199            3.07m\n",
      "         8       85917.9785            3.01m\n",
      "         9       85707.9758            2.95m\n",
      "        10       85514.7073            2.89m\n",
      "        20       83918.6333            2.36m\n",
      "        30       82859.3825            1.92m\n",
      "        40       82124.6259            1.55m\n",
      "        50       81529.4736            1.23m\n",
      "        60       81026.5500           56.42s\n",
      "        70       80674.2458           40.58s\n",
      "        80       80323.6834           26.18s\n",
      "        90       80025.0116           12.72s\n",
      "       100       79728.1155            0.00s\n"
     ]
    },
    {
     "data": {
      "text/plain": [
       "GradientBoostingClassifier(criterion='friedman_mse', init=None,\n",
       "                           learning_rate=0.05, loss='deviance', max_depth=10,\n",
       "                           max_features=None, max_leaf_nodes=None,\n",
       "                           min_impurity_decrease=0.0, min_impurity_split=None,\n",
       "                           min_samples_leaf=50, min_samples_split=2,\n",
       "                           min_weight_fraction_leaf=0.0, n_estimators=100,\n",
       "                           n_iter_no_change=None, presort='auto',\n",
       "                           random_state=None, subsample=1.0, tol=0.0001,\n",
       "                           validation_fraction=0.1, verbose=1,\n",
       "                           warm_start=False)"
      ]
     },
     "execution_count": 58,
     "metadata": {},
     "output_type": "execute_result"
    }
   ],
   "source": [
    "best0 = GradientBoostingClassifier(criterion='friedman_mse', init=None,\n",
    "                           learning_rate=0.05, loss='deviance', max_depth=10,\n",
    "                           max_features=None, max_leaf_nodes=None,\n",
    "                           min_impurity_decrease=0.0, min_impurity_split=None,\n",
    "                           min_samples_leaf=50, min_samples_split=2,\n",
    "                           min_weight_fraction_leaf=0.0, n_estimators=100,\n",
    "                           n_iter_no_change=None, presort='auto',\n",
    "                           random_state=None, subsample=1.0, tol=0.0001,\n",
    "                           validation_fraction=0.1, verbose=1,\n",
    "                           warm_start=False)\n",
    "\n",
    "best0 . fit ( train_data0 , train_target0.values.ravel ())"
   ]
  },
  {
   "cell_type": "code",
   "execution_count": 64,
   "metadata": {},
   "outputs": [
    {
     "data": {
      "image/png": "[encoded data removed]",
      "text/plain": [
       "<Figure size 432x432 with 1 Axes>"
      ]
     },
     "metadata": {
      "needs_background": "light"
     },
     "output_type": "display_data"
    }
   ],
   "source": [
    "# Predictions\n",
    "pred0 = best0.predict(test_data0)\n",
    "        \n",
    "# Define confusion matrix and classes\n",
    "cm = confusion_matrix(test_target0,pred0)\n",
    "\n",
    "plot.confusion_matrix (cm, labels=names_, normalise=True);"
   ]
  },
  {
   "cell_type": "code",
   "execution_count": 65,
   "metadata": {},
   "outputs": [
    {
     "data": {
      "image/png": "[encoded data removed]",
      "text/plain": [
       "<Figure size 576x360 with 1 Axes>"
      ]
     },
     "metadata": {
      "needs_background": "light"
     },
     "output_type": "display_data"
    },
    {
     "data": {
      "text/html": [
       "<div>\n",
       "<style scoped>\n",
       "    .dataframe tbody tr th:only-of-type {\n",
       "        vertical-align: middle;\n",
       "    }\n",
       "\n",
       "    .dataframe tbody tr th {\n",
       "        vertical-align: top;\n",
       "    }\n",
       "\n",
       "    .dataframe thead th {\n",
       "        text-align: right;\n",
       "    }\n",
       "</style>\n",
       "<table border=\"1\" class=\"dataframe\">\n",
       "  <thead>\n",
       "    <tr style=\"text-align: right;\">\n",
       "      <th></th>\n",
       "      <th>variable</th>\n",
       "      <th>weight</th>\n",
       "    </tr>\n",
       "  </thead>\n",
       "  <tbody>\n",
       "    <tr>\n",
       "      <td>11</td>\n",
       "      <td>tth</td>\n",
       "      <td>0.125199</td>\n",
       "    </tr>\n",
       "    <tr>\n",
       "      <td>7</td>\n",
       "      <td>thetah</td>\n",
       "      <td>0.089573</td>\n",
       "    </tr>\n",
       "    <tr>\n",
       "      <td>8</td>\n",
       "      <td>thetat</td>\n",
       "      <td>0.084727</td>\n",
       "    </tr>\n",
       "    <tr>\n",
       "      <td>6</td>\n",
       "      <td>thetaf</td>\n",
       "      <td>0.081992</td>\n",
       "    </tr>\n",
       "    <tr>\n",
       "      <td>10</td>\n",
       "      <td>tt</td>\n",
       "      <td>0.081653</td>\n",
       "    </tr>\n",
       "    <tr>\n",
       "      <td>5</td>\n",
       "      <td>thetab</td>\n",
       "      <td>0.080401</td>\n",
       "    </tr>\n",
       "    <tr>\n",
       "      <td>4</td>\n",
       "      <td>t</td>\n",
       "      <td>0.080168</td>\n",
       "    </tr>\n",
       "    <tr>\n",
       "      <td>9</td>\n",
       "      <td>thetaw</td>\n",
       "      <td>0.077835</td>\n",
       "    </tr>\n",
       "    <tr>\n",
       "      <td>3</td>\n",
       "      <td>phiw</td>\n",
       "      <td>0.076228</td>\n",
       "    </tr>\n",
       "    <tr>\n",
       "      <td>0</td>\n",
       "      <td>phib</td>\n",
       "      <td>0.075647</td>\n",
       "    </tr>\n",
       "    <tr>\n",
       "      <td>2</td>\n",
       "      <td>phitstar</td>\n",
       "      <td>0.074351</td>\n",
       "    </tr>\n",
       "    <tr>\n",
       "      <td>1</td>\n",
       "      <td>phif</td>\n",
       "      <td>0.072225</td>\n",
       "    </tr>\n",
       "  </tbody>\n",
       "</table>\n",
       "</div>"
      ],
      "text/plain": [
       "    variable    weight\n",
       "11       tth  0.125199\n",
       "7     thetah  0.089573\n",
       "8     thetat  0.084727\n",
       "6     thetaf  0.081992\n",
       "10        tt  0.081653\n",
       "5     thetab  0.080401\n",
       "4          t  0.080168\n",
       "9     thetaw  0.077835\n",
       "3       phiw  0.076228\n",
       "0       phib  0.075647\n",
       "2   phitstar  0.074351\n",
       "1       phif  0.072225"
      ]
     },
     "execution_count": 65,
     "metadata": {},
     "output_type": "execute_result"
    }
   ],
   "source": [
    "importance(best0)"
   ]
  },
  {
   "cell_type": "code",
   "execution_count": null,
   "metadata": {},
   "outputs": [],
   "source": []
  }
 ],
 "metadata": {
  "kernelspec": {
   "display_name": "Python 3",
   "language": "python",
   "name": "python3"
  },
  "language_info": {
   "codemirror_mode": {
    "name": "ipython",
    "version": 3
   },
   "file_extension": ".py",
   "mimetype": "text/x-python",
   "name": "python",
   "nbconvert_exporter": "python",
   "pygments_lexer": "ipython3",
   "version": "3.7.4"
  }
 },
 "nbformat": 4,
 "nbformat_minor": 2
}
