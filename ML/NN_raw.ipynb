{
 "cells": [
  {
   "cell_type": "code",
   "execution_count": 1,
   "metadata": {},
   "outputs": [
    {
     "name": "stderr",
     "output_type": "stream",
     "text": [
      "C:\\Users\\11045\\AppData\\Local\\Continuum\\anaconda3\\lib\\site-packages\\sklearn\\externals\\six.py:31: DeprecationWarning: The module is deprecated in version 0.21 and will be removed in version 0.23 since we've dropped support for Python 2.7. Please rely on the official version of six (https://pypi.org/project/six/).\n",
      "  \"(https://pypi.org/project/six/).\", DeprecationWarning)\n"
     ]
    }
   ],
   "source": [
    "# Imports\n",
    "import numpy as np\n",
    "import pandas as pd\n",
    "import matplotlib.pyplot as plt\n",
    "from sklearn.utils import shuffle\n",
    "from dt_utils import *\n",
    "from nn_utils import *"
   ]
  },
  {
   "cell_type": "code",
   "execution_count": 2,
   "metadata": {},
   "outputs": [],
   "source": [
    "# signal\n",
    "s1 = pd.read_csv ( \"0_raw.csv\" )\n",
    "s2 = pd.read_csv ( \"30_raw.csv\" )\n",
    "s3 = pd.read_csv ( \"60_raw.csv\" )\n",
    "\n",
    "# bkg\n",
    "b = pd.read_csv ( \"b_raw.csv\" )"
   ]
  },
  {
   "cell_type": "code",
   "execution_count": 3,
   "metadata": {},
   "outputs": [
    {
     "data": {
      "text/html": [
       "<div>\n",
       "<style scoped>\n",
       "    .dataframe tbody tr th:only-of-type {\n",
       "        vertical-align: middle;\n",
       "    }\n",
       "\n",
       "    .dataframe tbody tr th {\n",
       "        vertical-align: top;\n",
       "    }\n",
       "\n",
       "    .dataframe thead th {\n",
       "        text-align: right;\n",
       "    }\n",
       "</style>\n",
       "<table border=\"1\" class=\"dataframe\">\n",
       "  <thead>\n",
       "    <tr style=\"text-align: right;\">\n",
       "      <th></th>\n",
       "      <th>b1_E</th>\n",
       "      <th>b1_eta</th>\n",
       "      <th>b1_phi</th>\n",
       "      <th>b1_pt</th>\n",
       "      <th>b2_E</th>\n",
       "      <th>b2_eta</th>\n",
       "      <th>b2_phi</th>\n",
       "      <th>b2_pt</th>\n",
       "      <th>l_E</th>\n",
       "      <th>l_eta</th>\n",
       "      <th>...</th>\n",
       "      <th>v_pt</th>\n",
       "      <th>y1_E</th>\n",
       "      <th>y1_eta</th>\n",
       "      <th>y1_phi</th>\n",
       "      <th>y1_pt</th>\n",
       "      <th>y2_E</th>\n",
       "      <th>y2_eta</th>\n",
       "      <th>y2_phi</th>\n",
       "      <th>y2_pt</th>\n",
       "      <th>isSignal</th>\n",
       "    </tr>\n",
       "  </thead>\n",
       "  <tbody>\n",
       "    <tr>\n",
       "      <td>0</td>\n",
       "      <td>72.741414</td>\n",
       "      <td>0.301684</td>\n",
       "      <td>-0.598666</td>\n",
       "      <td>68.488766</td>\n",
       "      <td>109.935239</td>\n",
       "      <td>1.666824</td>\n",
       "      <td>-3.031406</td>\n",
       "      <td>40.000895</td>\n",
       "      <td>74.045560</td>\n",
       "      <td>-0.041075</td>\n",
       "      <td>...</td>\n",
       "      <td>73.988406</td>\n",
       "      <td>102.988366</td>\n",
       "      <td>0.138095</td>\n",
       "      <td>-1.529853</td>\n",
       "      <td>102.014102</td>\n",
       "      <td>63.447229</td>\n",
       "      <td>0.778576</td>\n",
       "      <td>2.773986</td>\n",
       "      <td>48.112957</td>\n",
       "      <td>1</td>\n",
       "    </tr>\n",
       "    <tr>\n",
       "      <td>1</td>\n",
       "      <td>324.774975</td>\n",
       "      <td>-1.413230</td>\n",
       "      <td>-2.675476</td>\n",
       "      <td>149.090656</td>\n",
       "      <td>168.481586</td>\n",
       "      <td>-0.841249</td>\n",
       "      <td>-0.399566</td>\n",
       "      <td>122.113102</td>\n",
       "      <td>302.194694</td>\n",
       "      <td>-1.853767</td>\n",
       "      <td>...</td>\n",
       "      <td>49.680246</td>\n",
       "      <td>270.558750</td>\n",
       "      <td>-1.562757</td>\n",
       "      <td>0.417561</td>\n",
       "      <td>108.625031</td>\n",
       "      <td>103.043824</td>\n",
       "      <td>-0.684514</td>\n",
       "      <td>1.404853</td>\n",
       "      <td>82.861211</td>\n",
       "      <td>1</td>\n",
       "    </tr>\n",
       "    <tr>\n",
       "      <td>2</td>\n",
       "      <td>193.482099</td>\n",
       "      <td>-0.579084</td>\n",
       "      <td>-1.414360</td>\n",
       "      <td>162.990563</td>\n",
       "      <td>113.387719</td>\n",
       "      <td>-0.955552</td>\n",
       "      <td>2.389139</td>\n",
       "      <td>75.354586</td>\n",
       "      <td>36.961951</td>\n",
       "      <td>-0.638417</td>\n",
       "      <td>...</td>\n",
       "      <td>4.814607</td>\n",
       "      <td>92.586376</td>\n",
       "      <td>-0.111691</td>\n",
       "      <td>2.659656</td>\n",
       "      <td>92.011859</td>\n",
       "      <td>59.937034</td>\n",
       "      <td>-1.100265</td>\n",
       "      <td>-1.157487</td>\n",
       "      <td>35.914699</td>\n",
       "      <td>1</td>\n",
       "    </tr>\n",
       "    <tr>\n",
       "      <td>3</td>\n",
       "      <td>48.361948</td>\n",
       "      <td>-0.421165</td>\n",
       "      <td>-3.119788</td>\n",
       "      <td>43.785070</td>\n",
       "      <td>34.009780</td>\n",
       "      <td>0.526731</td>\n",
       "      <td>-1.925243</td>\n",
       "      <td>29.534006</td>\n",
       "      <td>135.847628</td>\n",
       "      <td>0.876043</td>\n",
       "      <td>...</td>\n",
       "      <td>52.017486</td>\n",
       "      <td>519.302800</td>\n",
       "      <td>1.641037</td>\n",
       "      <td>0.092786</td>\n",
       "      <td>193.976172</td>\n",
       "      <td>84.891497</td>\n",
       "      <td>0.688258</td>\n",
       "      <td>-0.361347</td>\n",
       "      <td>68.112188</td>\n",
       "      <td>1</td>\n",
       "    </tr>\n",
       "    <tr>\n",
       "      <td>4</td>\n",
       "      <td>113.701233</td>\n",
       "      <td>-0.420215</td>\n",
       "      <td>-2.277834</td>\n",
       "      <td>103.889289</td>\n",
       "      <td>85.602403</td>\n",
       "      <td>-0.159534</td>\n",
       "      <td>2.905418</td>\n",
       "      <td>84.223484</td>\n",
       "      <td>143.694723</td>\n",
       "      <td>-1.545245</td>\n",
       "      <td>...</td>\n",
       "      <td>91.446929</td>\n",
       "      <td>188.894516</td>\n",
       "      <td>-0.161186</td>\n",
       "      <td>0.068986</td>\n",
       "      <td>186.466969</td>\n",
       "      <td>49.340939</td>\n",
       "      <td>0.253309</td>\n",
       "      <td>1.449799</td>\n",
       "      <td>47.799191</td>\n",
       "      <td>1</td>\n",
       "    </tr>\n",
       "  </tbody>\n",
       "</table>\n",
       "<p>5 rows × 33 columns</p>\n",
       "</div>"
      ],
      "text/plain": [
       "         b1_E    b1_eta    b1_phi       b1_pt        b2_E    b2_eta    b2_phi  \\\n",
       "0   72.741414  0.301684 -0.598666   68.488766  109.935239  1.666824 -3.031406   \n",
       "1  324.774975 -1.413230 -2.675476  149.090656  168.481586 -0.841249 -0.399566   \n",
       "2  193.482099 -0.579084 -1.414360  162.990563  113.387719 -0.955552  2.389139   \n",
       "3   48.361948 -0.421165 -3.119788   43.785070   34.009780  0.526731 -1.925243   \n",
       "4  113.701233 -0.420215 -2.277834  103.889289   85.602403 -0.159534  2.905418   \n",
       "\n",
       "        b2_pt         l_E     l_eta  ...       v_pt        y1_E    y1_eta  \\\n",
       "0   40.000895   74.045560 -0.041075  ...  73.988406  102.988366  0.138095   \n",
       "1  122.113102  302.194694 -1.853767  ...  49.680246  270.558750 -1.562757   \n",
       "2   75.354586   36.961951 -0.638417  ...   4.814607   92.586376 -0.111691   \n",
       "3   29.534006  135.847628  0.876043  ...  52.017486  519.302800  1.641037   \n",
       "4   84.223484  143.694723 -1.545245  ...  91.446929  188.894516 -0.161186   \n",
       "\n",
       "     y1_phi       y1_pt        y2_E    y2_eta    y2_phi      y2_pt  isSignal  \n",
       "0 -1.529853  102.014102   63.447229  0.778576  2.773986  48.112957         1  \n",
       "1  0.417561  108.625031  103.043824 -0.684514  1.404853  82.861211         1  \n",
       "2  2.659656   92.011859   59.937034 -1.100265 -1.157487  35.914699         1  \n",
       "3  0.092786  193.976172   84.891497  0.688258 -0.361347  68.112188         1  \n",
       "4  0.068986  186.466969   49.340939  0.253309  1.449799  47.799191         1  \n",
       "\n",
       "[5 rows x 33 columns]"
      ]
     },
     "execution_count": 3,
     "metadata": {},
     "output_type": "execute_result"
    }
   ],
   "source": [
    "s1.head()"
   ]
  },
  {
   "cell_type": "code",
   "execution_count": 4,
   "metadata": {},
   "outputs": [
    {
     "data": {
      "text/plain": [
       "Index(['b1_E', 'b1_eta', 'b1_phi', 'b1_pt', 'b2_E', 'b2_eta', 'b2_phi',\n",
       "       'b2_pt', 'l_E', 'l_eta', 'l_phi', 'l_pt', 'q1_E', 'q1_eta', 'q1_phi',\n",
       "       'q1_pt', 'q2_E', 'q2_eta', 'q2_phi', 'q2_pt', 'v_E', 'v_eta', 'v_phi',\n",
       "       'v_pt', 'y1_E', 'y1_eta', 'y1_phi', 'y1_pt', 'y2_E', 'y2_eta', 'y2_phi',\n",
       "       'y2_pt', 'isSignal'],\n",
       "      dtype='object')"
      ]
     },
     "execution_count": 4,
     "metadata": {},
     "output_type": "execute_result"
    }
   ],
   "source": [
    "s1.columns"
   ]
  },
  {
   "cell_type": "code",
   "execution_count": 5,
   "metadata": {},
   "outputs": [],
   "source": [
    "c0 = ['b1_E', 'b1_eta', 'b1_phi', 'b1_pt', 'b2_E', 'b2_eta', 'b2_phi',\n",
    "       'b2_pt', 'l_E', 'l_eta', 'l_phi', 'l_pt', 'q1_E', 'q1_eta', 'q1_phi',\n",
    "       'q1_pt', 'q2_E', 'q2_eta', 'q2_phi', 'q2_pt', 'v_E', 'v_eta', 'v_phi',\n",
    "       'v_pt', 'y1_E', 'y1_eta', 'y1_phi', 'y1_pt', 'y2_E', 'y2_eta', 'y2_phi',\n",
    "       'y2_pt']"
   ]
  },
  {
   "cell_type": "code",
   "execution_count": 6,
   "metadata": {},
   "outputs": [
    {
     "data": {
      "text/plain": [
       "((38100, 33), (138901, 33), (138005, 33))"
      ]
     },
     "execution_count": 6,
     "metadata": {},
     "output_type": "execute_result"
    }
   ],
   "source": [
    "s1.shape,s2.shape,s3.shape"
   ]
  },
  {
   "cell_type": "code",
   "execution_count": 7,
   "metadata": {},
   "outputs": [
    {
     "data": {
      "text/plain": [
       "(11106, 33)"
      ]
     },
     "execution_count": 7,
     "metadata": {},
     "output_type": "execute_result"
    }
   ],
   "source": [
    "b.shape"
   ]
  },
  {
   "cell_type": "code",
   "execution_count": 8,
   "metadata": {},
   "outputs": [],
   "source": [
    "# Keras imports\n",
    "from tensorflow . keras . models import Sequential\n",
    "from tensorflow . keras . layers import Dense\n",
    "from tensorflow . keras . layers import Dropout\n",
    "from sklearn import model_selection , preprocessing"
   ]
  },
  {
   "cell_type": "markdown",
   "metadata": {},
   "source": [
    "## signal vs. background"
   ]
  },
  {
   "cell_type": "code",
   "execution_count": 9,
   "metadata": {},
   "outputs": [],
   "source": [
    "def my_model ( num_inputs , num_nodes , extra_depth ):\n",
    "    # create model\n",
    "    model = Sequential ()\n",
    "    model . add ( Dense ( num_nodes , input_dim = num_inputs , kernel_initializer ='normal' , activation ='relu'))\n",
    "    model . add ( Dropout (0.2))\n",
    "    \n",
    "    for i in range ( extra_depth ):\n",
    "        # code up the extra layers here\n",
    "        model . add ( Dense ( num_nodes , input_dim = num_inputs , kernel_initializer ='normal' , activation ='relu'))\n",
    "        model . add ( Dropout (0.2))\n",
    "        \n",
    "    model . add ( Dense (1 , activation ='sigmoid'))\n",
    "    # Compile model\n",
    "    model . compile ( loss ='binary_crossentropy' , optimizer = 'adam', metrics =['accuracy'])\n",
    "    return model"
   ]
  },
  {
   "cell_type": "code",
   "execution_count": 10,
   "metadata": {
    "scrolled": true
   },
   "outputs": [
    {
     "name": "stderr",
     "output_type": "stream",
     "text": [
      "Using TensorFlow backend.\n"
     ]
    }
   ],
   "source": [
    "# Set early stop\n",
    "from keras . callbacks import EarlyStopping , ModelCheckpoint\n",
    "\n",
    "callbacks_ = [\n",
    "# if we don ’t have an increase of the accuracy for 15 epochs , terminate training .\n",
    "EarlyStopping ( verbose = True , patience =15 , monitor ='val_acc' ) ,\n",
    "# Always make sure that we ’re saving the model weights with the best accuracy .\n",
    "ModelCheckpoint ('model .h5' , monitor ='val_acc' , verbose =0 , save_best_only = True , mode ='max' )]\n",
    "\n",
    "Answer_to_all_questions = 42"
   ]
  },
  {
   "cell_type": "code",
   "execution_count": 11,
   "metadata": {},
   "outputs": [],
   "source": [
    "from sklearn.metrics import confusion_matrix, roc_curve"
   ]
  },
  {
   "cell_type": "markdown",
   "metadata": {},
   "source": [
    "## CP0 vs background"
   ]
  },
  {
   "cell_type": "code",
   "execution_count": 12,
   "metadata": {},
   "outputs": [
    {
     "data": {
      "text/html": [
       "<div>\n",
       "<style scoped>\n",
       "    .dataframe tbody tr th:only-of-type {\n",
       "        vertical-align: middle;\n",
       "    }\n",
       "\n",
       "    .dataframe tbody tr th {\n",
       "        vertical-align: top;\n",
       "    }\n",
       "\n",
       "    .dataframe thead th {\n",
       "        text-align: right;\n",
       "    }\n",
       "</style>\n",
       "<table border=\"1\" class=\"dataframe\">\n",
       "  <thead>\n",
       "    <tr style=\"text-align: right;\">\n",
       "      <th></th>\n",
       "      <th>b1_E</th>\n",
       "      <th>b1_eta</th>\n",
       "      <th>b1_phi</th>\n",
       "      <th>b1_pt</th>\n",
       "      <th>b2_E</th>\n",
       "      <th>b2_eta</th>\n",
       "      <th>b2_phi</th>\n",
       "      <th>b2_pt</th>\n",
       "      <th>l_E</th>\n",
       "      <th>l_eta</th>\n",
       "      <th>...</th>\n",
       "      <th>v_pt</th>\n",
       "      <th>y1_E</th>\n",
       "      <th>y1_eta</th>\n",
       "      <th>y1_phi</th>\n",
       "      <th>y1_pt</th>\n",
       "      <th>y2_E</th>\n",
       "      <th>y2_eta</th>\n",
       "      <th>y2_phi</th>\n",
       "      <th>y2_pt</th>\n",
       "      <th>isSignal</th>\n",
       "    </tr>\n",
       "  </thead>\n",
       "  <tbody>\n",
       "    <tr>\n",
       "      <td>0</td>\n",
       "      <td>132.736997</td>\n",
       "      <td>-0.609871</td>\n",
       "      <td>-1.463024</td>\n",
       "      <td>110.815859</td>\n",
       "      <td>246.633080</td>\n",
       "      <td>-1.939831</td>\n",
       "      <td>2.745613</td>\n",
       "      <td>69.378273</td>\n",
       "      <td>37.394877</td>\n",
       "      <td>-1.112899</td>\n",
       "      <td>...</td>\n",
       "      <td>103.257154</td>\n",
       "      <td>310.517525</td>\n",
       "      <td>-1.715745</td>\n",
       "      <td>2.172274</td>\n",
       "      <td>108.182078</td>\n",
       "      <td>175.790546</td>\n",
       "      <td>-1.858784</td>\n",
       "      <td>-1.489195</td>\n",
       "      <td>53.498523</td>\n",
       "      <td>0</td>\n",
       "    </tr>\n",
       "    <tr>\n",
       "      <td>1</td>\n",
       "      <td>364.893774</td>\n",
       "      <td>1.872181</td>\n",
       "      <td>2.970081</td>\n",
       "      <td>109.575664</td>\n",
       "      <td>84.255225</td>\n",
       "      <td>1.793831</td>\n",
       "      <td>-0.386887</td>\n",
       "      <td>27.258199</td>\n",
       "      <td>226.964559</td>\n",
       "      <td>-1.307090</td>\n",
       "      <td>...</td>\n",
       "      <td>38.634093</td>\n",
       "      <td>98.882694</td>\n",
       "      <td>-0.988896</td>\n",
       "      <td>0.870928</td>\n",
       "      <td>64.623898</td>\n",
       "      <td>50.032459</td>\n",
       "      <td>0.191539</td>\n",
       "      <td>-2.470428</td>\n",
       "      <td>49.128504</td>\n",
       "      <td>0</td>\n",
       "    </tr>\n",
       "    <tr>\n",
       "      <td>2</td>\n",
       "      <td>79.282197</td>\n",
       "      <td>0.171509</td>\n",
       "      <td>2.456722</td>\n",
       "      <td>77.328781</td>\n",
       "      <td>48.250670</td>\n",
       "      <td>0.038036</td>\n",
       "      <td>0.108305</td>\n",
       "      <td>47.582852</td>\n",
       "      <td>355.603504</td>\n",
       "      <td>1.633389</td>\n",
       "      <td>...</td>\n",
       "      <td>71.793734</td>\n",
       "      <td>103.449644</td>\n",
       "      <td>0.062441</td>\n",
       "      <td>1.192180</td>\n",
       "      <td>103.248305</td>\n",
       "      <td>121.501450</td>\n",
       "      <td>1.356279</td>\n",
       "      <td>-2.454304</td>\n",
       "      <td>58.705703</td>\n",
       "      <td>0</td>\n",
       "    </tr>\n",
       "    <tr>\n",
       "      <td>3</td>\n",
       "      <td>77.472226</td>\n",
       "      <td>0.704273</td>\n",
       "      <td>-1.373354</td>\n",
       "      <td>61.253020</td>\n",
       "      <td>59.606468</td>\n",
       "      <td>-0.375026</td>\n",
       "      <td>1.101116</td>\n",
       "      <td>55.183047</td>\n",
       "      <td>83.227529</td>\n",
       "      <td>-0.132635</td>\n",
       "      <td>...</td>\n",
       "      <td>63.542676</td>\n",
       "      <td>135.616847</td>\n",
       "      <td>0.020566</td>\n",
       "      <td>1.460354</td>\n",
       "      <td>135.588172</td>\n",
       "      <td>58.010096</td>\n",
       "      <td>0.975011</td>\n",
       "      <td>-2.500511</td>\n",
       "      <td>38.310918</td>\n",
       "      <td>0</td>\n",
       "    </tr>\n",
       "    <tr>\n",
       "      <td>4</td>\n",
       "      <td>432.618102</td>\n",
       "      <td>-0.674741</td>\n",
       "      <td>1.687749</td>\n",
       "      <td>349.547844</td>\n",
       "      <td>121.518713</td>\n",
       "      <td>-0.208287</td>\n",
       "      <td>-1.609123</td>\n",
       "      <td>118.451086</td>\n",
       "      <td>139.359383</td>\n",
       "      <td>-0.916138</td>\n",
       "      <td>...</td>\n",
       "      <td>18.701764</td>\n",
       "      <td>144.777422</td>\n",
       "      <td>-0.849210</td>\n",
       "      <td>-1.016124</td>\n",
       "      <td>104.700594</td>\n",
       "      <td>46.726052</td>\n",
       "      <td>0.581534</td>\n",
       "      <td>0.171662</td>\n",
       "      <td>39.803777</td>\n",
       "      <td>1</td>\n",
       "    </tr>\n",
       "    <tr>\n",
       "      <td>...</td>\n",
       "      <td>...</td>\n",
       "      <td>...</td>\n",
       "      <td>...</td>\n",
       "      <td>...</td>\n",
       "      <td>...</td>\n",
       "      <td>...</td>\n",
       "      <td>...</td>\n",
       "      <td>...</td>\n",
       "      <td>...</td>\n",
       "      <td>...</td>\n",
       "      <td>...</td>\n",
       "      <td>...</td>\n",
       "      <td>...</td>\n",
       "      <td>...</td>\n",
       "      <td>...</td>\n",
       "      <td>...</td>\n",
       "      <td>...</td>\n",
       "      <td>...</td>\n",
       "      <td>...</td>\n",
       "      <td>...</td>\n",
       "      <td>...</td>\n",
       "    </tr>\n",
       "    <tr>\n",
       "      <td>22207</td>\n",
       "      <td>129.531026</td>\n",
       "      <td>-0.807164</td>\n",
       "      <td>1.433119</td>\n",
       "      <td>96.212383</td>\n",
       "      <td>30.224470</td>\n",
       "      <td>0.345318</td>\n",
       "      <td>-2.160728</td>\n",
       "      <td>28.284900</td>\n",
       "      <td>84.752191</td>\n",
       "      <td>-0.674471</td>\n",
       "      <td>...</td>\n",
       "      <td>43.299827</td>\n",
       "      <td>160.308702</td>\n",
       "      <td>-1.163301</td>\n",
       "      <td>-1.025964</td>\n",
       "      <td>91.267672</td>\n",
       "      <td>61.143737</td>\n",
       "      <td>-0.250201</td>\n",
       "      <td>1.865960</td>\n",
       "      <td>59.278602</td>\n",
       "      <td>0</td>\n",
       "    </tr>\n",
       "    <tr>\n",
       "      <td>22208</td>\n",
       "      <td>85.141599</td>\n",
       "      <td>0.410484</td>\n",
       "      <td>-0.153539</td>\n",
       "      <td>77.779188</td>\n",
       "      <td>46.351764</td>\n",
       "      <td>-1.204555</td>\n",
       "      <td>-0.763998</td>\n",
       "      <td>25.380713</td>\n",
       "      <td>16.786577</td>\n",
       "      <td>-0.114362</td>\n",
       "      <td>...</td>\n",
       "      <td>30.819844</td>\n",
       "      <td>35.669460</td>\n",
       "      <td>0.535167</td>\n",
       "      <td>1.143044</td>\n",
       "      <td>31.107480</td>\n",
       "      <td>35.785370</td>\n",
       "      <td>-0.883901</td>\n",
       "      <td>-2.346415</td>\n",
       "      <td>25.258852</td>\n",
       "      <td>0</td>\n",
       "    </tr>\n",
       "    <tr>\n",
       "      <td>22209</td>\n",
       "      <td>86.700399</td>\n",
       "      <td>-0.930914</td>\n",
       "      <td>0.875159</td>\n",
       "      <td>59.017250</td>\n",
       "      <td>247.942905</td>\n",
       "      <td>-2.218371</td>\n",
       "      <td>-0.779451</td>\n",
       "      <td>53.275180</td>\n",
       "      <td>124.778303</td>\n",
       "      <td>-0.652303</td>\n",
       "      <td>...</td>\n",
       "      <td>57.343920</td>\n",
       "      <td>90.884626</td>\n",
       "      <td>-0.488600</td>\n",
       "      <td>-1.679152</td>\n",
       "      <td>81.019766</td>\n",
       "      <td>123.689904</td>\n",
       "      <td>-1.922566</td>\n",
       "      <td>2.678084</td>\n",
       "      <td>35.417324</td>\n",
       "      <td>1</td>\n",
       "    </tr>\n",
       "    <tr>\n",
       "      <td>22210</td>\n",
       "      <td>417.542460</td>\n",
       "      <td>-2.472798</td>\n",
       "      <td>1.495897</td>\n",
       "      <td>69.932547</td>\n",
       "      <td>248.963662</td>\n",
       "      <td>2.033421</td>\n",
       "      <td>-1.113195</td>\n",
       "      <td>64.020820</td>\n",
       "      <td>58.060794</td>\n",
       "      <td>-0.842121</td>\n",
       "      <td>...</td>\n",
       "      <td>27.631945</td>\n",
       "      <td>83.229445</td>\n",
       "      <td>0.304601</td>\n",
       "      <td>0.024879</td>\n",
       "      <td>79.512188</td>\n",
       "      <td>94.150030</td>\n",
       "      <td>1.656119</td>\n",
       "      <td>3.076162</td>\n",
       "      <td>34.678879</td>\n",
       "      <td>1</td>\n",
       "    </tr>\n",
       "    <tr>\n",
       "      <td>22211</td>\n",
       "      <td>147.329940</td>\n",
       "      <td>-0.912744</td>\n",
       "      <td>-1.298361</td>\n",
       "      <td>101.440148</td>\n",
       "      <td>28.754564</td>\n",
       "      <td>-0.447717</td>\n",
       "      <td>0.293687</td>\n",
       "      <td>25.741041</td>\n",
       "      <td>262.044887</td>\n",
       "      <td>-2.066339</td>\n",
       "      <td>...</td>\n",
       "      <td>111.989240</td>\n",
       "      <td>120.713617</td>\n",
       "      <td>-0.600986</td>\n",
       "      <td>-2.941148</td>\n",
       "      <td>101.774109</td>\n",
       "      <td>44.060753</td>\n",
       "      <td>0.652566</td>\n",
       "      <td>2.681806</td>\n",
       "      <td>36.098051</td>\n",
       "      <td>0</td>\n",
       "    </tr>\n",
       "  </tbody>\n",
       "</table>\n",
       "<p>22212 rows × 33 columns</p>\n",
       "</div>"
      ],
      "text/plain": [
       "             b1_E    b1_eta    b1_phi       b1_pt        b2_E    b2_eta  \\\n",
       "0      132.736997 -0.609871 -1.463024  110.815859  246.633080 -1.939831   \n",
       "1      364.893774  1.872181  2.970081  109.575664   84.255225  1.793831   \n",
       "2       79.282197  0.171509  2.456722   77.328781   48.250670  0.038036   \n",
       "3       77.472226  0.704273 -1.373354   61.253020   59.606468 -0.375026   \n",
       "4      432.618102 -0.674741  1.687749  349.547844  121.518713 -0.208287   \n",
       "...           ...       ...       ...         ...         ...       ...   \n",
       "22207  129.531026 -0.807164  1.433119   96.212383   30.224470  0.345318   \n",
       "22208   85.141599  0.410484 -0.153539   77.779188   46.351764 -1.204555   \n",
       "22209   86.700399 -0.930914  0.875159   59.017250  247.942905 -2.218371   \n",
       "22210  417.542460 -2.472798  1.495897   69.932547  248.963662  2.033421   \n",
       "22211  147.329940 -0.912744 -1.298361  101.440148   28.754564 -0.447717   \n",
       "\n",
       "         b2_phi       b2_pt         l_E     l_eta  ...        v_pt  \\\n",
       "0      2.745613   69.378273   37.394877 -1.112899  ...  103.257154   \n",
       "1     -0.386887   27.258199  226.964559 -1.307090  ...   38.634093   \n",
       "2      0.108305   47.582852  355.603504  1.633389  ...   71.793734   \n",
       "3      1.101116   55.183047   83.227529 -0.132635  ...   63.542676   \n",
       "4     -1.609123  118.451086  139.359383 -0.916138  ...   18.701764   \n",
       "...         ...         ...         ...       ...  ...         ...   \n",
       "22207 -2.160728   28.284900   84.752191 -0.674471  ...   43.299827   \n",
       "22208 -0.763998   25.380713   16.786577 -0.114362  ...   30.819844   \n",
       "22209 -0.779451   53.275180  124.778303 -0.652303  ...   57.343920   \n",
       "22210 -1.113195   64.020820   58.060794 -0.842121  ...   27.631945   \n",
       "22211  0.293687   25.741041  262.044887 -2.066339  ...  111.989240   \n",
       "\n",
       "             y1_E    y1_eta    y1_phi       y1_pt        y2_E    y2_eta  \\\n",
       "0      310.517525 -1.715745  2.172274  108.182078  175.790546 -1.858784   \n",
       "1       98.882694 -0.988896  0.870928   64.623898   50.032459  0.191539   \n",
       "2      103.449644  0.062441  1.192180  103.248305  121.501450  1.356279   \n",
       "3      135.616847  0.020566  1.460354  135.588172   58.010096  0.975011   \n",
       "4      144.777422 -0.849210 -1.016124  104.700594   46.726052  0.581534   \n",
       "...           ...       ...       ...         ...         ...       ...   \n",
       "22207  160.308702 -1.163301 -1.025964   91.267672   61.143737 -0.250201   \n",
       "22208   35.669460  0.535167  1.143044   31.107480   35.785370 -0.883901   \n",
       "22209   90.884626 -0.488600 -1.679152   81.019766  123.689904 -1.922566   \n",
       "22210   83.229445  0.304601  0.024879   79.512188   94.150030  1.656119   \n",
       "22211  120.713617 -0.600986 -2.941148  101.774109   44.060753  0.652566   \n",
       "\n",
       "         y2_phi      y2_pt  isSignal  \n",
       "0     -1.489195  53.498523         0  \n",
       "1     -2.470428  49.128504         0  \n",
       "2     -2.454304  58.705703         0  \n",
       "3     -2.500511  38.310918         0  \n",
       "4      0.171662  39.803777         1  \n",
       "...         ...        ...       ...  \n",
       "22207  1.865960  59.278602         0  \n",
       "22208 -2.346415  25.258852         0  \n",
       "22209  2.678084  35.417324         1  \n",
       "22210  3.076162  34.678879         1  \n",
       "22211  2.681806  36.098051         0  \n",
       "\n",
       "[22212 rows x 33 columns]"
      ]
     },
     "execution_count": 12,
     "metadata": {},
     "output_type": "execute_result"
    }
   ],
   "source": [
    "# sample signal: alpha = 0\n",
    "S1 = s1.sample(b.shape[0], random_state=42)\n",
    "\n",
    "# training dataset\n",
    "train1 = pd.concat([S1,b])\n",
    "\n",
    "# Shuffle training dataset\n",
    "train1 = shuffle(train1,random_state=42).reset_index(drop=True)\n",
    "train1"
   ]
  },
  {
   "cell_type": "code",
   "execution_count": 13,
   "metadata": {},
   "outputs": [
    {
     "name": "stdout",
     "output_type": "stream",
     "text": [
      "(15548, 32) (15548,) (6664, 32) (6664,)\n"
     ]
    }
   ],
   "source": [
    "# Standardize\n",
    "sc1 = preprocessing . StandardScaler ()\n",
    "input_data1 = sc1 . fit_transform ( train1[c0[0:32]] )\n",
    "target1 = train1['isSignal']\n",
    "\n",
    "# train - test split of dataset\n",
    "train_data1 , test_data1 , train_target1 , test_target1 = model_selection . train_test_split (\\\n",
    "input_data1 , target1 , test_size =0.3 , random_state = Answer_to_all_questions )\n",
    "# Check shape\n",
    "print ( train_data1 . shape , train_target1 . shape , test_data1 . shape , test_target1 . shape )"
   ]
  },
  {
   "cell_type": "code",
   "execution_count": 14,
   "metadata": {
    "scrolled": true
   },
   "outputs": [
    {
     "name": "stdout",
     "output_type": "stream",
     "text": [
      "WARNING:tensorflow:From C:\\Users\\11045\\AppData\\Local\\Continuum\\anaconda3\\lib\\site-packages\\tensorflow\\python\\keras\\initializers.py:143: calling RandomNormal.__init__ (from tensorflow.python.ops.init_ops) with dtype is deprecated and will be removed in a future version.\n",
      "Instructions for updating:\n",
      "Call initializer instance with the dtype argument instead of passing it to the constructor\n",
      "WARNING:tensorflow:From C:\\Users\\11045\\AppData\\Local\\Continuum\\anaconda3\\lib\\site-packages\\tensorflow\\python\\ops\\init_ops.py:1251: calling VarianceScaling.__init__ (from tensorflow.python.ops.init_ops) with dtype is deprecated and will be removed in a future version.\n",
      "Instructions for updating:\n",
      "Call initializer instance with the dtype argument instead of passing it to the constructor\n",
      "WARNING:tensorflow:From C:\\Users\\11045\\AppData\\Local\\Continuum\\anaconda3\\lib\\site-packages\\tensorflow\\python\\ops\\nn_impl.py:180: add_dispatch_support.<locals>.wrapper (from tensorflow.python.ops.array_ops) is deprecated and will be removed in a future version.\n",
      "Instructions for updating:\n",
      "Use tf.where in 2.0, which has the same broadcast rule as np.where\n",
      "Train on 15548 samples, validate on 6664 samples\n",
      "Epoch 1/300\n",
      "15548/15548 [==============================] - 0s 32us/sample - loss: 0.6637 - acc: 0.5987 - val_loss: 0.6370 - val_acc: 0.6289\n",
      "Epoch 2/300\n",
      "15548/15548 [==============================] - 0s 15us/sample - loss: 0.6302 - acc: 0.6421 - val_loss: 0.6251 - val_acc: 0.6528\n",
      "Epoch 3/300\n",
      "15548/15548 [==============================] - 0s 15us/sample - loss: 0.6202 - acc: 0.6573 - val_loss: 0.6203 - val_acc: 0.6612\n",
      "Epoch 4/300\n",
      "15548/15548 [==============================] - 0s 12us/sample - loss: 0.6141 - acc: 0.6634 - val_loss: 0.6183 - val_acc: 0.6588\n",
      "Epoch 5/300\n",
      "15548/15548 [==============================] - 0s 13us/sample - loss: 0.6063 - acc: 0.6666 - val_loss: 0.6115 - val_acc: 0.6615\n",
      "Epoch 6/300\n",
      "15548/15548 [==============================] - 0s 11us/sample - loss: 0.6012 - acc: 0.6665 - val_loss: 0.6087 - val_acc: 0.6582\n",
      "Epoch 7/300\n",
      "15548/15548 [==============================] - 0s 10us/sample - loss: 0.5947 - acc: 0.6723 - val_loss: 0.6033 - val_acc: 0.6606\n",
      "Epoch 8/300\n",
      "15548/15548 [==============================] - 0s 13us/sample - loss: 0.5902 - acc: 0.6747 - val_loss: 0.5984 - val_acc: 0.6673\n",
      "Epoch 9/300\n",
      "15548/15548 [==============================] - 0s 11us/sample - loss: 0.5859 - acc: 0.6797 - val_loss: 0.5955 - val_acc: 0.6697\n",
      "Epoch 10/300\n",
      "15548/15548 [==============================] - 0s 16us/sample - loss: 0.5786 - acc: 0.6801 - val_loss: 0.5915 - val_acc: 0.6718\n",
      "Epoch 11/300\n",
      "15548/15548 [==============================] - 0s 14us/sample - loss: 0.5752 - acc: 0.6866 - val_loss: 0.5978 - val_acc: 0.6658\n",
      "Epoch 12/300\n",
      "15548/15548 [==============================] - 0s 13us/sample - loss: 0.5733 - acc: 0.6820 - val_loss: 0.5937 - val_acc: 0.6720\n",
      "Epoch 13/300\n",
      "15548/15548 [==============================] - 0s 14us/sample - loss: 0.5683 - acc: 0.6869 - val_loss: 0.5882 - val_acc: 0.6735\n",
      "Epoch 14/300\n",
      "15548/15548 [==============================] - 0s 16us/sample - loss: 0.5636 - acc: 0.6927 - val_loss: 0.5842 - val_acc: 0.6751\n",
      "Epoch 15/300\n",
      "15548/15548 [==============================] - 0s 12us/sample - loss: 0.5596 - acc: 0.6930 - val_loss: 0.5868 - val_acc: 0.6742\n",
      "Epoch 16/300\n",
      "15548/15548 [==============================] - 0s 12us/sample - loss: 0.5569 - acc: 0.6976 - val_loss: 0.5845 - val_acc: 0.6750\n",
      "Epoch 17/300\n",
      "15548/15548 [==============================] - 0s 16us/sample - loss: 0.5524 - acc: 0.7006 - val_loss: 0.5829 - val_acc: 0.6771\n",
      "Epoch 18/300\n",
      "15548/15548 [==============================] - 0s 14us/sample - loss: 0.5485 - acc: 0.7021 - val_loss: 0.5789 - val_acc: 0.6796\n",
      "Epoch 19/300\n",
      "15548/15548 [==============================] - 0s 14us/sample - loss: 0.5439 - acc: 0.7048 - val_loss: 0.5830 - val_acc: 0.6768\n",
      "Epoch 20/300\n",
      "15548/15548 [==============================] - 0s 17us/sample - loss: 0.5424 - acc: 0.7048 - val_loss: 0.5824 - val_acc: 0.6804\n",
      "Epoch 21/300\n",
      "15548/15548 [==============================] - 0s 14us/sample - loss: 0.5417 - acc: 0.7108 - val_loss: 0.5826 - val_acc: 0.6784\n",
      "Epoch 22/300\n",
      "15548/15548 [==============================] - 0s 16us/sample - loss: 0.5371 - acc: 0.7133 - val_loss: 0.5788 - val_acc: 0.6832\n",
      "Epoch 23/300\n",
      "15548/15548 [==============================] - 0s 17us/sample - loss: 0.5300 - acc: 0.7211 - val_loss: 0.5774 - val_acc: 0.6870\n",
      "Epoch 24/300\n",
      "15548/15548 [==============================] - 0s 15us/sample - loss: 0.5300 - acc: 0.7166 - val_loss: 0.5828 - val_acc: 0.6751\n",
      "Epoch 25/300\n",
      "15548/15548 [==============================] - 0s 15us/sample - loss: 0.5280 - acc: 0.7220 - val_loss: 0.5770 - val_acc: 0.6891\n",
      "Epoch 26/300\n",
      "15548/15548 [==============================] - 0s 11us/sample - loss: 0.5247 - acc: 0.7253 - val_loss: 0.5789 - val_acc: 0.6801\n",
      "Epoch 27/300\n",
      "15548/15548 [==============================] - 0s 11us/sample - loss: 0.5195 - acc: 0.7303 - val_loss: 0.5770 - val_acc: 0.6844\n",
      "Epoch 28/300\n",
      "15548/15548 [==============================] - 0s 11us/sample - loss: 0.5179 - acc: 0.7281 - val_loss: 0.5756 - val_acc: 0.6828\n",
      "Epoch 29/300\n",
      "15548/15548 [==============================] - 0s 13us/sample - loss: 0.5154 - acc: 0.7321 - val_loss: 0.5779 - val_acc: 0.6817\n",
      "Epoch 30/300\n",
      "15548/15548 [==============================] - 0s 11us/sample - loss: 0.5139 - acc: 0.7355 - val_loss: 0.5778 - val_acc: 0.6832\n",
      "Epoch 31/300\n",
      "15548/15548 [==============================] - 0s 11us/sample - loss: 0.5118 - acc: 0.7339 - val_loss: 0.5796 - val_acc: 0.6879\n",
      "Epoch 32/300\n",
      "15548/15548 [==============================] - 0s 16us/sample - loss: 0.5085 - acc: 0.7355 - val_loss: 0.5800 - val_acc: 0.6771\n",
      "Epoch 33/300\n",
      "15548/15548 [==============================] - 0s 11us/sample - loss: 0.5086 - acc: 0.7379 - val_loss: 0.5792 - val_acc: 0.6847\n",
      "Epoch 34/300\n",
      "15548/15548 [==============================] - 0s 12us/sample - loss: 0.5065 - acc: 0.7402 - val_loss: 0.5802 - val_acc: 0.6877\n",
      "Epoch 35/300\n",
      "15548/15548 [==============================] - 0s 10us/sample - loss: 0.5029 - acc: 0.7420 - val_loss: 0.5788 - val_acc: 0.6796\n",
      "Epoch 36/300\n",
      "15548/15548 [==============================] - 0s 11us/sample - loss: 0.5009 - acc: 0.7415 - val_loss: 0.5771 - val_acc: 0.6825\n",
      "Epoch 37/300\n",
      "15548/15548 [==============================] - 0s 11us/sample - loss: 0.4972 - acc: 0.7467 - val_loss: 0.5808 - val_acc: 0.6852\n",
      "Epoch 38/300\n",
      "15548/15548 [==============================] - 0s 12us/sample - loss: 0.4929 - acc: 0.7516 - val_loss: 0.5810 - val_acc: 0.6841\n",
      "Epoch 39/300\n",
      "15548/15548 [==============================] - 0s 10us/sample - loss: 0.4951 - acc: 0.7491 - val_loss: 0.5825 - val_acc: 0.6837\n",
      "Epoch 40/300\n",
      "15548/15548 [==============================] - 0s 14us/sample - loss: 0.4945 - acc: 0.7471 - val_loss: 0.5803 - val_acc: 0.6835\n",
      "Epoch 00040: early stopping\n"
     ]
    }
   ],
   "source": [
    "# train\n",
    "model1 = my_model(32,100,2)\n",
    "history1 =  model1. fit ( train_data1 , train_target1 , batch_size = 300 , epochs = 300 , verbose =1 , validation_data =( test_data1 , test_target1 ) , callbacks = callbacks_ )"
   ]
  },
  {
   "cell_type": "code",
   "execution_count": 15,
   "metadata": {},
   "outputs": [
    {
     "data": {
      "image/png": "[encoded data removed]",
      "text/plain": [
       "<Figure size 720x360 with 1 Axes>"
      ]
     },
     "metadata": {
      "needs_background": "light"
     },
     "output_type": "display_data"
    }
   ],
   "source": [
    "# Loss\n",
    "lossplot(history1.history['loss'], scale='log');"
   ]
  },
  {
   "cell_type": "code",
   "execution_count": 16,
   "metadata": {},
   "outputs": [
    {
     "data": {
      "image/png": "[encoded data removed]",
      "text/plain": [
       "<Figure size 720x360 with 1 Axes>"
      ]
     },
     "metadata": {
      "needs_background": "light"
     },
     "output_type": "display_data"
    }
   ],
   "source": [
    "# Accuracy\n",
    "accplot(history1.history['val_acc'], scale='linear')"
   ]
  },
  {
   "cell_type": "code",
   "execution_count": 17,
   "metadata": {},
   "outputs": [
    {
     "data": {
      "image/png": "[encoded data removed]",
      "text/plain": [
       "<Figure size 432x288 with 2 Axes>"
      ]
     },
     "metadata": {
      "needs_background": "light"
     },
     "output_type": "display_data"
    }
   ],
   "source": [
    "# Predictions\n",
    "pred1 = model1.predict(test_data1)\n",
    "\n",
    "# Convert probabilities into binary outputs\n",
    "bi = []\n",
    "p = []\n",
    "for i in pred1:\n",
    "    if i[0]>0.5:\n",
    "        bi.append(1)\n",
    "        p.append(i[0])\n",
    "    else:\n",
    "        bi.append(0)\n",
    "        p.append(i[0])\n",
    "        \n",
    "# Define confusion matrix and classes\n",
    "cm = confusion_matrix(test_target1.tolist(),bi)\n",
    "classes=[0,1]\n",
    "\n",
    "# Plot heat map\n",
    "heatmap(cm,normalize=True,labels=['predicted','true'],classes=[['0','1'],['0','1']])"
   ]
  },
  {
   "cell_type": "code",
   "execution_count": 18,
   "metadata": {},
   "outputs": [
    {
     "data": {
      "image/png": "[encoded data removed]",
      "text/plain": [
       "<Figure size 432x288 with 1 Axes>"
      ]
     },
     "metadata": {
      "needs_background": "light"
     },
     "output_type": "display_data"
    }
   ],
   "source": [
    "# Calculate false positive rate and true positive rate\n",
    "fpr, tpr, threshold = roc_curve(test_target1, pred1)\n",
    "roc_auc = metrics.auc(fpr, tpr)\n",
    "# Plot ROC curve\n",
    "plt.title('Receiver Operating Characteristic')\n",
    "plt.plot(fpr, tpr, 'b', label = 'AUC = %0.2f' % roc_auc)\n",
    "plt.legend(loc = 'lower right')\n",
    "plt.plot([0, 1], [0, 1],'r--')\n",
    "plt.xlim([0, 1])\n",
    "plt.ylim([0, 1])\n",
    "plt.ylabel('True Positive Rate')\n",
    "plt.xlabel('False Positive Rate')\n",
    "plt.show()"
   ]
  },
  {
   "cell_type": "markdown",
   "metadata": {},
   "source": [
    "## CP30 vs background"
   ]
  },
  {
   "cell_type": "code",
   "execution_count": 19,
   "metadata": {},
   "outputs": [
    {
     "data": {
      "text/html": [
       "<div>\n",
       "<style scoped>\n",
       "    .dataframe tbody tr th:only-of-type {\n",
       "        vertical-align: middle;\n",
       "    }\n",
       "\n",
       "    .dataframe tbody tr th {\n",
       "        vertical-align: top;\n",
       "    }\n",
       "\n",
       "    .dataframe thead th {\n",
       "        text-align: right;\n",
       "    }\n",
       "</style>\n",
       "<table border=\"1\" class=\"dataframe\">\n",
       "  <thead>\n",
       "    <tr style=\"text-align: right;\">\n",
       "      <th></th>\n",
       "      <th>b1_E</th>\n",
       "      <th>b1_eta</th>\n",
       "      <th>b1_phi</th>\n",
       "      <th>b1_pt</th>\n",
       "      <th>b2_E</th>\n",
       "      <th>b2_eta</th>\n",
       "      <th>b2_phi</th>\n",
       "      <th>b2_pt</th>\n",
       "      <th>l_E</th>\n",
       "      <th>l_eta</th>\n",
       "      <th>...</th>\n",
       "      <th>v_pt</th>\n",
       "      <th>y1_E</th>\n",
       "      <th>y1_eta</th>\n",
       "      <th>y1_phi</th>\n",
       "      <th>y1_pt</th>\n",
       "      <th>y2_E</th>\n",
       "      <th>y2_eta</th>\n",
       "      <th>y2_phi</th>\n",
       "      <th>y2_pt</th>\n",
       "      <th>isSignal</th>\n",
       "    </tr>\n",
       "  </thead>\n",
       "  <tbody>\n",
       "    <tr>\n",
       "      <td>0</td>\n",
       "      <td>132.736997</td>\n",
       "      <td>-0.609871</td>\n",
       "      <td>-1.463024</td>\n",
       "      <td>110.815859</td>\n",
       "      <td>246.633080</td>\n",
       "      <td>-1.939831</td>\n",
       "      <td>2.745613</td>\n",
       "      <td>69.378273</td>\n",
       "      <td>37.394877</td>\n",
       "      <td>-1.112899</td>\n",
       "      <td>...</td>\n",
       "      <td>103.257154</td>\n",
       "      <td>310.517525</td>\n",
       "      <td>-1.715745</td>\n",
       "      <td>2.172274</td>\n",
       "      <td>108.182078</td>\n",
       "      <td>175.790546</td>\n",
       "      <td>-1.858784</td>\n",
       "      <td>-1.489195</td>\n",
       "      <td>53.498523</td>\n",
       "      <td>0</td>\n",
       "    </tr>\n",
       "    <tr>\n",
       "      <td>1</td>\n",
       "      <td>364.893774</td>\n",
       "      <td>1.872181</td>\n",
       "      <td>2.970081</td>\n",
       "      <td>109.575664</td>\n",
       "      <td>84.255225</td>\n",
       "      <td>1.793831</td>\n",
       "      <td>-0.386887</td>\n",
       "      <td>27.258199</td>\n",
       "      <td>226.964559</td>\n",
       "      <td>-1.307090</td>\n",
       "      <td>...</td>\n",
       "      <td>38.634093</td>\n",
       "      <td>98.882694</td>\n",
       "      <td>-0.988896</td>\n",
       "      <td>0.870928</td>\n",
       "      <td>64.623898</td>\n",
       "      <td>50.032459</td>\n",
       "      <td>0.191539</td>\n",
       "      <td>-2.470428</td>\n",
       "      <td>49.128504</td>\n",
       "      <td>0</td>\n",
       "    </tr>\n",
       "    <tr>\n",
       "      <td>2</td>\n",
       "      <td>79.282197</td>\n",
       "      <td>0.171509</td>\n",
       "      <td>2.456722</td>\n",
       "      <td>77.328781</td>\n",
       "      <td>48.250670</td>\n",
       "      <td>0.038036</td>\n",
       "      <td>0.108305</td>\n",
       "      <td>47.582852</td>\n",
       "      <td>355.603504</td>\n",
       "      <td>1.633389</td>\n",
       "      <td>...</td>\n",
       "      <td>71.793734</td>\n",
       "      <td>103.449644</td>\n",
       "      <td>0.062441</td>\n",
       "      <td>1.192180</td>\n",
       "      <td>103.248305</td>\n",
       "      <td>121.501450</td>\n",
       "      <td>1.356279</td>\n",
       "      <td>-2.454304</td>\n",
       "      <td>58.705703</td>\n",
       "      <td>0</td>\n",
       "    </tr>\n",
       "    <tr>\n",
       "      <td>3</td>\n",
       "      <td>77.472226</td>\n",
       "      <td>0.704273</td>\n",
       "      <td>-1.373354</td>\n",
       "      <td>61.253020</td>\n",
       "      <td>59.606468</td>\n",
       "      <td>-0.375026</td>\n",
       "      <td>1.101116</td>\n",
       "      <td>55.183047</td>\n",
       "      <td>83.227529</td>\n",
       "      <td>-0.132635</td>\n",
       "      <td>...</td>\n",
       "      <td>63.542676</td>\n",
       "      <td>135.616847</td>\n",
       "      <td>0.020566</td>\n",
       "      <td>1.460354</td>\n",
       "      <td>135.588172</td>\n",
       "      <td>58.010096</td>\n",
       "      <td>0.975011</td>\n",
       "      <td>-2.500511</td>\n",
       "      <td>38.310918</td>\n",
       "      <td>0</td>\n",
       "    </tr>\n",
       "    <tr>\n",
       "      <td>4</td>\n",
       "      <td>147.248974</td>\n",
       "      <td>0.793082</td>\n",
       "      <td>-1.283565</td>\n",
       "      <td>110.137828</td>\n",
       "      <td>90.419290</td>\n",
       "      <td>-0.333846</td>\n",
       "      <td>-2.772494</td>\n",
       "      <td>84.869703</td>\n",
       "      <td>82.063981</td>\n",
       "      <td>2.495936</td>\n",
       "      <td>...</td>\n",
       "      <td>52.383957</td>\n",
       "      <td>58.658452</td>\n",
       "      <td>-0.043197</td>\n",
       "      <td>0.529383</td>\n",
       "      <td>58.603766</td>\n",
       "      <td>172.480902</td>\n",
       "      <td>1.795131</td>\n",
       "      <td>0.982727</td>\n",
       "      <td>55.761609</td>\n",
       "      <td>1</td>\n",
       "    </tr>\n",
       "    <tr>\n",
       "      <td>...</td>\n",
       "      <td>...</td>\n",
       "      <td>...</td>\n",
       "      <td>...</td>\n",
       "      <td>...</td>\n",
       "      <td>...</td>\n",
       "      <td>...</td>\n",
       "      <td>...</td>\n",
       "      <td>...</td>\n",
       "      <td>...</td>\n",
       "      <td>...</td>\n",
       "      <td>...</td>\n",
       "      <td>...</td>\n",
       "      <td>...</td>\n",
       "      <td>...</td>\n",
       "      <td>...</td>\n",
       "      <td>...</td>\n",
       "      <td>...</td>\n",
       "      <td>...</td>\n",
       "      <td>...</td>\n",
       "      <td>...</td>\n",
       "      <td>...</td>\n",
       "    </tr>\n",
       "    <tr>\n",
       "      <td>22207</td>\n",
       "      <td>129.531026</td>\n",
       "      <td>-0.807164</td>\n",
       "      <td>1.433119</td>\n",
       "      <td>96.212383</td>\n",
       "      <td>30.224470</td>\n",
       "      <td>0.345318</td>\n",
       "      <td>-2.160728</td>\n",
       "      <td>28.284900</td>\n",
       "      <td>84.752191</td>\n",
       "      <td>-0.674471</td>\n",
       "      <td>...</td>\n",
       "      <td>43.299827</td>\n",
       "      <td>160.308702</td>\n",
       "      <td>-1.163301</td>\n",
       "      <td>-1.025964</td>\n",
       "      <td>91.267672</td>\n",
       "      <td>61.143737</td>\n",
       "      <td>-0.250201</td>\n",
       "      <td>1.865960</td>\n",
       "      <td>59.278602</td>\n",
       "      <td>0</td>\n",
       "    </tr>\n",
       "    <tr>\n",
       "      <td>22208</td>\n",
       "      <td>85.141599</td>\n",
       "      <td>0.410484</td>\n",
       "      <td>-0.153539</td>\n",
       "      <td>77.779188</td>\n",
       "      <td>46.351764</td>\n",
       "      <td>-1.204555</td>\n",
       "      <td>-0.763998</td>\n",
       "      <td>25.380713</td>\n",
       "      <td>16.786577</td>\n",
       "      <td>-0.114362</td>\n",
       "      <td>...</td>\n",
       "      <td>30.819844</td>\n",
       "      <td>35.669460</td>\n",
       "      <td>0.535167</td>\n",
       "      <td>1.143044</td>\n",
       "      <td>31.107480</td>\n",
       "      <td>35.785370</td>\n",
       "      <td>-0.883901</td>\n",
       "      <td>-2.346415</td>\n",
       "      <td>25.258852</td>\n",
       "      <td>0</td>\n",
       "    </tr>\n",
       "    <tr>\n",
       "      <td>22209</td>\n",
       "      <td>67.165057</td>\n",
       "      <td>0.740692</td>\n",
       "      <td>-2.741274</td>\n",
       "      <td>51.823949</td>\n",
       "      <td>98.627122</td>\n",
       "      <td>1.691992</td>\n",
       "      <td>0.646770</td>\n",
       "      <td>35.042875</td>\n",
       "      <td>42.224973</td>\n",
       "      <td>-0.133868</td>\n",
       "      <td>...</td>\n",
       "      <td>56.236399</td>\n",
       "      <td>151.806692</td>\n",
       "      <td>0.942312</td>\n",
       "      <td>-0.308005</td>\n",
       "      <td>102.723625</td>\n",
       "      <td>99.861199</td>\n",
       "      <td>1.763834</td>\n",
       "      <td>-2.864912</td>\n",
       "      <td>33.252988</td>\n",
       "      <td>1</td>\n",
       "    </tr>\n",
       "    <tr>\n",
       "      <td>22210</td>\n",
       "      <td>58.790108</td>\n",
       "      <td>0.272849</td>\n",
       "      <td>2.369912</td>\n",
       "      <td>55.672387</td>\n",
       "      <td>171.902522</td>\n",
       "      <td>-1.970145</td>\n",
       "      <td>1.006234</td>\n",
       "      <td>47.011543</td>\n",
       "      <td>94.884405</td>\n",
       "      <td>-1.059606</td>\n",
       "      <td>...</td>\n",
       "      <td>108.384711</td>\n",
       "      <td>81.511388</td>\n",
       "      <td>-0.200120</td>\n",
       "      <td>0.681287</td>\n",
       "      <td>79.906008</td>\n",
       "      <td>75.354824</td>\n",
       "      <td>0.287816</td>\n",
       "      <td>-1.091146</td>\n",
       "      <td>72.337914</td>\n",
       "      <td>1</td>\n",
       "    </tr>\n",
       "    <tr>\n",
       "      <td>22211</td>\n",
       "      <td>147.329940</td>\n",
       "      <td>-0.912744</td>\n",
       "      <td>-1.298361</td>\n",
       "      <td>101.440148</td>\n",
       "      <td>28.754564</td>\n",
       "      <td>-0.447717</td>\n",
       "      <td>0.293687</td>\n",
       "      <td>25.741041</td>\n",
       "      <td>262.044887</td>\n",
       "      <td>-2.066339</td>\n",
       "      <td>...</td>\n",
       "      <td>111.989240</td>\n",
       "      <td>120.713617</td>\n",
       "      <td>-0.600986</td>\n",
       "      <td>-2.941148</td>\n",
       "      <td>101.774109</td>\n",
       "      <td>44.060753</td>\n",
       "      <td>0.652566</td>\n",
       "      <td>2.681806</td>\n",
       "      <td>36.098051</td>\n",
       "      <td>0</td>\n",
       "    </tr>\n",
       "  </tbody>\n",
       "</table>\n",
       "<p>22212 rows × 33 columns</p>\n",
       "</div>"
      ],
      "text/plain": [
       "             b1_E    b1_eta    b1_phi       b1_pt        b2_E    b2_eta  \\\n",
       "0      132.736997 -0.609871 -1.463024  110.815859  246.633080 -1.939831   \n",
       "1      364.893774  1.872181  2.970081  109.575664   84.255225  1.793831   \n",
       "2       79.282197  0.171509  2.456722   77.328781   48.250670  0.038036   \n",
       "3       77.472226  0.704273 -1.373354   61.253020   59.606468 -0.375026   \n",
       "4      147.248974  0.793082 -1.283565  110.137828   90.419290 -0.333846   \n",
       "...           ...       ...       ...         ...         ...       ...   \n",
       "22207  129.531026 -0.807164  1.433119   96.212383   30.224470  0.345318   \n",
       "22208   85.141599  0.410484 -0.153539   77.779188   46.351764 -1.204555   \n",
       "22209   67.165057  0.740692 -2.741274   51.823949   98.627122  1.691992   \n",
       "22210   58.790108  0.272849  2.369912   55.672387  171.902522 -1.970145   \n",
       "22211  147.329940 -0.912744 -1.298361  101.440148   28.754564 -0.447717   \n",
       "\n",
       "         b2_phi      b2_pt         l_E     l_eta  ...        v_pt        y1_E  \\\n",
       "0      2.745613  69.378273   37.394877 -1.112899  ...  103.257154  310.517525   \n",
       "1     -0.386887  27.258199  226.964559 -1.307090  ...   38.634093   98.882694   \n",
       "2      0.108305  47.582852  355.603504  1.633389  ...   71.793734  103.449644   \n",
       "3      1.101116  55.183047   83.227529 -0.132635  ...   63.542676  135.616847   \n",
       "4     -2.772494  84.869703   82.063981  2.495936  ...   52.383957   58.658452   \n",
       "...         ...        ...         ...       ...  ...         ...         ...   \n",
       "22207 -2.160728  28.284900   84.752191 -0.674471  ...   43.299827  160.308702   \n",
       "22208 -0.763998  25.380713   16.786577 -0.114362  ...   30.819844   35.669460   \n",
       "22209  0.646770  35.042875   42.224973 -0.133868  ...   56.236399  151.806692   \n",
       "22210  1.006234  47.011543   94.884405 -1.059606  ...  108.384711   81.511388   \n",
       "22211  0.293687  25.741041  262.044887 -2.066339  ...  111.989240  120.713617   \n",
       "\n",
       "         y1_eta    y1_phi       y1_pt        y2_E    y2_eta    y2_phi  \\\n",
       "0     -1.715745  2.172274  108.182078  175.790546 -1.858784 -1.489195   \n",
       "1     -0.988896  0.870928   64.623898   50.032459  0.191539 -2.470428   \n",
       "2      0.062441  1.192180  103.248305  121.501450  1.356279 -2.454304   \n",
       "3      0.020566  1.460354  135.588172   58.010096  0.975011 -2.500511   \n",
       "4     -0.043197  0.529383   58.603766  172.480902  1.795131  0.982727   \n",
       "...         ...       ...         ...         ...       ...       ...   \n",
       "22207 -1.163301 -1.025964   91.267672   61.143737 -0.250201  1.865960   \n",
       "22208  0.535167  1.143044   31.107480   35.785370 -0.883901 -2.346415   \n",
       "22209  0.942312 -0.308005  102.723625   99.861199  1.763834 -2.864912   \n",
       "22210 -0.200120  0.681287   79.906008   75.354824  0.287816 -1.091146   \n",
       "22211 -0.600986 -2.941148  101.774109   44.060753  0.652566  2.681806   \n",
       "\n",
       "           y2_pt  isSignal  \n",
       "0      53.498523         0  \n",
       "1      49.128504         0  \n",
       "2      58.705703         0  \n",
       "3      38.310918         0  \n",
       "4      55.761609         1  \n",
       "...          ...       ...  \n",
       "22207  59.278602         0  \n",
       "22208  25.258852         0  \n",
       "22209  33.252988         1  \n",
       "22210  72.337914         1  \n",
       "22211  36.098051         0  \n",
       "\n",
       "[22212 rows x 33 columns]"
      ]
     },
     "execution_count": 19,
     "metadata": {},
     "output_type": "execute_result"
    }
   ],
   "source": [
    "# sample signal: alpha = 30\n",
    "S2 = s2.sample(b.shape[0], random_state=42)\n",
    "\n",
    "# training dataset\n",
    "train2 = pd.concat([S2,b])\n",
    "\n",
    "# Shuffle training dataset\n",
    "train2 = shuffle(train2,random_state=42).reset_index(drop=True)\n",
    "train2"
   ]
  },
  {
   "cell_type": "code",
   "execution_count": 20,
   "metadata": {},
   "outputs": [
    {
     "name": "stdout",
     "output_type": "stream",
     "text": [
      "(15548, 32) (15548,) (6664, 32) (6664,)\n"
     ]
    }
   ],
   "source": [
    "# Standardize\n",
    "sc2 = preprocessing . StandardScaler ()\n",
    "input_data2 = sc2 . fit_transform ( train2[c0[0:32]] )\n",
    "target2 = train2['isSignal']\n",
    "\n",
    "# train - test split of dataset\n",
    "train_data2 , test_data2 , train_target2 , test_target2 = model_selection . train_test_split (\\\n",
    "input_data2 , target2 , test_size =0.3 , random_state = Answer_to_all_questions )\n",
    "# Check shape\n",
    "print ( train_data2 . shape , train_target2 . shape , test_data2 . shape , test_target2 . shape )"
   ]
  },
  {
   "cell_type": "code",
   "execution_count": 41,
   "metadata": {
    "scrolled": true
   },
   "outputs": [
    {
     "name": "stdout",
     "output_type": "stream",
     "text": [
      "Train on 15548 samples, validate on 6664 samples\n",
      "Epoch 1/300\n",
      "15548/15548 [==============================] - ETA: 7s - loss: 0.6968 - acc: 0.436 - ETA: 0s - loss: 0.6911 - acc: 0.532 - ETA: 0s - loss: 0.6801 - acc: 0.566 - 0s 27us/sample - loss: 0.6669 - acc: 0.5888 - val_loss: 0.6369 - val_acc: 0.6276\n",
      "Epoch 2/300\n",
      "15548/15548 [==============================] - ETA: 0s - loss: 0.6554 - acc: 0.633 - ETA: 0s - loss: 0.6339 - acc: 0.642 - ETA: 0s - loss: 0.6311 - acc: 0.640 - 0s 13us/sample - loss: 0.6313 - acc: 0.6407 - val_loss: 0.6245 - val_acc: 0.6402\n",
      "Epoch 3/300\n",
      "15548/15548 [==============================] - ETA: 0s - loss: 0.6149 - acc: 0.656 - ETA: 0s - loss: 0.6218 - acc: 0.656 - ETA: 0s - loss: 0.6218 - acc: 0.656 - ETA: 0s - loss: 0.6202 - acc: 0.656 - 0s 15us/sample - loss: 0.6213 - acc: 0.6555 - val_loss: 0.6224 - val_acc: 0.6459\n",
      "Epoch 4/300\n",
      "15548/15548 [==============================] - ETA: 0s - loss: 0.6195 - acc: 0.620 - ETA: 0s - loss: 0.6116 - acc: 0.659 - ETA: 0s - loss: 0.6156 - acc: 0.661 - ETA: 0s - loss: 0.6133 - acc: 0.663 - 0s 15us/sample - loss: 0.6142 - acc: 0.6624 - val_loss: 0.6135 - val_acc: 0.6594\n",
      "Epoch 5/300\n",
      "15548/15548 [==============================] - ETA: 0s - loss: 0.5821 - acc: 0.710 - ETA: 0s - loss: 0.6108 - acc: 0.664 - ETA: 0s - loss: 0.6109 - acc: 0.663 - 0s 11us/sample - loss: 0.6109 - acc: 0.6656 - val_loss: 0.6096 - val_acc: 0.6594\n",
      "Epoch 6/300\n",
      "15548/15548 [==============================] - ETA: 0s - loss: 0.6133 - acc: 0.650 - ETA: 0s - loss: 0.6083 - acc: 0.665 - ETA: 0s - loss: 0.6039 - acc: 0.672 - ETA: 0s - loss: 0.6029 - acc: 0.669 - 0s 13us/sample - loss: 0.6028 - acc: 0.6695 - val_loss: 0.6131 - val_acc: 0.6546\n",
      "Epoch 7/300\n",
      "15548/15548 [==============================] - ETA: 0s - loss: 0.6025 - acc: 0.670 - ETA: 0s - loss: 0.6114 - acc: 0.666 - ETA: 0s - loss: 0.5980 - acc: 0.675 - ETA: 0s - loss: 0.5995 - acc: 0.672 - 0s 13us/sample - loss: 0.5993 - acc: 0.6720 - val_loss: 0.6021 - val_acc: 0.6622\n",
      "Epoch 8/300\n",
      "15548/15548 [==============================] - ETA: 0s - loss: 0.5431 - acc: 0.753 - ETA: 0s - loss: 0.5888 - acc: 0.682 - ETA: 0s - loss: 0.5908 - acc: 0.676 - 0s 11us/sample - loss: 0.5914 - acc: 0.6760 - val_loss: 0.5933 - val_acc: 0.6700\n",
      "Epoch 9/300\n",
      "15548/15548 [==============================] - ETA: 0s - loss: 0.5588 - acc: 0.740 - ETA: 0s - loss: 0.5765 - acc: 0.693 - ETA: 0s - loss: 0.5849 - acc: 0.683 - 0s 12us/sample - loss: 0.5857 - acc: 0.6788 - val_loss: 0.5883 - val_acc: 0.6706\n",
      "Epoch 10/300\n",
      "15548/15548 [==============================] - ETA: 0s - loss: 0.5620 - acc: 0.673 - ETA: 0s - loss: 0.5773 - acc: 0.685 - ETA: 0s - loss: 0.5835 - acc: 0.679 - 0s 11us/sample - loss: 0.5818 - acc: 0.6809 - val_loss: 0.5851 - val_acc: 0.6775\n",
      "Epoch 11/300\n",
      "15548/15548 [==============================] - ETA: 0s - loss: 0.5724 - acc: 0.696 - ETA: 0s - loss: 0.5760 - acc: 0.688 - ETA: 0s - loss: 0.5768 - acc: 0.687 - ETA: 0s - loss: 0.5753 - acc: 0.685 - 0s 16us/sample - loss: 0.5753 - acc: 0.6846 - val_loss: 0.5800 - val_acc: 0.6771\n",
      "Epoch 12/300\n",
      "15548/15548 [==============================] - ETA: 0s - loss: 0.5543 - acc: 0.706 - ETA: 0s - loss: 0.5744 - acc: 0.680 - ETA: 0s - loss: 0.5795 - acc: 0.677 - ETA: 0s - loss: 0.5761 - acc: 0.681 - 0s 14us/sample - loss: 0.5755 - acc: 0.6817 - val_loss: 0.5793 - val_acc: 0.6828\n",
      "Epoch 13/300\n",
      "15548/15548 [==============================] - ETA: 0s - loss: 0.5450 - acc: 0.723 - ETA: 0s - loss: 0.5687 - acc: 0.691 - ETA: 0s - loss: 0.5685 - acc: 0.689 - 0s 12us/sample - loss: 0.5705 - acc: 0.6906 - val_loss: 0.5821 - val_acc: 0.6781\n",
      "Epoch 14/300\n",
      "15548/15548 [==============================] - ETA: 0s - loss: 0.5754 - acc: 0.713 - ETA: 0s - loss: 0.5606 - acc: 0.692 - ETA: 0s - loss: 0.5636 - acc: 0.692 - 0s 11us/sample - loss: 0.5664 - acc: 0.6904 - val_loss: 0.5731 - val_acc: 0.6771\n",
      "Epoch 15/300\n",
      "15548/15548 [==============================] - ETA: 0s - loss: 0.6049 - acc: 0.676 - ETA: 0s - loss: 0.5674 - acc: 0.694 - ETA: 0s - loss: 0.5632 - acc: 0.697 - 0s 12us/sample - loss: 0.5626 - acc: 0.6941 - val_loss: 0.5748 - val_acc: 0.6735\n",
      "Epoch 16/300\n",
      "15548/15548 [==============================] - ETA: 0s - loss: 0.5560 - acc: 0.680 - ETA: 0s - loss: 0.5603 - acc: 0.693 - ETA: 0s - loss: 0.5566 - acc: 0.697 - ETA: 0s - loss: 0.5588 - acc: 0.698 - 0s 14us/sample - loss: 0.5592 - acc: 0.6983 - val_loss: 0.5739 - val_acc: 0.6778\n",
      "Epoch 17/300\n",
      "15548/15548 [==============================] - ETA: 0s - loss: 0.5184 - acc: 0.723 - ETA: 0s - loss: 0.5463 - acc: 0.709 - ETA: 0s - loss: 0.5524 - acc: 0.700 - ETA: 0s - loss: 0.5566 - acc: 0.701 - 0s 13us/sample - loss: 0.5553 - acc: 0.7022 - val_loss: 0.5710 - val_acc: 0.6786\n",
      "Epoch 18/300\n",
      "15548/15548 [==============================] - ETA: 0s - loss: 0.5485 - acc: 0.710 - ETA: 0s - loss: 0.5552 - acc: 0.693 - ETA: 0s - loss: 0.5507 - acc: 0.701 - 0s 12us/sample - loss: 0.5519 - acc: 0.7003 - val_loss: 0.5711 - val_acc: 0.6790\n",
      "Epoch 19/300\n",
      "15548/15548 [==============================] - ETA: 0s - loss: 0.5544 - acc: 0.643 - ETA: 0s - loss: 0.5507 - acc: 0.702 - ETA: 0s - loss: 0.5491 - acc: 0.705 - 0s 13us/sample - loss: 0.5486 - acc: 0.7060 - val_loss: 0.5688 - val_acc: 0.6799\n",
      "Epoch 20/300\n",
      "15548/15548 [==============================] - ETA: 0s - loss: 0.5563 - acc: 0.670 - ETA: 0s - loss: 0.5476 - acc: 0.700 - ETA: 0s - loss: 0.5476 - acc: 0.703 - ETA: 0s - loss: 0.5487 - acc: 0.702 - 0s 14us/sample - loss: 0.5496 - acc: 0.7021 - val_loss: 0.5703 - val_acc: 0.6781\n",
      "Epoch 21/300\n",
      "15548/15548 [==============================] - ETA: 0s - loss: 0.5255 - acc: 0.746 - ETA: 0s - loss: 0.5460 - acc: 0.708 - ETA: 0s - loss: 0.5502 - acc: 0.707 - 0s 12us/sample - loss: 0.5476 - acc: 0.7084 - val_loss: 0.5708 - val_acc: 0.6825\n",
      "Epoch 22/300\n",
      "15548/15548 [==============================] - ETA: 0s - loss: 0.5480 - acc: 0.693 - ETA: 0s - loss: 0.5367 - acc: 0.710 - ETA: 0s - loss: 0.5409 - acc: 0.709 - 0s 12us/sample - loss: 0.5422 - acc: 0.7089 - val_loss: 0.5657 - val_acc: 0.6840\n",
      "Epoch 23/300\n",
      "15548/15548 [==============================] - ETA: 0s - loss: 0.5269 - acc: 0.710 - ETA: 0s - loss: 0.5311 - acc: 0.715 - ETA: 0s - loss: 0.5367 - acc: 0.713 - 0s 11us/sample - loss: 0.5379 - acc: 0.7130 - val_loss: 0.5694 - val_acc: 0.6790\n",
      "Epoch 24/300\n",
      "15548/15548 [==============================] - ETA: 0s - loss: 0.5136 - acc: 0.723 - ETA: 0s - loss: 0.5343 - acc: 0.717 - ETA: 0s - loss: 0.5338 - acc: 0.717 - 0s 12us/sample - loss: 0.5348 - acc: 0.7173 - val_loss: 0.5692 - val_acc: 0.6810\n",
      "Epoch 25/300\n",
      "15548/15548 [==============================] - ETA: 0s - loss: 0.4946 - acc: 0.740 - ETA: 0s - loss: 0.5244 - acc: 0.725 - ETA: 0s - loss: 0.5297 - acc: 0.720 - 0s 11us/sample - loss: 0.5321 - acc: 0.7174 - val_loss: 0.5711 - val_acc: 0.6838\n",
      "Epoch 26/300\n",
      "15548/15548 [==============================] - ETA: 0s - loss: 0.4987 - acc: 0.733 - ETA: 0s - loss: 0.5249 - acc: 0.722 - ETA: 0s - loss: 0.5311 - acc: 0.717 - ETA: 0s - loss: 0.5334 - acc: 0.717 - 0s 14us/sample - loss: 0.5340 - acc: 0.7166 - val_loss: 0.5708 - val_acc: 0.6807\n",
      "Epoch 27/300\n",
      "15548/15548 [==============================] - ETA: 0s - loss: 0.5363 - acc: 0.700 - ETA: 0s - loss: 0.5365 - acc: 0.715 - ETA: 0s - loss: 0.5341 - acc: 0.715 - ETA: 0s - loss: 0.5326 - acc: 0.715 - 0s 14us/sample - loss: 0.5329 - acc: 0.7161 - val_loss: 0.5705 - val_acc: 0.6792\n",
      "Epoch 28/300\n",
      "15548/15548 [==============================] - ETA: 0s - loss: 0.5272 - acc: 0.710 - ETA: 0s - loss: 0.5242 - acc: 0.725 - ETA: 0s - loss: 0.5271 - acc: 0.721 - ETA: 0s - loss: 0.5283 - acc: 0.721 - 0s 13us/sample - loss: 0.5284 - acc: 0.7213 - val_loss: 0.5669 - val_acc: 0.6853\n",
      "Epoch 29/300\n",
      "15548/15548 [==============================] - ETA: 0s - loss: 0.5513 - acc: 0.670 - ETA: 0s - loss: 0.5192 - acc: 0.724 - ETA: 0s - loss: 0.5236 - acc: 0.723 - ETA: 0s - loss: 0.5245 - acc: 0.720 - 0s 12us/sample - loss: 0.5247 - acc: 0.7203 - val_loss: 0.5727 - val_acc: 0.6817\n",
      "Epoch 30/300\n",
      "15548/15548 [==============================] - ETA: 0s - loss: 0.5182 - acc: 0.730 - ETA: 0s - loss: 0.5182 - acc: 0.730 - ETA: 0s - loss: 0.5209 - acc: 0.729 - 0s 12us/sample - loss: 0.5229 - acc: 0.7282 - val_loss: 0.5696 - val_acc: 0.6838\n"
     ]
    },
    {
     "name": "stdout",
     "output_type": "stream",
     "text": [
      "Epoch 31/300\n",
      "15548/15548 [==============================] - ETA: 0s - loss: 0.5245 - acc: 0.716 - ETA: 0s - loss: 0.5193 - acc: 0.731 - ETA: 0s - loss: 0.5174 - acc: 0.733 - 0s 12us/sample - loss: 0.5210 - acc: 0.7291 - val_loss: 0.5710 - val_acc: 0.6768\n",
      "Epoch 32/300\n",
      "15548/15548 [==============================] - ETA: 0s - loss: 0.5203 - acc: 0.696 - ETA: 0s - loss: 0.5107 - acc: 0.731 - ETA: 0s - loss: 0.5194 - acc: 0.728 - 0s 13us/sample - loss: 0.5188 - acc: 0.7292 - val_loss: 0.5696 - val_acc: 0.6814\n",
      "Epoch 33/300\n",
      "15548/15548 [==============================] - ETA: 0s - loss: 0.4851 - acc: 0.746 - ETA: 0s - loss: 0.5158 - acc: 0.736 - ETA: 0s - loss: 0.5140 - acc: 0.730 - 0s 11us/sample - loss: 0.5189 - acc: 0.7288 - val_loss: 0.5706 - val_acc: 0.6850\n",
      "Epoch 34/300\n",
      "15548/15548 [==============================] - ETA: 0s - loss: 0.4954 - acc: 0.766 - ETA: 0s - loss: 0.5116 - acc: 0.737 - ETA: 0s - loss: 0.5130 - acc: 0.735 - 0s 11us/sample - loss: 0.5156 - acc: 0.7320 - val_loss: 0.5678 - val_acc: 0.6802\n",
      "Epoch 35/300\n",
      "15548/15548 [==============================] - ETA: 0s - loss: 0.5184 - acc: 0.723 - ETA: 0s - loss: 0.5067 - acc: 0.740 - ETA: 0s - loss: 0.5049 - acc: 0.737 - ETA: 0s - loss: 0.5112 - acc: 0.735 - 0s 13us/sample - loss: 0.5120 - acc: 0.7346 - val_loss: 0.5721 - val_acc: 0.6772\n",
      "Epoch 36/300\n",
      "15548/15548 [==============================] - ETA: 0s - loss: 0.5049 - acc: 0.706 - ETA: 0s - loss: 0.5005 - acc: 0.743 - ETA: 0s - loss: 0.5047 - acc: 0.741 - 0s 13us/sample - loss: 0.5062 - acc: 0.7412 - val_loss: 0.5714 - val_acc: 0.6789\n",
      "Epoch 37/300\n",
      "15548/15548 [==============================] - ETA: 0s - loss: 0.4666 - acc: 0.763 - ETA: 0s - loss: 0.5058 - acc: 0.743 - ETA: 0s - loss: 0.5022 - acc: 0.743 - 0s 12us/sample - loss: 0.5068 - acc: 0.7390 - val_loss: 0.5707 - val_acc: 0.6814\n",
      "Epoch 38/300\n",
      "15548/15548 [==============================] - ETA: 0s - loss: 0.4904 - acc: 0.750 - ETA: 0s - loss: 0.5007 - acc: 0.743 - ETA: 0s - loss: 0.5021 - acc: 0.739 - 0s 11us/sample - loss: 0.5044 - acc: 0.7398 - val_loss: 0.5755 - val_acc: 0.6798\n",
      "Epoch 39/300\n",
      "15548/15548 [==============================] - ETA: 0s - loss: 0.4761 - acc: 0.746 - ETA: 0s - loss: 0.5105 - acc: 0.738 - ETA: 0s - loss: 0.5069 - acc: 0.740 - 0s 12us/sample - loss: 0.5084 - acc: 0.7403 - val_loss: 0.5806 - val_acc: 0.6787\n",
      "Epoch 40/300\n",
      "15548/15548 [==============================] - ETA: 0s - loss: 0.4769 - acc: 0.743 - ETA: 0s - loss: 0.4923 - acc: 0.747 - ETA: 0s - loss: 0.4932 - acc: 0.747 - 0s 12us/sample - loss: 0.5023 - acc: 0.7413 - val_loss: 0.5700 - val_acc: 0.6808\n",
      "Epoch 41/300\n",
      "15548/15548 [==============================] - ETA: 0s - loss: 0.5024 - acc: 0.710 - ETA: 0s - loss: 0.5019 - acc: 0.739 - ETA: 0s - loss: 0.4989 - acc: 0.742 - 0s 12us/sample - loss: 0.5007 - acc: 0.7417 - val_loss: 0.5747 - val_acc: 0.6804\n",
      "Epoch 42/300\n",
      "15548/15548 [==============================] - ETA: 0s - loss: 0.4969 - acc: 0.756 - ETA: 0s - loss: 0.4908 - acc: 0.751 - ETA: 0s - loss: 0.5002 - acc: 0.742 - ETA: 0s - loss: 0.5000 - acc: 0.744 - 0s 12us/sample - loss: 0.4999 - acc: 0.7452 - val_loss: 0.5725 - val_acc: 0.6817\n",
      "Epoch 43/300\n",
      "15548/15548 [==============================] - ETA: 0s - loss: 0.4750 - acc: 0.773 - ETA: 0s - loss: 0.4958 - acc: 0.750 - ETA: 0s - loss: 0.4974 - acc: 0.746 - 0s 12us/sample - loss: 0.4969 - acc: 0.7465 - val_loss: 0.5775 - val_acc: 0.6792\n",
      "Epoch 00043: early stopping\n"
     ]
    }
   ],
   "source": [
    "# train\n",
    "model2 = my_model(32,100,2)\n",
    "history2 =  model2. fit ( train_data2 , train_target2 , batch_size = 300 , epochs = 300 , verbose =1 , validation_data =( test_data2 , test_target2 ) , callbacks = callbacks_ )"
   ]
  },
  {
   "cell_type": "code",
   "execution_count": 42,
   "metadata": {},
   "outputs": [
    {
     "data": {
      "image/png": "[encoded data removed]",
      "text/plain": [
       "<Figure size 720x360 with 1 Axes>"
      ]
     },
     "metadata": {
      "needs_background": "light"
     },
     "output_type": "display_data"
    }
   ],
   "source": [
    "# Loss\n",
    "lossplot(history2.history['loss'], scale='log');"
   ]
  },
  {
   "cell_type": "code",
   "execution_count": 43,
   "metadata": {},
   "outputs": [
    {
     "data": {
      "image/png": "[encoded data removed]",
      "text/plain": [
       "<Figure size 720x360 with 1 Axes>"
      ]
     },
     "metadata": {
      "needs_background": "light"
     },
     "output_type": "display_data"
    }
   ],
   "source": [
    "# Accuracy\n",
    "accplot(history2.history['val_acc'], scale='linear')"
   ]
  },
  {
   "cell_type": "code",
   "execution_count": 44,
   "metadata": {},
   "outputs": [
    {
     "data": {
      "image/png": "[encoded data removed]",
      "text/plain": [
       "<Figure size 432x288 with 2 Axes>"
      ]
     },
     "metadata": {
      "needs_background": "light"
     },
     "output_type": "display_data"
    }
   ],
   "source": [
    "# Predictions\n",
    "pred2 = model2.predict(test_data2)\n",
    "\n",
    "# Convert probabilities into binary outputs\n",
    "bi = []\n",
    "p = []\n",
    "for i in pred2:\n",
    "    if i[0]>0.5:\n",
    "        bi.append(1)\n",
    "        p.append(i[0])\n",
    "    else:\n",
    "        bi.append(0)\n",
    "        p.append(i[0])\n",
    "        \n",
    "# Define confusion matrix and classes\n",
    "cm = confusion_matrix(test_target2.tolist(),bi)\n",
    "classes=[0,1]\n",
    "\n",
    "# Plot heat map\n",
    "heatmap(cm,normalize=True,labels=['predicted','true'],classes=[['0','1'],['0','1']])"
   ]
  },
  {
   "cell_type": "code",
   "execution_count": 45,
   "metadata": {},
   "outputs": [
    {
     "data": {
      "image/png": "[encoded data removed]",
      "text/plain": [
       "<Figure size 432x288 with 1 Axes>"
      ]
     },
     "metadata": {
      "needs_background": "light"
     },
     "output_type": "display_data"
    }
   ],
   "source": [
    "# Calculate false positive rate and true positive rate\n",
    "fpr, tpr, threshold = roc_curve(test_target2, pred2)\n",
    "roc_auc = metrics.auc(fpr, tpr)\n",
    "# Plot ROC curve\n",
    "plt.title('Receiver Operating Characteristic')\n",
    "plt.plot(fpr, tpr, 'b', label = 'AUC = %0.2f' % roc_auc)\n",
    "plt.legend(loc = 'lower right')\n",
    "plt.plot([0, 1], [0, 1],'r--')\n",
    "plt.xlim([0, 1])\n",
    "plt.ylim([0, 1])\n",
    "plt.ylabel('True Positive Rate')\n",
    "plt.xlabel('False Positive Rate')\n",
    "plt.show()"
   ]
  },
  {
   "cell_type": "markdown",
   "metadata": {},
   "source": [
    "## CP60 vs. background"
   ]
  },
  {
   "cell_type": "code",
   "execution_count": 26,
   "metadata": {},
   "outputs": [],
   "source": [
    "# sample signal: alpha = 30\n",
    "S3 = s3.sample(b.shape[0], random_state=42)\n",
    "\n",
    "# training dataset\n",
    "train3 = pd.concat([S3,b])\n",
    "\n",
    "# Shuffle training dataset\n",
    "train3 = shuffle(train3,random_state=42).reset_index(drop=True)"
   ]
  },
  {
   "cell_type": "code",
   "execution_count": 27,
   "metadata": {},
   "outputs": [
    {
     "name": "stdout",
     "output_type": "stream",
     "text": [
      "(15548, 32) (15548,) (6664, 32) (6664,)\n"
     ]
    }
   ],
   "source": [
    "# Standardize\n",
    "sc3 = preprocessing . StandardScaler ()\n",
    "input_data3 = sc3 . fit_transform ( train3[c0[0:32]] )\n",
    "target3 = train3['isSignal']\n",
    "\n",
    "# train - test split of dataset\n",
    "train_data3 , test_data3 , train_target3 , test_target3 = model_selection . train_test_split (\\\n",
    "input_data3 , target3 , test_size =0.3 , random_state = Answer_to_all_questions )\n",
    "# Check shape\n",
    "print ( train_data3 . shape , train_target3 . shape , test_data3 . shape , test_target3 . shape )"
   ]
  },
  {
   "cell_type": "code",
   "execution_count": 71,
   "metadata": {
    "scrolled": true
   },
   "outputs": [
    {
     "name": "stdout",
     "output_type": "stream",
     "text": [
      "Train on 15548 samples, validate on 6664 samples\n",
      "Epoch 1/100\n",
      "15548/15548 [==============================] - ETA: 23s - loss: 0.6944 - acc: 0.50 - ETA: 2s - loss: 0.6765 - acc: 0.5640 - ETA: 1s - loss: 0.6569 - acc: 0.604 - ETA: 0s - loss: 0.6504 - acc: 0.616 - ETA: 0s - loss: 0.6369 - acc: 0.632 - ETA: 0s - loss: 0.6274 - acc: 0.640 - ETA: 0s - loss: 0.6238 - acc: 0.643 - ETA: 0s - loss: 0.6192 - acc: 0.647 - ETA: 0s - loss: 0.6167 - acc: 0.651 - ETA: 0s - loss: 0.6140 - acc: 0.654 - 1s 62us/sample - loss: 0.6118 - acc: 0.6568 - val_loss: 0.5953 - val_acc: 0.6640\n",
      "Epoch 2/100\n",
      "15548/15548 [==============================] - ETA: 0s - loss: 0.6589 - acc: 0.600 - ETA: 0s - loss: 0.5825 - acc: 0.674 - ETA: 0s - loss: 0.5820 - acc: 0.688 - ETA: 0s - loss: 0.5825 - acc: 0.689 - ETA: 0s - loss: 0.5849 - acc: 0.686 - ETA: 0s - loss: 0.5857 - acc: 0.685 - ETA: 0s - loss: 0.5858 - acc: 0.682 - ETA: 0s - loss: 0.5854 - acc: 0.683 - ETA: 0s - loss: 0.5838 - acc: 0.685 - 1s 40us/sample - loss: 0.5847 - acc: 0.6853 - val_loss: 0.5834 - val_acc: 0.6862\n",
      "Epoch 3/100\n",
      "15548/15548 [==============================] - ETA: 2s - loss: 0.5339 - acc: 0.740 - ETA: 0s - loss: 0.5806 - acc: 0.685 - ETA: 0s - loss: 0.5703 - acc: 0.692 - ETA: 0s - loss: 0.5712 - acc: 0.690 - ETA: 0s - loss: 0.5688 - acc: 0.694 - ETA: 0s - loss: 0.5636 - acc: 0.698 - ETA: 0s - loss: 0.5642 - acc: 0.697 - ETA: 0s - loss: 0.5704 - acc: 0.692 - ETA: 0s - loss: 0.5698 - acc: 0.693 - ETA: 0s - loss: 0.5691 - acc: 0.695 - ETA: 0s - loss: 0.5709 - acc: 0.692 - 1s 44us/sample - loss: 0.5722 - acc: 0.6910 - val_loss: 0.5826 - val_acc: 0.6829\n",
      "Epoch 4/100\n",
      "15548/15548 [==============================] - ETA: 0s - loss: 0.5515 - acc: 0.720 - ETA: 0s - loss: 0.5616 - acc: 0.696 - ETA: 0s - loss: 0.5608 - acc: 0.694 - ETA: 0s - loss: 0.5553 - acc: 0.703 - ETA: 0s - loss: 0.5593 - acc: 0.701 - ETA: 0s - loss: 0.5633 - acc: 0.697 - ETA: 0s - loss: 0.5620 - acc: 0.698 - ETA: 0s - loss: 0.5615 - acc: 0.697 - ETA: 0s - loss: 0.5620 - acc: 0.697 - ETA: 0s - loss: 0.5634 - acc: 0.697 - 1s 40us/sample - loss: 0.5644 - acc: 0.6960 - val_loss: 0.5717 - val_acc: 0.6903\n",
      "Epoch 5/100\n",
      "15548/15548 [==============================] - ETA: 0s - loss: 0.4980 - acc: 0.760 - ETA: 0s - loss: 0.5399 - acc: 0.705 - ETA: 0s - loss: 0.5456 - acc: 0.705 - ETA: 0s - loss: 0.5478 - acc: 0.705 - ETA: 0s - loss: 0.5485 - acc: 0.705 - ETA: 0s - loss: 0.5509 - acc: 0.705 - ETA: 0s - loss: 0.5526 - acc: 0.704 - ETA: 0s - loss: 0.5538 - acc: 0.705 - ETA: 0s - loss: 0.5553 - acc: 0.703 - ETA: 0s - loss: 0.5537 - acc: 0.704 - ETA: 0s - loss: 0.5549 - acc: 0.703 - ETA: 0s - loss: 0.5556 - acc: 0.701 - 1s 44us/sample - loss: 0.5560 - acc: 0.7018 - val_loss: 0.5710 - val_acc: 0.6898\n",
      "Epoch 6/100\n",
      "15548/15548 [==============================] - ETA: 0s - loss: 0.5690 - acc: 0.710 - ETA: 0s - loss: 0.5413 - acc: 0.701 - ETA: 0s - loss: 0.5431 - acc: 0.710 - ETA: 0s - loss: 0.5431 - acc: 0.708 - ETA: 0s - loss: 0.5455 - acc: 0.708 - ETA: 0s - loss: 0.5441 - acc: 0.708 - ETA: 0s - loss: 0.5462 - acc: 0.707 - ETA: 0s - loss: 0.5467 - acc: 0.707 - ETA: 0s - loss: 0.5465 - acc: 0.707 - ETA: 0s - loss: 0.5489 - acc: 0.705 - ETA: 0s - loss: 0.5502 - acc: 0.701 - 1s 43us/sample - loss: 0.5496 - acc: 0.7018 - val_loss: 0.5657 - val_acc: 0.6880\n",
      "Epoch 7/100\n",
      "15548/15548 [==============================] - ETA: 0s - loss: 0.5865 - acc: 0.620 - ETA: 0s - loss: 0.5367 - acc: 0.723 - ETA: 0s - loss: 0.5393 - acc: 0.715 - ETA: 0s - loss: 0.5384 - acc: 0.713 - ETA: 0s - loss: 0.5407 - acc: 0.712 - ETA: 0s - loss: 0.5397 - acc: 0.714 - ETA: 0s - loss: 0.5402 - acc: 0.712 - ETA: 0s - loss: 0.5397 - acc: 0.713 - ETA: 0s - loss: 0.5405 - acc: 0.715 - ETA: 0s - loss: 0.5433 - acc: 0.711 - 1s 39us/sample - loss: 0.5440 - acc: 0.7112 - val_loss: 0.5661 - val_acc: 0.6889\n",
      "Epoch 8/100\n",
      "15548/15548 [==============================] - ETA: 0s - loss: 0.6060 - acc: 0.680 - ETA: 0s - loss: 0.5515 - acc: 0.703 - ETA: 0s - loss: 0.5479 - acc: 0.701 - ETA: 0s - loss: 0.5462 - acc: 0.702 - ETA: 0s - loss: 0.5435 - acc: 0.704 - ETA: 0s - loss: 0.5443 - acc: 0.704 - ETA: 0s - loss: 0.5420 - acc: 0.709 - ETA: 0s - loss: 0.5391 - acc: 0.709 - ETA: 0s - loss: 0.5395 - acc: 0.707 - 1s 37us/sample - loss: 0.5384 - acc: 0.7084 - val_loss: 0.5633 - val_acc: 0.6943\n",
      "Epoch 9/100\n",
      "15548/15548 [==============================] - ETA: 0s - loss: 0.5215 - acc: 0.710 - ETA: 0s - loss: 0.5337 - acc: 0.715 - ETA: 0s - loss: 0.5268 - acc: 0.713 - ETA: 0s - loss: 0.5275 - acc: 0.716 - ETA: 0s - loss: 0.5293 - acc: 0.714 - ETA: 0s - loss: 0.5331 - acc: 0.711 - ETA: 0s - loss: 0.5342 - acc: 0.712 - ETA: 0s - loss: 0.5338 - acc: 0.714 - ETA: 0s - loss: 0.5350 - acc: 0.712 - 1s 38us/sample - loss: 0.5357 - acc: 0.7115 - val_loss: 0.5584 - val_acc: 0.6936\n",
      "Epoch 10/100\n",
      "15548/15548 [==============================] - ETA: 0s - loss: 0.4506 - acc: 0.810 - ETA: 0s - loss: 0.5132 - acc: 0.735 - ETA: 0s - loss: 0.5126 - acc: 0.733 - ETA: 0s - loss: 0.5120 - acc: 0.729 - ETA: 0s - loss: 0.5136 - acc: 0.728 - ETA: 0s - loss: 0.5145 - acc: 0.728 - ETA: 0s - loss: 0.5196 - acc: 0.725 - ETA: 0s - loss: 0.5247 - acc: 0.720 - ETA: 0s - loss: 0.5271 - acc: 0.719 - 1s 38us/sample - loss: 0.5272 - acc: 0.7189 - val_loss: 0.5592 - val_acc: 0.6940\n",
      "Epoch 11/100\n",
      "15548/15548 [==============================] - ETA: 0s - loss: 0.4766 - acc: 0.730 - ETA: 0s - loss: 0.4995 - acc: 0.730 - ETA: 0s - loss: 0.5099 - acc: 0.727 - ETA: 0s - loss: 0.5106 - acc: 0.731 - ETA: 0s - loss: 0.5192 - acc: 0.722 - ETA: 0s - loss: 0.5201 - acc: 0.721 - ETA: 0s - loss: 0.5199 - acc: 0.722 - ETA: 0s - loss: 0.5200 - acc: 0.723 - ETA: 0s - loss: 0.5216 - acc: 0.721 - ETA: 0s - loss: 0.5207 - acc: 0.722 - 1s 40us/sample - loss: 0.5222 - acc: 0.7221 - val_loss: 0.5574 - val_acc: 0.6913\n",
      "Epoch 12/100\n",
      "15548/15548 [==============================] - ETA: 0s - loss: 0.4186 - acc: 0.830 - ETA: 0s - loss: 0.5018 - acc: 0.742 - ETA: 0s - loss: 0.5064 - acc: 0.737 - ETA: 0s - loss: 0.5074 - acc: 0.738 - ETA: 0s - loss: 0.5077 - acc: 0.736 - ETA: 0s - loss: 0.5109 - acc: 0.729 - ETA: 0s - loss: 0.5085 - acc: 0.731 - ETA: 0s - loss: 0.5112 - acc: 0.728 - ETA: 0s - loss: 0.5101 - acc: 0.730 - ETA: 0s - loss: 0.5123 - acc: 0.729 - ETA: 0s - loss: 0.5131 - acc: 0.727 - ETA: 0s - loss: 0.5150 - acc: 0.725 - 1s 48us/sample - loss: 0.5155 - acc: 0.7250 - val_loss: 0.5641 - val_acc: 0.6931\n",
      "Epoch 13/100\n",
      "15548/15548 [==============================] - ETA: 1s - loss: 0.5415 - acc: 0.710 - ETA: 0s - loss: 0.5284 - acc: 0.714 - ETA: 0s - loss: 0.5182 - acc: 0.717 - ETA: 0s - loss: 0.5138 - acc: 0.721 - ETA: 0s - loss: 0.5133 - acc: 0.723 - ETA: 0s - loss: 0.5060 - acc: 0.729 - ETA: 0s - loss: 0.5034 - acc: 0.730 - ETA: 0s - loss: 0.5076 - acc: 0.727 - ETA: 0s - loss: 0.5122 - acc: 0.726 - ETA: 0s - loss: 0.5117 - acc: 0.728 - ETA: 0s - loss: 0.5114 - acc: 0.727 - 1s 74us/sample - loss: 0.5114 - acc: 0.7279 - val_loss: 0.5648 - val_acc: 0.6997\n",
      "Epoch 14/100\n",
      "15548/15548 [==============================] - ETA: 0s - loss: 0.4167 - acc: 0.900 - ETA: 0s - loss: 0.4910 - acc: 0.747 - ETA: 0s - loss: 0.4986 - acc: 0.738 - ETA: 0s - loss: 0.5065 - acc: 0.736 - ETA: 0s - loss: 0.5050 - acc: 0.737 - ETA: 0s - loss: 0.5040 - acc: 0.738 - ETA: 0s - loss: 0.5041 - acc: 0.738 - ETA: 0s - loss: 0.5038 - acc: 0.736 - ETA: 0s - loss: 0.5034 - acc: 0.735 - ETA: 0s - loss: 0.5036 - acc: 0.736 - 1s 42us/sample - loss: 0.5041 - acc: 0.7357 - val_loss: 0.5685 - val_acc: 0.6903\n",
      "Epoch 15/100\n",
      "15548/15548 [==============================] - ETA: 0s - loss: 0.4377 - acc: 0.790 - ETA: 0s - loss: 0.4841 - acc: 0.757 - ETA: 0s - loss: 0.4904 - acc: 0.748 - ETA: 0s - loss: 0.4914 - acc: 0.747 - ETA: 0s - loss: 0.4925 - acc: 0.743 - ETA: 0s - loss: 0.4937 - acc: 0.742 - ETA: 0s - loss: 0.4953 - acc: 0.740 - ETA: 0s - loss: 0.4962 - acc: 0.739 - ETA: 0s - loss: 0.4981 - acc: 0.737 - ETA: 0s - loss: 0.5000 - acc: 0.735 - 1s 40us/sample - loss: 0.4997 - acc: 0.7364 - val_loss: 0.5734 - val_acc: 0.6855\n",
      "Epoch 16/100\n"
     ]
    },
    {
     "name": "stdout",
     "output_type": "stream",
     "text": [
      "15548/15548 [==============================] - ETA: 0s - loss: 0.5309 - acc: 0.700 - ETA: 0s - loss: 0.4924 - acc: 0.746 - ETA: 0s - loss: 0.4858 - acc: 0.752 - ETA: 0s - loss: 0.4926 - acc: 0.747 - ETA: 0s - loss: 0.4994 - acc: 0.748 - ETA: 0s - loss: 0.5005 - acc: 0.745 - ETA: 0s - loss: 0.4980 - acc: 0.744 - ETA: 0s - loss: 0.4966 - acc: 0.744 - ETA: 0s - loss: 0.4957 - acc: 0.743 - ETA: 0s - loss: 0.4963 - acc: 0.743 - 1s 41us/sample - loss: 0.4951 - acc: 0.7440 - val_loss: 0.5713 - val_acc: 0.6924\n",
      "Epoch 17/100\n",
      "15548/15548 [==============================] - ETA: 0s - loss: 0.4364 - acc: 0.800 - ETA: 0s - loss: 0.4599 - acc: 0.747 - ETA: 0s - loss: 0.4704 - acc: 0.746 - ETA: 0s - loss: 0.4689 - acc: 0.752 - ETA: 0s - loss: 0.4759 - acc: 0.747 - ETA: 0s - loss: 0.4774 - acc: 0.748 - ETA: 0s - loss: 0.4809 - acc: 0.748 - ETA: 0s - loss: 0.4835 - acc: 0.747 - ETA: 0s - loss: 0.4861 - acc: 0.745 - ETA: 0s - loss: 0.4848 - acc: 0.747 - ETA: 0s - loss: 0.4867 - acc: 0.747 - 1s 43us/sample - loss: 0.4868 - acc: 0.7474 - val_loss: 0.5708 - val_acc: 0.6934\n",
      "Epoch 18/100\n",
      "15548/15548 [==============================] - ETA: 0s - loss: 0.4716 - acc: 0.710 - ETA: 0s - loss: 0.4685 - acc: 0.756 - ETA: 0s - loss: 0.4717 - acc: 0.750 - ETA: 0s - loss: 0.4710 - acc: 0.750 - ETA: 0s - loss: 0.4695 - acc: 0.751 - ETA: 0s - loss: 0.4763 - acc: 0.752 - ETA: 0s - loss: 0.4804 - acc: 0.748 - ETA: 0s - loss: 0.4806 - acc: 0.749 - ETA: 0s - loss: 0.4799 - acc: 0.751 - ETA: 0s - loss: 0.4831 - acc: 0.750 - 1s 43us/sample - loss: 0.4852 - acc: 0.7500 - val_loss: 0.5720 - val_acc: 0.6903\n",
      "Epoch 19/100\n",
      "15548/15548 [==============================] - ETA: 0s - loss: 0.4659 - acc: 0.750 - ETA: 0s - loss: 0.4682 - acc: 0.762 - ETA: 0s - loss: 0.4678 - acc: 0.759 - ETA: 0s - loss: 0.4722 - acc: 0.759 - ETA: 0s - loss: 0.4690 - acc: 0.762 - ETA: 0s - loss: 0.4707 - acc: 0.758 - ETA: 0s - loss: 0.4711 - acc: 0.758 - ETA: 0s - loss: 0.4733 - acc: 0.756 - ETA: 0s - loss: 0.4752 - acc: 0.755 - 1s 37us/sample - loss: 0.4761 - acc: 0.7551 - val_loss: 0.5736 - val_acc: 0.6936\n",
      "Epoch 20/100\n",
      "15548/15548 [==============================] - ETA: 0s - loss: 0.4415 - acc: 0.780 - ETA: 0s - loss: 0.4500 - acc: 0.774 - ETA: 0s - loss: 0.4604 - acc: 0.772 - ETA: 0s - loss: 0.4614 - acc: 0.768 - ETA: 0s - loss: 0.4607 - acc: 0.771 - ETA: 0s - loss: 0.4627 - acc: 0.768 - ETA: 0s - loss: 0.4647 - acc: 0.766 - ETA: 0s - loss: 0.4659 - acc: 0.766 - ETA: 0s - loss: 0.4684 - acc: 0.764 - ETA: 0s - loss: 0.4680 - acc: 0.764 - 1s 39us/sample - loss: 0.4675 - acc: 0.7647 - val_loss: 0.5872 - val_acc: 0.6943\n",
      "Epoch 21/100\n",
      "15548/15548 [==============================] - ETA: 0s - loss: 0.5111 - acc: 0.770 - ETA: 0s - loss: 0.4530 - acc: 0.774 - ETA: 0s - loss: 0.4620 - acc: 0.770 - ETA: 0s - loss: 0.4633 - acc: 0.767 - ETA: 0s - loss: 0.4654 - acc: 0.766 - ETA: 0s - loss: 0.4589 - acc: 0.768 - ETA: 0s - loss: 0.4603 - acc: 0.767 - ETA: 0s - loss: 0.4625 - acc: 0.767 - ETA: 0s - loss: 0.4641 - acc: 0.766 - ETA: 0s - loss: 0.4644 - acc: 0.765 - 1s 38us/sample - loss: 0.4651 - acc: 0.7646 - val_loss: 0.5905 - val_acc: 0.6831\n",
      "Epoch 22/100\n",
      "15548/15548 [==============================] - ETA: 0s - loss: 0.4061 - acc: 0.830 - ETA: 0s - loss: 0.4342 - acc: 0.791 - ETA: 0s - loss: 0.4492 - acc: 0.782 - ETA: 0s - loss: 0.4553 - acc: 0.777 - ETA: 0s - loss: 0.4563 - acc: 0.775 - ETA: 0s - loss: 0.4621 - acc: 0.769 - ETA: 0s - loss: 0.4626 - acc: 0.768 - ETA: 0s - loss: 0.4634 - acc: 0.766 - ETA: 0s - loss: 0.4610 - acc: 0.766 - 1s 38us/sample - loss: 0.4609 - acc: 0.7663 - val_loss: 0.5912 - val_acc: 0.6852\n",
      "Epoch 23/100\n",
      "15548/15548 [==============================] - ETA: 0s - loss: 0.4892 - acc: 0.810 - ETA: 0s - loss: 0.4292 - acc: 0.787 - ETA: 0s - loss: 0.4393 - acc: 0.782 - ETA: 0s - loss: 0.4479 - acc: 0.779 - ETA: 0s - loss: 0.4471 - acc: 0.779 - ETA: 0s - loss: 0.4510 - acc: 0.778 - ETA: 0s - loss: 0.4519 - acc: 0.776 - ETA: 0s - loss: 0.4544 - acc: 0.775 - ETA: 0s - loss: 0.4545 - acc: 0.775 - 1s 38us/sample - loss: 0.4545 - acc: 0.7744 - val_loss: 0.5957 - val_acc: 0.6825\n",
      "Epoch 24/100\n",
      "15548/15548 [==============================] - ETA: 0s - loss: 0.5120 - acc: 0.740 - ETA: 0s - loss: 0.4463 - acc: 0.780 - ETA: 0s - loss: 0.4434 - acc: 0.781 - ETA: 0s - loss: 0.4421 - acc: 0.781 - ETA: 0s - loss: 0.4424 - acc: 0.781 - ETA: 0s - loss: 0.4450 - acc: 0.779 - ETA: 0s - loss: 0.4485 - acc: 0.778 - ETA: 0s - loss: 0.4492 - acc: 0.776 - ETA: 0s - loss: 0.4489 - acc: 0.776 - 1s 38us/sample - loss: 0.4500 - acc: 0.7746 - val_loss: 0.5942 - val_acc: 0.6891\n",
      "Epoch 25/100\n",
      "15548/15548 [==============================] - ETA: 0s - loss: 0.4880 - acc: 0.800 - ETA: 0s - loss: 0.4361 - acc: 0.783 - ETA: 0s - loss: 0.4197 - acc: 0.795 - ETA: 0s - loss: 0.4285 - acc: 0.790 - ETA: 0s - loss: 0.4302 - acc: 0.790 - ETA: 0s - loss: 0.4330 - acc: 0.788 - ETA: 0s - loss: 0.4348 - acc: 0.789 - ETA: 0s - loss: 0.4339 - acc: 0.789 - ETA: 0s - loss: 0.4369 - acc: 0.787 - ETA: 0s - loss: 0.4390 - acc: 0.784 - 1s 38us/sample - loss: 0.4404 - acc: 0.7835 - val_loss: 0.6064 - val_acc: 0.6802\n",
      "Epoch 26/100\n",
      "15548/15548 [==============================] - ETA: 0s - loss: 0.4330 - acc: 0.790 - ETA: 0s - loss: 0.4296 - acc: 0.787 - ETA: 0s - loss: 0.4314 - acc: 0.791 - ETA: 0s - loss: 0.4343 - acc: 0.789 - ETA: 0s - loss: 0.4331 - acc: 0.791 - ETA: 0s - loss: 0.4315 - acc: 0.792 - ETA: 0s - loss: 0.4360 - acc: 0.788 - ETA: 0s - loss: 0.4371 - acc: 0.787 - ETA: 0s - loss: 0.4386 - acc: 0.787 - 1s 37us/sample - loss: 0.4412 - acc: 0.7861 - val_loss: 0.6000 - val_acc: 0.6859\n",
      "Epoch 27/100\n",
      "15548/15548 [==============================] - ETA: 0s - loss: 0.4645 - acc: 0.710 - ETA: 0s - loss: 0.4365 - acc: 0.794 - ETA: 0s - loss: 0.4411 - acc: 0.785 - ETA: 0s - loss: 0.4401 - acc: 0.789 - ETA: 0s - loss: 0.4357 - acc: 0.792 - ETA: 0s - loss: 0.4363 - acc: 0.791 - ETA: 0s - loss: 0.4347 - acc: 0.791 - ETA: 0s - loss: 0.4350 - acc: 0.790 - ETA: 0s - loss: 0.4368 - acc: 0.789 - ETA: 0s - loss: 0.4382 - acc: 0.788 - 1s 39us/sample - loss: 0.4390 - acc: 0.7878 - val_loss: 0.6039 - val_acc: 0.6853\n",
      "Epoch 28/100\n",
      "15548/15548 [==============================] - ETA: 0s - loss: 0.4422 - acc: 0.820 - ETA: 0s - loss: 0.4266 - acc: 0.800 - ETA: 0s - loss: 0.4263 - acc: 0.795 - ETA: 0s - loss: 0.4202 - acc: 0.798 - ETA: 0s - loss: 0.4226 - acc: 0.798 - ETA: 0s - loss: 0.4231 - acc: 0.796 - ETA: 0s - loss: 0.4216 - acc: 0.797 - ETA: 0s - loss: 0.4234 - acc: 0.796 - ETA: 0s - loss: 0.4236 - acc: 0.794 - ETA: 0s - loss: 0.4247 - acc: 0.794 - 1s 38us/sample - loss: 0.4248 - acc: 0.7943 - val_loss: 0.6207 - val_acc: 0.6864\n",
      "Epoch 00028: early stopping\n"
     ]
    }
   ],
   "source": [
    "# train\n",
    "model3 = my_model(32,200,2)\n",
    "history3 =  model3. fit ( train_data3 , train_target3 , batch_size = 100 , epochs = 100 , verbose =1 , validation_data =( test_data3 , test_target3 ) , callbacks = callbacks_ )"
   ]
  },
  {
   "cell_type": "code",
   "execution_count": 72,
   "metadata": {},
   "outputs": [
    {
     "data": {
      "image/png": "[encoded data removed]",
      "text/plain": [
       "<Figure size 720x360 with 1 Axes>"
      ]
     },
     "metadata": {
      "needs_background": "light"
     },
     "output_type": "display_data"
    }
   ],
   "source": [
    "# Loss\n",
    "lossplot(history3.history['loss'], scale='log');"
   ]
  },
  {
   "cell_type": "code",
   "execution_count": 73,
   "metadata": {},
   "outputs": [
    {
     "data": {
      "image/png": "[encoded data removed]",
      "text/plain": [
       "<Figure size 720x360 with 1 Axes>"
      ]
     },
     "metadata": {
      "needs_background": "light"
     },
     "output_type": "display_data"
    }
   ],
   "source": [
    "# Accuracy\n",
    "accplot(history3.history['val_acc'], scale='linear')"
   ]
  },
  {
   "cell_type": "code",
   "execution_count": 74,
   "metadata": {},
   "outputs": [
    {
     "data": {
      "image/png": "[encoded data removed]",
      "text/plain": [
       "<Figure size 432x288 with 2 Axes>"
      ]
     },
     "metadata": {
      "needs_background": "light"
     },
     "output_type": "display_data"
    }
   ],
   "source": [
    "# Predictions\n",
    "pred3 = model3.predict(test_data3)\n",
    "\n",
    "# Convert probabilities into binary outputs\n",
    "bi = []\n",
    "p = []\n",
    "for i in pred3:\n",
    "    if i[0]>0.5:\n",
    "        bi.append(1)\n",
    "        p.append(i[0])\n",
    "    else:\n",
    "        bi.append(0)\n",
    "        p.append(i[0])\n",
    "        \n",
    "# Define confusion matrix and classes\n",
    "cm = confusion_matrix(test_target3.tolist(),bi)\n",
    "classes=[0,1]\n",
    "\n",
    "# Plot heat map\n",
    "heatmap(cm,normalize=True,labels=['predicted','true'],classes=[['0','1'],['0','1']])"
   ]
  },
  {
   "cell_type": "code",
   "execution_count": 75,
   "metadata": {},
   "outputs": [
    {
     "data": {
      "image/png": "[encoded data removed]",
      "text/plain": [
       "<Figure size 432x288 with 1 Axes>"
      ]
     },
     "metadata": {
      "needs_background": "light"
     },
     "output_type": "display_data"
    }
   ],
   "source": [
    "# Calculate false positive rate and true positive rate\n",
    "fpr, tpr, threshold = roc_curve(test_target3, pred3)\n",
    "roc_auc = metrics.auc(fpr, tpr)\n",
    "# Plot ROC curve\n",
    "plt.title('Receiver Operating Characteristic')\n",
    "plt.plot(fpr, tpr, 'b', label = 'AUC = %0.2f' % roc_auc)\n",
    "plt.legend(loc = 'lower right')\n",
    "plt.plot([0, 1], [0, 1],'r--')\n",
    "plt.xlim([0, 1])\n",
    "plt.ylim([0, 1])\n",
    "plt.ylabel('True Positive Rate')\n",
    "plt.xlabel('False Positive Rate')\n",
    "plt.show()"
   ]
  },
  {
   "cell_type": "markdown",
   "metadata": {},
   "source": [
    "## CP0, 30 and 60"
   ]
  },
  {
   "cell_type": "code",
   "execution_count": 33,
   "metadata": {},
   "outputs": [],
   "source": [
    "# ML imports\n",
    "from sklearn.preprocessing import MinMaxScaler\n",
    "from sklearn.utils import shuffle\n",
    "from sklearn.model_selection import train_test_split\n",
    "from tensorflow.python.keras.models import Model\n",
    "from tensorflow.python.keras.layers import Input, Dense\n",
    "from sklearn.model_selection import GridSearchCV, cross_val_score\n",
    "from sklearn.neural_network import MLPClassifier\n",
    "from sklearn.metrics import confusion_matrix\n",
    "\n",
    "# Custom imports\n",
    "import daml\n",
    "from daml import plot, utilities, optimisation"
   ]
  },
  {
   "cell_type": "code",
   "execution_count": 34,
   "metadata": {},
   "outputs": [
    {
     "data": {
      "text/plain": [
       "((38100, 33), (138901, 33), (138005, 33))"
      ]
     },
     "execution_count": 34,
     "metadata": {},
     "output_type": "execute_result"
    }
   ],
   "source": [
    "s1.shape, s2.shape, s3.shape"
   ]
  },
  {
   "cell_type": "code",
   "execution_count": 35,
   "metadata": {},
   "outputs": [],
   "source": [
    "cp0 = s1\n",
    "cp0.insert(33,'alpha',0)\n",
    "cp30 = s2.sample(s1.shape[0], random_state=42)\n",
    "cp30.insert(33,'alpha',1)\n",
    "cp60 = s3.sample(s1.shape[0], random_state=42)\n",
    "cp60.insert(33,'alpha',2)"
   ]
  },
  {
   "cell_type": "code",
   "execution_count": 36,
   "metadata": {},
   "outputs": [
    {
     "name": "stdout",
     "output_type": "stream",
     "text": [
      "(80010, 32) (80010,) (34290, 32) (34290,)\n"
     ]
    }
   ],
   "source": [
    "# training dataset\n",
    "train4 = pd.concat([cp0,cp30,cp60])\n",
    "\n",
    "# Shuffle training dataset\n",
    "train4 = shuffle(train4,random_state=42).reset_index(drop=True)\n",
    "\n",
    "# Standardize\n",
    "sc4 = preprocessing . StandardScaler ()\n",
    "input_data4 = sc4 . fit_transform ( train4[c0[0:32]] )\n",
    "target4 = train4['alpha']\n",
    "\n",
    "# train - test split of dataset\n",
    "train_data4 , test_data4 , train_target4 , test_target4 = model_selection . train_test_split (\\\n",
    "input_data4 , target4 , test_size =0.3 , random_state = Answer_to_all_questions )\n",
    "# Check shape\n",
    "print ( train_data4 . shape , train_target4 . shape , test_data4 . shape , test_target4 . shape )"
   ]
  },
  {
   "cell_type": "code",
   "execution_count": 88,
   "metadata": {},
   "outputs": [
    {
     "name": "stdout",
     "output_type": "stream",
     "text": [
      "Model: \"Small model (standard)\"\n",
      "_________________________________________________________________\n",
      "Layer (type)                 Output Shape              Param #   \n",
      "=================================================================\n",
      "input_5 (InputLayer)         [(None, 32)]              0         \n",
      "_________________________________________________________________\n",
      "dense_48 (Dense)             (None, 30)                990       \n",
      "_________________________________________________________________\n",
      "dense_49 (Dense)             (None, 3)                 93        \n",
      "=================================================================\n",
      "Total params: 1,083\n",
      "Trainable params: 1,083\n",
      "Non-trainable params: 0\n",
      "_________________________________________________________________\n"
     ]
    }
   ],
   "source": [
    "def smallmodel (name):\n",
    "    # Create a NW\n",
    "    input_tensor = Input(shape=(32,))\n",
    "    H1 = Dense(30, activation='relu')(input_tensor)\n",
    "    output_tensor = Dense(3, activation='softmax')(H1)\n",
    "    model = Model(input_tensor, output_tensor,name = name)\n",
    "    # Compile the model\n",
    "    model.compile(optimizer='Adam',loss='sparse_categorical_crossentropy',metrics=['accuracy'])\n",
    "    return model\n",
    "\n",
    "# Get the model\n",
    "model4 = smallmodel('Small model (standard)')\n",
    "model4.summary()"
   ]
  },
  {
   "cell_type": "code",
   "execution_count": 89,
   "metadata": {
    "scrolled": true
   },
   "outputs": [
    {
     "name": "stdout",
     "output_type": "stream",
     "text": [
      "Train on 56007 samples, validate on 24003 samples\n",
      "Epoch 1/300\n",
      "56007/56007 - 1s - loss: 1.1533 - acc: 0.3435 - val_loss: 1.1115 - val_acc: 0.3515\n",
      "Epoch 2/300\n",
      "56007/56007 - 0s - loss: 1.1016 - acc: 0.3646 - val_loss: 1.0997 - val_acc: 0.3662\n",
      "Epoch 3/300\n",
      "56007/56007 - 0s - loss: 1.0934 - acc: 0.3742 - val_loss: 1.0951 - val_acc: 0.3720\n",
      "Epoch 4/300\n",
      "56007/56007 - 0s - loss: 1.0885 - acc: 0.3831 - val_loss: 1.0925 - val_acc: 0.3766\n",
      "Epoch 5/300\n",
      "56007/56007 - 0s - loss: 1.0859 - acc: 0.3905 - val_loss: 1.0905 - val_acc: 0.3821\n",
      "Epoch 6/300\n",
      "56007/56007 - 0s - loss: 1.0835 - acc: 0.3933 - val_loss: 1.0895 - val_acc: 0.3856\n",
      "Epoch 7/300\n",
      "56007/56007 - 0s - loss: 1.0818 - acc: 0.3956 - val_loss: 1.0886 - val_acc: 0.3842\n",
      "Epoch 8/300\n",
      "56007/56007 - 0s - loss: 1.0805 - acc: 0.3983 - val_loss: 1.0880 - val_acc: 0.3876\n",
      "Epoch 9/300\n",
      "56007/56007 - 0s - loss: 1.0794 - acc: 0.4006 - val_loss: 1.0869 - val_acc: 0.3885\n",
      "Epoch 10/300\n",
      "56007/56007 - 0s - loss: 1.0787 - acc: 0.4031 - val_loss: 1.0870 - val_acc: 0.3889\n",
      "Epoch 11/300\n",
      "56007/56007 - 0s - loss: 1.0779 - acc: 0.4013 - val_loss: 1.0867 - val_acc: 0.3908\n",
      "Epoch 12/300\n",
      "56007/56007 - 0s - loss: 1.0774 - acc: 0.4054 - val_loss: 1.0865 - val_acc: 0.3915\n",
      "Epoch 13/300\n",
      "56007/56007 - 0s - loss: 1.0767 - acc: 0.4061 - val_loss: 1.0866 - val_acc: 0.3879\n",
      "Epoch 14/300\n",
      "56007/56007 - 0s - loss: 1.0767 - acc: 0.4068 - val_loss: 1.0864 - val_acc: 0.3909\n",
      "Epoch 15/300\n",
      "56007/56007 - 0s - loss: 1.0761 - acc: 0.4072 - val_loss: 1.0865 - val_acc: 0.3904\n",
      "Epoch 16/300\n",
      "56007/56007 - 0s - loss: 1.0757 - acc: 0.4069 - val_loss: 1.0862 - val_acc: 0.3884\n",
      "Epoch 17/300\n",
      "56007/56007 - 0s - loss: 1.0754 - acc: 0.4088 - val_loss: 1.0866 - val_acc: 0.3886\n",
      "Epoch 18/300\n",
      "56007/56007 - 0s - loss: 1.0752 - acc: 0.4100 - val_loss: 1.0868 - val_acc: 0.3883\n",
      "Epoch 19/300\n",
      "56007/56007 - 0s - loss: 1.0748 - acc: 0.4086 - val_loss: 1.0868 - val_acc: 0.3897\n",
      "Epoch 20/300\n",
      "56007/56007 - 0s - loss: 1.0745 - acc: 0.4114 - val_loss: 1.0872 - val_acc: 0.3912\n",
      "Epoch 21/300\n",
      "56007/56007 - 0s - loss: 1.0745 - acc: 0.4096 - val_loss: 1.0863 - val_acc: 0.3893\n",
      "Epoch 22/300\n",
      "56007/56007 - 0s - loss: 1.0742 - acc: 0.4090 - val_loss: 1.0866 - val_acc: 0.3926\n",
      "Epoch 23/300\n",
      "56007/56007 - 0s - loss: 1.0739 - acc: 0.4131 - val_loss: 1.0868 - val_acc: 0.3918\n",
      "Epoch 24/300\n",
      "56007/56007 - 0s - loss: 1.0736 - acc: 0.4096 - val_loss: 1.0866 - val_acc: 0.3906\n",
      "Epoch 25/300\n",
      "56007/56007 - 0s - loss: 1.0734 - acc: 0.4118 - val_loss: 1.0869 - val_acc: 0.3853\n",
      "Epoch 26/300\n",
      "56007/56007 - 0s - loss: 1.0734 - acc: 0.4109 - val_loss: 1.0872 - val_acc: 0.3902\n",
      "Epoch 27/300\n",
      "56007/56007 - 0s - loss: 1.0732 - acc: 0.4119 - val_loss: 1.0868 - val_acc: 0.3900\n",
      "Epoch 28/300\n",
      "56007/56007 - 0s - loss: 1.0732 - acc: 0.4101 - val_loss: 1.0875 - val_acc: 0.3858\n",
      "Epoch 29/300\n",
      "56007/56007 - 0s - loss: 1.0730 - acc: 0.4135 - val_loss: 1.0870 - val_acc: 0.3889\n",
      "Epoch 30/300\n",
      "56007/56007 - 0s - loss: 1.0729 - acc: 0.4113 - val_loss: 1.0873 - val_acc: 0.3887\n",
      "Epoch 31/300\n",
      "56007/56007 - 0s - loss: 1.0728 - acc: 0.4112 - val_loss: 1.0873 - val_acc: 0.3892\n",
      "Epoch 32/300\n",
      "56007/56007 - 0s - loss: 1.0727 - acc: 0.4137 - val_loss: 1.0874 - val_acc: 0.3878\n",
      "Epoch 33/300\n",
      "56007/56007 - 0s - loss: 1.0725 - acc: 0.4133 - val_loss: 1.0873 - val_acc: 0.3879\n",
      "Epoch 34/300\n",
      "56007/56007 - 0s - loss: 1.0725 - acc: 0.4115 - val_loss: 1.0874 - val_acc: 0.3892\n",
      "Epoch 35/300\n",
      "56007/56007 - 0s - loss: 1.0723 - acc: 0.4124 - val_loss: 1.0882 - val_acc: 0.3867\n",
      "Epoch 36/300\n",
      "56007/56007 - 0s - loss: 1.0723 - acc: 0.4128 - val_loss: 1.0876 - val_acc: 0.3901\n",
      "Epoch 37/300\n",
      "56007/56007 - 0s - loss: 1.0723 - acc: 0.4115 - val_loss: 1.0880 - val_acc: 0.3872\n",
      "Epoch 00037: early stopping\n"
     ]
    }
   ],
   "source": [
    "# Compile and fit\n",
    "cp = model4.fit(train_data4,train_target4,batch_size=300,epochs=300,validation_split=0.3,shuffle=True,verbose=2, callbacks = callbacks_)"
   ]
  },
  {
   "cell_type": "code",
   "execution_count": 90,
   "metadata": {},
   "outputs": [
    {
     "data": {
      "image/png": "[encoded data removed]",
      "text/plain": [
       "<Figure size 432x288 with 1 Axes>"
      ]
     },
     "metadata": {
      "needs_background": "light"
     },
     "output_type": "display_data"
    }
   ],
   "source": [
    "# Plot loss curves\n",
    "daml.plot.loss(cp);"
   ]
  },
  {
   "cell_type": "code",
   "execution_count": 91,
   "metadata": {},
   "outputs": [
    {
     "data": {
      "image/png": "[encoded data removed]",
      "text/plain": [
       "<Figure size 432x432 with 1 Axes>"
      ]
     },
     "metadata": {
      "needs_background": "light"
     },
     "output_type": "display_data"
    }
   ],
   "source": [
    "# Get predictions of X_test without weight\n",
    "pred4 = model4.predict(test_data4)\n",
    "pred4 = np.asarray([np.argmax(i) for i in pred4])\n",
    "cm = confusion_matrix(pred4,test_target4)\n",
    "daml.plot.confusion_matrix (cm, labels=None, normalise=True);"
   ]
  },
  {
   "cell_type": "code",
   "execution_count": null,
   "metadata": {},
   "outputs": [],
   "source": []
  }
 ],
 "metadata": {
  "kernelspec": {
   "display_name": "Python 3",
   "language": "python",
   "name": "python3"
  },
  "language_info": {
   "codemirror_mode": {
    "name": "ipython",
    "version": 3
   },
   "file_extension": ".py",
   "mimetype": "text/x-python",
   "name": "python",
   "nbconvert_exporter": "python",
   "pygments_lexer": "ipython3",
   "version": "3.7.4"
  }
 },
 "nbformat": 4,
 "nbformat_minor": 2
}
