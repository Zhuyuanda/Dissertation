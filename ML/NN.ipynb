{
 "cells": [
  {
   "cell_type": "code",
   "execution_count": 4,
   "metadata": {},
   "outputs": [],
   "source": [
    "# Imports\n",
    "import numpy as np\n",
    "import pandas as pd\n",
    "import matplotlib.pyplot as plt\n",
    "from sklearn.utils import shuffle\n",
    "from dt_utils import *\n",
    "from nn_utils import *"
   ]
  },
  {
   "cell_type": "code",
   "execution_count": 61,
   "metadata": {},
   "outputs": [],
   "source": [
    "# signal\n",
    "s0 = pd.read_csv ( \"signal.csv\" )\n",
    "s1 = pd.read_csv ( \"0.csv\" )\n",
    "s2 = pd.read_csv ( \"30.csv\" )\n",
    "s3 = pd.read_csv ( \"60.csv\" )\n",
    "\n",
    "# bkg\n",
    "b1 = pd.read_csv ( \"sideband.csv\" )\n",
    "b2 = pd.read_csv ( \"nearsignal.csv\" )"
   ]
  },
  {
   "cell_type": "code",
   "execution_count": 62,
   "metadata": {},
   "outputs": [
    {
     "data": {
      "text/html": [
       "<div>\n",
       "<style scoped>\n",
       "    .dataframe tbody tr th:only-of-type {\n",
       "        vertical-align: middle;\n",
       "    }\n",
       "\n",
       "    .dataframe tbody tr th {\n",
       "        vertical-align: top;\n",
       "    }\n",
       "\n",
       "    .dataframe thead th {\n",
       "        text-align: right;\n",
       "    }\n",
       "</style>\n",
       "<table border=\"1\" class=\"dataframe\">\n",
       "  <thead>\n",
       "    <tr style=\"text-align: right;\">\n",
       "      <th></th>\n",
       "      <th>phib</th>\n",
       "      <th>phif</th>\n",
       "      <th>phitstar</th>\n",
       "      <th>phiw</th>\n",
       "      <th>t</th>\n",
       "      <th>thetab</th>\n",
       "      <th>thetaf</th>\n",
       "      <th>thetah</th>\n",
       "      <th>thetat</th>\n",
       "      <th>thetaw</th>\n",
       "      <th>tt</th>\n",
       "      <th>tth</th>\n",
       "      <th>isSignal</th>\n",
       "    </tr>\n",
       "  </thead>\n",
       "  <tbody>\n",
       "    <tr>\n",
       "      <td>0</td>\n",
       "      <td>1.776711</td>\n",
       "      <td>0.143551</td>\n",
       "      <td>2.339913</td>\n",
       "      <td>0.801155</td>\n",
       "      <td>135.346735</td>\n",
       "      <td>0.617557</td>\n",
       "      <td>-0.138064</td>\n",
       "      <td>-0.431957</td>\n",
       "      <td>0.798151</td>\n",
       "      <td>0.918964</td>\n",
       "      <td>508.706277</td>\n",
       "      <td>654.761522</td>\n",
       "      <td>1</td>\n",
       "    </tr>\n",
       "    <tr>\n",
       "      <td>1</td>\n",
       "      <td>2.297378</td>\n",
       "      <td>2.596617</td>\n",
       "      <td>0.807411</td>\n",
       "      <td>2.444087</td>\n",
       "      <td>192.951830</td>\n",
       "      <td>0.120380</td>\n",
       "      <td>0.579830</td>\n",
       "      <td>-0.076104</td>\n",
       "      <td>0.825476</td>\n",
       "      <td>0.125623</td>\n",
       "      <td>398.245685</td>\n",
       "      <td>666.181151</td>\n",
       "      <td>1</td>\n",
       "    </tr>\n",
       "    <tr>\n",
       "      <td>2</td>\n",
       "      <td>0.193672</td>\n",
       "      <td>1.353251</td>\n",
       "      <td>2.078824</td>\n",
       "      <td>0.027977</td>\n",
       "      <td>279.534325</td>\n",
       "      <td>0.324613</td>\n",
       "      <td>-0.113941</td>\n",
       "      <td>0.400439</td>\n",
       "      <td>0.620220</td>\n",
       "      <td>0.962265</td>\n",
       "      <td>688.912306</td>\n",
       "      <td>865.764571</td>\n",
       "      <td>1</td>\n",
       "    </tr>\n",
       "    <tr>\n",
       "      <td>3</td>\n",
       "      <td>0.339953</td>\n",
       "      <td>0.732237</td>\n",
       "      <td>2.169004</td>\n",
       "      <td>0.763360</td>\n",
       "      <td>211.562942</td>\n",
       "      <td>0.351223</td>\n",
       "      <td>-0.210501</td>\n",
       "      <td>-0.403187</td>\n",
       "      <td>0.334395</td>\n",
       "      <td>0.774680</td>\n",
       "      <td>722.718271</td>\n",
       "      <td>962.753343</td>\n",
       "      <td>1</td>\n",
       "    </tr>\n",
       "    <tr>\n",
       "      <td>4</td>\n",
       "      <td>1.367030</td>\n",
       "      <td>0.599763</td>\n",
       "      <td>2.644733</td>\n",
       "      <td>0.237751</td>\n",
       "      <td>363.096357</td>\n",
       "      <td>0.505595</td>\n",
       "      <td>-0.811117</td>\n",
       "      <td>0.939705</td>\n",
       "      <td>0.072341</td>\n",
       "      <td>0.745196</td>\n",
       "      <td>735.070052</td>\n",
       "      <td>991.462335</td>\n",
       "      <td>1</td>\n",
       "    </tr>\n",
       "  </tbody>\n",
       "</table>\n",
       "</div>"
      ],
      "text/plain": [
       "       phib      phif  phitstar      phiw           t    thetab    thetaf  \\\n",
       "0  1.776711  0.143551  2.339913  0.801155  135.346735  0.617557 -0.138064   \n",
       "1  2.297378  2.596617  0.807411  2.444087  192.951830  0.120380  0.579830   \n",
       "2  0.193672  1.353251  2.078824  0.027977  279.534325  0.324613 -0.113941   \n",
       "3  0.339953  0.732237  2.169004  0.763360  211.562942  0.351223 -0.210501   \n",
       "4  1.367030  0.599763  2.644733  0.237751  363.096357  0.505595 -0.811117   \n",
       "\n",
       "     thetah    thetat    thetaw          tt         tth  isSignal  \n",
       "0 -0.431957  0.798151  0.918964  508.706277  654.761522         1  \n",
       "1 -0.076104  0.825476  0.125623  398.245685  666.181151         1  \n",
       "2  0.400439  0.620220  0.962265  688.912306  865.764571         1  \n",
       "3 -0.403187  0.334395  0.774680  722.718271  962.753343         1  \n",
       "4  0.939705  0.072341  0.745196  735.070052  991.462335         1  "
      ]
     },
     "execution_count": 62,
     "metadata": {},
     "output_type": "execute_result"
    }
   ],
   "source": [
    "s0.head()"
   ]
  },
  {
   "cell_type": "code",
   "execution_count": 63,
   "metadata": {},
   "outputs": [
    {
     "data": {
      "text/html": [
       "<div>\n",
       "<style scoped>\n",
       "    .dataframe tbody tr th:only-of-type {\n",
       "        vertical-align: middle;\n",
       "    }\n",
       "\n",
       "    .dataframe tbody tr th {\n",
       "        vertical-align: top;\n",
       "    }\n",
       "\n",
       "    .dataframe thead th {\n",
       "        text-align: right;\n",
       "    }\n",
       "</style>\n",
       "<table border=\"1\" class=\"dataframe\">\n",
       "  <thead>\n",
       "    <tr style=\"text-align: right;\">\n",
       "      <th></th>\n",
       "      <th>phib</th>\n",
       "      <th>phif</th>\n",
       "      <th>phitstar</th>\n",
       "      <th>phiw</th>\n",
       "      <th>t</th>\n",
       "      <th>thetab</th>\n",
       "      <th>thetaf</th>\n",
       "      <th>thetah</th>\n",
       "      <th>thetat</th>\n",
       "      <th>thetaw</th>\n",
       "      <th>tt</th>\n",
       "      <th>tth</th>\n",
       "      <th>isSignal</th>\n",
       "    </tr>\n",
       "  </thead>\n",
       "  <tbody>\n",
       "    <tr>\n",
       "      <td>0</td>\n",
       "      <td>2.920753</td>\n",
       "      <td>1.090986</td>\n",
       "      <td>1.733981</td>\n",
       "      <td>0.137239</td>\n",
       "      <td>268.494580</td>\n",
       "      <td>0.653567</td>\n",
       "      <td>0.682121</td>\n",
       "      <td>0.917943</td>\n",
       "      <td>0.971721</td>\n",
       "      <td>0.566443</td>\n",
       "      <td>1268.745280</td>\n",
       "      <td>1430.672788</td>\n",
       "      <td>0</td>\n",
       "    </tr>\n",
       "    <tr>\n",
       "      <td>1</td>\n",
       "      <td>2.835025</td>\n",
       "      <td>1.946042</td>\n",
       "      <td>1.402751</td>\n",
       "      <td>2.896944</td>\n",
       "      <td>201.750574</td>\n",
       "      <td>0.781232</td>\n",
       "      <td>-0.180910</td>\n",
       "      <td>-0.915062</td>\n",
       "      <td>0.501745</td>\n",
       "      <td>0.743011</td>\n",
       "      <td>716.177864</td>\n",
       "      <td>923.922878</td>\n",
       "      <td>0</td>\n",
       "    </tr>\n",
       "    <tr>\n",
       "      <td>2</td>\n",
       "      <td>2.973645</td>\n",
       "      <td>2.530269</td>\n",
       "      <td>1.016207</td>\n",
       "      <td>1.918484</td>\n",
       "      <td>291.116294</td>\n",
       "      <td>0.412756</td>\n",
       "      <td>-0.916697</td>\n",
       "      <td>-0.677089</td>\n",
       "      <td>0.732552</td>\n",
       "      <td>0.761561</td>\n",
       "      <td>673.165946</td>\n",
       "      <td>807.950518</td>\n",
       "      <td>0</td>\n",
       "    </tr>\n",
       "    <tr>\n",
       "      <td>3</td>\n",
       "      <td>1.654473</td>\n",
       "      <td>1.665302</td>\n",
       "      <td>2.096471</td>\n",
       "      <td>0.131641</td>\n",
       "      <td>315.002068</td>\n",
       "      <td>0.144500</td>\n",
       "      <td>-0.940423</td>\n",
       "      <td>0.789105</td>\n",
       "      <td>0.133557</td>\n",
       "      <td>0.407656</td>\n",
       "      <td>837.942784</td>\n",
       "      <td>977.678059</td>\n",
       "      <td>0</td>\n",
       "    </tr>\n",
       "    <tr>\n",
       "      <td>4</td>\n",
       "      <td>2.122228</td>\n",
       "      <td>1.143082</td>\n",
       "      <td>0.394234</td>\n",
       "      <td>0.968614</td>\n",
       "      <td>235.680119</td>\n",
       "      <td>0.006688</td>\n",
       "      <td>0.710969</td>\n",
       "      <td>-0.932373</td>\n",
       "      <td>0.739628</td>\n",
       "      <td>0.535162</td>\n",
       "      <td>523.067557</td>\n",
       "      <td>702.426124</td>\n",
       "      <td>0</td>\n",
       "    </tr>\n",
       "  </tbody>\n",
       "</table>\n",
       "</div>"
      ],
      "text/plain": [
       "       phib      phif  phitstar      phiw           t    thetab    thetaf  \\\n",
       "0  2.920753  1.090986  1.733981  0.137239  268.494580  0.653567  0.682121   \n",
       "1  2.835025  1.946042  1.402751  2.896944  201.750574  0.781232 -0.180910   \n",
       "2  2.973645  2.530269  1.016207  1.918484  291.116294  0.412756 -0.916697   \n",
       "3  1.654473  1.665302  2.096471  0.131641  315.002068  0.144500 -0.940423   \n",
       "4  2.122228  1.143082  0.394234  0.968614  235.680119  0.006688  0.710969   \n",
       "\n",
       "     thetah    thetat    thetaw           tt          tth  isSignal  \n",
       "0  0.917943  0.971721  0.566443  1268.745280  1430.672788         0  \n",
       "1 -0.915062  0.501745  0.743011   716.177864   923.922878         0  \n",
       "2 -0.677089  0.732552  0.761561   673.165946   807.950518         0  \n",
       "3  0.789105  0.133557  0.407656   837.942784   977.678059         0  \n",
       "4 -0.932373  0.739628  0.535162   523.067557   702.426124         0  "
      ]
     },
     "execution_count": 63,
     "metadata": {},
     "output_type": "execute_result"
    }
   ],
   "source": [
    "# total bkg\n",
    "b = pd.concat([b1,b2])\n",
    "b = shuffle(b,random_state=42).reset_index(drop=True)\n",
    "b.head()"
   ]
  },
  {
   "cell_type": "code",
   "execution_count": 64,
   "metadata": {},
   "outputs": [
    {
     "data": {
      "text/plain": [
       "Index(['phib', 'phif', 'phitstar', 'phiw', 't', 'thetab', 'thetaf', 'thetah',\n",
       "       'thetat', 'thetaw', 'tt', 'tth', 'isSignal'],\n",
       "      dtype='object')"
      ]
     },
     "execution_count": 64,
     "metadata": {},
     "output_type": "execute_result"
    }
   ],
   "source": [
    "s0.columns"
   ]
  },
  {
   "cell_type": "code",
   "execution_count": 65,
   "metadata": {},
   "outputs": [],
   "source": [
    "c0 = ['phib', 'phif', 'phitstar', 'phiw', 't', 'thetab', 'thetaf', 'thetah','thetat', 'thetaw', 'tt', 'tth']"
   ]
  },
  {
   "cell_type": "code",
   "execution_count": 66,
   "metadata": {},
   "outputs": [
    {
     "data": {
      "text/plain": [
       "((89694, 13), (38100, 13), (138901, 13), (138005, 13))"
      ]
     },
     "execution_count": 66,
     "metadata": {},
     "output_type": "execute_result"
    }
   ],
   "source": [
    "s0.shape,s1.shape,s2.shape,s3.shape"
   ]
  },
  {
   "cell_type": "code",
   "execution_count": 67,
   "metadata": {},
   "outputs": [
    {
     "data": {
      "text/plain": [
       "(11106, 13)"
      ]
     },
     "execution_count": 67,
     "metadata": {},
     "output_type": "execute_result"
    }
   ],
   "source": [
    "b.shape"
   ]
  },
  {
   "cell_type": "code",
   "execution_count": 68,
   "metadata": {
    "scrolled": true
   },
   "outputs": [
    {
     "data": {
      "text/html": [
       "<div>\n",
       "<style scoped>\n",
       "    .dataframe tbody tr th:only-of-type {\n",
       "        vertical-align: middle;\n",
       "    }\n",
       "\n",
       "    .dataframe tbody tr th {\n",
       "        vertical-align: top;\n",
       "    }\n",
       "\n",
       "    .dataframe thead th {\n",
       "        text-align: right;\n",
       "    }\n",
       "</style>\n",
       "<table border=\"1\" class=\"dataframe\">\n",
       "  <thead>\n",
       "    <tr style=\"text-align: right;\">\n",
       "      <th></th>\n",
       "      <th>phib</th>\n",
       "      <th>phif</th>\n",
       "      <th>phitstar</th>\n",
       "      <th>phiw</th>\n",
       "      <th>t</th>\n",
       "      <th>thetab</th>\n",
       "      <th>thetaf</th>\n",
       "      <th>thetah</th>\n",
       "      <th>thetat</th>\n",
       "      <th>thetaw</th>\n",
       "      <th>tt</th>\n",
       "      <th>tth</th>\n",
       "      <th>isSignal</th>\n",
       "    </tr>\n",
       "  </thead>\n",
       "  <tbody>\n",
       "    <tr>\n",
       "      <td>0</td>\n",
       "      <td>2.666109</td>\n",
       "      <td>0.659017</td>\n",
       "      <td>1.218142</td>\n",
       "      <td>0.900543</td>\n",
       "      <td>402.820879</td>\n",
       "      <td>0.453174</td>\n",
       "      <td>0.066293</td>\n",
       "      <td>-0.946580</td>\n",
       "      <td>0.347793</td>\n",
       "      <td>0.706379</td>\n",
       "      <td>980.827796</td>\n",
       "      <td>1179.845163</td>\n",
       "      <td>0</td>\n",
       "    </tr>\n",
       "    <tr>\n",
       "      <td>1</td>\n",
       "      <td>2.633734</td>\n",
       "      <td>1.050419</td>\n",
       "      <td>1.514080</td>\n",
       "      <td>0.070999</td>\n",
       "      <td>146.588285</td>\n",
       "      <td>0.618619</td>\n",
       "      <td>-0.405857</td>\n",
       "      <td>0.778213</td>\n",
       "      <td>0.962535</td>\n",
       "      <td>0.858379</td>\n",
       "      <td>487.019795</td>\n",
       "      <td>653.468546</td>\n",
       "      <td>0</td>\n",
       "    </tr>\n",
       "    <tr>\n",
       "      <td>2</td>\n",
       "      <td>0.191305</td>\n",
       "      <td>1.442063</td>\n",
       "      <td>1.512599</td>\n",
       "      <td>0.471443</td>\n",
       "      <td>160.697518</td>\n",
       "      <td>0.835139</td>\n",
       "      <td>-0.061159</td>\n",
       "      <td>0.823676</td>\n",
       "      <td>0.081424</td>\n",
       "      <td>0.956929</td>\n",
       "      <td>636.961543</td>\n",
       "      <td>841.914035</td>\n",
       "      <td>0</td>\n",
       "    </tr>\n",
       "    <tr>\n",
       "      <td>3</td>\n",
       "      <td>2.400480</td>\n",
       "      <td>2.663370</td>\n",
       "      <td>1.923765</td>\n",
       "      <td>0.201620</td>\n",
       "      <td>159.861300</td>\n",
       "      <td>0.707089</td>\n",
       "      <td>-0.929448</td>\n",
       "      <td>-0.394958</td>\n",
       "      <td>0.362984</td>\n",
       "      <td>0.362894</td>\n",
       "      <td>976.467591</td>\n",
       "      <td>1110.236748</td>\n",
       "      <td>0</td>\n",
       "    </tr>\n",
       "    <tr>\n",
       "      <td>4</td>\n",
       "      <td>1.695086</td>\n",
       "      <td>1.560961</td>\n",
       "      <td>1.073626</td>\n",
       "      <td>2.521570</td>\n",
       "      <td>216.780803</td>\n",
       "      <td>0.081038</td>\n",
       "      <td>0.767695</td>\n",
       "      <td>0.565900</td>\n",
       "      <td>0.481670</td>\n",
       "      <td>0.486634</td>\n",
       "      <td>403.705295</td>\n",
       "      <td>540.959798</td>\n",
       "      <td>1</td>\n",
       "    </tr>\n",
       "    <tr>\n",
       "      <td>...</td>\n",
       "      <td>...</td>\n",
       "      <td>...</td>\n",
       "      <td>...</td>\n",
       "      <td>...</td>\n",
       "      <td>...</td>\n",
       "      <td>...</td>\n",
       "      <td>...</td>\n",
       "      <td>...</td>\n",
       "      <td>...</td>\n",
       "      <td>...</td>\n",
       "      <td>...</td>\n",
       "      <td>...</td>\n",
       "      <td>...</td>\n",
       "    </tr>\n",
       "    <tr>\n",
       "      <td>22207</td>\n",
       "      <td>0.617145</td>\n",
       "      <td>1.558053</td>\n",
       "      <td>2.009384</td>\n",
       "      <td>0.422967</td>\n",
       "      <td>689.344578</td>\n",
       "      <td>0.567627</td>\n",
       "      <td>-0.789562</td>\n",
       "      <td>0.712741</td>\n",
       "      <td>0.697871</td>\n",
       "      <td>0.001010</td>\n",
       "      <td>1087.259019</td>\n",
       "      <td>1303.505239</td>\n",
       "      <td>0</td>\n",
       "    </tr>\n",
       "    <tr>\n",
       "      <td>22208</td>\n",
       "      <td>2.253724</td>\n",
       "      <td>1.330466</td>\n",
       "      <td>2.475894</td>\n",
       "      <td>1.290946</td>\n",
       "      <td>167.627370</td>\n",
       "      <td>0.422291</td>\n",
       "      <td>0.933522</td>\n",
       "      <td>0.991576</td>\n",
       "      <td>0.518758</td>\n",
       "      <td>0.417906</td>\n",
       "      <td>319.781103</td>\n",
       "      <td>472.132595</td>\n",
       "      <td>0</td>\n",
       "    </tr>\n",
       "    <tr>\n",
       "      <td>22209</td>\n",
       "      <td>0.365679</td>\n",
       "      <td>0.677268</td>\n",
       "      <td>0.224996</td>\n",
       "      <td>0.425373</td>\n",
       "      <td>305.557591</td>\n",
       "      <td>0.669171</td>\n",
       "      <td>0.525061</td>\n",
       "      <td>-0.504132</td>\n",
       "      <td>0.819277</td>\n",
       "      <td>0.935351</td>\n",
       "      <td>691.898581</td>\n",
       "      <td>1069.158433</td>\n",
       "      <td>1</td>\n",
       "    </tr>\n",
       "    <tr>\n",
       "      <td>22210</td>\n",
       "      <td>1.738181</td>\n",
       "      <td>0.090726</td>\n",
       "      <td>0.798579</td>\n",
       "      <td>0.720761</td>\n",
       "      <td>202.484821</td>\n",
       "      <td>0.431400</td>\n",
       "      <td>0.749478</td>\n",
       "      <td>0.927048</td>\n",
       "      <td>0.704881</td>\n",
       "      <td>0.271640</td>\n",
       "      <td>486.169936</td>\n",
       "      <td>601.450578</td>\n",
       "      <td>1</td>\n",
       "    </tr>\n",
       "    <tr>\n",
       "      <td>22211</td>\n",
       "      <td>1.629996</td>\n",
       "      <td>0.464268</td>\n",
       "      <td>1.237801</td>\n",
       "      <td>2.645701</td>\n",
       "      <td>276.881887</td>\n",
       "      <td>0.837029</td>\n",
       "      <td>-0.537920</td>\n",
       "      <td>-0.128950</td>\n",
       "      <td>0.882596</td>\n",
       "      <td>0.650957</td>\n",
       "      <td>532.260425</td>\n",
       "      <td>658.547562</td>\n",
       "      <td>0</td>\n",
       "    </tr>\n",
       "  </tbody>\n",
       "</table>\n",
       "<p>22212 rows × 13 columns</p>\n",
       "</div>"
      ],
      "text/plain": [
       "           phib      phif  phitstar      phiw           t    thetab    thetaf  \\\n",
       "0      2.666109  0.659017  1.218142  0.900543  402.820879  0.453174  0.066293   \n",
       "1      2.633734  1.050419  1.514080  0.070999  146.588285  0.618619 -0.405857   \n",
       "2      0.191305  1.442063  1.512599  0.471443  160.697518  0.835139 -0.061159   \n",
       "3      2.400480  2.663370  1.923765  0.201620  159.861300  0.707089 -0.929448   \n",
       "4      1.695086  1.560961  1.073626  2.521570  216.780803  0.081038  0.767695   \n",
       "...         ...       ...       ...       ...         ...       ...       ...   \n",
       "22207  0.617145  1.558053  2.009384  0.422967  689.344578  0.567627 -0.789562   \n",
       "22208  2.253724  1.330466  2.475894  1.290946  167.627370  0.422291  0.933522   \n",
       "22209  0.365679  0.677268  0.224996  0.425373  305.557591  0.669171  0.525061   \n",
       "22210  1.738181  0.090726  0.798579  0.720761  202.484821  0.431400  0.749478   \n",
       "22211  1.629996  0.464268  1.237801  2.645701  276.881887  0.837029 -0.537920   \n",
       "\n",
       "         thetah    thetat    thetaw           tt          tth  isSignal  \n",
       "0     -0.946580  0.347793  0.706379   980.827796  1179.845163         0  \n",
       "1      0.778213  0.962535  0.858379   487.019795   653.468546         0  \n",
       "2      0.823676  0.081424  0.956929   636.961543   841.914035         0  \n",
       "3     -0.394958  0.362984  0.362894   976.467591  1110.236748         0  \n",
       "4      0.565900  0.481670  0.486634   403.705295   540.959798         1  \n",
       "...         ...       ...       ...          ...          ...       ...  \n",
       "22207  0.712741  0.697871  0.001010  1087.259019  1303.505239         0  \n",
       "22208  0.991576  0.518758  0.417906   319.781103   472.132595         0  \n",
       "22209 -0.504132  0.819277  0.935351   691.898581  1069.158433         1  \n",
       "22210  0.927048  0.704881  0.271640   486.169936   601.450578         1  \n",
       "22211 -0.128950  0.882596  0.650957   532.260425   658.547562         0  \n",
       "\n",
       "[22212 rows x 13 columns]"
      ]
     },
     "execution_count": 68,
     "metadata": {},
     "output_type": "execute_result"
    }
   ],
   "source": [
    "# sample signal: alpha = 0\n",
    "S0 = s0.sample(b.shape[0], random_state=42)\n",
    "\n",
    "# training dataset\n",
    "train0 = pd.concat([S0,b])\n",
    "\n",
    "# Shuffle training dataset\n",
    "train0 = shuffle(train0,random_state=42).reset_index(drop=True)\n",
    "train0"
   ]
  },
  {
   "cell_type": "code",
   "execution_count": 69,
   "metadata": {},
   "outputs": [],
   "source": [
    "# Keras imports\n",
    "from tensorflow . keras . models import Sequential\n",
    "from tensorflow . keras . layers import Dense\n",
    "from tensorflow . keras . layers import Dropout\n",
    "from sklearn import model_selection , preprocessing"
   ]
  },
  {
   "cell_type": "markdown",
   "metadata": {},
   "source": [
    "## signal vs. background"
   ]
  },
  {
   "cell_type": "code",
   "execution_count": 70,
   "metadata": {},
   "outputs": [
    {
     "name": "stdout",
     "output_type": "stream",
     "text": [
      "(15548, 12) (15548,) (6664, 12) (6664,)\n"
     ]
    }
   ],
   "source": [
    "# Standardize\n",
    "sc0 = preprocessing . StandardScaler ()\n",
    "input_data0 = sc0 . fit_transform ( train0[c0[0:12]] )\n",
    "target0 = train0['isSignal']\n",
    "# set random seed\n",
    "Answer_to_all_questions = 42\n",
    "# train - test split of dataset\n",
    "train_data0 , test_data0 , train_target0 , test_target0 = model_selection . train_test_split (\\\n",
    "input_data0 , target0 , test_size =0.3 , random_state = Answer_to_all_questions )\n",
    "# Check shape\n",
    "print ( train_data0 . shape , train_target0 . shape , test_data0 . shape , test_target0 . shape )"
   ]
  },
  {
   "cell_type": "code",
   "execution_count": 71,
   "metadata": {},
   "outputs": [],
   "source": [
    "def my_model ( num_inputs , num_nodes , extra_depth ):\n",
    "    # create model\n",
    "    model = Sequential ()\n",
    "    model . add ( Dense ( num_nodes , input_dim = num_inputs , kernel_initializer ='normal' , activation ='relu'))\n",
    "    model . add ( Dropout (0.2))\n",
    "    \n",
    "    for i in range ( extra_depth ):\n",
    "        # code up the extra layers here\n",
    "        model . add ( Dense ( num_nodes , input_dim = num_inputs , kernel_initializer ='normal' , activation ='relu'))\n",
    "        model . add ( Dropout (0.2))\n",
    "        \n",
    "    model . add ( Dense (1 , activation ='sigmoid'))\n",
    "    # Compile model\n",
    "    model . compile ( loss ='binary_crossentropy' , optimizer = 'adam', metrics =['accuracy'])\n",
    "    return model"
   ]
  },
  {
   "cell_type": "code",
   "execution_count": 72,
   "metadata": {
    "scrolled": true
   },
   "outputs": [
    {
     "name": "stdout",
     "output_type": "stream",
     "text": [
      "Train on 15548 samples, validate on 6664 samples\n",
      "Epoch 1/300\n",
      "15548/15548 [==============================] - ETA: 12s - loss: 0.6930 - acc: 0.53 - ETA: 1s - loss: 0.6930 - acc: 0.5054 - ETA: 0s - loss: 0.6931 - acc: 0.503 - ETA: 0s - loss: 0.6928 - acc: 0.510 - ETA: 0s - loss: 0.6927 - acc: 0.511 - ETA: 0s - loss: 0.6918 - acc: 0.515 - 1s 68us/sample - loss: 0.6913 - acc: 0.5199 - val_loss: 0.6944 - val_acc: 0.5242\n",
      "Epoch 2/300\n",
      "15548/15548 [==============================] - ETA: 0s - loss: 0.7305 - acc: 0.430 - ETA: 0s - loss: 0.6898 - acc: 0.541 - ETA: 0s - loss: 0.6880 - acc: 0.547 - ETA: 0s - loss: 0.6871 - acc: 0.548 - ETA: 0s - loss: 0.6861 - acc: 0.552 - 0s 22us/sample - loss: 0.6851 - acc: 0.5543 - val_loss: 0.6804 - val_acc: 0.5666\n",
      "Epoch 3/300\n",
      "15548/15548 [==============================] - ETA: 0s - loss: 0.6840 - acc: 0.505 - ETA: 0s - loss: 0.6755 - acc: 0.574 - ETA: 0s - loss: 0.6763 - acc: 0.575 - ETA: 0s - loss: 0.6765 - acc: 0.575 - ETA: 0s - loss: 0.6764 - acc: 0.576 - 0s 24us/sample - loss: 0.6749 - acc: 0.5796 - val_loss: 0.6653 - val_acc: 0.5929\n",
      "Epoch 4/300\n",
      "15548/15548 [==============================] - ETA: 0s - loss: 0.6893 - acc: 0.545 - ETA: 0s - loss: 0.6701 - acc: 0.596 - ETA: 0s - loss: 0.6659 - acc: 0.599 - ETA: 0s - loss: 0.6674 - acc: 0.596 - ETA: 0s - loss: 0.6663 - acc: 0.598 - 0s 22us/sample - loss: 0.6673 - acc: 0.5989 - val_loss: 0.6592 - val_acc: 0.6107\n",
      "Epoch 5/300\n",
      "15548/15548 [==============================] - ETA: 0s - loss: 0.6432 - acc: 0.645 - ETA: 0s - loss: 0.6584 - acc: 0.610 - ETA: 0s - loss: 0.6575 - acc: 0.610 - ETA: 0s - loss: 0.6604 - acc: 0.605 - ETA: 0s - loss: 0.6613 - acc: 0.604 - 0s 23us/sample - loss: 0.6617 - acc: 0.6045 - val_loss: 0.6590 - val_acc: 0.6109\n",
      "Epoch 6/300\n",
      "15548/15548 [==============================] - ETA: 0s - loss: 0.6676 - acc: 0.625 - ETA: 0s - loss: 0.6615 - acc: 0.604 - ETA: 0s - loss: 0.6596 - acc: 0.610 - ETA: 0s - loss: 0.6575 - acc: 0.611 - ETA: 0s - loss: 0.6576 - acc: 0.609 - 0s 22us/sample - loss: 0.6582 - acc: 0.6088 - val_loss: 0.6561 - val_acc: 0.6166\n",
      "Epoch 7/300\n",
      "15548/15548 [==============================] - ETA: 0s - loss: 0.6652 - acc: 0.610 - ETA: 0s - loss: 0.6572 - acc: 0.614 - ETA: 0s - loss: 0.6621 - acc: 0.605 - ETA: 0s - loss: 0.6588 - acc: 0.607 - ETA: 0s - loss: 0.6580 - acc: 0.609 - 0s 20us/sample - loss: 0.6574 - acc: 0.6106 - val_loss: 0.6539 - val_acc: 0.6154\n",
      "Epoch 8/300\n",
      "15548/15548 [==============================] - ETA: 0s - loss: 0.6444 - acc: 0.635 - ETA: 0s - loss: 0.6421 - acc: 0.642 - ETA: 0s - loss: 0.6464 - acc: 0.629 - ETA: 0s - loss: 0.6510 - acc: 0.623 - ETA: 0s - loss: 0.6531 - acc: 0.619 - ETA: 0s - loss: 0.6531 - acc: 0.617 - 0s 21us/sample - loss: 0.6532 - acc: 0.6171 - val_loss: 0.6513 - val_acc: 0.6166\n",
      "Epoch 9/300\n",
      "15548/15548 [==============================] - ETA: 0s - loss: 0.6689 - acc: 0.585 - ETA: 0s - loss: 0.6538 - acc: 0.614 - ETA: 0s - loss: 0.6535 - acc: 0.610 - ETA: 0s - loss: 0.6537 - acc: 0.612 - ETA: 0s - loss: 0.6533 - acc: 0.614 - 0s 19us/sample - loss: 0.6534 - acc: 0.6150 - val_loss: 0.6493 - val_acc: 0.6239\n",
      "Epoch 10/300\n",
      "15548/15548 [==============================] - ETA: 0s - loss: 0.6460 - acc: 0.595 - ETA: 0s - loss: 0.6412 - acc: 0.626 - ETA: 0s - loss: 0.6462 - acc: 0.625 - ETA: 0s - loss: 0.6479 - acc: 0.622 - ETA: 0s - loss: 0.6496 - acc: 0.621 - 0s 18us/sample - loss: 0.6492 - acc: 0.6231 - val_loss: 0.6484 - val_acc: 0.6214\n",
      "Epoch 11/300\n",
      "15548/15548 [==============================] - ETA: 0s - loss: 0.6131 - acc: 0.690 - ETA: 0s - loss: 0.6411 - acc: 0.633 - ETA: 0s - loss: 0.6463 - acc: 0.629 - ETA: 0s - loss: 0.6481 - acc: 0.628 - ETA: 0s - loss: 0.6500 - acc: 0.622 - 0s 18us/sample - loss: 0.6500 - acc: 0.6225 - val_loss: 0.6510 - val_acc: 0.6172\n",
      "Epoch 12/300\n",
      "15548/15548 [==============================] - ETA: 0s - loss: 0.6659 - acc: 0.610 - ETA: 0s - loss: 0.6533 - acc: 0.608 - ETA: 0s - loss: 0.6511 - acc: 0.611 - ETA: 0s - loss: 0.6480 - acc: 0.618 - ETA: 0s - loss: 0.6471 - acc: 0.622 - 0s 20us/sample - loss: 0.6469 - acc: 0.6229 - val_loss: 0.6471 - val_acc: 0.6241\n",
      "Epoch 13/300\n",
      "15548/15548 [==============================] - ETA: 0s - loss: 0.6324 - acc: 0.660 - ETA: 0s - loss: 0.6424 - acc: 0.626 - ETA: 0s - loss: 0.6449 - acc: 0.617 - ETA: 0s - loss: 0.6454 - acc: 0.618 - ETA: 0s - loss: 0.6464 - acc: 0.618 - 0s 19us/sample - loss: 0.6457 - acc: 0.6202 - val_loss: 0.6475 - val_acc: 0.6224\n",
      "Epoch 14/300\n",
      "15548/15548 [==============================] - ETA: 0s - loss: 0.6467 - acc: 0.625 - ETA: 0s - loss: 0.6379 - acc: 0.634 - ETA: 0s - loss: 0.6424 - acc: 0.627 - ETA: 0s - loss: 0.6454 - acc: 0.625 - ETA: 0s - loss: 0.6448 - acc: 0.624 - 0s 18us/sample - loss: 0.6450 - acc: 0.6241 - val_loss: 0.6459 - val_acc: 0.6241\n",
      "Epoch 15/300\n",
      "15548/15548 [==============================] - ETA: 0s - loss: 0.6309 - acc: 0.655 - ETA: 0s - loss: 0.6401 - acc: 0.625 - ETA: 0s - loss: 0.6399 - acc: 0.626 - ETA: 0s - loss: 0.6400 - acc: 0.630 - ETA: 0s - loss: 0.6424 - acc: 0.626 - 0s 19us/sample - loss: 0.6421 - acc: 0.6265 - val_loss: 0.6479 - val_acc: 0.6199\n",
      "Epoch 16/300\n",
      "15548/15548 [==============================] - ETA: 0s - loss: 0.6476 - acc: 0.590 - ETA: 0s - loss: 0.6317 - acc: 0.637 - ETA: 0s - loss: 0.6382 - acc: 0.631 - ETA: 0s - loss: 0.6370 - acc: 0.633 - ETA: 0s - loss: 0.6381 - acc: 0.633 - 0s 18us/sample - loss: 0.6394 - acc: 0.6320 - val_loss: 0.6453 - val_acc: 0.6209\n",
      "Epoch 17/300\n",
      "15548/15548 [==============================] - ETA: 0s - loss: 0.6298 - acc: 0.620 - ETA: 0s - loss: 0.6476 - acc: 0.612 - ETA: 0s - loss: 0.6388 - acc: 0.629 - ETA: 0s - loss: 0.6368 - acc: 0.633 - ETA: 0s - loss: 0.6409 - acc: 0.626 - 0s 20us/sample - loss: 0.6405 - acc: 0.6284 - val_loss: 0.6448 - val_acc: 0.6280\n",
      "Epoch 18/300\n",
      "15548/15548 [==============================] - ETA: 0s - loss: 0.6619 - acc: 0.585 - ETA: 0s - loss: 0.6344 - acc: 0.636 - ETA: 0s - loss: 0.6373 - acc: 0.629 - ETA: 0s - loss: 0.6393 - acc: 0.628 - ETA: 0s - loss: 0.6376 - acc: 0.628 - 0s 18us/sample - loss: 0.6379 - acc: 0.6280 - val_loss: 0.6436 - val_acc: 0.6238\n",
      "Epoch 19/300\n",
      "15548/15548 [==============================] - ETA: 0s - loss: 0.5786 - acc: 0.700 - ETA: 0s - loss: 0.6192 - acc: 0.648 - ETA: 0s - loss: 0.6349 - acc: 0.635 - ETA: 0s - loss: 0.6368 - acc: 0.631 - ETA: 0s - loss: 0.6377 - acc: 0.632 - 0s 18us/sample - loss: 0.6379 - acc: 0.6323 - val_loss: 0.6435 - val_acc: 0.6241\n",
      "Epoch 20/300\n",
      "15548/15548 [==============================] - ETA: 0s - loss: 0.6514 - acc: 0.630 - ETA: 0s - loss: 0.6333 - acc: 0.633 - ETA: 0s - loss: 0.6355 - acc: 0.632 - ETA: 0s - loss: 0.6343 - acc: 0.630 - ETA: 0s - loss: 0.6359 - acc: 0.628 - 0s 18us/sample - loss: 0.6352 - acc: 0.6297 - val_loss: 0.6407 - val_acc: 0.6276\n",
      "Epoch 21/300\n",
      "15548/15548 [==============================] - ETA: 0s - loss: 0.6102 - acc: 0.675 - ETA: 0s - loss: 0.6326 - acc: 0.638 - ETA: 0s - loss: 0.6359 - acc: 0.632 - ETA: 0s - loss: 0.6335 - acc: 0.632 - ETA: 0s - loss: 0.6337 - acc: 0.631 - 0s 18us/sample - loss: 0.6339 - acc: 0.6320 - val_loss: 0.6417 - val_acc: 0.6244\n",
      "Epoch 22/300\n",
      "15548/15548 [==============================] - ETA: 0s - loss: 0.5978 - acc: 0.640 - ETA: 0s - loss: 0.6254 - acc: 0.633 - ETA: 0s - loss: 0.6319 - acc: 0.629 - ETA: 0s - loss: 0.6307 - acc: 0.629 - ETA: 0s - loss: 0.6317 - acc: 0.630 - 0s 18us/sample - loss: 0.6331 - acc: 0.6284 - val_loss: 0.6425 - val_acc: 0.6205\n",
      "Epoch 23/300\n",
      "15548/15548 [==============================] - ETA: 0s - loss: 0.6179 - acc: 0.655 - ETA: 0s - loss: 0.6352 - acc: 0.628 - ETA: 0s - loss: 0.6302 - acc: 0.640 - ETA: 0s - loss: 0.6312 - acc: 0.636 - ETA: 0s - loss: 0.6332 - acc: 0.633 - 0s 21us/sample - loss: 0.6325 - acc: 0.6346 - val_loss: 0.6393 - val_acc: 0.6294\n",
      "Epoch 24/300\n",
      "15548/15548 [==============================] - ETA: 0s - loss: 0.6301 - acc: 0.625 - ETA: 0s - loss: 0.6326 - acc: 0.630 - ETA: 0s - loss: 0.6326 - acc: 0.635 - ETA: 0s - loss: 0.6322 - acc: 0.635 - ETA: 0s - loss: 0.6322 - acc: 0.632 - 0s 18us/sample - loss: 0.6313 - acc: 0.6333 - val_loss: 0.6423 - val_acc: 0.6242\n",
      "Epoch 25/300\n"
     ]
    },
    {
     "name": "stdout",
     "output_type": "stream",
     "text": [
      "15548/15548 [==============================] - ETA: 0s - loss: 0.6242 - acc: 0.645 - ETA: 0s - loss: 0.6247 - acc: 0.645 - ETA: 0s - loss: 0.6214 - acc: 0.642 - ETA: 0s - loss: 0.6239 - acc: 0.643 - ETA: 0s - loss: 0.6264 - acc: 0.641 - 0s 18us/sample - loss: 0.6275 - acc: 0.6398 - val_loss: 0.6387 - val_acc: 0.6241\n",
      "Epoch 26/300\n",
      "15548/15548 [==============================] - ETA: 0s - loss: 0.6717 - acc: 0.595 - ETA: 0s - loss: 0.6292 - acc: 0.636 - ETA: 0s - loss: 0.6238 - acc: 0.640 - ETA: 0s - loss: 0.6248 - acc: 0.640 - ETA: 0s - loss: 0.6294 - acc: 0.634 - 0s 19us/sample - loss: 0.6293 - acc: 0.6360 - val_loss: 0.6431 - val_acc: 0.6182\n",
      "Epoch 27/300\n",
      "15548/15548 [==============================] - ETA: 0s - loss: 0.6372 - acc: 0.645 - ETA: 0s - loss: 0.6363 - acc: 0.631 - ETA: 0s - loss: 0.6304 - acc: 0.635 - ETA: 0s - loss: 0.6277 - acc: 0.638 - ETA: 0s - loss: 0.6295 - acc: 0.635 - 0s 19us/sample - loss: 0.6289 - acc: 0.6364 - val_loss: 0.6395 - val_acc: 0.6244\n",
      "Epoch 28/300\n",
      "15548/15548 [==============================] - ETA: 0s - loss: 0.6372 - acc: 0.615 - ETA: 0s - loss: 0.6264 - acc: 0.645 - ETA: 0s - loss: 0.6296 - acc: 0.638 - ETA: 0s - loss: 0.6281 - acc: 0.639 - ETA: 0s - loss: 0.6274 - acc: 0.638 - 0s 19us/sample - loss: 0.6270 - acc: 0.6403 - val_loss: 0.6417 - val_acc: 0.6242\n",
      "Epoch 29/300\n",
      "15548/15548 [==============================] - ETA: 0s - loss: 0.6269 - acc: 0.650 - ETA: 0s - loss: 0.6267 - acc: 0.633 - ETA: 0s - loss: 0.6292 - acc: 0.635 - ETA: 0s - loss: 0.6282 - acc: 0.637 - ETA: 0s - loss: 0.6262 - acc: 0.636 - 0s 18us/sample - loss: 0.6267 - acc: 0.6368 - val_loss: 0.6361 - val_acc: 0.6271\n",
      "Epoch 30/300\n",
      "15548/15548 [==============================] - ETA: 0s - loss: 0.5892 - acc: 0.650 - ETA: 0s - loss: 0.6260 - acc: 0.645 - ETA: 0s - loss: 0.6238 - acc: 0.641 - ETA: 0s - loss: 0.6251 - acc: 0.640 - ETA: 0s - loss: 0.6257 - acc: 0.639 - 0s 18us/sample - loss: 0.6255 - acc: 0.6398 - val_loss: 0.6381 - val_acc: 0.6206\n",
      "Epoch 31/300\n",
      "15548/15548 [==============================] - ETA: 0s - loss: 0.5709 - acc: 0.675 - ETA: 0s - loss: 0.6241 - acc: 0.635 - ETA: 0s - loss: 0.6213 - acc: 0.638 - ETA: 0s - loss: 0.6218 - acc: 0.640 - 0s 19us/sample - loss: 0.6222 - acc: 0.6387 - val_loss: 0.6361 - val_acc: 0.6309\n",
      "Epoch 32/300\n",
      "15548/15548 [==============================] - ETA: 0s - loss: 0.6241 - acc: 0.665 - ETA: 0s - loss: 0.6134 - acc: 0.652 - ETA: 0s - loss: 0.6222 - acc: 0.643 - ETA: 0s - loss: 0.6213 - acc: 0.643 - ETA: 0s - loss: 0.6242 - acc: 0.640 - 0s 18us/sample - loss: 0.6223 - acc: 0.6432 - val_loss: 0.6350 - val_acc: 0.6270\n",
      "Epoch 33/300\n",
      "15548/15548 [==============================] - ETA: 0s - loss: 0.6107 - acc: 0.620 - ETA: 0s - loss: 0.6232 - acc: 0.637 - ETA: 0s - loss: 0.6225 - acc: 0.643 - ETA: 0s - loss: 0.6211 - acc: 0.643 - ETA: 0s - loss: 0.6231 - acc: 0.639 - 0s 18us/sample - loss: 0.6233 - acc: 0.6400 - val_loss: 0.6389 - val_acc: 0.6252\n",
      "Epoch 34/300\n",
      "15548/15548 [==============================] - ETA: 0s - loss: 0.5805 - acc: 0.695 - ETA: 0s - loss: 0.6206 - acc: 0.646 - ETA: 0s - loss: 0.6208 - acc: 0.645 - ETA: 0s - loss: 0.6220 - acc: 0.647 - ETA: 0s - loss: 0.6216 - acc: 0.647 - 0s 18us/sample - loss: 0.6215 - acc: 0.6474 - val_loss: 0.6383 - val_acc: 0.6253\n",
      "Epoch 35/300\n",
      "15548/15548 [==============================] - ETA: 0s - loss: 0.6246 - acc: 0.625 - ETA: 0s - loss: 0.6179 - acc: 0.648 - ETA: 0s - loss: 0.6201 - acc: 0.640 - ETA: 0s - loss: 0.6195 - acc: 0.641 - ETA: 0s - loss: 0.6180 - acc: 0.645 - 0s 19us/sample - loss: 0.6187 - acc: 0.6445 - val_loss: 0.6389 - val_acc: 0.6248\n",
      "Epoch 36/300\n",
      "15548/15548 [==============================] - ETA: 0s - loss: 0.6322 - acc: 0.640 - ETA: 0s - loss: 0.6024 - acc: 0.660 - ETA: 0s - loss: 0.6103 - acc: 0.655 - ETA: 0s - loss: 0.6170 - acc: 0.647 - ETA: 0s - loss: 0.6175 - acc: 0.648 - 0s 19us/sample - loss: 0.6179 - acc: 0.6485 - val_loss: 0.6386 - val_acc: 0.6242\n",
      "Epoch 37/300\n",
      "15548/15548 [==============================] - ETA: 0s - loss: 0.6215 - acc: 0.655 - ETA: 0s - loss: 0.6189 - acc: 0.649 - ETA: 0s - loss: 0.6199 - acc: 0.646 - ETA: 0s - loss: 0.6181 - acc: 0.650 - ETA: 0s - loss: 0.6193 - acc: 0.648 - 0s 18us/sample - loss: 0.6189 - acc: 0.6488 - val_loss: 0.6383 - val_acc: 0.6230\n",
      "Epoch 38/300\n",
      "15548/15548 [==============================] - ETA: 0s - loss: 0.6289 - acc: 0.645 - ETA: 0s - loss: 0.6097 - acc: 0.649 - ETA: 0s - loss: 0.6133 - acc: 0.650 - ETA: 0s - loss: 0.6176 - acc: 0.646 - ETA: 0s - loss: 0.6176 - acc: 0.647 - 0s 18us/sample - loss: 0.6188 - acc: 0.6453 - val_loss: 0.6430 - val_acc: 0.6253\n",
      "Epoch 39/300\n",
      "15548/15548 [==============================] - ETA: 0s - loss: 0.6386 - acc: 0.615 - ETA: 0s - loss: 0.6166 - acc: 0.645 - ETA: 0s - loss: 0.6174 - acc: 0.644 - ETA: 0s - loss: 0.6152 - acc: 0.651 - ETA: 0s - loss: 0.6153 - acc: 0.651 - 0s 18us/sample - loss: 0.6161 - acc: 0.6501 - val_loss: 0.6401 - val_acc: 0.6229\n",
      "Epoch 40/300\n",
      "15548/15548 [==============================] - ETA: 0s - loss: 0.5914 - acc: 0.680 - ETA: 0s - loss: 0.6139 - acc: 0.647 - ETA: 0s - loss: 0.6179 - acc: 0.646 - ETA: 0s - loss: 0.6163 - acc: 0.647 - ETA: 0s - loss: 0.6172 - acc: 0.648 - 0s 18us/sample - loss: 0.6162 - acc: 0.6497 - val_loss: 0.6377 - val_acc: 0.6252\n",
      "Epoch 41/300\n",
      "15548/15548 [==============================] - ETA: 0s - loss: 0.6117 - acc: 0.660 - ETA: 0s - loss: 0.6189 - acc: 0.644 - ETA: 0s - loss: 0.6101 - acc: 0.654 - ETA: 0s - loss: 0.6114 - acc: 0.653 - ETA: 0s - loss: 0.6135 - acc: 0.650 - 0s 18us/sample - loss: 0.6148 - acc: 0.6493 - val_loss: 0.6406 - val_acc: 0.6131\n",
      "Epoch 42/300\n",
      "15548/15548 [==============================] - ETA: 0s - loss: 0.5793 - acc: 0.645 - ETA: 0s - loss: 0.6056 - acc: 0.660 - ETA: 0s - loss: 0.6076 - acc: 0.655 - ETA: 0s - loss: 0.6086 - acc: 0.656 - ETA: 0s - loss: 0.6091 - acc: 0.658 - 0s 18us/sample - loss: 0.6123 - acc: 0.6553 - val_loss: 0.6372 - val_acc: 0.6215\n",
      "Epoch 43/300\n",
      "15548/15548 [==============================] - ETA: 0s - loss: 0.6100 - acc: 0.670 - ETA: 0s - loss: 0.6075 - acc: 0.659 - ETA: 0s - loss: 0.6112 - acc: 0.655 - ETA: 0s - loss: 0.6111 - acc: 0.654 - ETA: 0s - loss: 0.6127 - acc: 0.653 - 0s 17us/sample - loss: 0.6125 - acc: 0.6535 - val_loss: 0.6411 - val_acc: 0.6223\n",
      "Epoch 44/300\n",
      "15548/15548 [==============================] - ETA: 0s - loss: 0.5830 - acc: 0.660 - ETA: 0s - loss: 0.5952 - acc: 0.671 - ETA: 0s - loss: 0.6073 - acc: 0.655 - ETA: 0s - loss: 0.6101 - acc: 0.654 - ETA: 0s - loss: 0.6118 - acc: 0.653 - 0s 19us/sample - loss: 0.6116 - acc: 0.6542 - val_loss: 0.6413 - val_acc: 0.6236\n",
      "Epoch 45/300\n",
      "15548/15548 [==============================] - ETA: 0s - loss: 0.6190 - acc: 0.620 - ETA: 0s - loss: 0.6171 - acc: 0.639 - ETA: 0s - loss: 0.6127 - acc: 0.648 - ETA: 0s - loss: 0.6117 - acc: 0.648 - ETA: 0s - loss: 0.6118 - acc: 0.648 - 0s 18us/sample - loss: 0.6101 - acc: 0.6509 - val_loss: 0.6408 - val_acc: 0.6217\n",
      "Epoch 46/300\n",
      "15548/15548 [==============================] - ETA: 0s - loss: 0.6231 - acc: 0.635 - ETA: 0s - loss: 0.5997 - acc: 0.663 - ETA: 0s - loss: 0.6062 - acc: 0.652 - ETA: 0s - loss: 0.6085 - acc: 0.655 - ETA: 0s - loss: 0.6077 - acc: 0.658 - 0s 19us/sample - loss: 0.6085 - acc: 0.6562 - val_loss: 0.6410 - val_acc: 0.6164\n",
      "Epoch 00046: early stopping\n"
     ]
    }
   ],
   "source": [
    "# Set early stop\n",
    "from keras . callbacks import EarlyStopping , ModelCheckpoint\n",
    "\n",
    "callbacks_ = [\n",
    "# if we don ’t have an increase of the accuracy for 15 epochs , terminate training .\n",
    "EarlyStopping ( verbose = True , patience =15 , monitor ='val_acc' ) ,\n",
    "# Always make sure that we ’re saving the model weights with the best accuracy .\n",
    "ModelCheckpoint ('model .h5' , monitor ='val_acc' , verbose =0 , save_best_only = True , mode ='max' )]\n",
    "\n",
    "model0 = my_model(12,100,3)\n",
    "\n",
    "history0 =  model0. fit ( train_data0 , train_target0 , batch_size = 200 , epochs = 300 , verbose =1 , validation_data =( test_data0 , test_target0 ) , callbacks = callbacks_ )"
   ]
  },
  {
   "cell_type": "code",
   "execution_count": 73,
   "metadata": {},
   "outputs": [
    {
     "data": {
      "image/png": "[encoded data removed]",
      "text/plain": [
       "<Figure size 720x360 with 1 Axes>"
      ]
     },
     "metadata": {
      "needs_background": "light"
     },
     "output_type": "display_data"
    }
   ],
   "source": [
    "# Loss\n",
    "lossplot(history0.history['loss'], scale='log');"
   ]
  },
  {
   "cell_type": "code",
   "execution_count": 74,
   "metadata": {},
   "outputs": [
    {
     "data": {
      "image/png": "[encoded data removed]",
      "text/plain": [
       "<Figure size 720x360 with 1 Axes>"
      ]
     },
     "metadata": {
      "needs_background": "light"
     },
     "output_type": "display_data"
    }
   ],
   "source": [
    "# Accuracy\n",
    "accplot(history0.history['val_acc'], scale='linear')"
   ]
  },
  {
   "cell_type": "code",
   "execution_count": 75,
   "metadata": {},
   "outputs": [],
   "source": [
    "from sklearn.metrics import confusion_matrix, roc_curve"
   ]
  },
  {
   "cell_type": "code",
   "execution_count": 76,
   "metadata": {},
   "outputs": [
    {
     "data": {
      "image/png": "[encoded data removed]",
      "text/plain": [
       "<Figure size 432x288 with 2 Axes>"
      ]
     },
     "metadata": {
      "needs_background": "light"
     },
     "output_type": "display_data"
    }
   ],
   "source": [
    "# Predictions\n",
    "pred0 = model0.predict(test_data0)\n",
    "\n",
    "# Convert probabilities into binary outputs\n",
    "bi = []\n",
    "p = []\n",
    "for i in pred0:\n",
    "    if i[0]>0.5:\n",
    "        bi.append(1)\n",
    "        p.append(i[0])\n",
    "    else:\n",
    "        bi.append(0)\n",
    "        p.append(i[0])\n",
    "        \n",
    "# Define confusion matrix and classes\n",
    "cm = confusion_matrix(test_target0.tolist(),bi)\n",
    "classes=[0,1]\n",
    "\n",
    "# Plot heat map\n",
    "heatmap(cm,normalize=True,labels=['predicted','true'],classes=[['0','1'],['0','1']])"
   ]
  },
  {
   "cell_type": "code",
   "execution_count": 77,
   "metadata": {},
   "outputs": [
    {
     "data": {
      "image/png": "[encoded data removed]",
      "text/plain": [
       "<Figure size 432x288 with 1 Axes>"
      ]
     },
     "metadata": {
      "needs_background": "light"
     },
     "output_type": "display_data"
    }
   ],
   "source": [
    "# Calculate false positive rate and true positive rate\n",
    "fpr, tpr, threshold = roc_curve(test_target0, pred0)\n",
    "roc_auc = metrics.auc(fpr, tpr)\n",
    "# Plot ROC curve\n",
    "plt.title('Receiver Operating Characteristic')\n",
    "plt.plot(fpr, tpr, 'b', label = 'AUC = %0.2f' % roc_auc)\n",
    "plt.legend(loc = 'lower right')\n",
    "plt.plot([0, 1], [0, 1],'r--')\n",
    "plt.xlim([0, 1])\n",
    "plt.ylim([0, 1])\n",
    "plt.ylabel('True Positive Rate')\n",
    "plt.xlabel('False Positive Rate')\n",
    "plt.show()"
   ]
  },
  {
   "cell_type": "markdown",
   "metadata": {},
   "source": [
    "## CP0 vs background"
   ]
  },
  {
   "cell_type": "code",
   "execution_count": 78,
   "metadata": {},
   "outputs": [
    {
     "data": {
      "text/html": [
       "<div>\n",
       "<style scoped>\n",
       "    .dataframe tbody tr th:only-of-type {\n",
       "        vertical-align: middle;\n",
       "    }\n",
       "\n",
       "    .dataframe tbody tr th {\n",
       "        vertical-align: top;\n",
       "    }\n",
       "\n",
       "    .dataframe thead th {\n",
       "        text-align: right;\n",
       "    }\n",
       "</style>\n",
       "<table border=\"1\" class=\"dataframe\">\n",
       "  <thead>\n",
       "    <tr style=\"text-align: right;\">\n",
       "      <th></th>\n",
       "      <th>phib</th>\n",
       "      <th>phif</th>\n",
       "      <th>phitstar</th>\n",
       "      <th>phiw</th>\n",
       "      <th>t</th>\n",
       "      <th>thetab</th>\n",
       "      <th>thetaf</th>\n",
       "      <th>thetah</th>\n",
       "      <th>thetat</th>\n",
       "      <th>thetaw</th>\n",
       "      <th>tt</th>\n",
       "      <th>tth</th>\n",
       "      <th>isSignal</th>\n",
       "    </tr>\n",
       "  </thead>\n",
       "  <tbody>\n",
       "    <tr>\n",
       "      <td>0</td>\n",
       "      <td>2.666109</td>\n",
       "      <td>0.659017</td>\n",
       "      <td>1.218142</td>\n",
       "      <td>0.900543</td>\n",
       "      <td>402.820879</td>\n",
       "      <td>0.453174</td>\n",
       "      <td>0.066293</td>\n",
       "      <td>-0.946580</td>\n",
       "      <td>0.347793</td>\n",
       "      <td>0.706379</td>\n",
       "      <td>980.827796</td>\n",
       "      <td>1179.845163</td>\n",
       "      <td>0</td>\n",
       "    </tr>\n",
       "    <tr>\n",
       "      <td>1</td>\n",
       "      <td>2.633734</td>\n",
       "      <td>1.050419</td>\n",
       "      <td>1.514080</td>\n",
       "      <td>0.070999</td>\n",
       "      <td>146.588285</td>\n",
       "      <td>0.618619</td>\n",
       "      <td>-0.405857</td>\n",
       "      <td>0.778213</td>\n",
       "      <td>0.962535</td>\n",
       "      <td>0.858379</td>\n",
       "      <td>487.019795</td>\n",
       "      <td>653.468546</td>\n",
       "      <td>0</td>\n",
       "    </tr>\n",
       "    <tr>\n",
       "      <td>2</td>\n",
       "      <td>0.191305</td>\n",
       "      <td>1.442063</td>\n",
       "      <td>1.512599</td>\n",
       "      <td>0.471443</td>\n",
       "      <td>160.697518</td>\n",
       "      <td>0.835139</td>\n",
       "      <td>-0.061159</td>\n",
       "      <td>0.823676</td>\n",
       "      <td>0.081424</td>\n",
       "      <td>0.956929</td>\n",
       "      <td>636.961543</td>\n",
       "      <td>841.914035</td>\n",
       "      <td>0</td>\n",
       "    </tr>\n",
       "    <tr>\n",
       "      <td>3</td>\n",
       "      <td>2.400480</td>\n",
       "      <td>2.663370</td>\n",
       "      <td>1.923765</td>\n",
       "      <td>0.201620</td>\n",
       "      <td>159.861300</td>\n",
       "      <td>0.707089</td>\n",
       "      <td>-0.929448</td>\n",
       "      <td>-0.394958</td>\n",
       "      <td>0.362984</td>\n",
       "      <td>0.362894</td>\n",
       "      <td>976.467591</td>\n",
       "      <td>1110.236748</td>\n",
       "      <td>0</td>\n",
       "    </tr>\n",
       "    <tr>\n",
       "      <td>4</td>\n",
       "      <td>2.602972</td>\n",
       "      <td>2.379159</td>\n",
       "      <td>1.428661</td>\n",
       "      <td>1.312775</td>\n",
       "      <td>228.193340</td>\n",
       "      <td>0.950061</td>\n",
       "      <td>-0.422071</td>\n",
       "      <td>-0.516657</td>\n",
       "      <td>0.610768</td>\n",
       "      <td>0.686665</td>\n",
       "      <td>940.026766</td>\n",
       "      <td>1123.360261</td>\n",
       "      <td>1</td>\n",
       "    </tr>\n",
       "    <tr>\n",
       "      <td>...</td>\n",
       "      <td>...</td>\n",
       "      <td>...</td>\n",
       "      <td>...</td>\n",
       "      <td>...</td>\n",
       "      <td>...</td>\n",
       "      <td>...</td>\n",
       "      <td>...</td>\n",
       "      <td>...</td>\n",
       "      <td>...</td>\n",
       "      <td>...</td>\n",
       "      <td>...</td>\n",
       "      <td>...</td>\n",
       "      <td>...</td>\n",
       "    </tr>\n",
       "    <tr>\n",
       "      <td>22207</td>\n",
       "      <td>0.617145</td>\n",
       "      <td>1.558053</td>\n",
       "      <td>2.009384</td>\n",
       "      <td>0.422967</td>\n",
       "      <td>689.344578</td>\n",
       "      <td>0.567627</td>\n",
       "      <td>-0.789562</td>\n",
       "      <td>0.712741</td>\n",
       "      <td>0.697871</td>\n",
       "      <td>0.001010</td>\n",
       "      <td>1087.259019</td>\n",
       "      <td>1303.505239</td>\n",
       "      <td>0</td>\n",
       "    </tr>\n",
       "    <tr>\n",
       "      <td>22208</td>\n",
       "      <td>2.253724</td>\n",
       "      <td>1.330466</td>\n",
       "      <td>2.475894</td>\n",
       "      <td>1.290946</td>\n",
       "      <td>167.627370</td>\n",
       "      <td>0.422291</td>\n",
       "      <td>0.933522</td>\n",
       "      <td>0.991576</td>\n",
       "      <td>0.518758</td>\n",
       "      <td>0.417906</td>\n",
       "      <td>319.781103</td>\n",
       "      <td>472.132595</td>\n",
       "      <td>0</td>\n",
       "    </tr>\n",
       "    <tr>\n",
       "      <td>22209</td>\n",
       "      <td>3.026516</td>\n",
       "      <td>2.817986</td>\n",
       "      <td>2.652779</td>\n",
       "      <td>2.583968</td>\n",
       "      <td>405.074000</td>\n",
       "      <td>0.484208</td>\n",
       "      <td>0.017505</td>\n",
       "      <td>-0.902279</td>\n",
       "      <td>0.532101</td>\n",
       "      <td>0.789573</td>\n",
       "      <td>779.623333</td>\n",
       "      <td>941.757176</td>\n",
       "      <td>1</td>\n",
       "    </tr>\n",
       "    <tr>\n",
       "      <td>22210</td>\n",
       "      <td>2.832917</td>\n",
       "      <td>1.292186</td>\n",
       "      <td>1.424796</td>\n",
       "      <td>2.386450</td>\n",
       "      <td>162.580358</td>\n",
       "      <td>0.802640</td>\n",
       "      <td>0.909869</td>\n",
       "      <td>0.927811</td>\n",
       "      <td>0.933942</td>\n",
       "      <td>0.901298</td>\n",
       "      <td>1250.525708</td>\n",
       "      <td>1435.903622</td>\n",
       "      <td>1</td>\n",
       "    </tr>\n",
       "    <tr>\n",
       "      <td>22211</td>\n",
       "      <td>1.629996</td>\n",
       "      <td>0.464268</td>\n",
       "      <td>1.237801</td>\n",
       "      <td>2.645701</td>\n",
       "      <td>276.881887</td>\n",
       "      <td>0.837029</td>\n",
       "      <td>-0.537920</td>\n",
       "      <td>-0.128950</td>\n",
       "      <td>0.882596</td>\n",
       "      <td>0.650957</td>\n",
       "      <td>532.260425</td>\n",
       "      <td>658.547562</td>\n",
       "      <td>0</td>\n",
       "    </tr>\n",
       "  </tbody>\n",
       "</table>\n",
       "<p>22212 rows × 13 columns</p>\n",
       "</div>"
      ],
      "text/plain": [
       "           phib      phif  phitstar      phiw           t    thetab    thetaf  \\\n",
       "0      2.666109  0.659017  1.218142  0.900543  402.820879  0.453174  0.066293   \n",
       "1      2.633734  1.050419  1.514080  0.070999  146.588285  0.618619 -0.405857   \n",
       "2      0.191305  1.442063  1.512599  0.471443  160.697518  0.835139 -0.061159   \n",
       "3      2.400480  2.663370  1.923765  0.201620  159.861300  0.707089 -0.929448   \n",
       "4      2.602972  2.379159  1.428661  1.312775  228.193340  0.950061 -0.422071   \n",
       "...         ...       ...       ...       ...         ...       ...       ...   \n",
       "22207  0.617145  1.558053  2.009384  0.422967  689.344578  0.567627 -0.789562   \n",
       "22208  2.253724  1.330466  2.475894  1.290946  167.627370  0.422291  0.933522   \n",
       "22209  3.026516  2.817986  2.652779  2.583968  405.074000  0.484208  0.017505   \n",
       "22210  2.832917  1.292186  1.424796  2.386450  162.580358  0.802640  0.909869   \n",
       "22211  1.629996  0.464268  1.237801  2.645701  276.881887  0.837029 -0.537920   \n",
       "\n",
       "         thetah    thetat    thetaw           tt          tth  isSignal  \n",
       "0     -0.946580  0.347793  0.706379   980.827796  1179.845163         0  \n",
       "1      0.778213  0.962535  0.858379   487.019795   653.468546         0  \n",
       "2      0.823676  0.081424  0.956929   636.961543   841.914035         0  \n",
       "3     -0.394958  0.362984  0.362894   976.467591  1110.236748         0  \n",
       "4     -0.516657  0.610768  0.686665   940.026766  1123.360261         1  \n",
       "...         ...       ...       ...          ...          ...       ...  \n",
       "22207  0.712741  0.697871  0.001010  1087.259019  1303.505239         0  \n",
       "22208  0.991576  0.518758  0.417906   319.781103   472.132595         0  \n",
       "22209 -0.902279  0.532101  0.789573   779.623333   941.757176         1  \n",
       "22210  0.927811  0.933942  0.901298  1250.525708  1435.903622         1  \n",
       "22211 -0.128950  0.882596  0.650957   532.260425   658.547562         0  \n",
       "\n",
       "[22212 rows x 13 columns]"
      ]
     },
     "execution_count": 78,
     "metadata": {},
     "output_type": "execute_result"
    }
   ],
   "source": [
    "# sample signal: alpha = 0\n",
    "S1 = s1.sample(b.shape[0], random_state=42)\n",
    "\n",
    "# training dataset\n",
    "train1 = pd.concat([S1,b])\n",
    "\n",
    "# Shuffle training dataset\n",
    "train1 = shuffle(train1,random_state=42).reset_index(drop=True)\n",
    "train1"
   ]
  },
  {
   "cell_type": "code",
   "execution_count": 79,
   "metadata": {},
   "outputs": [
    {
     "name": "stdout",
     "output_type": "stream",
     "text": [
      "(15548, 12) (15548,) (6664, 12) (6664,)\n"
     ]
    }
   ],
   "source": [
    "# Standardize\n",
    "sc1 = preprocessing . StandardScaler ()\n",
    "input_data1 = sc1 . fit_transform ( train1[c0[0:12]] )\n",
    "target1 = train1['isSignal']\n",
    "\n",
    "# train - test split of dataset\n",
    "train_data1 , test_data1 , train_target1 , test_target1 = model_selection . train_test_split (\\\n",
    "input_data1 , target1 , test_size =0.3 , random_state = Answer_to_all_questions )\n",
    "# Check shape\n",
    "print ( train_data1 . shape , train_target1 . shape , test_data1 . shape , test_target1 . shape )"
   ]
  },
  {
   "cell_type": "code",
   "execution_count": 80,
   "metadata": {
    "scrolled": true
   },
   "outputs": [
    {
     "name": "stdout",
     "output_type": "stream",
     "text": [
      "Train on 15548 samples, validate on 6664 samples\n",
      "Epoch 1/300\n",
      "15548/15548 [==============================] - ETA: 13s - loss: 0.6941 - acc: 0.46 - ETA: 1s - loss: 0.6920 - acc: 0.5161 - ETA: 0s - loss: 0.6918 - acc: 0.518 - ETA: 0s - loss: 0.6913 - acc: 0.522 - ETA: 0s - loss: 0.6911 - acc: 0.524 - ETA: 0s - loss: 0.6907 - acc: 0.529 - 1s 42us/sample - loss: 0.6907 - acc: 0.5293 - val_loss: 0.6862 - val_acc: 0.5513\n",
      "Epoch 2/300\n",
      "15548/15548 [==============================] - ETA: 0s - loss: 0.6842 - acc: 0.590 - ETA: 0s - loss: 0.6866 - acc: 0.554 - ETA: 0s - loss: 0.6850 - acc: 0.558 - ETA: 0s - loss: 0.6850 - acc: 0.555 - ETA: 0s - loss: 0.6837 - acc: 0.562 - 0s 19us/sample - loss: 0.6834 - acc: 0.5632 - val_loss: 0.6755 - val_acc: 0.5741\n",
      "Epoch 3/300\n",
      "15548/15548 [==============================] - ETA: 0s - loss: 0.6498 - acc: 0.685 - ETA: 0s - loss: 0.6707 - acc: 0.594 - ETA: 0s - loss: 0.6721 - acc: 0.588 - ETA: 0s - loss: 0.6730 - acc: 0.584 - ETA: 0s - loss: 0.6738 - acc: 0.583 - ETA: 0s - loss: 0.6738 - acc: 0.584 - ETA: 0s - loss: 0.6728 - acc: 0.582 - ETA: 0s - loss: 0.6729 - acc: 0.582 - ETA: 0s - loss: 0.6732 - acc: 0.581 - ETA: 0s - loss: 0.6728 - acc: 0.582 - 1s 42us/sample - loss: 0.6733 - acc: 0.5812 - val_loss: 0.6631 - val_acc: 0.5995\n",
      "Epoch 4/300\n",
      "15548/15548 [==============================] - ETA: 0s - loss: 0.6636 - acc: 0.595 - ETA: 0s - loss: 0.6629 - acc: 0.605 - ETA: 0s - loss: 0.6690 - acc: 0.595 - ETA: 0s - loss: 0.6659 - acc: 0.598 - ETA: 0s - loss: 0.6645 - acc: 0.600 - ETA: 0s - loss: 0.6659 - acc: 0.597 - 0s 24us/sample - loss: 0.6664 - acc: 0.5974 - val_loss: 0.6588 - val_acc: 0.6064\n",
      "Epoch 5/300\n",
      "15548/15548 [==============================] - ETA: 0s - loss: 0.6623 - acc: 0.595 - ETA: 0s - loss: 0.6538 - acc: 0.624 - ETA: 0s - loss: 0.6578 - acc: 0.620 - ETA: 0s - loss: 0.6578 - acc: 0.618 - ETA: 0s - loss: 0.6586 - acc: 0.615 - ETA: 0s - loss: 0.6581 - acc: 0.616 - ETA: 0s - loss: 0.6600 - acc: 0.611 - 0s 28us/sample - loss: 0.6597 - acc: 0.6122 - val_loss: 0.6570 - val_acc: 0.6166\n",
      "Epoch 6/300\n",
      "15548/15548 [==============================] - ETA: 0s - loss: 0.6570 - acc: 0.600 - ETA: 0s - loss: 0.6609 - acc: 0.609 - ETA: 0s - loss: 0.6560 - acc: 0.616 - ETA: 0s - loss: 0.6579 - acc: 0.613 - ETA: 0s - loss: 0.6573 - acc: 0.609 - ETA: 0s - loss: 0.6583 - acc: 0.609 - ETA: 0s - loss: 0.6580 - acc: 0.610 - 0s 27us/sample - loss: 0.6579 - acc: 0.6099 - val_loss: 0.6539 - val_acc: 0.6128\n",
      "Epoch 7/300\n",
      "15548/15548 [==============================] - ETA: 0s - loss: 0.6754 - acc: 0.585 - ETA: 0s - loss: 0.6503 - acc: 0.629 - ETA: 0s - loss: 0.6561 - acc: 0.615 - ETA: 0s - loss: 0.6545 - acc: 0.618 - ETA: 0s - loss: 0.6547 - acc: 0.618 - 0s 21us/sample - loss: 0.6554 - acc: 0.6173 - val_loss: 0.6537 - val_acc: 0.6152\n",
      "Epoch 8/300\n",
      "15548/15548 [==============================] - ETA: 0s - loss: 0.6326 - acc: 0.615 - ETA: 0s - loss: 0.6517 - acc: 0.614 - ETA: 0s - loss: 0.6553 - acc: 0.613 - ETA: 0s - loss: 0.6536 - acc: 0.616 - ETA: 0s - loss: 0.6533 - acc: 0.616 - 0s 18us/sample - loss: 0.6536 - acc: 0.6160 - val_loss: 0.6509 - val_acc: 0.6149\n",
      "Epoch 9/300\n",
      "15548/15548 [==============================] - ETA: 0s - loss: 0.6557 - acc: 0.630 - ETA: 0s - loss: 0.6480 - acc: 0.626 - ETA: 0s - loss: 0.6538 - acc: 0.612 - ETA: 0s - loss: 0.6535 - acc: 0.614 - ETA: 0s - loss: 0.6528 - acc: 0.618 - 0s 18us/sample - loss: 0.6524 - acc: 0.6198 - val_loss: 0.6523 - val_acc: 0.6148\n",
      "Epoch 10/300\n",
      "15548/15548 [==============================] - ETA: 0s - loss: 0.6637 - acc: 0.590 - ETA: 0s - loss: 0.6480 - acc: 0.626 - ETA: 0s - loss: 0.6491 - acc: 0.625 - ETA: 0s - loss: 0.6492 - acc: 0.623 - 0s 15us/sample - loss: 0.6501 - acc: 0.6214 - val_loss: 0.6499 - val_acc: 0.6179\n",
      "Epoch 11/300\n",
      "15548/15548 [==============================] - ETA: 0s - loss: 0.6681 - acc: 0.595 - ETA: 0s - loss: 0.6482 - acc: 0.619 - ETA: 0s - loss: 0.6501 - acc: 0.618 - ETA: 0s - loss: 0.6476 - acc: 0.623 - ETA: 0s - loss: 0.6487 - acc: 0.621 - ETA: 0s - loss: 0.6480 - acc: 0.623 - 0s 23us/sample - loss: 0.6483 - acc: 0.6234 - val_loss: 0.6519 - val_acc: 0.6166\n",
      "Epoch 12/300\n",
      "15548/15548 [==============================] - ETA: 0s - loss: 0.6575 - acc: 0.605 - ETA: 0s - loss: 0.6395 - acc: 0.637 - ETA: 0s - loss: 0.6484 - acc: 0.620 - ETA: 0s - loss: 0.6478 - acc: 0.623 - ETA: 0s - loss: 0.6470 - acc: 0.625 - 0s 18us/sample - loss: 0.6476 - acc: 0.6249 - val_loss: 0.6476 - val_acc: 0.6203\n",
      "Epoch 13/300\n",
      "15548/15548 [==============================] - ETA: 0s - loss: 0.6629 - acc: 0.620 - ETA: 0s - loss: 0.6402 - acc: 0.643 - ETA: 0s - loss: 0.6470 - acc: 0.627 - ETA: 0s - loss: 0.6469 - acc: 0.627 - ETA: 0s - loss: 0.6469 - acc: 0.624 - ETA: 0s - loss: 0.6451 - acc: 0.626 - 0s 21us/sample - loss: 0.6454 - acc: 0.6259 - val_loss: 0.6516 - val_acc: 0.6157\n",
      "Epoch 14/300\n",
      "15548/15548 [==============================] - ETA: 0s - loss: 0.6784 - acc: 0.590 - ETA: 0s - loss: 0.6406 - acc: 0.629 - ETA: 0s - loss: 0.6431 - acc: 0.626 - ETA: 0s - loss: 0.6426 - acc: 0.628 - 0s 16us/sample - loss: 0.6433 - acc: 0.6276 - val_loss: 0.6454 - val_acc: 0.6227\n",
      "Epoch 15/300\n",
      "15548/15548 [==============================] - ETA: 0s - loss: 0.6552 - acc: 0.595 - ETA: 0s - loss: 0.6516 - acc: 0.617 - ETA: 0s - loss: 0.6506 - acc: 0.620 - ETA: 0s - loss: 0.6485 - acc: 0.622 - ETA: 0s - loss: 0.6471 - acc: 0.623 - ETA: 0s - loss: 0.6467 - acc: 0.624 - ETA: 0s - loss: 0.6432 - acc: 0.628 - 0s 25us/sample - loss: 0.6426 - acc: 0.6284 - val_loss: 0.6462 - val_acc: 0.6187\n",
      "Epoch 16/300\n",
      "15548/15548 [==============================] - ETA: 0s - loss: 0.6000 - acc: 0.705 - ETA: 0s - loss: 0.6438 - acc: 0.627 - ETA: 0s - loss: 0.6413 - acc: 0.625 - ETA: 0s - loss: 0.6431 - acc: 0.623 - ETA: 0s - loss: 0.6436 - acc: 0.622 - ETA: 0s - loss: 0.6444 - acc: 0.622 - 0s 22us/sample - loss: 0.6440 - acc: 0.6230 - val_loss: 0.6455 - val_acc: 0.6245\n",
      "Epoch 17/300\n",
      "15548/15548 [==============================] - ETA: 0s - loss: 0.6652 - acc: 0.570 - ETA: 0s - loss: 0.6343 - acc: 0.642 - ETA: 0s - loss: 0.6391 - acc: 0.635 - ETA: 0s - loss: 0.6412 - acc: 0.630 - 0s 16us/sample - loss: 0.6401 - acc: 0.6314 - val_loss: 0.6442 - val_acc: 0.6236\n",
      "Epoch 18/300\n",
      "15548/15548 [==============================] - ETA: 0s - loss: 0.6434 - acc: 0.615 - ETA: 0s - loss: 0.6356 - acc: 0.640 - ETA: 0s - loss: 0.6328 - acc: 0.637 - ETA: 0s - loss: 0.6385 - acc: 0.633 - 0s 16us/sample - loss: 0.6395 - acc: 0.6323 - val_loss: 0.6447 - val_acc: 0.6203\n",
      "Epoch 19/300\n",
      "15548/15548 [==============================] - ETA: 0s - loss: 0.6496 - acc: 0.610 - ETA: 0s - loss: 0.6338 - acc: 0.638 - ETA: 0s - loss: 0.6386 - acc: 0.629 - ETA: 0s - loss: 0.6387 - acc: 0.628 - ETA: 0s - loss: 0.6381 - acc: 0.628 - ETA: 0s - loss: 0.6396 - acc: 0.627 - 0s 21us/sample - loss: 0.6394 - acc: 0.6280 - val_loss: 0.6460 - val_acc: 0.6226\n",
      "Epoch 20/300\n",
      "15548/15548 [==============================] - ETA: 0s - loss: 0.6515 - acc: 0.625 - ETA: 0s - loss: 0.6319 - acc: 0.641 - ETA: 0s - loss: 0.6343 - acc: 0.639 - ETA: 0s - loss: 0.6357 - acc: 0.636 - 0s 17us/sample - loss: 0.6370 - acc: 0.6324 - val_loss: 0.6438 - val_acc: 0.6211\n",
      "Epoch 21/300\n",
      "15548/15548 [==============================] - ETA: 0s - loss: 0.6587 - acc: 0.595 - ETA: 0s - loss: 0.6377 - acc: 0.625 - ETA: 0s - loss: 0.6369 - acc: 0.626 - ETA: 0s - loss: 0.6351 - acc: 0.628 - 0s 16us/sample - loss: 0.6353 - acc: 0.6293 - val_loss: 0.6407 - val_acc: 0.6298\n",
      "Epoch 22/300\n",
      "15548/15548 [==============================] - ETA: 0s - loss: 0.6445 - acc: 0.605 - ETA: 0s - loss: 0.6282 - acc: 0.639 - ETA: 0s - loss: 0.6318 - acc: 0.637 - ETA: 0s - loss: 0.6335 - acc: 0.634 - 0s 15us/sample - loss: 0.6341 - acc: 0.6336 - val_loss: 0.6416 - val_acc: 0.6259\n",
      "Epoch 23/300\n",
      "15548/15548 [==============================] - ETA: 0s - loss: 0.6350 - acc: 0.620 - ETA: 0s - loss: 0.6323 - acc: 0.633 - ETA: 0s - loss: 0.6328 - acc: 0.635 - ETA: 0s - loss: 0.6333 - acc: 0.633 - 0s 15us/sample - loss: 0.6337 - acc: 0.6341 - val_loss: 0.6420 - val_acc: 0.6221\n",
      "Epoch 24/300\n"
     ]
    },
    {
     "name": "stdout",
     "output_type": "stream",
     "text": [
      "15548/15548 [==============================] - ETA: 0s - loss: 0.6228 - acc: 0.615 - ETA: 0s - loss: 0.6239 - acc: 0.640 - ETA: 0s - loss: 0.6330 - acc: 0.634 - ETA: 0s - loss: 0.6311 - acc: 0.638 - ETA: 0s - loss: 0.6332 - acc: 0.637 - 0s 17us/sample - loss: 0.6326 - acc: 0.6385 - val_loss: 0.6408 - val_acc: 0.6259\n",
      "Epoch 25/300\n",
      "15548/15548 [==============================] - ETA: 0s - loss: 0.5951 - acc: 0.660 - ETA: 0s - loss: 0.6302 - acc: 0.635 - ETA: 0s - loss: 0.6369 - acc: 0.632 - ETA: 0s - loss: 0.6338 - acc: 0.639 - ETA: 0s - loss: 0.6322 - acc: 0.641 - 0s 18us/sample - loss: 0.6321 - acc: 0.6403 - val_loss: 0.6413 - val_acc: 0.6235\n",
      "Epoch 26/300\n",
      "15548/15548 [==============================] - ETA: 0s - loss: 0.6024 - acc: 0.695 - ETA: 0s - loss: 0.6230 - acc: 0.646 - ETA: 0s - loss: 0.6256 - acc: 0.649 - ETA: 0s - loss: 0.6261 - acc: 0.643 - ETA: 0s - loss: 0.6304 - acc: 0.638 - ETA: 0s - loss: 0.6313 - acc: 0.639 - 0s 23us/sample - loss: 0.6316 - acc: 0.6396 - val_loss: 0.6431 - val_acc: 0.6223\n",
      "Epoch 27/300\n",
      "15548/15548 [==============================] - ETA: 0s - loss: 0.6110 - acc: 0.665 - ETA: 0s - loss: 0.6238 - acc: 0.651 - ETA: 0s - loss: 0.6268 - acc: 0.642 - ETA: 0s - loss: 0.6287 - acc: 0.637 - ETA: 0s - loss: 0.6279 - acc: 0.638 - 0s 19us/sample - loss: 0.6281 - acc: 0.6407 - val_loss: 0.6416 - val_acc: 0.6242\n",
      "Epoch 28/300\n",
      "15548/15548 [==============================] - ETA: 0s - loss: 0.6316 - acc: 0.625 - ETA: 0s - loss: 0.6237 - acc: 0.657 - ETA: 0s - loss: 0.6235 - acc: 0.650 - ETA: 0s - loss: 0.6274 - acc: 0.644 - ETA: 0s - loss: 0.6282 - acc: 0.641 - 0s 19us/sample - loss: 0.6296 - acc: 0.6421 - val_loss: 0.6429 - val_acc: 0.6197\n",
      "Epoch 29/300\n",
      "15548/15548 [==============================] - ETA: 0s - loss: 0.6318 - acc: 0.610 - ETA: 0s - loss: 0.6328 - acc: 0.633 - ETA: 0s - loss: 0.6327 - acc: 0.634 - ETA: 0s - loss: 0.6301 - acc: 0.635 - ETA: 0s - loss: 0.6290 - acc: 0.638 - 0s 19us/sample - loss: 0.6280 - acc: 0.6400 - val_loss: 0.6423 - val_acc: 0.6223\n",
      "Epoch 30/300\n",
      "15548/15548 [==============================] - ETA: 0s - loss: 0.6243 - acc: 0.655 - ETA: 0s - loss: 0.6190 - acc: 0.647 - ETA: 0s - loss: 0.6240 - acc: 0.642 - ETA: 0s - loss: 0.6267 - acc: 0.641 - ETA: 0s - loss: 0.6274 - acc: 0.642 - 0s 19us/sample - loss: 0.6273 - acc: 0.6418 - val_loss: 0.6390 - val_acc: 0.6268\n",
      "Epoch 31/300\n",
      "15548/15548 [==============================] - ETA: 0s - loss: 0.6100 - acc: 0.630 - ETA: 0s - loss: 0.6168 - acc: 0.648 - ETA: 0s - loss: 0.6215 - acc: 0.646 - ETA: 0s - loss: 0.6266 - acc: 0.643 - 0s 17us/sample - loss: 0.6250 - acc: 0.6449 - val_loss: 0.6451 - val_acc: 0.6167\n",
      "Epoch 32/300\n",
      "15548/15548 [==============================] - ETA: 0s - loss: 0.6269 - acc: 0.640 - ETA: 0s - loss: 0.6215 - acc: 0.644 - ETA: 0s - loss: 0.6260 - acc: 0.638 - ETA: 0s - loss: 0.6249 - acc: 0.642 - 0s 16us/sample - loss: 0.6244 - acc: 0.6418 - val_loss: 0.6396 - val_acc: 0.6256\n",
      "Epoch 33/300\n",
      "15548/15548 [==============================] - ETA: 0s - loss: 0.6270 - acc: 0.650 - ETA: 0s - loss: 0.6144 - acc: 0.658 - ETA: 0s - loss: 0.6173 - acc: 0.651 - ETA: 0s - loss: 0.6223 - acc: 0.643 - 0s 18us/sample - loss: 0.6230 - acc: 0.6430 - val_loss: 0.6394 - val_acc: 0.6226\n",
      "Epoch 34/300\n",
      "15548/15548 [==============================] - ETA: 0s - loss: 0.5967 - acc: 0.680 - ETA: 0s - loss: 0.6199 - acc: 0.648 - ETA: 0s - loss: 0.6212 - acc: 0.645 - ETA: 0s - loss: 0.6218 - acc: 0.642 - 0s 17us/sample - loss: 0.6213 - acc: 0.6426 - val_loss: 0.6369 - val_acc: 0.6214\n",
      "Epoch 35/300\n",
      "15548/15548 [==============================] - ETA: 0s - loss: 0.5844 - acc: 0.700 - ETA: 0s - loss: 0.6106 - acc: 0.660 - ETA: 0s - loss: 0.6187 - acc: 0.648 - ETA: 0s - loss: 0.6207 - acc: 0.644 - ETA: 0s - loss: 0.6221 - acc: 0.643 - 0s 18us/sample - loss: 0.6222 - acc: 0.6437 - val_loss: 0.6435 - val_acc: 0.6160\n",
      "Epoch 36/300\n",
      "15548/15548 [==============================] - ETA: 0s - loss: 0.6255 - acc: 0.650 - ETA: 0s - loss: 0.6138 - acc: 0.649 - ETA: 0s - loss: 0.6169 - acc: 0.650 - ETA: 0s - loss: 0.6182 - acc: 0.649 - 0s 17us/sample - loss: 0.6214 - acc: 0.6453 - val_loss: 0.6389 - val_acc: 0.6203\n",
      "Epoch 00036: early stopping\n"
     ]
    }
   ],
   "source": [
    "# train\n",
    "model1 = my_model(12,100,2)\n",
    "history1 =  model1. fit ( train_data1 , train_target1 , batch_size = 200 , epochs = 300 , verbose =1 , validation_data =( test_data1 , test_target1 ) , callbacks = callbacks_ )"
   ]
  },
  {
   "cell_type": "code",
   "execution_count": 81,
   "metadata": {},
   "outputs": [
    {
     "data": {
      "image/png": "[encoded data removed]",
      "text/plain": [
       "<Figure size 720x360 with 1 Axes>"
      ]
     },
     "metadata": {
      "needs_background": "light"
     },
     "output_type": "display_data"
    }
   ],
   "source": [
    "# Loss\n",
    "lossplot(history1.history['loss'], scale='log');"
   ]
  },
  {
   "cell_type": "code",
   "execution_count": 82,
   "metadata": {},
   "outputs": [
    {
     "data": {
      "image/png": "[encoded data removed]",
      "text/plain": [
       "<Figure size 720x360 with 1 Axes>"
      ]
     },
     "metadata": {
      "needs_background": "light"
     },
     "output_type": "display_data"
    }
   ],
   "source": [
    "# Accuracy\n",
    "accplot(history1.history['val_acc'], scale='linear')"
   ]
  },
  {
   "cell_type": "code",
   "execution_count": 83,
   "metadata": {},
   "outputs": [
    {
     "data": {
      "image/png": "[encoded data removed]",
      "text/plain": [
       "<Figure size 432x288 with 2 Axes>"
      ]
     },
     "metadata": {
      "needs_background": "light"
     },
     "output_type": "display_data"
    }
   ],
   "source": [
    "# Predictions\n",
    "pred1 = model1.predict(test_data1)\n",
    "\n",
    "# Convert probabilities into binary outputs\n",
    "bi = []\n",
    "p = []\n",
    "for i in pred1:\n",
    "    if i[0]>0.5:\n",
    "        bi.append(1)\n",
    "        p.append(i[0])\n",
    "    else:\n",
    "        bi.append(0)\n",
    "        p.append(i[0])\n",
    "        \n",
    "# Define confusion matrix and classes\n",
    "cm = confusion_matrix(test_target1.tolist(),bi)\n",
    "classes=[0,1]\n",
    "\n",
    "# Plot heat map\n",
    "heatmap(cm,normalize=True,labels=['predicted','true'],classes=[['0','1'],['0','1']])"
   ]
  },
  {
   "cell_type": "code",
   "execution_count": 84,
   "metadata": {},
   "outputs": [
    {
     "data": {
      "image/png": "[encoded data removed]",
      "text/plain": [
       "<Figure size 432x288 with 1 Axes>"
      ]
     },
     "metadata": {
      "needs_background": "light"
     },
     "output_type": "display_data"
    }
   ],
   "source": [
    "# Calculate false positive rate and true positive rate\n",
    "fpr, tpr, threshold = roc_curve(test_target1, pred1)\n",
    "roc_auc = metrics.auc(fpr, tpr)\n",
    "# Plot ROC curve\n",
    "plt.title('Receiver Operating Characteristic')\n",
    "plt.plot(fpr, tpr, 'b', label = 'AUC = %0.2f' % roc_auc)\n",
    "plt.legend(loc = 'lower right')\n",
    "plt.plot([0, 1], [0, 1],'r--')\n",
    "plt.xlim([0, 1])\n",
    "plt.ylim([0, 1])\n",
    "plt.ylabel('True Positive Rate')\n",
    "plt.xlabel('False Positive Rate')\n",
    "plt.show()"
   ]
  },
  {
   "cell_type": "markdown",
   "metadata": {},
   "source": [
    "## CP30 vs background"
   ]
  },
  {
   "cell_type": "code",
   "execution_count": 85,
   "metadata": {},
   "outputs": [
    {
     "data": {
      "text/html": [
       "<div>\n",
       "<style scoped>\n",
       "    .dataframe tbody tr th:only-of-type {\n",
       "        vertical-align: middle;\n",
       "    }\n",
       "\n",
       "    .dataframe tbody tr th {\n",
       "        vertical-align: top;\n",
       "    }\n",
       "\n",
       "    .dataframe thead th {\n",
       "        text-align: right;\n",
       "    }\n",
       "</style>\n",
       "<table border=\"1\" class=\"dataframe\">\n",
       "  <thead>\n",
       "    <tr style=\"text-align: right;\">\n",
       "      <th></th>\n",
       "      <th>phib</th>\n",
       "      <th>phif</th>\n",
       "      <th>phitstar</th>\n",
       "      <th>phiw</th>\n",
       "      <th>t</th>\n",
       "      <th>thetab</th>\n",
       "      <th>thetaf</th>\n",
       "      <th>thetah</th>\n",
       "      <th>thetat</th>\n",
       "      <th>thetaw</th>\n",
       "      <th>tt</th>\n",
       "      <th>tth</th>\n",
       "      <th>isSignal</th>\n",
       "    </tr>\n",
       "  </thead>\n",
       "  <tbody>\n",
       "    <tr>\n",
       "      <td>0</td>\n",
       "      <td>2.666109</td>\n",
       "      <td>0.659017</td>\n",
       "      <td>1.218142</td>\n",
       "      <td>0.900543</td>\n",
       "      <td>402.820879</td>\n",
       "      <td>0.453174</td>\n",
       "      <td>0.066293</td>\n",
       "      <td>-0.946580</td>\n",
       "      <td>0.347793</td>\n",
       "      <td>0.706379</td>\n",
       "      <td>980.827796</td>\n",
       "      <td>1179.845163</td>\n",
       "      <td>0</td>\n",
       "    </tr>\n",
       "    <tr>\n",
       "      <td>1</td>\n",
       "      <td>2.633734</td>\n",
       "      <td>1.050419</td>\n",
       "      <td>1.514080</td>\n",
       "      <td>0.070999</td>\n",
       "      <td>146.588285</td>\n",
       "      <td>0.618619</td>\n",
       "      <td>-0.405857</td>\n",
       "      <td>0.778213</td>\n",
       "      <td>0.962535</td>\n",
       "      <td>0.858379</td>\n",
       "      <td>487.019795</td>\n",
       "      <td>653.468546</td>\n",
       "      <td>0</td>\n",
       "    </tr>\n",
       "    <tr>\n",
       "      <td>2</td>\n",
       "      <td>0.191305</td>\n",
       "      <td>1.442063</td>\n",
       "      <td>1.512599</td>\n",
       "      <td>0.471443</td>\n",
       "      <td>160.697518</td>\n",
       "      <td>0.835139</td>\n",
       "      <td>-0.061159</td>\n",
       "      <td>0.823676</td>\n",
       "      <td>0.081424</td>\n",
       "      <td>0.956929</td>\n",
       "      <td>636.961543</td>\n",
       "      <td>841.914035</td>\n",
       "      <td>0</td>\n",
       "    </tr>\n",
       "    <tr>\n",
       "      <td>3</td>\n",
       "      <td>2.400480</td>\n",
       "      <td>2.663370</td>\n",
       "      <td>1.923765</td>\n",
       "      <td>0.201620</td>\n",
       "      <td>159.861300</td>\n",
       "      <td>0.707089</td>\n",
       "      <td>-0.929448</td>\n",
       "      <td>-0.394958</td>\n",
       "      <td>0.362984</td>\n",
       "      <td>0.362894</td>\n",
       "      <td>976.467591</td>\n",
       "      <td>1110.236748</td>\n",
       "      <td>0</td>\n",
       "    </tr>\n",
       "    <tr>\n",
       "      <td>4</td>\n",
       "      <td>2.491433</td>\n",
       "      <td>2.269836</td>\n",
       "      <td>1.181117</td>\n",
       "      <td>0.091614</td>\n",
       "      <td>186.164601</td>\n",
       "      <td>0.343710</td>\n",
       "      <td>-0.292384</td>\n",
       "      <td>0.821720</td>\n",
       "      <td>0.755152</td>\n",
       "      <td>0.409148</td>\n",
       "      <td>542.640597</td>\n",
       "      <td>742.676967</td>\n",
       "      <td>1</td>\n",
       "    </tr>\n",
       "    <tr>\n",
       "      <td>...</td>\n",
       "      <td>...</td>\n",
       "      <td>...</td>\n",
       "      <td>...</td>\n",
       "      <td>...</td>\n",
       "      <td>...</td>\n",
       "      <td>...</td>\n",
       "      <td>...</td>\n",
       "      <td>...</td>\n",
       "      <td>...</td>\n",
       "      <td>...</td>\n",
       "      <td>...</td>\n",
       "      <td>...</td>\n",
       "      <td>...</td>\n",
       "    </tr>\n",
       "    <tr>\n",
       "      <td>22207</td>\n",
       "      <td>0.617145</td>\n",
       "      <td>1.558053</td>\n",
       "      <td>2.009384</td>\n",
       "      <td>0.422967</td>\n",
       "      <td>689.344578</td>\n",
       "      <td>0.567627</td>\n",
       "      <td>-0.789562</td>\n",
       "      <td>0.712741</td>\n",
       "      <td>0.697871</td>\n",
       "      <td>0.001010</td>\n",
       "      <td>1087.259019</td>\n",
       "      <td>1303.505239</td>\n",
       "      <td>0</td>\n",
       "    </tr>\n",
       "    <tr>\n",
       "      <td>22208</td>\n",
       "      <td>2.253724</td>\n",
       "      <td>1.330466</td>\n",
       "      <td>2.475894</td>\n",
       "      <td>1.290946</td>\n",
       "      <td>167.627370</td>\n",
       "      <td>0.422291</td>\n",
       "      <td>0.933522</td>\n",
       "      <td>0.991576</td>\n",
       "      <td>0.518758</td>\n",
       "      <td>0.417906</td>\n",
       "      <td>319.781103</td>\n",
       "      <td>472.132595</td>\n",
       "      <td>0</td>\n",
       "    </tr>\n",
       "    <tr>\n",
       "      <td>22209</td>\n",
       "      <td>0.481244</td>\n",
       "      <td>1.946183</td>\n",
       "      <td>2.552701</td>\n",
       "      <td>0.417852</td>\n",
       "      <td>505.336020</td>\n",
       "      <td>0.226118</td>\n",
       "      <td>-0.510475</td>\n",
       "      <td>0.936356</td>\n",
       "      <td>0.904859</td>\n",
       "      <td>0.551216</td>\n",
       "      <td>809.720852</td>\n",
       "      <td>1168.876785</td>\n",
       "      <td>1</td>\n",
       "    </tr>\n",
       "    <tr>\n",
       "      <td>22210</td>\n",
       "      <td>1.151755</td>\n",
       "      <td>1.792614</td>\n",
       "      <td>1.338921</td>\n",
       "      <td>1.842647</td>\n",
       "      <td>143.370840</td>\n",
       "      <td>0.753826</td>\n",
       "      <td>-0.518286</td>\n",
       "      <td>0.051884</td>\n",
       "      <td>0.399060</td>\n",
       "      <td>0.479292</td>\n",
       "      <td>444.438552</td>\n",
       "      <td>658.352398</td>\n",
       "      <td>1</td>\n",
       "    </tr>\n",
       "    <tr>\n",
       "      <td>22211</td>\n",
       "      <td>1.629996</td>\n",
       "      <td>0.464268</td>\n",
       "      <td>1.237801</td>\n",
       "      <td>2.645701</td>\n",
       "      <td>276.881887</td>\n",
       "      <td>0.837029</td>\n",
       "      <td>-0.537920</td>\n",
       "      <td>-0.128950</td>\n",
       "      <td>0.882596</td>\n",
       "      <td>0.650957</td>\n",
       "      <td>532.260425</td>\n",
       "      <td>658.547562</td>\n",
       "      <td>0</td>\n",
       "    </tr>\n",
       "  </tbody>\n",
       "</table>\n",
       "<p>22212 rows × 13 columns</p>\n",
       "</div>"
      ],
      "text/plain": [
       "           phib      phif  phitstar      phiw           t    thetab    thetaf  \\\n",
       "0      2.666109  0.659017  1.218142  0.900543  402.820879  0.453174  0.066293   \n",
       "1      2.633734  1.050419  1.514080  0.070999  146.588285  0.618619 -0.405857   \n",
       "2      0.191305  1.442063  1.512599  0.471443  160.697518  0.835139 -0.061159   \n",
       "3      2.400480  2.663370  1.923765  0.201620  159.861300  0.707089 -0.929448   \n",
       "4      2.491433  2.269836  1.181117  0.091614  186.164601  0.343710 -0.292384   \n",
       "...         ...       ...       ...       ...         ...       ...       ...   \n",
       "22207  0.617145  1.558053  2.009384  0.422967  689.344578  0.567627 -0.789562   \n",
       "22208  2.253724  1.330466  2.475894  1.290946  167.627370  0.422291  0.933522   \n",
       "22209  0.481244  1.946183  2.552701  0.417852  505.336020  0.226118 -0.510475   \n",
       "22210  1.151755  1.792614  1.338921  1.842647  143.370840  0.753826 -0.518286   \n",
       "22211  1.629996  0.464268  1.237801  2.645701  276.881887  0.837029 -0.537920   \n",
       "\n",
       "         thetah    thetat    thetaw           tt          tth  isSignal  \n",
       "0     -0.946580  0.347793  0.706379   980.827796  1179.845163         0  \n",
       "1      0.778213  0.962535  0.858379   487.019795   653.468546         0  \n",
       "2      0.823676  0.081424  0.956929   636.961543   841.914035         0  \n",
       "3     -0.394958  0.362984  0.362894   976.467591  1110.236748         0  \n",
       "4      0.821720  0.755152  0.409148   542.640597   742.676967         1  \n",
       "...         ...       ...       ...          ...          ...       ...  \n",
       "22207  0.712741  0.697871  0.001010  1087.259019  1303.505239         0  \n",
       "22208  0.991576  0.518758  0.417906   319.781103   472.132595         0  \n",
       "22209  0.936356  0.904859  0.551216   809.720852  1168.876785         1  \n",
       "22210  0.051884  0.399060  0.479292   444.438552   658.352398         1  \n",
       "22211 -0.128950  0.882596  0.650957   532.260425   658.547562         0  \n",
       "\n",
       "[22212 rows x 13 columns]"
      ]
     },
     "execution_count": 85,
     "metadata": {},
     "output_type": "execute_result"
    }
   ],
   "source": [
    "# sample signal: alpha = 30\n",
    "S2 = s2.sample(b.shape[0], random_state=42)\n",
    "\n",
    "# training dataset\n",
    "train2 = pd.concat([S2,b])\n",
    "\n",
    "# Shuffle training dataset\n",
    "train2 = shuffle(train2,random_state=42).reset_index(drop=True)\n",
    "train2"
   ]
  },
  {
   "cell_type": "code",
   "execution_count": 86,
   "metadata": {},
   "outputs": [
    {
     "name": "stdout",
     "output_type": "stream",
     "text": [
      "(15548, 12) (15548,) (6664, 12) (6664,)\n"
     ]
    }
   ],
   "source": [
    "# Standardize\n",
    "sc2 = preprocessing . StandardScaler ()\n",
    "input_data2 = sc2 . fit_transform ( train2[c0[0:12]] )\n",
    "target2 = train2['isSignal']\n",
    "\n",
    "# train - test split of dataset\n",
    "train_data2 , test_data2 , train_target2 , test_target2 = model_selection . train_test_split (\\\n",
    "input_data2 , target2 , test_size =0.3 , random_state = Answer_to_all_questions )\n",
    "# Check shape\n",
    "print ( train_data2 . shape , train_target2 . shape , test_data2 . shape , test_target2 . shape )"
   ]
  },
  {
   "cell_type": "code",
   "execution_count": 87,
   "metadata": {
    "scrolled": true
   },
   "outputs": [
    {
     "name": "stdout",
     "output_type": "stream",
     "text": [
      "Train on 15548 samples, validate on 6664 samples\n",
      "Epoch 1/300\n",
      "15548/15548 [==============================] - ETA: 12s - loss: 0.6959 - acc: 0.48 - ETA: 1s - loss: 0.6937 - acc: 0.4986 - ETA: 0s - loss: 0.6935 - acc: 0.499 - ETA: 0s - loss: 0.6932 - acc: 0.501 - ETA: 0s - loss: 0.6924 - acc: 0.510 - ETA: 0s - loss: 0.6914 - acc: 0.516 - 1s 42us/sample - loss: 0.6908 - acc: 0.5191 - val_loss: 0.6864 - val_acc: 0.5489\n",
      "Epoch 2/300\n",
      "15548/15548 [==============================] - ETA: 0s - loss: 0.6786 - acc: 0.575 - ETA: 0s - loss: 0.6855 - acc: 0.553 - ETA: 0s - loss: 0.6844 - acc: 0.551 - ETA: 0s - loss: 0.6833 - acc: 0.554 - ETA: 0s - loss: 0.6824 - acc: 0.556 - 0s 20us/sample - loss: 0.6817 - acc: 0.5583 - val_loss: 0.6700 - val_acc: 0.5923\n",
      "Epoch 3/300\n",
      "15548/15548 [==============================] - ETA: 0s - loss: 0.6784 - acc: 0.575 - ETA: 0s - loss: 0.6718 - acc: 0.586 - ETA: 0s - loss: 0.6711 - acc: 0.584 - ETA: 0s - loss: 0.6724 - acc: 0.584 - 0s 18us/sample - loss: 0.6709 - acc: 0.5850 - val_loss: 0.6594 - val_acc: 0.6098\n",
      "Epoch 4/300\n",
      "15548/15548 [==============================] - ETA: 0s - loss: 0.6506 - acc: 0.625 - ETA: 0s - loss: 0.6650 - acc: 0.595 - ETA: 0s - loss: 0.6613 - acc: 0.602 - ETA: 0s - loss: 0.6630 - acc: 0.599 - 0s 17us/sample - loss: 0.6633 - acc: 0.5981 - val_loss: 0.6525 - val_acc: 0.6217\n",
      "Epoch 5/300\n",
      "15548/15548 [==============================] - ETA: 0s - loss: 0.6555 - acc: 0.560 - ETA: 0s - loss: 0.6612 - acc: 0.607 - ETA: 0s - loss: 0.6601 - acc: 0.611 - ETA: 0s - loss: 0.6614 - acc: 0.605 - ETA: 0s - loss: 0.6599 - acc: 0.608 - 0s 18us/sample - loss: 0.6598 - acc: 0.6090 - val_loss: 0.6527 - val_acc: 0.6184\n",
      "Epoch 6/300\n",
      "15548/15548 [==============================] - ETA: 0s - loss: 0.6559 - acc: 0.610 - ETA: 0s - loss: 0.6562 - acc: 0.616 - ETA: 0s - loss: 0.6501 - acc: 0.621 - ETA: 0s - loss: 0.6542 - acc: 0.615 - ETA: 0s - loss: 0.6533 - acc: 0.617 - 1s 49us/sample - loss: 0.6536 - acc: 0.6160 - val_loss: 0.6445 - val_acc: 0.6316\n",
      "Epoch 7/300\n",
      "15548/15548 [==============================] - ETA: 0s - loss: 0.6472 - acc: 0.580 - ETA: 0s - loss: 0.6448 - acc: 0.625 - ETA: 0s - loss: 0.6502 - acc: 0.620 - ETA: 0s - loss: 0.6484 - acc: 0.621 - 0s 17us/sample - loss: 0.6505 - acc: 0.6196 - val_loss: 0.6494 - val_acc: 0.6164\n",
      "Epoch 8/300\n",
      "15548/15548 [==============================] - ETA: 0s - loss: 0.6597 - acc: 0.590 - ETA: 0s - loss: 0.6477 - acc: 0.627 - ETA: 0s - loss: 0.6495 - acc: 0.625 - ETA: 0s - loss: 0.6478 - acc: 0.625 - ETA: 0s - loss: 0.6475 - acc: 0.627 - 0s 18us/sample - loss: 0.6479 - acc: 0.6262 - val_loss: 0.6456 - val_acc: 0.6295\n",
      "Epoch 9/300\n",
      "15548/15548 [==============================] - ETA: 0s - loss: 0.6460 - acc: 0.605 - ETA: 0s - loss: 0.6420 - acc: 0.631 - ETA: 0s - loss: 0.6464 - acc: 0.625 - ETA: 0s - loss: 0.6453 - acc: 0.627 - 0s 17us/sample - loss: 0.6449 - acc: 0.6267 - val_loss: 0.6416 - val_acc: 0.6303\n",
      "Epoch 10/300\n",
      "15548/15548 [==============================] - ETA: 0s - loss: 0.6344 - acc: 0.655 - ETA: 0s - loss: 0.6394 - acc: 0.632 - ETA: 0s - loss: 0.6419 - acc: 0.630 - ETA: 0s - loss: 0.6429 - acc: 0.628 - 0s 19us/sample - loss: 0.6438 - acc: 0.6276 - val_loss: 0.6426 - val_acc: 0.6324\n",
      "Epoch 11/300\n",
      "15548/15548 [==============================] - ETA: 0s - loss: 0.6451 - acc: 0.630 - ETA: 0s - loss: 0.6373 - acc: 0.634 - ETA: 0s - loss: 0.6386 - acc: 0.630 - ETA: 0s - loss: 0.6405 - acc: 0.628 - 0s 17us/sample - loss: 0.6428 - acc: 0.6279 - val_loss: 0.6444 - val_acc: 0.6252\n",
      "Epoch 12/300\n",
      "15548/15548 [==============================] - ETA: 0s - loss: 0.6337 - acc: 0.640 - ETA: 0s - loss: 0.6435 - acc: 0.627 - ETA: 0s - loss: 0.6403 - acc: 0.631 - ETA: 0s - loss: 0.6420 - acc: 0.626 - ETA: 0s - loss: 0.6414 - acc: 0.627 - 0s 18us/sample - loss: 0.6415 - acc: 0.6277 - val_loss: 0.6496 - val_acc: 0.6291\n",
      "Epoch 13/300\n",
      "15548/15548 [==============================] - ETA: 0s - loss: 0.6293 - acc: 0.610 - ETA: 0s - loss: 0.6417 - acc: 0.622 - ETA: 0s - loss: 0.6417 - acc: 0.625 - ETA: 0s - loss: 0.6403 - acc: 0.627 - ETA: 0s - loss: 0.6407 - acc: 0.630 - 0s 18us/sample - loss: 0.6402 - acc: 0.6308 - val_loss: 0.6429 - val_acc: 0.6321\n",
      "Epoch 14/300\n",
      "15548/15548 [==============================] - ETA: 0s - loss: 0.6459 - acc: 0.615 - ETA: 0s - loss: 0.6452 - acc: 0.623 - ETA: 0s - loss: 0.6427 - acc: 0.626 - ETA: 0s - loss: 0.6407 - acc: 0.627 - ETA: 0s - loss: 0.6395 - acc: 0.629 - 0s 17us/sample - loss: 0.6391 - acc: 0.6300 - val_loss: 0.6429 - val_acc: 0.6303\n",
      "Epoch 15/300\n",
      "15548/15548 [==============================] - ETA: 0s - loss: 0.6563 - acc: 0.630 - ETA: 0s - loss: 0.6373 - acc: 0.633 - ETA: 0s - loss: 0.6416 - acc: 0.629 - ETA: 0s - loss: 0.6392 - acc: 0.632 - ETA: 0s - loss: 0.6383 - acc: 0.633 - 0s 19us/sample - loss: 0.6380 - acc: 0.6338 - val_loss: 0.6427 - val_acc: 0.6295\n",
      "Epoch 16/300\n",
      "15548/15548 [==============================] - ETA: 0s - loss: 0.6111 - acc: 0.655 - ETA: 0s - loss: 0.6259 - acc: 0.639 - ETA: 0s - loss: 0.6304 - acc: 0.638 - ETA: 0s - loss: 0.6373 - acc: 0.630 - ETA: 0s - loss: 0.6349 - acc: 0.636 - 0s 18us/sample - loss: 0.6347 - acc: 0.6359 - val_loss: 0.6413 - val_acc: 0.6294\n",
      "Epoch 17/300\n",
      "15548/15548 [==============================] - ETA: 0s - loss: 0.6382 - acc: 0.645 - ETA: 0s - loss: 0.6379 - acc: 0.633 - ETA: 0s - loss: 0.6340 - acc: 0.638 - ETA: 0s - loss: 0.6346 - acc: 0.635 - ETA: 0s - loss: 0.6349 - acc: 0.631 - 0s 19us/sample - loss: 0.6353 - acc: 0.6312 - val_loss: 0.6391 - val_acc: 0.6297\n",
      "Epoch 18/300\n",
      "15548/15548 [==============================] - ETA: 0s - loss: 0.6569 - acc: 0.565 - ETA: 0s - loss: 0.6378 - acc: 0.624 - ETA: 0s - loss: 0.6373 - acc: 0.634 - ETA: 0s - loss: 0.6363 - acc: 0.638 - 0s 17us/sample - loss: 0.6370 - acc: 0.6378 - val_loss: 0.6405 - val_acc: 0.6364\n",
      "Epoch 19/300\n",
      "15548/15548 [==============================] - ETA: 0s - loss: 0.5861 - acc: 0.710 - ETA: 0s - loss: 0.6284 - acc: 0.640 - ETA: 0s - loss: 0.6333 - acc: 0.640 - ETA: 0s - loss: 0.6299 - acc: 0.645 - ETA: 0s - loss: 0.6313 - acc: 0.640 - 0s 19us/sample - loss: 0.6321 - acc: 0.6390 - val_loss: 0.6418 - val_acc: 0.6230\n",
      "Epoch 20/300\n",
      "15548/15548 [==============================] - ETA: 0s - loss: 0.6300 - acc: 0.665 - ETA: 0s - loss: 0.6309 - acc: 0.641 - ETA: 0s - loss: 0.6309 - acc: 0.640 - ETA: 0s - loss: 0.6329 - acc: 0.636 - ETA: 0s - loss: 0.6318 - acc: 0.637 - 0s 19us/sample - loss: 0.6311 - acc: 0.6390 - val_loss: 0.6382 - val_acc: 0.6340\n",
      "Epoch 21/300\n",
      "15548/15548 [==============================] - ETA: 0s - loss: 0.6287 - acc: 0.625 - ETA: 0s - loss: 0.6333 - acc: 0.637 - ETA: 0s - loss: 0.6357 - acc: 0.637 - ETA: 0s - loss: 0.6334 - acc: 0.635 - ETA: 0s - loss: 0.6309 - acc: 0.637 - 0s 18us/sample - loss: 0.6307 - acc: 0.6391 - val_loss: 0.6397 - val_acc: 0.6271\n",
      "Epoch 22/300\n",
      "15548/15548 [==============================] - ETA: 0s - loss: 0.5946 - acc: 0.685 - ETA: 0s - loss: 0.6224 - acc: 0.641 - ETA: 0s - loss: 0.6264 - acc: 0.639 - ETA: 0s - loss: 0.6272 - acc: 0.638 - ETA: 0s - loss: 0.6294 - acc: 0.636 - 0s 18us/sample - loss: 0.6295 - acc: 0.6367 - val_loss: 0.6373 - val_acc: 0.6300\n",
      "Epoch 23/300\n",
      "15548/15548 [==============================] - ETA: 0s - loss: 0.6315 - acc: 0.635 - ETA: 0s - loss: 0.6287 - acc: 0.640 - ETA: 0s - loss: 0.6288 - acc: 0.641 - ETA: 0s - loss: 0.6254 - acc: 0.642 - 0s 17us/sample - loss: 0.6281 - acc: 0.6382 - val_loss: 0.6430 - val_acc: 0.6212\n",
      "Epoch 24/300\n",
      "15548/15548 [==============================] - ETA: 0s - loss: 0.6544 - acc: 0.605 - ETA: 0s - loss: 0.6279 - acc: 0.635 - ETA: 0s - loss: 0.6251 - acc: 0.641 - ETA: 0s - loss: 0.6284 - acc: 0.637 - ETA: 0s - loss: 0.6285 - acc: 0.638 - 0s 18us/sample - loss: 0.6288 - acc: 0.6376 - val_loss: 0.6376 - val_acc: 0.6288\n",
      "Epoch 25/300\n",
      "15548/15548 [==============================] - ETA: 0s - loss: 0.6453 - acc: 0.620 - ETA: 0s - loss: 0.6271 - acc: 0.645 - ETA: 0s - loss: 0.6318 - acc: 0.636 - ETA: 0s - loss: 0.6307 - acc: 0.637 - ETA: 0s - loss: 0.6287 - acc: 0.639 - 0s 20us/sample - loss: 0.6281 - acc: 0.6406 - val_loss: 0.6360 - val_acc: 0.6366\n",
      "Epoch 26/300\n"
     ]
    },
    {
     "name": "stdout",
     "output_type": "stream",
     "text": [
      "15548/15548 [==============================] - ETA: 0s - loss: 0.6318 - acc: 0.630 - ETA: 0s - loss: 0.6298 - acc: 0.638 - ETA: 0s - loss: 0.6277 - acc: 0.639 - ETA: 0s - loss: 0.6295 - acc: 0.637 - ETA: 0s - loss: 0.6289 - acc: 0.636 - 0s 18us/sample - loss: 0.6273 - acc: 0.6382 - val_loss: 0.6381 - val_acc: 0.6282\n",
      "Epoch 27/300\n",
      "15548/15548 [==============================] - ETA: 0s - loss: 0.6238 - acc: 0.615 - ETA: 0s - loss: 0.6263 - acc: 0.639 - ETA: 0s - loss: 0.6275 - acc: 0.640 - ETA: 0s - loss: 0.6278 - acc: 0.641 - 0s 17us/sample - loss: 0.6271 - acc: 0.6410 - val_loss: 0.6340 - val_acc: 0.6357\n",
      "Epoch 28/300\n",
      "15548/15548 [==============================] - ETA: 0s - loss: 0.6040 - acc: 0.630 - ETA: 0s - loss: 0.6208 - acc: 0.639 - ETA: 0s - loss: 0.6239 - acc: 0.637 - ETA: 0s - loss: 0.6231 - acc: 0.638 - ETA: 0s - loss: 0.6245 - acc: 0.642 - 0s 18us/sample - loss: 0.6246 - acc: 0.6421 - val_loss: 0.6345 - val_acc: 0.6298\n",
      "Epoch 29/300\n",
      "15548/15548 [==============================] - ETA: 0s - loss: 0.6268 - acc: 0.630 - ETA: 0s - loss: 0.6180 - acc: 0.650 - ETA: 0s - loss: 0.6196 - acc: 0.648 - ETA: 0s - loss: 0.6194 - acc: 0.646 - ETA: 0s - loss: 0.6237 - acc: 0.640 - 0s 18us/sample - loss: 0.6235 - acc: 0.6421 - val_loss: 0.6387 - val_acc: 0.6282\n",
      "Epoch 30/300\n",
      "15548/15548 [==============================] - ETA: 0s - loss: 0.6302 - acc: 0.640 - ETA: 0s - loss: 0.6135 - acc: 0.664 - ETA: 0s - loss: 0.6217 - acc: 0.647 - ETA: 0s - loss: 0.6254 - acc: 0.643 - ETA: 0s - loss: 0.6246 - acc: 0.643 - 0s 18us/sample - loss: 0.6253 - acc: 0.6425 - val_loss: 0.6377 - val_acc: 0.6298\n",
      "Epoch 31/300\n",
      "15548/15548 [==============================] - ETA: 0s - loss: 0.6292 - acc: 0.625 - ETA: 0s - loss: 0.6159 - acc: 0.643 - ETA: 0s - loss: 0.6159 - acc: 0.645 - ETA: 0s - loss: 0.6183 - acc: 0.644 - ETA: 0s - loss: 0.6202 - acc: 0.643 - 0s 18us/sample - loss: 0.6204 - acc: 0.6441 - val_loss: 0.6370 - val_acc: 0.6292\n",
      "Epoch 32/300\n",
      "15548/15548 [==============================] - ETA: 0s - loss: 0.6192 - acc: 0.680 - ETA: 0s - loss: 0.6141 - acc: 0.656 - ETA: 0s - loss: 0.6195 - acc: 0.648 - ETA: 0s - loss: 0.6215 - acc: 0.649 - ETA: 0s - loss: 0.6228 - acc: 0.646 - 0s 16us/sample - loss: 0.6225 - acc: 0.6465 - val_loss: 0.6412 - val_acc: 0.6303\n",
      "Epoch 33/300\n",
      "15548/15548 [==============================] - ETA: 0s - loss: 0.6024 - acc: 0.665 - ETA: 0s - loss: 0.6148 - acc: 0.656 - ETA: 0s - loss: 0.6184 - acc: 0.649 - ETA: 0s - loss: 0.6161 - acc: 0.648 - ETA: 0s - loss: 0.6189 - acc: 0.648 - 0s 17us/sample - loss: 0.6185 - acc: 0.6477 - val_loss: 0.6424 - val_acc: 0.6276\n",
      "Epoch 34/300\n",
      "15548/15548 [==============================] - ETA: 0s - loss: 0.6564 - acc: 0.600 - ETA: 0s - loss: 0.6149 - acc: 0.662 - ETA: 0s - loss: 0.6179 - acc: 0.654 - ETA: 0s - loss: 0.6213 - acc: 0.653 - ETA: 0s - loss: 0.6205 - acc: 0.654 - 0s 17us/sample - loss: 0.6204 - acc: 0.6540 - val_loss: 0.6382 - val_acc: 0.6262\n",
      "Epoch 35/300\n",
      "15548/15548 [==============================] - ETA: 0s - loss: 0.5890 - acc: 0.660 - ETA: 0s - loss: 0.6149 - acc: 0.655 - ETA: 0s - loss: 0.6143 - acc: 0.654 - ETA: 0s - loss: 0.6198 - acc: 0.646 - ETA: 0s - loss: 0.6192 - acc: 0.648 - 0s 19us/sample - loss: 0.6192 - acc: 0.6497 - val_loss: 0.6342 - val_acc: 0.6301\n",
      "Epoch 36/300\n",
      "15548/15548 [==============================] - ETA: 0s - loss: 0.5891 - acc: 0.705 - ETA: 0s - loss: 0.6133 - acc: 0.654 - ETA: 0s - loss: 0.6151 - acc: 0.654 - ETA: 0s - loss: 0.6164 - acc: 0.651 - 0s 17us/sample - loss: 0.6188 - acc: 0.6487 - val_loss: 0.6362 - val_acc: 0.6300\n",
      "Epoch 37/300\n",
      "15548/15548 [==============================] - ETA: 0s - loss: 0.6251 - acc: 0.685 - ETA: 0s - loss: 0.6155 - acc: 0.653 - ETA: 0s - loss: 0.6167 - acc: 0.649 - ETA: 0s - loss: 0.6185 - acc: 0.647 - ETA: 0s - loss: 0.6145 - acc: 0.652 - 0s 18us/sample - loss: 0.6150 - acc: 0.6521 - val_loss: 0.6396 - val_acc: 0.6261\n",
      "Epoch 38/300\n",
      "15548/15548 [==============================] - ETA: 0s - loss: 0.5906 - acc: 0.675 - ETA: 0s - loss: 0.6072 - acc: 0.662 - ETA: 0s - loss: 0.6102 - acc: 0.660 - ETA: 0s - loss: 0.6109 - acc: 0.658 - ETA: 0s - loss: 0.6158 - acc: 0.652 - 0s 18us/sample - loss: 0.6159 - acc: 0.6531 - val_loss: 0.6394 - val_acc: 0.6264\n",
      "Epoch 39/300\n",
      "15548/15548 [==============================] - ETA: 0s - loss: 0.6225 - acc: 0.660 - ETA: 0s - loss: 0.6211 - acc: 0.650 - ETA: 0s - loss: 0.6115 - acc: 0.660 - ETA: 0s - loss: 0.6158 - acc: 0.656 - ETA: 0s - loss: 0.6158 - acc: 0.655 - 0s 20us/sample - loss: 0.6158 - acc: 0.6552 - val_loss: 0.6358 - val_acc: 0.6292\n",
      "Epoch 40/300\n",
      "15548/15548 [==============================] - ETA: 1s - loss: 0.6424 - acc: 0.640 - ETA: 0s - loss: 0.6149 - acc: 0.649 - ETA: 0s - loss: 0.6153 - acc: 0.648 - ETA: 0s - loss: 0.6139 - acc: 0.650 - 0s 17us/sample - loss: 0.6137 - acc: 0.6525 - val_loss: 0.6399 - val_acc: 0.6327\n",
      "Epoch 00040: early stopping\n"
     ]
    }
   ],
   "source": [
    "# train\n",
    "model2 = my_model(12,100,2)\n",
    "history2 =  model2. fit ( train_data2 , train_target2 , batch_size = 200 , epochs = 300 , verbose =1 , validation_data =( test_data2 , test_target2 ) , callbacks = callbacks_ )"
   ]
  },
  {
   "cell_type": "code",
   "execution_count": 88,
   "metadata": {},
   "outputs": [
    {
     "data": {
      "image/png": "[encoded data removed]",
      "text/plain": [
       "<Figure size 720x360 with 1 Axes>"
      ]
     },
     "metadata": {
      "needs_background": "light"
     },
     "output_type": "display_data"
    }
   ],
   "source": [
    "# Loss\n",
    "lossplot(history2.history['loss'], scale='log');"
   ]
  },
  {
   "cell_type": "code",
   "execution_count": 89,
   "metadata": {},
   "outputs": [
    {
     "data": {
      "image/png": "[encoded data removed]",
      "text/plain": [
       "<Figure size 720x360 with 1 Axes>"
      ]
     },
     "metadata": {
      "needs_background": "light"
     },
     "output_type": "display_data"
    }
   ],
   "source": [
    "# Accuracy\n",
    "accplot(history2.history['val_acc'], scale='linear')"
   ]
  },
  {
   "cell_type": "code",
   "execution_count": 90,
   "metadata": {},
   "outputs": [
    {
     "data": {
      "image/png": "[encoded data removed]",
      "text/plain": [
       "<Figure size 432x288 with 2 Axes>"
      ]
     },
     "metadata": {
      "needs_background": "light"
     },
     "output_type": "display_data"
    }
   ],
   "source": [
    "# Predictions\n",
    "pred2 = model2.predict(test_data2)\n",
    "\n",
    "# Convert probabilities into binary outputs\n",
    "bi = []\n",
    "p = []\n",
    "for i in pred2:\n",
    "    if i[0]>0.5:\n",
    "        bi.append(1)\n",
    "        p.append(i[0])\n",
    "    else:\n",
    "        bi.append(0)\n",
    "        p.append(i[0])\n",
    "        \n",
    "# Define confusion matrix and classes\n",
    "cm = confusion_matrix(test_target2.tolist(),bi)\n",
    "classes=[0,1]\n",
    "\n",
    "# Plot heat map\n",
    "heatmap(cm,normalize=True,labels=['predicted','true'],classes=[['0','1'],['0','1']])"
   ]
  },
  {
   "cell_type": "code",
   "execution_count": 91,
   "metadata": {},
   "outputs": [
    {
     "data": {
      "image/png": "[encoded data removed]",
      "text/plain": [
       "<Figure size 432x288 with 1 Axes>"
      ]
     },
     "metadata": {
      "needs_background": "light"
     },
     "output_type": "display_data"
    }
   ],
   "source": [
    "# Calculate false positive rate and true positive rate\n",
    "fpr, tpr, threshold = roc_curve(test_target2, pred2)\n",
    "roc_auc = metrics.auc(fpr, tpr)\n",
    "# Plot ROC curve\n",
    "plt.title('Receiver Operating Characteristic')\n",
    "plt.plot(fpr, tpr, 'b', label = 'AUC = %0.2f' % roc_auc)\n",
    "plt.legend(loc = 'lower right')\n",
    "plt.plot([0, 1], [0, 1],'r--')\n",
    "plt.xlim([0, 1])\n",
    "plt.ylim([0, 1])\n",
    "plt.ylabel('True Positive Rate')\n",
    "plt.xlabel('False Positive Rate')\n",
    "plt.show()"
   ]
  },
  {
   "cell_type": "markdown",
   "metadata": {},
   "source": [
    "## CP60 vs. background"
   ]
  },
  {
   "cell_type": "code",
   "execution_count": 92,
   "metadata": {},
   "outputs": [],
   "source": [
    "# sample signal: alpha = 30\n",
    "S3 = s3.sample(b.shape[0], random_state=42)\n",
    "\n",
    "# training dataset\n",
    "train3 = pd.concat([S3,b])\n",
    "\n",
    "# Shuffle training dataset\n",
    "train3 = shuffle(train3,random_state=42).reset_index(drop=True)"
   ]
  },
  {
   "cell_type": "code",
   "execution_count": 93,
   "metadata": {},
   "outputs": [
    {
     "name": "stdout",
     "output_type": "stream",
     "text": [
      "(15548, 12) (15548,) (6664, 12) (6664,)\n"
     ]
    }
   ],
   "source": [
    "# Standardize\n",
    "sc3 = preprocessing . StandardScaler ()\n",
    "input_data3 = sc3 . fit_transform ( train3[c0[0:12]] )\n",
    "target3 = train3['isSignal']\n",
    "\n",
    "# train - test split of dataset\n",
    "train_data3 , test_data3 , train_target3 , test_target3 = model_selection . train_test_split (\\\n",
    "input_data3 , target3 , test_size =0.3 , random_state = Answer_to_all_questions )\n",
    "# Check shape\n",
    "print ( train_data3 . shape , train_target3 . shape , test_data3 . shape , test_target3 . shape )"
   ]
  },
  {
   "cell_type": "code",
   "execution_count": 107,
   "metadata": {
    "scrolled": true
   },
   "outputs": [
    {
     "name": "stdout",
     "output_type": "stream",
     "text": [
      "Train on 15548 samples, validate on 6664 samples\n",
      "Epoch 1/300\n",
      "15548/15548 [==============================] - ETA: 10s - loss: 0.6928 - acc: 0.51 - ETA: 1s - loss: 0.6930 - acc: 0.5143 - ETA: 0s - loss: 0.6896 - acc: 0.530 - ETA: 0s - loss: 0.6886 - acc: 0.537 - ETA: 0s - loss: 0.6881 - acc: 0.542 - 1s 49us/sample - loss: 0.6851 - acc: 0.5514 - val_loss: 0.6751 - val_acc: 0.5770\n",
      "Epoch 2/300\n",
      "15548/15548 [==============================] - ETA: 0s - loss: 0.6771 - acc: 0.590 - ETA: 0s - loss: 0.6740 - acc: 0.583 - ETA: 0s - loss: 0.6668 - acc: 0.595 - ETA: 0s - loss: 0.6676 - acc: 0.593 - ETA: 0s - loss: 0.6672 - acc: 0.596 - 0s 20us/sample - loss: 0.6660 - acc: 0.5983 - val_loss: 0.6498 - val_acc: 0.6265\n",
      "Epoch 3/300\n",
      "15548/15548 [==============================] - ETA: 0s - loss: 0.6393 - acc: 0.650 - ETA: 0s - loss: 0.6520 - acc: 0.610 - ETA: 0s - loss: 0.6500 - acc: 0.615 - ETA: 0s - loss: 0.6487 - acc: 0.618 - ETA: 0s - loss: 0.6477 - acc: 0.620 - 0s 20us/sample - loss: 0.6452 - acc: 0.6240 - val_loss: 0.6361 - val_acc: 0.6318\n",
      "Epoch 4/300\n",
      "15548/15548 [==============================] - ETA: 0s - loss: 0.6396 - acc: 0.610 - ETA: 0s - loss: 0.6327 - acc: 0.646 - ETA: 0s - loss: 0.6328 - acc: 0.639 - ETA: 0s - loss: 0.6381 - acc: 0.636 - ETA: 0s - loss: 0.6388 - acc: 0.636 - ETA: 0s - loss: 0.6369 - acc: 0.638 - 0s 21us/sample - loss: 0.6363 - acc: 0.6386 - val_loss: 0.6286 - val_acc: 0.6427\n",
      "Epoch 5/300\n",
      "15548/15548 [==============================] - ETA: 0s - loss: 0.6192 - acc: 0.686 - ETA: 0s - loss: 0.6536 - acc: 0.631 - ETA: 0s - loss: 0.6392 - acc: 0.641 - ETA: 0s - loss: 0.6357 - acc: 0.644 - ETA: 0s - loss: 0.6324 - acc: 0.648 - 0s 20us/sample - loss: 0.6308 - acc: 0.6492 - val_loss: 0.6246 - val_acc: 0.6505\n",
      "Epoch 6/300\n",
      "15548/15548 [==============================] - ETA: 0s - loss: 0.6236 - acc: 0.666 - ETA: 0s - loss: 0.6228 - acc: 0.648 - ETA: 0s - loss: 0.6244 - acc: 0.647 - ETA: 0s - loss: 0.6275 - acc: 0.646 - ETA: 0s - loss: 0.6283 - acc: 0.646 - 0s 17us/sample - loss: 0.6282 - acc: 0.6466 - val_loss: 0.6237 - val_acc: 0.6532\n",
      "Epoch 7/300\n",
      "15548/15548 [==============================] - ETA: 0s - loss: 0.6417 - acc: 0.616 - ETA: 0s - loss: 0.6222 - acc: 0.665 - ETA: 0s - loss: 0.6273 - acc: 0.659 - ETA: 0s - loss: 0.6236 - acc: 0.659 - ETA: 0s - loss: 0.6252 - acc: 0.656 - ETA: 0s - loss: 0.6251 - acc: 0.655 - 0s 23us/sample - loss: 0.6240 - acc: 0.6547 - val_loss: 0.6232 - val_acc: 0.6501\n",
      "Epoch 8/300\n",
      "15548/15548 [==============================] - ETA: 0s - loss: 0.6482 - acc: 0.643 - ETA: 0s - loss: 0.6197 - acc: 0.658 - ETA: 0s - loss: 0.6218 - acc: 0.656 - ETA: 0s - loss: 0.6243 - acc: 0.654 - ETA: 0s - loss: 0.6242 - acc: 0.654 - 0s 19us/sample - loss: 0.6231 - acc: 0.6557 - val_loss: 0.6212 - val_acc: 0.6564\n",
      "Epoch 9/300\n",
      "15548/15548 [==============================] - ETA: 0s - loss: 0.6554 - acc: 0.596 - ETA: 0s - loss: 0.6271 - acc: 0.647 - ETA: 0s - loss: 0.6213 - acc: 0.654 - ETA: 0s - loss: 0.6209 - acc: 0.654 - ETA: 0s - loss: 0.6216 - acc: 0.655 - ETA: 0s - loss: 0.6209 - acc: 0.656 - 0s 23us/sample - loss: 0.6203 - acc: 0.6576 - val_loss: 0.6207 - val_acc: 0.6493\n",
      "Epoch 10/300\n",
      "15548/15548 [==============================] - ETA: 0s - loss: 0.6288 - acc: 0.626 - ETA: 0s - loss: 0.6152 - acc: 0.667 - ETA: 0s - loss: 0.6168 - acc: 0.666 - ETA: 0s - loss: 0.6180 - acc: 0.664 - ETA: 0s - loss: 0.6167 - acc: 0.664 - ETA: 0s - loss: 0.6200 - acc: 0.660 - ETA: 0s - loss: 0.6195 - acc: 0.662 - 0s 27us/sample - loss: 0.6185 - acc: 0.6632 - val_loss: 0.6177 - val_acc: 0.6589\n",
      "Epoch 11/300\n",
      "15548/15548 [==============================] - ETA: 0s - loss: 0.6021 - acc: 0.690 - ETA: 0s - loss: 0.6162 - acc: 0.659 - ETA: 0s - loss: 0.6177 - acc: 0.659 - ETA: 0s - loss: 0.6146 - acc: 0.659 - ETA: 0s - loss: 0.6140 - acc: 0.661 - 0s 19us/sample - loss: 0.6166 - acc: 0.6596 - val_loss: 0.6197 - val_acc: 0.6591\n",
      "Epoch 12/300\n",
      "15548/15548 [==============================] - ETA: 0s - loss: 0.6153 - acc: 0.673 - ETA: 0s - loss: 0.6188 - acc: 0.655 - ETA: 0s - loss: 0.6138 - acc: 0.663 - ETA: 0s - loss: 0.6116 - acc: 0.665 - ETA: 0s - loss: 0.6095 - acc: 0.667 - 0s 22us/sample - loss: 0.6142 - acc: 0.6627 - val_loss: 0.6251 - val_acc: 0.6423\n",
      "Epoch 13/300\n",
      "15548/15548 [==============================] - ETA: 0s - loss: 0.6011 - acc: 0.666 - ETA: 0s - loss: 0.6130 - acc: 0.668 - ETA: 0s - loss: 0.6103 - acc: 0.669 - ETA: 0s - loss: 0.6116 - acc: 0.668 - ETA: 0s - loss: 0.6119 - acc: 0.666 - 0s 18us/sample - loss: 0.6129 - acc: 0.6658 - val_loss: 0.6160 - val_acc: 0.6625\n",
      "Epoch 14/300\n",
      "15548/15548 [==============================] - ETA: 0s - loss: 0.6132 - acc: 0.646 - ETA: 0s - loss: 0.6137 - acc: 0.657 - ETA: 0s - loss: 0.6132 - acc: 0.664 - ETA: 0s - loss: 0.6119 - acc: 0.663 - ETA: 0s - loss: 0.6096 - acc: 0.667 - 0s 20us/sample - loss: 0.6086 - acc: 0.6659 - val_loss: 0.6172 - val_acc: 0.6591\n",
      "Epoch 15/300\n",
      "15548/15548 [==============================] - ETA: 0s - loss: 0.6195 - acc: 0.656 - ETA: 0s - loss: 0.6008 - acc: 0.671 - ETA: 0s - loss: 0.5998 - acc: 0.676 - ETA: 0s - loss: 0.6041 - acc: 0.671 - ETA: 0s - loss: 0.6060 - acc: 0.668 - 0s 17us/sample - loss: 0.6064 - acc: 0.6683 - val_loss: 0.6154 - val_acc: 0.6516\n",
      "Epoch 16/300\n",
      "15548/15548 [==============================] - ETA: 0s - loss: 0.6148 - acc: 0.643 - ETA: 0s - loss: 0.5976 - acc: 0.674 - ETA: 0s - loss: 0.5998 - acc: 0.671 - ETA: 0s - loss: 0.6034 - acc: 0.668 - ETA: 0s - loss: 0.6042 - acc: 0.669 - 0s 19us/sample - loss: 0.6043 - acc: 0.6691 - val_loss: 0.6178 - val_acc: 0.6553\n",
      "Epoch 17/300\n",
      "15548/15548 [==============================] - ETA: 0s - loss: 0.5935 - acc: 0.663 - ETA: 0s - loss: 0.6038 - acc: 0.668 - ETA: 0s - loss: 0.6020 - acc: 0.671 - ETA: 0s - loss: 0.6032 - acc: 0.672 - 0s 17us/sample - loss: 0.6039 - acc: 0.6692 - val_loss: 0.6135 - val_acc: 0.6619\n",
      "Epoch 18/300\n",
      "15548/15548 [==============================] - ETA: 0s - loss: 0.5846 - acc: 0.700 - ETA: 0s - loss: 0.5999 - acc: 0.676 - ETA: 0s - loss: 0.6030 - acc: 0.669 - ETA: 0s - loss: 0.6008 - acc: 0.670 - ETA: 0s - loss: 0.6011 - acc: 0.670 - ETA: 0s - loss: 0.6031 - acc: 0.667 - 0s 24us/sample - loss: 0.6014 - acc: 0.6695 - val_loss: 0.6161 - val_acc: 0.6573\n",
      "Epoch 19/300\n",
      "15548/15548 [==============================] - ETA: 0s - loss: 0.5984 - acc: 0.666 - ETA: 0s - loss: 0.5957 - acc: 0.679 - ETA: 0s - loss: 0.5991 - acc: 0.676 - ETA: 0s - loss: 0.6001 - acc: 0.676 - ETA: 0s - loss: 0.6018 - acc: 0.673 - 0s 18us/sample - loss: 0.6008 - acc: 0.6742 - val_loss: 0.6129 - val_acc: 0.6583\n",
      "Epoch 20/300\n",
      "15548/15548 [==============================] - ETA: 0s - loss: 0.6007 - acc: 0.660 - ETA: 0s - loss: 0.5896 - acc: 0.677 - ETA: 0s - loss: 0.5940 - acc: 0.674 - ETA: 0s - loss: 0.5960 - acc: 0.675 - ETA: 0s - loss: 0.5960 - acc: 0.675 - 0s 19us/sample - loss: 0.5959 - acc: 0.6751 - val_loss: 0.6133 - val_acc: 0.6589\n",
      "Epoch 21/300\n",
      "15548/15548 [==============================] - ETA: 0s - loss: 0.5862 - acc: 0.676 - ETA: 0s - loss: 0.5830 - acc: 0.682 - ETA: 0s - loss: 0.5918 - acc: 0.678 - ETA: 0s - loss: 0.5921 - acc: 0.679 - ETA: 0s - loss: 0.5943 - acc: 0.675 - ETA: 0s - loss: 0.5963 - acc: 0.674 - 0s 23us/sample - loss: 0.5956 - acc: 0.6763 - val_loss: 0.6138 - val_acc: 0.6564\n",
      "Epoch 22/300\n",
      "15548/15548 [==============================] - ETA: 0s - loss: 0.6099 - acc: 0.640 - ETA: 0s - loss: 0.5862 - acc: 0.683 - ETA: 0s - loss: 0.5890 - acc: 0.682 - ETA: 0s - loss: 0.5950 - acc: 0.677 - ETA: 0s - loss: 0.5961 - acc: 0.673 - 0s 20us/sample - loss: 0.5946 - acc: 0.6748 - val_loss: 0.6149 - val_acc: 0.6576\n",
      "Epoch 23/300\n",
      "15548/15548 [==============================] - ETA: 0s - loss: 0.5717 - acc: 0.666 - ETA: 0s - loss: 0.5878 - acc: 0.674 - ETA: 0s - loss: 0.5929 - acc: 0.674 - ETA: 0s - loss: 0.5942 - acc: 0.672 - ETA: 0s - loss: 0.5942 - acc: 0.673 - 0s 19us/sample - loss: 0.5950 - acc: 0.6728 - val_loss: 0.6156 - val_acc: 0.6523\n",
      "Epoch 24/300\n",
      "15548/15548 [==============================] - ETA: 0s - loss: 0.5961 - acc: 0.663 - ETA: 0s - loss: 0.5918 - acc: 0.671 - ETA: 0s - loss: 0.5902 - acc: 0.673 - ETA: 0s - loss: 0.5935 - acc: 0.671 - ETA: 0s - loss: 0.5947 - acc: 0.671 - ETA: 0s - loss: 0.5959 - acc: 0.671 - 0s 23us/sample - loss: 0.5944 - acc: 0.6741 - val_loss: 0.6104 - val_acc: 0.6597\n"
     ]
    },
    {
     "name": "stdout",
     "output_type": "stream",
     "text": [
      "Epoch 25/300\n",
      "15548/15548 [==============================] - ETA: 0s - loss: 0.5567 - acc: 0.716 - ETA: 0s - loss: 0.5926 - acc: 0.676 - ETA: 0s - loss: 0.5837 - acc: 0.685 - ETA: 0s - loss: 0.5847 - acc: 0.683 - ETA: 0s - loss: 0.5878 - acc: 0.681 - 0s 19us/sample - loss: 0.5912 - acc: 0.6800 - val_loss: 0.6158 - val_acc: 0.6564\n",
      "Epoch 26/300\n",
      "15548/15548 [==============================] - ETA: 0s - loss: 0.6342 - acc: 0.646 - ETA: 0s - loss: 0.5830 - acc: 0.688 - ETA: 0s - loss: 0.5861 - acc: 0.684 - ETA: 0s - loss: 0.5875 - acc: 0.685 - 0s 16us/sample - loss: 0.5875 - acc: 0.6854 - val_loss: 0.6137 - val_acc: 0.6552\n",
      "Epoch 27/300\n",
      "15548/15548 [==============================] - ETA: 0s - loss: 0.5963 - acc: 0.660 - ETA: 0s - loss: 0.5792 - acc: 0.684 - ETA: 0s - loss: 0.5795 - acc: 0.685 - ETA: 0s - loss: 0.5846 - acc: 0.683 - 0s 17us/sample - loss: 0.5859 - acc: 0.6809 - val_loss: 0.6156 - val_acc: 0.6574\n",
      "Epoch 28/300\n",
      "15548/15548 [==============================] - ETA: 0s - loss: 0.5772 - acc: 0.683 - ETA: 0s - loss: 0.5833 - acc: 0.685 - ETA: 0s - loss: 0.5808 - acc: 0.682 - ETA: 0s - loss: 0.5854 - acc: 0.681 - ETA: 0s - loss: 0.5852 - acc: 0.681 - 0s 17us/sample - loss: 0.5851 - acc: 0.6821 - val_loss: 0.6143 - val_acc: 0.6579\n",
      "Epoch 00028: early stopping\n"
     ]
    }
   ],
   "source": [
    "# train\n",
    "model3 = my_model(12,200,2)\n",
    "history3 =  model3. fit ( train_data3 , train_target3 , batch_size = 300 , epochs = 300 , verbose =1 , validation_data =( test_data3 , test_target3 ) , callbacks = callbacks_ )"
   ]
  },
  {
   "cell_type": "code",
   "execution_count": 108,
   "metadata": {},
   "outputs": [
    {
     "data": {
      "image/png": "[encoded data removed]",
      "text/plain": [
       "<Figure size 720x360 with 1 Axes>"
      ]
     },
     "metadata": {
      "needs_background": "light"
     },
     "output_type": "display_data"
    }
   ],
   "source": [
    "# Loss\n",
    "lossplot(history3.history['loss'], scale='log');"
   ]
  },
  {
   "cell_type": "code",
   "execution_count": 109,
   "metadata": {},
   "outputs": [
    {
     "data": {
      "image/png": "[encoded data removed]",
      "text/plain": [
       "<Figure size 720x360 with 1 Axes>"
      ]
     },
     "metadata": {
      "needs_background": "light"
     },
     "output_type": "display_data"
    }
   ],
   "source": [
    "# Accuracy\n",
    "accplot(history3.history['val_acc'], scale='linear')"
   ]
  },
  {
   "cell_type": "code",
   "execution_count": 110,
   "metadata": {},
   "outputs": [
    {
     "data": {
      "image/png": "[encoded data removed]",
      "text/plain": [
       "<Figure size 432x288 with 2 Axes>"
      ]
     },
     "metadata": {
      "needs_background": "light"
     },
     "output_type": "display_data"
    }
   ],
   "source": [
    "# Predictions\n",
    "pred3 = model3.predict(test_data3)\n",
    "\n",
    "# Convert probabilities into binary outputs\n",
    "bi = []\n",
    "p = []\n",
    "for i in pred3:\n",
    "    if i[0]>0.5:\n",
    "        bi.append(1)\n",
    "        p.append(i[0])\n",
    "    else:\n",
    "        bi.append(0)\n",
    "        p.append(i[0])\n",
    "        \n",
    "# Define confusion matrix and classes\n",
    "cm = confusion_matrix(test_target3.tolist(),bi)\n",
    "classes=[0,1]\n",
    "\n",
    "# Plot heat map\n",
    "heatmap(cm,normalize=True,labels=['predicted','true'],classes=[['0','1'],['0','1']])"
   ]
  },
  {
   "cell_type": "code",
   "execution_count": 111,
   "metadata": {},
   "outputs": [
    {
     "data": {
      "image/png": "[encoded data removed]",
      "text/plain": [
       "<Figure size 432x288 with 1 Axes>"
      ]
     },
     "metadata": {
      "needs_background": "light"
     },
     "output_type": "display_data"
    }
   ],
   "source": [
    "# Calculate false positive rate and true positive rate\n",
    "fpr, tpr, threshold = roc_curve(test_target3, pred3)\n",
    "roc_auc = metrics.auc(fpr, tpr)\n",
    "# Plot ROC curve\n",
    "plt.title('Receiver Operating Characteristic')\n",
    "plt.plot(fpr, tpr, 'b', label = 'AUC = %0.2f' % roc_auc)\n",
    "plt.legend(loc = 'lower right')\n",
    "plt.plot([0, 1], [0, 1],'r--')\n",
    "plt.xlim([0, 1])\n",
    "plt.ylim([0, 1])\n",
    "plt.ylabel('True Positive Rate')\n",
    "plt.xlabel('False Positive Rate')\n",
    "plt.show()"
   ]
  },
  {
   "cell_type": "markdown",
   "metadata": {},
   "source": [
    "## CP0, 30 and 60"
   ]
  },
  {
   "cell_type": "code",
   "execution_count": 99,
   "metadata": {},
   "outputs": [],
   "source": [
    "# ML imports\n",
    "from sklearn.preprocessing import MinMaxScaler\n",
    "from sklearn.utils import shuffle\n",
    "from sklearn.model_selection import train_test_split\n",
    "from tensorflow.python.keras.models import Model\n",
    "from tensorflow.python.keras.layers import Input, Dense\n",
    "from sklearn.model_selection import GridSearchCV, cross_val_score\n",
    "from sklearn.neural_network import MLPClassifier\n",
    "from sklearn.metrics import confusion_matrix\n",
    "\n",
    "# Custom imports\n",
    "import daml\n",
    "from daml import plot, utilities, optimisation"
   ]
  },
  {
   "cell_type": "code",
   "execution_count": 100,
   "metadata": {},
   "outputs": [
    {
     "data": {
      "text/plain": [
       "((38100, 13), (138901, 13), (138005, 13))"
      ]
     },
     "execution_count": 100,
     "metadata": {},
     "output_type": "execute_result"
    }
   ],
   "source": [
    "s1.shape, s2.shape, s3.shape"
   ]
  },
  {
   "cell_type": "code",
   "execution_count": 101,
   "metadata": {},
   "outputs": [],
   "source": [
    "cp0 = s1\n",
    "cp0.insert(13,'alpha',0)\n",
    "cp30 = s2.sample(s1.shape[0], random_state=42)\n",
    "cp30.insert(13,'alpha',1)\n",
    "cp60 = s3.sample(s1.shape[0], random_state=42)\n",
    "cp60.insert(13,'alpha',2)"
   ]
  },
  {
   "cell_type": "code",
   "execution_count": 102,
   "metadata": {},
   "outputs": [
    {
     "name": "stdout",
     "output_type": "stream",
     "text": [
      "(80010, 12) (80010,) (34290, 12) (34290,)\n"
     ]
    }
   ],
   "source": [
    "# training dataset\n",
    "train4 = pd.concat([cp0,cp30,cp60])\n",
    "\n",
    "# Shuffle training dataset\n",
    "train4 = shuffle(train4,random_state=42).reset_index(drop=True)\n",
    "\n",
    "# Standardize\n",
    "sc4 = preprocessing . StandardScaler ()\n",
    "input_data4 = sc4 . fit_transform ( train4[c0[0:12]] )\n",
    "target4 = train4['alpha']\n",
    "\n",
    "# train - test split of dataset\n",
    "train_data4 , test_data4 , train_target4 , test_target4 = model_selection . train_test_split (\\\n",
    "input_data4 , target4 , test_size =0.3 , random_state = Answer_to_all_questions )\n",
    "# Check shape\n",
    "print ( train_data4 . shape , train_target4 . shape , test_data4 . shape , test_target4 . shape )"
   ]
  },
  {
   "cell_type": "code",
   "execution_count": 140,
   "metadata": {},
   "outputs": [
    {
     "name": "stdout",
     "output_type": "stream",
     "text": [
      "Model: \"Small model (standard)\"\n",
      "_________________________________________________________________\n",
      "Layer (type)                 Output Shape              Param #   \n",
      "=================================================================\n",
      "input_8 (InputLayer)         [(None, 12)]              0         \n",
      "_________________________________________________________________\n",
      "dense_61 (Dense)             (None, 100)               1300      \n",
      "_________________________________________________________________\n",
      "dense_62 (Dense)             (None, 3)                 303       \n",
      "=================================================================\n",
      "Total params: 1,603\n",
      "Trainable params: 1,603\n",
      "Non-trainable params: 0\n",
      "_________________________________________________________________\n"
     ]
    }
   ],
   "source": [
    "def smallmodel (name):\n",
    "    # Create a NW\n",
    "    input_tensor = Input(shape=(12,))\n",
    "    H1 = Dense(100, activation='relu')(input_tensor)\n",
    "    output_tensor = Dense(3, activation='softmax')(H1)\n",
    "    model = Model(input_tensor, output_tensor,name = name)\n",
    "    # Compile the model\n",
    "    model.compile(optimizer='Adam',loss='sparse_categorical_crossentropy',metrics=['accuracy'])\n",
    "    return model\n",
    "\n",
    "# Get the model\n",
    "model4 = smallmodel('Small model (standard)')\n",
    "model4.summary()"
   ]
  },
  {
   "cell_type": "code",
   "execution_count": 141,
   "metadata": {
    "scrolled": true
   },
   "outputs": [
    {
     "name": "stdout",
     "output_type": "stream",
     "text": [
      "Train on 56007 samples, validate on 24003 samples\n",
      "Epoch 1/300\n",
      "56007/56007 - 1s - loss: 1.1070 - acc: 0.3451 - val_loss: 1.0992 - val_acc: 0.3520\n",
      "Epoch 2/300\n",
      "56007/56007 - 0s - loss: 1.0960 - acc: 0.3623 - val_loss: 1.0964 - val_acc: 0.3641\n",
      "Epoch 3/300\n",
      "56007/56007 - 0s - loss: 1.0933 - acc: 0.3661 - val_loss: 1.0954 - val_acc: 0.3688\n",
      "Epoch 4/300\n",
      "56007/56007 - 0s - loss: 1.0918 - acc: 0.3707 - val_loss: 1.0949 - val_acc: 0.3669\n",
      "Epoch 5/300\n",
      "56007/56007 - 0s - loss: 1.0910 - acc: 0.3747 - val_loss: 1.0948 - val_acc: 0.3710\n",
      "Epoch 6/300\n",
      "56007/56007 - 0s - loss: 1.0908 - acc: 0.3734 - val_loss: 1.0948 - val_acc: 0.3680\n",
      "Epoch 7/300\n",
      "56007/56007 - 0s - loss: 1.0901 - acc: 0.3770 - val_loss: 1.0937 - val_acc: 0.3732\n",
      "Epoch 8/300\n",
      "56007/56007 - 0s - loss: 1.0894 - acc: 0.3790 - val_loss: 1.0946 - val_acc: 0.3736\n",
      "Epoch 9/300\n",
      "56007/56007 - 0s - loss: 1.0897 - acc: 0.3766 - val_loss: 1.0940 - val_acc: 0.3720\n",
      "Epoch 10/300\n",
      "56007/56007 - 0s - loss: 1.0891 - acc: 0.3791 - val_loss: 1.0943 - val_acc: 0.3691\n",
      "Epoch 11/300\n",
      "56007/56007 - 0s - loss: 1.0888 - acc: 0.3782 - val_loss: 1.0945 - val_acc: 0.3720\n",
      "Epoch 12/300\n",
      "56007/56007 - 0s - loss: 1.0888 - acc: 0.3781 - val_loss: 1.0944 - val_acc: 0.3712\n",
      "Epoch 13/300\n",
      "56007/56007 - 0s - loss: 1.0890 - acc: 0.3800 - val_loss: 1.0945 - val_acc: 0.3712\n",
      "Epoch 14/300\n",
      "56007/56007 - 0s - loss: 1.0885 - acc: 0.3818 - val_loss: 1.0939 - val_acc: 0.3730\n",
      "Epoch 15/300\n",
      "56007/56007 - 0s - loss: 1.0881 - acc: 0.3823 - val_loss: 1.0943 - val_acc: 0.3682\n",
      "Epoch 16/300\n",
      "56007/56007 - 0s - loss: 1.0875 - acc: 0.3816 - val_loss: 1.0941 - val_acc: 0.3736\n",
      "Epoch 17/300\n",
      "56007/56007 - 0s - loss: 1.0875 - acc: 0.3857 - val_loss: 1.0941 - val_acc: 0.3665\n",
      "Epoch 18/300\n",
      "56007/56007 - 0s - loss: 1.0875 - acc: 0.3849 - val_loss: 1.0940 - val_acc: 0.3708\n",
      "Epoch 19/300\n",
      "56007/56007 - 0s - loss: 1.0875 - acc: 0.3844 - val_loss: 1.0934 - val_acc: 0.3728\n",
      "Epoch 20/300\n",
      "56007/56007 - 0s - loss: 1.0871 - acc: 0.3865 - val_loss: 1.0939 - val_acc: 0.3690\n",
      "Epoch 21/300\n",
      "56007/56007 - 0s - loss: 1.0875 - acc: 0.3841 - val_loss: 1.0942 - val_acc: 0.3697\n",
      "Epoch 22/300\n",
      "56007/56007 - 0s - loss: 1.0874 - acc: 0.3853 - val_loss: 1.0947 - val_acc: 0.3695\n",
      "Epoch 23/300\n",
      "56007/56007 - 0s - loss: 1.0869 - acc: 0.3870 - val_loss: 1.0935 - val_acc: 0.3748\n",
      "Epoch 24/300\n",
      "56007/56007 - 0s - loss: 1.0870 - acc: 0.3855 - val_loss: 1.0938 - val_acc: 0.3710\n",
      "Epoch 25/300\n",
      "56007/56007 - 0s - loss: 1.0868 - acc: 0.3830 - val_loss: 1.0938 - val_acc: 0.3740\n",
      "Epoch 26/300\n",
      "56007/56007 - 0s - loss: 1.0865 - acc: 0.3865 - val_loss: 1.0939 - val_acc: 0.3713\n",
      "Epoch 27/300\n",
      "56007/56007 - 0s - loss: 1.0863 - acc: 0.3871 - val_loss: 1.0935 - val_acc: 0.3709\n",
      "Epoch 28/300\n",
      "56007/56007 - 0s - loss: 1.0867 - acc: 0.3860 - val_loss: 1.0939 - val_acc: 0.3706\n",
      "Epoch 29/300\n",
      "56007/56007 - 0s - loss: 1.0863 - acc: 0.3874 - val_loss: 1.0935 - val_acc: 0.3732\n",
      "Epoch 30/300\n",
      "56007/56007 - 0s - loss: 1.0862 - acc: 0.3874 - val_loss: 1.0954 - val_acc: 0.3641\n",
      "Epoch 31/300\n",
      "56007/56007 - 0s - loss: 1.0863 - acc: 0.3876 - val_loss: 1.0944 - val_acc: 0.3732\n",
      "Epoch 32/300\n",
      "56007/56007 - 0s - loss: 1.0861 - acc: 0.3887 - val_loss: 1.0941 - val_acc: 0.3674\n",
      "Epoch 33/300\n",
      "56007/56007 - 0s - loss: 1.0858 - acc: 0.3879 - val_loss: 1.0942 - val_acc: 0.3730\n",
      "Epoch 34/300\n",
      "56007/56007 - 0s - loss: 1.0860 - acc: 0.3873 - val_loss: 1.0944 - val_acc: 0.3658\n",
      "Epoch 35/300\n",
      "56007/56007 - 0s - loss: 1.0855 - acc: 0.3882 - val_loss: 1.0944 - val_acc: 0.3723\n",
      "Epoch 36/300\n",
      "56007/56007 - 0s - loss: 1.0855 - acc: 0.3885 - val_loss: 1.0938 - val_acc: 0.3739\n",
      "Epoch 37/300\n",
      "56007/56007 - 0s - loss: 1.0852 - acc: 0.3879 - val_loss: 1.0941 - val_acc: 0.3713\n",
      "Epoch 38/300\n",
      "56007/56007 - 0s - loss: 1.0855 - acc: 0.3886 - val_loss: 1.0941 - val_acc: 0.3714\n",
      "Epoch 00038: early stopping\n"
     ]
    }
   ],
   "source": [
    "# Compile and fit\n",
    "cp = model4.fit(train_data4,train_target4,batch_size=500,epochs=300,validation_split=0.3,shuffle=True,verbose=2, callbacks = callbacks_)"
   ]
  },
  {
   "cell_type": "code",
   "execution_count": 142,
   "metadata": {},
   "outputs": [
    {
     "data": {
      "image/png": "[encoded data removed]",
      "text/plain": [
       "<Figure size 432x288 with 1 Axes>"
      ]
     },
     "metadata": {
      "needs_background": "light"
     },
     "output_type": "display_data"
    }
   ],
   "source": [
    "# Plot loss curves\n",
    "daml.plot.loss(cp);"
   ]
  },
  {
   "cell_type": "code",
   "execution_count": 143,
   "metadata": {},
   "outputs": [
    {
     "data": {
      "image/png": "[encoded data removed]",
      "text/plain": [
       "<Figure size 432x432 with 1 Axes>"
      ]
     },
     "metadata": {
      "needs_background": "light"
     },
     "output_type": "display_data"
    }
   ],
   "source": [
    "# Get predictions of X_test without weight\n",
    "pred4 = model4.predict(test_data4)\n",
    "pred4 = np.asarray([np.argmax(i) for i in pred4])\n",
    "cm = confusion_matrix(pred4,test_target4)\n",
    "daml.plot.confusion_matrix (cm, labels=None, normalise=True);"
   ]
  },
  {
   "cell_type": "code",
   "execution_count": null,
   "metadata": {},
   "outputs": [],
   "source": []
  }
 ],
 "metadata": {
  "kernelspec": {
   "display_name": "Python 3",
   "language": "python",
   "name": "python3"
  },
  "language_info": {
   "codemirror_mode": {
    "name": "ipython",
    "version": 3
   },
   "file_extension": ".py",
   "mimetype": "text/x-python",
   "name": "python",
   "nbconvert_exporter": "python",
   "pygments_lexer": "ipython3",
   "version": "3.7.4"
  }
 },
 "nbformat": 4,
 "nbformat_minor": 2
}
