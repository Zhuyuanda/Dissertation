{
 "cells": [
  {
   "cell_type": "code",
   "execution_count": 1,
   "metadata": {},
   "outputs": [
    {
     "name": "stderr",
     "output_type": "stream",
     "text": [
      "C:\\Users\\11045\\AppData\\Local\\Continuum\\anaconda3\\lib\\site-packages\\sklearn\\externals\\six.py:31: DeprecationWarning: The module is deprecated in version 0.21 and will be removed in version 0.23 since we've dropped support for Python 2.7. Please rely on the official version of six (https://pypi.org/project/six/).\n",
      "  \"(https://pypi.org/project/six/).\", DeprecationWarning)\n"
     ]
    }
   ],
   "source": [
    "# Imports\n",
    "import numpy as np\n",
    "import pandas as pd\n",
    "import matplotlib.pyplot as plt\n",
    "from sklearn.utils import shuffle\n",
    "from dt_utils import *\n",
    "from nn_utils import *"
   ]
  },
  {
   "cell_type": "code",
   "execution_count": 2,
   "metadata": {},
   "outputs": [],
   "source": [
    "# signal\n",
    "s0 = pd.read_csv ( \"signal.csv\" )\n",
    "s1 = pd.read_csv ( \"0.csv\" )\n",
    "s2 = pd.read_csv ( \"30.csv\" )\n",
    "s3 = pd.read_csv ( \"60.csv\" )\n",
    "\n",
    "# bkg\n",
    "b1 = pd.read_csv ( \"sideband.csv\" )\n",
    "b2 = pd.read_csv ( \"nearsignal.csv\" )"
   ]
  },
  {
   "cell_type": "code",
   "execution_count": 3,
   "metadata": {},
   "outputs": [
    {
     "data": {
      "text/html": [
       "<div>\n",
       "<style scoped>\n",
       "    .dataframe tbody tr th:only-of-type {\n",
       "        vertical-align: middle;\n",
       "    }\n",
       "\n",
       "    .dataframe tbody tr th {\n",
       "        vertical-align: top;\n",
       "    }\n",
       "\n",
       "    .dataframe thead th {\n",
       "        text-align: right;\n",
       "    }\n",
       "</style>\n",
       "<table border=\"1\" class=\"dataframe\">\n",
       "  <thead>\n",
       "    <tr style=\"text-align: right;\">\n",
       "      <th></th>\n",
       "      <th>phib</th>\n",
       "      <th>phif</th>\n",
       "      <th>phitstar</th>\n",
       "      <th>phiw</th>\n",
       "      <th>t</th>\n",
       "      <th>thetab</th>\n",
       "      <th>thetaf</th>\n",
       "      <th>thetah</th>\n",
       "      <th>thetat</th>\n",
       "      <th>thetaw</th>\n",
       "      <th>tt</th>\n",
       "      <th>tth</th>\n",
       "      <th>isSignal</th>\n",
       "    </tr>\n",
       "  </thead>\n",
       "  <tbody>\n",
       "    <tr>\n",
       "      <td>0</td>\n",
       "      <td>1.776711</td>\n",
       "      <td>0.143551</td>\n",
       "      <td>2.339913</td>\n",
       "      <td>0.801155</td>\n",
       "      <td>164.301453</td>\n",
       "      <td>-0.602587</td>\n",
       "      <td>-0.138064</td>\n",
       "      <td>-0.431957</td>\n",
       "      <td>0.824506</td>\n",
       "      <td>-0.986344</td>\n",
       "      <td>508.706277</td>\n",
       "      <td>654.761522</td>\n",
       "      <td>1</td>\n",
       "    </tr>\n",
       "    <tr>\n",
       "      <td>1</td>\n",
       "      <td>2.297378</td>\n",
       "      <td>2.596617</td>\n",
       "      <td>0.807411</td>\n",
       "      <td>2.444087</td>\n",
       "      <td>176.409197</td>\n",
       "      <td>-0.107238</td>\n",
       "      <td>0.579830</td>\n",
       "      <td>-0.076104</td>\n",
       "      <td>0.227356</td>\n",
       "      <td>-0.761026</td>\n",
       "      <td>398.245685</td>\n",
       "      <td>666.181151</td>\n",
       "      <td>1</td>\n",
       "    </tr>\n",
       "    <tr>\n",
       "      <td>2</td>\n",
       "      <td>0.193672</td>\n",
       "      <td>1.353251</td>\n",
       "      <td>2.078824</td>\n",
       "      <td>0.027977</td>\n",
       "      <td>238.333208</td>\n",
       "      <td>-0.195123</td>\n",
       "      <td>-0.113941</td>\n",
       "      <td>0.400439</td>\n",
       "      <td>0.733118</td>\n",
       "      <td>-0.469149</td>\n",
       "      <td>688.912306</td>\n",
       "      <td>865.764571</td>\n",
       "      <td>1</td>\n",
       "    </tr>\n",
       "    <tr>\n",
       "      <td>3</td>\n",
       "      <td>0.339953</td>\n",
       "      <td>0.732237</td>\n",
       "      <td>2.169004</td>\n",
       "      <td>0.763360</td>\n",
       "      <td>311.516453</td>\n",
       "      <td>0.775987</td>\n",
       "      <td>-0.210501</td>\n",
       "      <td>-0.403187</td>\n",
       "      <td>-0.557023</td>\n",
       "      <td>0.206261</td>\n",
       "      <td>722.718271</td>\n",
       "      <td>962.753343</td>\n",
       "      <td>1</td>\n",
       "    </tr>\n",
       "    <tr>\n",
       "      <td>4</td>\n",
       "      <td>1.367030</td>\n",
       "      <td>0.599763</td>\n",
       "      <td>2.644733</td>\n",
       "      <td>0.237751</td>\n",
       "      <td>510.443625</td>\n",
       "      <td>0.342434</td>\n",
       "      <td>-0.811117</td>\n",
       "      <td>0.939705</td>\n",
       "      <td>-0.935776</td>\n",
       "      <td>0.237037</td>\n",
       "      <td>735.070052</td>\n",
       "      <td>991.462335</td>\n",
       "      <td>1</td>\n",
       "    </tr>\n",
       "  </tbody>\n",
       "</table>\n",
       "</div>"
      ],
      "text/plain": [
       "       phib      phif  phitstar      phiw           t    thetab    thetaf  \\\n",
       "0  1.776711  0.143551  2.339913  0.801155  164.301453 -0.602587 -0.138064   \n",
       "1  2.297378  2.596617  0.807411  2.444087  176.409197 -0.107238  0.579830   \n",
       "2  0.193672  1.353251  2.078824  0.027977  238.333208 -0.195123 -0.113941   \n",
       "3  0.339953  0.732237  2.169004  0.763360  311.516453  0.775987 -0.210501   \n",
       "4  1.367030  0.599763  2.644733  0.237751  510.443625  0.342434 -0.811117   \n",
       "\n",
       "     thetah    thetat    thetaw          tt         tth  isSignal  \n",
       "0 -0.431957  0.824506 -0.986344  508.706277  654.761522         1  \n",
       "1 -0.076104  0.227356 -0.761026  398.245685  666.181151         1  \n",
       "2  0.400439  0.733118 -0.469149  688.912306  865.764571         1  \n",
       "3 -0.403187 -0.557023  0.206261  722.718271  962.753343         1  \n",
       "4  0.939705 -0.935776  0.237037  735.070052  991.462335         1  "
      ]
     },
     "execution_count": 3,
     "metadata": {},
     "output_type": "execute_result"
    }
   ],
   "source": [
    "s0.head()"
   ]
  },
  {
   "cell_type": "code",
   "execution_count": 4,
   "metadata": {},
   "outputs": [
    {
     "data": {
      "text/html": [
       "<div>\n",
       "<style scoped>\n",
       "    .dataframe tbody tr th:only-of-type {\n",
       "        vertical-align: middle;\n",
       "    }\n",
       "\n",
       "    .dataframe tbody tr th {\n",
       "        vertical-align: top;\n",
       "    }\n",
       "\n",
       "    .dataframe thead th {\n",
       "        text-align: right;\n",
       "    }\n",
       "</style>\n",
       "<table border=\"1\" class=\"dataframe\">\n",
       "  <thead>\n",
       "    <tr style=\"text-align: right;\">\n",
       "      <th></th>\n",
       "      <th>phib</th>\n",
       "      <th>phif</th>\n",
       "      <th>phitstar</th>\n",
       "      <th>phiw</th>\n",
       "      <th>t</th>\n",
       "      <th>thetab</th>\n",
       "      <th>thetaf</th>\n",
       "      <th>thetah</th>\n",
       "      <th>thetat</th>\n",
       "      <th>thetaw</th>\n",
       "      <th>tt</th>\n",
       "      <th>tth</th>\n",
       "      <th>isSignal</th>\n",
       "    </tr>\n",
       "  </thead>\n",
       "  <tbody>\n",
       "    <tr>\n",
       "      <td>0</td>\n",
       "      <td>2.920753</td>\n",
       "      <td>1.090986</td>\n",
       "      <td>1.733981</td>\n",
       "      <td>0.137239</td>\n",
       "      <td>237.483494</td>\n",
       "      <td>0.065678</td>\n",
       "      <td>0.682121</td>\n",
       "      <td>0.917943</td>\n",
       "      <td>0.691897</td>\n",
       "      <td>-0.429924</td>\n",
       "      <td>1268.745280</td>\n",
       "      <td>1430.672788</td>\n",
       "      <td>0</td>\n",
       "    </tr>\n",
       "    <tr>\n",
       "      <td>1</td>\n",
       "      <td>2.835025</td>\n",
       "      <td>1.946042</td>\n",
       "      <td>1.402751</td>\n",
       "      <td>2.896944</td>\n",
       "      <td>221.302818</td>\n",
       "      <td>0.421983</td>\n",
       "      <td>-0.180910</td>\n",
       "      <td>-0.915062</td>\n",
       "      <td>0.144920</td>\n",
       "      <td>-0.656387</td>\n",
       "      <td>716.177864</td>\n",
       "      <td>923.922878</td>\n",
       "      <td>0</td>\n",
       "    </tr>\n",
       "    <tr>\n",
       "      <td>2</td>\n",
       "      <td>2.973645</td>\n",
       "      <td>2.530269</td>\n",
       "      <td>1.016207</td>\n",
       "      <td>1.918484</td>\n",
       "      <td>259.109181</td>\n",
       "      <td>-0.478403</td>\n",
       "      <td>-0.916697</td>\n",
       "      <td>-0.677089</td>\n",
       "      <td>-0.902995</td>\n",
       "      <td>-0.954527</td>\n",
       "      <td>673.165946</td>\n",
       "      <td>807.950518</td>\n",
       "      <td>0</td>\n",
       "    </tr>\n",
       "    <tr>\n",
       "      <td>3</td>\n",
       "      <td>1.654473</td>\n",
       "      <td>1.665302</td>\n",
       "      <td>2.096471</td>\n",
       "      <td>0.131641</td>\n",
       "      <td>161.244787</td>\n",
       "      <td>-0.575664</td>\n",
       "      <td>-0.940423</td>\n",
       "      <td>0.789105</td>\n",
       "      <td>0.529844</td>\n",
       "      <td>0.269053</td>\n",
       "      <td>837.942784</td>\n",
       "      <td>977.678059</td>\n",
       "      <td>0</td>\n",
       "    </tr>\n",
       "    <tr>\n",
       "      <td>4</td>\n",
       "      <td>2.122228</td>\n",
       "      <td>1.143082</td>\n",
       "      <td>0.394234</td>\n",
       "      <td>0.968614</td>\n",
       "      <td>692.932057</td>\n",
       "      <td>-0.270787</td>\n",
       "      <td>0.710969</td>\n",
       "      <td>-0.932373</td>\n",
       "      <td>0.732293</td>\n",
       "      <td>0.965699</td>\n",
       "      <td>523.067557</td>\n",
       "      <td>702.426124</td>\n",
       "      <td>0</td>\n",
       "    </tr>\n",
       "  </tbody>\n",
       "</table>\n",
       "</div>"
      ],
      "text/plain": [
       "       phib      phif  phitstar      phiw           t    thetab    thetaf  \\\n",
       "0  2.920753  1.090986  1.733981  0.137239  237.483494  0.065678  0.682121   \n",
       "1  2.835025  1.946042  1.402751  2.896944  221.302818  0.421983 -0.180910   \n",
       "2  2.973645  2.530269  1.016207  1.918484  259.109181 -0.478403 -0.916697   \n",
       "3  1.654473  1.665302  2.096471  0.131641  161.244787 -0.575664 -0.940423   \n",
       "4  2.122228  1.143082  0.394234  0.968614  692.932057 -0.270787  0.710969   \n",
       "\n",
       "     thetah    thetat    thetaw           tt          tth  isSignal  \n",
       "0  0.917943  0.691897 -0.429924  1268.745280  1430.672788         0  \n",
       "1 -0.915062  0.144920 -0.656387   716.177864   923.922878         0  \n",
       "2 -0.677089 -0.902995 -0.954527   673.165946   807.950518         0  \n",
       "3  0.789105  0.529844  0.269053   837.942784   977.678059         0  \n",
       "4 -0.932373  0.732293  0.965699   523.067557   702.426124         0  "
      ]
     },
     "execution_count": 4,
     "metadata": {},
     "output_type": "execute_result"
    }
   ],
   "source": [
    "# total bkg\n",
    "b = pd.concat([b1,b2])\n",
    "b = shuffle(b,random_state=42).reset_index(drop=True)\n",
    "b.head()"
   ]
  },
  {
   "cell_type": "code",
   "execution_count": 5,
   "metadata": {},
   "outputs": [
    {
     "data": {
      "text/plain": [
       "Index(['phib', 'phif', 'phitstar', 'phiw', 't', 'thetab', 'thetaf', 'thetah',\n",
       "       'thetat', 'thetaw', 'tt', 'tth', 'isSignal'],\n",
       "      dtype='object')"
      ]
     },
     "execution_count": 5,
     "metadata": {},
     "output_type": "execute_result"
    }
   ],
   "source": [
    "s0.columns"
   ]
  },
  {
   "cell_type": "code",
   "execution_count": 6,
   "metadata": {},
   "outputs": [],
   "source": [
    "c0 = ['phib', 'phif', 'phitstar', 'phiw', 't', 'thetab', 'thetaf', 'thetah','thetat', 'thetaw', 'tt', 'tth']"
   ]
  },
  {
   "cell_type": "code",
   "execution_count": 7,
   "metadata": {},
   "outputs": [
    {
     "data": {
      "text/plain": [
       "((89694, 13), (38100, 13), (138901, 13), (138005, 13))"
      ]
     },
     "execution_count": 7,
     "metadata": {},
     "output_type": "execute_result"
    }
   ],
   "source": [
    "s0.shape,s1.shape,s2.shape,s3.shape"
   ]
  },
  {
   "cell_type": "code",
   "execution_count": 8,
   "metadata": {},
   "outputs": [
    {
     "data": {
      "text/plain": [
       "(11106, 13)"
      ]
     },
     "execution_count": 8,
     "metadata": {},
     "output_type": "execute_result"
    }
   ],
   "source": [
    "b.shape"
   ]
  },
  {
   "cell_type": "code",
   "execution_count": 9,
   "metadata": {},
   "outputs": [
    {
     "data": {
      "text/html": [
       "<div>\n",
       "<style scoped>\n",
       "    .dataframe tbody tr th:only-of-type {\n",
       "        vertical-align: middle;\n",
       "    }\n",
       "\n",
       "    .dataframe tbody tr th {\n",
       "        vertical-align: top;\n",
       "    }\n",
       "\n",
       "    .dataframe thead th {\n",
       "        text-align: right;\n",
       "    }\n",
       "</style>\n",
       "<table border=\"1\" class=\"dataframe\">\n",
       "  <thead>\n",
       "    <tr style=\"text-align: right;\">\n",
       "      <th></th>\n",
       "      <th>phib</th>\n",
       "      <th>phif</th>\n",
       "      <th>phitstar</th>\n",
       "      <th>phiw</th>\n",
       "      <th>t</th>\n",
       "      <th>thetab</th>\n",
       "      <th>thetaf</th>\n",
       "      <th>thetah</th>\n",
       "      <th>thetat</th>\n",
       "      <th>thetaw</th>\n",
       "      <th>tt</th>\n",
       "      <th>tth</th>\n",
       "      <th>isSignal</th>\n",
       "    </tr>\n",
       "  </thead>\n",
       "  <tbody>\n",
       "    <tr>\n",
       "      <td>0</td>\n",
       "      <td>2.666109</td>\n",
       "      <td>0.659017</td>\n",
       "      <td>1.218142</td>\n",
       "      <td>0.900543</td>\n",
       "      <td>326.429093</td>\n",
       "      <td>0.127155</td>\n",
       "      <td>0.066293</td>\n",
       "      <td>-0.946580</td>\n",
       "      <td>-0.154676</td>\n",
       "      <td>-0.475217</td>\n",
       "      <td>980.827796</td>\n",
       "      <td>1179.845163</td>\n",
       "      <td>0</td>\n",
       "    </tr>\n",
       "    <tr>\n",
       "      <td>1</td>\n",
       "      <td>2.633734</td>\n",
       "      <td>1.050419</td>\n",
       "      <td>1.514080</td>\n",
       "      <td>0.070999</td>\n",
       "      <td>242.477516</td>\n",
       "      <td>-0.114385</td>\n",
       "      <td>-0.405857</td>\n",
       "      <td>0.778213</td>\n",
       "      <td>0.432509</td>\n",
       "      <td>0.956330</td>\n",
       "      <td>487.019795</td>\n",
       "      <td>653.468546</td>\n",
       "      <td>0</td>\n",
       "    </tr>\n",
       "    <tr>\n",
       "      <td>2</td>\n",
       "      <td>0.191305</td>\n",
       "      <td>1.442063</td>\n",
       "      <td>1.512599</td>\n",
       "      <td>0.471443</td>\n",
       "      <td>189.110600</td>\n",
       "      <td>0.228759</td>\n",
       "      <td>-0.061159</td>\n",
       "      <td>0.823676</td>\n",
       "      <td>0.826521</td>\n",
       "      <td>0.925808</td>\n",
       "      <td>636.961543</td>\n",
       "      <td>841.914035</td>\n",
       "      <td>0</td>\n",
       "    </tr>\n",
       "    <tr>\n",
       "      <td>3</td>\n",
       "      <td>2.400480</td>\n",
       "      <td>2.663370</td>\n",
       "      <td>1.923765</td>\n",
       "      <td>0.201620</td>\n",
       "      <td>189.840571</td>\n",
       "      <td>0.951206</td>\n",
       "      <td>-0.929448</td>\n",
       "      <td>-0.394958</td>\n",
       "      <td>0.396540</td>\n",
       "      <td>-0.357498</td>\n",
       "      <td>976.467591</td>\n",
       "      <td>1110.236748</td>\n",
       "      <td>0</td>\n",
       "    </tr>\n",
       "    <tr>\n",
       "      <td>4</td>\n",
       "      <td>1.695086</td>\n",
       "      <td>1.560961</td>\n",
       "      <td>1.073626</td>\n",
       "      <td>2.521570</td>\n",
       "      <td>234.239965</td>\n",
       "      <td>-0.813386</td>\n",
       "      <td>0.767695</td>\n",
       "      <td>0.565900</td>\n",
       "      <td>0.143279</td>\n",
       "      <td>-0.897611</td>\n",
       "      <td>403.705295</td>\n",
       "      <td>540.959798</td>\n",
       "      <td>1</td>\n",
       "    </tr>\n",
       "    <tr>\n",
       "      <td>...</td>\n",
       "      <td>...</td>\n",
       "      <td>...</td>\n",
       "      <td>...</td>\n",
       "      <td>...</td>\n",
       "      <td>...</td>\n",
       "      <td>...</td>\n",
       "      <td>...</td>\n",
       "      <td>...</td>\n",
       "      <td>...</td>\n",
       "      <td>...</td>\n",
       "      <td>...</td>\n",
       "      <td>...</td>\n",
       "      <td>...</td>\n",
       "    </tr>\n",
       "    <tr>\n",
       "      <td>22207</td>\n",
       "      <td>0.617145</td>\n",
       "      <td>1.558053</td>\n",
       "      <td>2.009384</td>\n",
       "      <td>0.422967</td>\n",
       "      <td>152.103422</td>\n",
       "      <td>0.686124</td>\n",
       "      <td>-0.789562</td>\n",
       "      <td>0.712741</td>\n",
       "      <td>0.868207</td>\n",
       "      <td>-0.600543</td>\n",
       "      <td>1087.259019</td>\n",
       "      <td>1303.505239</td>\n",
       "      <td>0</td>\n",
       "    </tr>\n",
       "    <tr>\n",
       "      <td>22208</td>\n",
       "      <td>2.253724</td>\n",
       "      <td>1.330466</td>\n",
       "      <td>2.475894</td>\n",
       "      <td>1.290946</td>\n",
       "      <td>258.409579</td>\n",
       "      <td>-0.879863</td>\n",
       "      <td>0.933522</td>\n",
       "      <td>0.991576</td>\n",
       "      <td>0.640591</td>\n",
       "      <td>-0.977520</td>\n",
       "      <td>319.781103</td>\n",
       "      <td>472.132595</td>\n",
       "      <td>0</td>\n",
       "    </tr>\n",
       "    <tr>\n",
       "      <td>22209</td>\n",
       "      <td>0.365679</td>\n",
       "      <td>0.677268</td>\n",
       "      <td>0.224996</td>\n",
       "      <td>0.425373</td>\n",
       "      <td>591.047651</td>\n",
       "      <td>0.783153</td>\n",
       "      <td>0.525061</td>\n",
       "      <td>-0.504132</td>\n",
       "      <td>0.632485</td>\n",
       "      <td>-0.112665</td>\n",
       "      <td>691.898581</td>\n",
       "      <td>1069.158433</td>\n",
       "      <td>1</td>\n",
       "    </tr>\n",
       "    <tr>\n",
       "      <td>22210</td>\n",
       "      <td>1.738181</td>\n",
       "      <td>0.090726</td>\n",
       "      <td>0.798579</td>\n",
       "      <td>0.720761</td>\n",
       "      <td>301.629728</td>\n",
       "      <td>-0.143673</td>\n",
       "      <td>0.749478</td>\n",
       "      <td>0.927048</td>\n",
       "      <td>-0.841905</td>\n",
       "      <td>0.820607</td>\n",
       "      <td>486.169936</td>\n",
       "      <td>601.450578</td>\n",
       "      <td>1</td>\n",
       "    </tr>\n",
       "    <tr>\n",
       "      <td>22211</td>\n",
       "      <td>1.629996</td>\n",
       "      <td>0.464268</td>\n",
       "      <td>1.237801</td>\n",
       "      <td>2.645701</td>\n",
       "      <td>548.669228</td>\n",
       "      <td>0.729407</td>\n",
       "      <td>-0.537920</td>\n",
       "      <td>-0.128950</td>\n",
       "      <td>0.142762</td>\n",
       "      <td>0.815767</td>\n",
       "      <td>532.260425</td>\n",
       "      <td>658.547562</td>\n",
       "      <td>0</td>\n",
       "    </tr>\n",
       "  </tbody>\n",
       "</table>\n",
       "<p>22212 rows × 13 columns</p>\n",
       "</div>"
      ],
      "text/plain": [
       "           phib      phif  phitstar      phiw           t    thetab    thetaf  \\\n",
       "0      2.666109  0.659017  1.218142  0.900543  326.429093  0.127155  0.066293   \n",
       "1      2.633734  1.050419  1.514080  0.070999  242.477516 -0.114385 -0.405857   \n",
       "2      0.191305  1.442063  1.512599  0.471443  189.110600  0.228759 -0.061159   \n",
       "3      2.400480  2.663370  1.923765  0.201620  189.840571  0.951206 -0.929448   \n",
       "4      1.695086  1.560961  1.073626  2.521570  234.239965 -0.813386  0.767695   \n",
       "...         ...       ...       ...       ...         ...       ...       ...   \n",
       "22207  0.617145  1.558053  2.009384  0.422967  152.103422  0.686124 -0.789562   \n",
       "22208  2.253724  1.330466  2.475894  1.290946  258.409579 -0.879863  0.933522   \n",
       "22209  0.365679  0.677268  0.224996  0.425373  591.047651  0.783153  0.525061   \n",
       "22210  1.738181  0.090726  0.798579  0.720761  301.629728 -0.143673  0.749478   \n",
       "22211  1.629996  0.464268  1.237801  2.645701  548.669228  0.729407 -0.537920   \n",
       "\n",
       "         thetah    thetat    thetaw           tt          tth  isSignal  \n",
       "0     -0.946580 -0.154676 -0.475217   980.827796  1179.845163         0  \n",
       "1      0.778213  0.432509  0.956330   487.019795   653.468546         0  \n",
       "2      0.823676  0.826521  0.925808   636.961543   841.914035         0  \n",
       "3     -0.394958  0.396540 -0.357498   976.467591  1110.236748         0  \n",
       "4      0.565900  0.143279 -0.897611   403.705295   540.959798         1  \n",
       "...         ...       ...       ...          ...          ...       ...  \n",
       "22207  0.712741  0.868207 -0.600543  1087.259019  1303.505239         0  \n",
       "22208  0.991576  0.640591 -0.977520   319.781103   472.132595         0  \n",
       "22209 -0.504132  0.632485 -0.112665   691.898581  1069.158433         1  \n",
       "22210  0.927048 -0.841905  0.820607   486.169936   601.450578         1  \n",
       "22211 -0.128950  0.142762  0.815767   532.260425   658.547562         0  \n",
       "\n",
       "[22212 rows x 13 columns]"
      ]
     },
     "execution_count": 9,
     "metadata": {},
     "output_type": "execute_result"
    }
   ],
   "source": [
    "# sample signal: alpha = 0\n",
    "S0 = s0.sample(b.shape[0], random_state=42)\n",
    "\n",
    "# training dataset\n",
    "train0 = pd.concat([S0,b])\n",
    "\n",
    "# Shuffle training dataset\n",
    "train0 = shuffle(train0,random_state=42).reset_index(drop=True)\n",
    "train0"
   ]
  },
  {
   "cell_type": "code",
   "execution_count": 10,
   "metadata": {},
   "outputs": [],
   "source": [
    "# Keras imports\n",
    "from tensorflow . keras . models import Sequential\n",
    "from tensorflow . keras . layers import Dense\n",
    "from tensorflow . keras . layers import Dropout\n",
    "from sklearn import model_selection , preprocessing"
   ]
  },
  {
   "cell_type": "markdown",
   "metadata": {},
   "source": [
    "## signal vs. background"
   ]
  },
  {
   "cell_type": "code",
   "execution_count": 11,
   "metadata": {},
   "outputs": [
    {
     "name": "stdout",
     "output_type": "stream",
     "text": [
      "(15548, 12) (15548,) (6664, 12) (6664,)\n"
     ]
    }
   ],
   "source": [
    "# Standardize\n",
    "sc0 = preprocessing . StandardScaler ()\n",
    "input_data0 = sc0 . fit_transform ( train0[c0[0:12]] )\n",
    "target0 = train0['isSignal']\n",
    "# set random seed\n",
    "Answer_to_all_questions = 42\n",
    "# train - test split of dataset\n",
    "train_data0 , test_data0 , train_target0 , test_target0 = model_selection . train_test_split (\\\n",
    "input_data0 , target0 , test_size =0.3 , random_state = Answer_to_all_questions )\n",
    "# Check shape\n",
    "print ( train_data0 . shape , train_target0 . shape , test_data0 . shape , test_target0 . shape )"
   ]
  },
  {
   "cell_type": "code",
   "execution_count": 12,
   "metadata": {},
   "outputs": [],
   "source": [
    "def my_model ( num_inputs , num_nodes , extra_depth ):\n",
    "    # create model\n",
    "    model = Sequential ()\n",
    "    model . add ( Dense ( num_nodes , input_dim = num_inputs , kernel_initializer ='normal' , activation ='relu'))\n",
    "    model . add ( Dropout (0.2))\n",
    "    \n",
    "    for i in range ( extra_depth ):\n",
    "        # code up the extra layers here\n",
    "        model . add ( Dense ( num_nodes , input_dim = num_inputs , kernel_initializer ='normal' , activation ='relu'))\n",
    "        model . add ( Dropout (0.2))\n",
    "        \n",
    "    model . add ( Dense (1 , activation ='sigmoid'))\n",
    "    # Compile model\n",
    "    model . compile ( loss ='binary_crossentropy' , optimizer = 'adam', metrics =['accuracy'])\n",
    "    return model"
   ]
  },
  {
   "cell_type": "code",
   "execution_count": 13,
   "metadata": {
    "scrolled": true
   },
   "outputs": [
    {
     "name": "stdout",
     "output_type": "stream",
     "text": [
      "WARNING:tensorflow:From C:\\Users\\11045\\AppData\\Local\\Continuum\\anaconda3\\lib\\site-packages\\tensorflow\\python\\keras\\initializers.py:143: calling RandomNormal.__init__ (from tensorflow.python.ops.init_ops) with dtype is deprecated and will be removed in a future version.\n",
      "Instructions for updating:\n",
      "Call initializer instance with the dtype argument instead of passing it to the constructor\n"
     ]
    },
    {
     "name": "stderr",
     "output_type": "stream",
     "text": [
      "Using TensorFlow backend.\n"
     ]
    },
    {
     "name": "stdout",
     "output_type": "stream",
     "text": [
      "WARNING:tensorflow:From C:\\Users\\11045\\AppData\\Local\\Continuum\\anaconda3\\lib\\site-packages\\tensorflow\\python\\ops\\init_ops.py:1251: calling VarianceScaling.__init__ (from tensorflow.python.ops.init_ops) with dtype is deprecated and will be removed in a future version.\n",
      "Instructions for updating:\n",
      "Call initializer instance with the dtype argument instead of passing it to the constructor\n",
      "WARNING:tensorflow:From C:\\Users\\11045\\AppData\\Local\\Continuum\\anaconda3\\lib\\site-packages\\tensorflow\\python\\ops\\nn_impl.py:180: add_dispatch_support.<locals>.wrapper (from tensorflow.python.ops.array_ops) is deprecated and will be removed in a future version.\n",
      "Instructions for updating:\n",
      "Use tf.where in 2.0, which has the same broadcast rule as np.where\n",
      "Train on 15548 samples, validate on 6664 samples\n",
      "Epoch 1/300\n",
      "15548/15548 [==============================] - 1s 88us/sample - loss: 0.6916 - acc: 0.5223 - val_loss: 0.6879 - val_acc: 0.5374\n",
      "Epoch 2/300\n",
      "15548/15548 [==============================] - 1s 66us/sample - loss: 0.6775 - acc: 0.5720 - val_loss: 0.6686 - val_acc: 0.5933\n",
      "Epoch 3/300\n",
      "15548/15548 [==============================] - 1s 68us/sample - loss: 0.6680 - acc: 0.5920 - val_loss: 0.6650 - val_acc: 0.5983\n",
      "Epoch 4/300\n",
      "15548/15548 [==============================] - 1s 64us/sample - loss: 0.6627 - acc: 0.6066 - val_loss: 0.6588 - val_acc: 0.6145\n",
      "Epoch 5/300\n",
      "15548/15548 [==============================] - 1s 65us/sample - loss: 0.6586 - acc: 0.6087 - val_loss: 0.6565 - val_acc: 0.6152\n",
      "Epoch 6/300\n",
      "15548/15548 [==============================] - 1s 64us/sample - loss: 0.6568 - acc: 0.6091 - val_loss: 0.6554 - val_acc: 0.6124\n",
      "Epoch 7/300\n",
      "15548/15548 [==============================] - 1s 64us/sample - loss: 0.6565 - acc: 0.6109 - val_loss: 0.6551 - val_acc: 0.6131\n",
      "Epoch 8/300\n",
      "15548/15548 [==============================] - 1s 64us/sample - loss: 0.6517 - acc: 0.6171 - val_loss: 0.6565 - val_acc: 0.6161\n",
      "Epoch 9/300\n",
      "15548/15548 [==============================] - 1s 66us/sample - loss: 0.6494 - acc: 0.6193 - val_loss: 0.6485 - val_acc: 0.6220\n",
      "Epoch 10/300\n",
      "15548/15548 [==============================] - 1s 64us/sample - loss: 0.6492 - acc: 0.6157 - val_loss: 0.6531 - val_acc: 0.6139\n",
      "Epoch 11/300\n",
      "15548/15548 [==============================] - 1s 63us/sample - loss: 0.6478 - acc: 0.6187 - val_loss: 0.6560 - val_acc: 0.6175\n",
      "Epoch 12/300\n",
      "15548/15548 [==============================] - 1s 65us/sample - loss: 0.6471 - acc: 0.6192 - val_loss: 0.6508 - val_acc: 0.6227\n",
      "Epoch 13/300\n",
      "15548/15548 [==============================] - 1s 66us/sample - loss: 0.6427 - acc: 0.6272 - val_loss: 0.6549 - val_acc: 0.6176\n",
      "Epoch 14/300\n",
      "15548/15548 [==============================] - 1s 72us/sample - loss: 0.6446 - acc: 0.6257 - val_loss: 0.6497 - val_acc: 0.6214\n",
      "Epoch 15/300\n",
      "15548/15548 [==============================] - 1s 74us/sample - loss: 0.6428 - acc: 0.6243 - val_loss: 0.6496 - val_acc: 0.6193\n",
      "Epoch 16/300\n",
      "15548/15548 [==============================] - 1s 77us/sample - loss: 0.6398 - acc: 0.6262 - val_loss: 0.6455 - val_acc: 0.6206\n",
      "Epoch 17/300\n",
      "15548/15548 [==============================] - 1s 77us/sample - loss: 0.6383 - acc: 0.6258 - val_loss: 0.6475 - val_acc: 0.6200\n",
      "Epoch 18/300\n",
      "15548/15548 [==============================] - 1s 75us/sample - loss: 0.6389 - acc: 0.6305 - val_loss: 0.6506 - val_acc: 0.6169\n",
      "Epoch 19/300\n",
      "15548/15548 [==============================] - 1s 74us/sample - loss: 0.6342 - acc: 0.6354 - val_loss: 0.6540 - val_acc: 0.6125\n",
      "Epoch 20/300\n",
      "15548/15548 [==============================] - 1s 74us/sample - loss: 0.6340 - acc: 0.6313 - val_loss: 0.6534 - val_acc: 0.6068\n",
      "Epoch 21/300\n",
      "15548/15548 [==============================] - 1s 77us/sample - loss: 0.6355 - acc: 0.6324 - val_loss: 0.6465 - val_acc: 0.6181\n",
      "Epoch 22/300\n",
      "15548/15548 [==============================] - 1s 77us/sample - loss: 0.6341 - acc: 0.6323 - val_loss: 0.6474 - val_acc: 0.6164\n",
      "Epoch 23/300\n",
      "15548/15548 [==============================] - 1s 84us/sample - loss: 0.6321 - acc: 0.6354 - val_loss: 0.6438 - val_acc: 0.6187\n",
      "Epoch 24/300\n",
      "15548/15548 [==============================] - 1s 72us/sample - loss: 0.6302 - acc: 0.6364 - val_loss: 0.6487 - val_acc: 0.6080\n",
      "Epoch 25/300\n",
      "15548/15548 [==============================] - 1s 71us/sample - loss: 0.6278 - acc: 0.6382 - val_loss: 0.6468 - val_acc: 0.6169\n",
      "Epoch 26/300\n",
      "15548/15548 [==============================] - 1s 70us/sample - loss: 0.6294 - acc: 0.6378 - val_loss: 0.6454 - val_acc: 0.6206\n",
      "Epoch 27/300\n",
      "15548/15548 [==============================] - 1s 71us/sample - loss: 0.6244 - acc: 0.6396 - val_loss: 0.6442 - val_acc: 0.6163\n",
      "Epoch 00027: early stopping\n"
     ]
    }
   ],
   "source": [
    "# Set early stop\n",
    "from keras . callbacks import EarlyStopping , ModelCheckpoint\n",
    "\n",
    "callbacks_ = [\n",
    "# if we don ’t have an increase of the accuracy for 15 epochs , terminate training .\n",
    "EarlyStopping ( verbose = True , patience =15 , monitor ='val_acc' ) ,\n",
    "# Always make sure that we ’re saving the model weights with the best accuracy .\n",
    "ModelCheckpoint ('model .h5' , monitor ='val_acc' , verbose =0 , save_best_only = True , mode ='max' )]\n",
    "\n",
    "model0 = my_model(12,100,3)\n",
    "\n",
    "history0 =  model0. fit ( train_data0 , train_target0 , batch_size = 30 , epochs = 300 , verbose =1 , validation_data =( test_data0 , test_target0 ) , callbacks = callbacks_ )"
   ]
  },
  {
   "cell_type": "code",
   "execution_count": 14,
   "metadata": {},
   "outputs": [
    {
     "data": {
      "image/png": "[encoded data removed]",
      "text/plain": [
       "<Figure size 720x360 with 1 Axes>"
      ]
     },
     "metadata": {
      "needs_background": "light"
     },
     "output_type": "display_data"
    }
   ],
   "source": [
    "# Loss\n",
    "lossplot(history0.history['loss'], scale='log');"
   ]
  },
  {
   "cell_type": "code",
   "execution_count": 15,
   "metadata": {},
   "outputs": [
    {
     "data": {
      "image/png": "[encoded data removed]",
      "text/plain": [
       "<Figure size 720x360 with 1 Axes>"
      ]
     },
     "metadata": {
      "needs_background": "light"
     },
     "output_type": "display_data"
    }
   ],
   "source": [
    "# Accuracy\n",
    "accplot(history0.history['val_acc'], scale='linear')"
   ]
  },
  {
   "cell_type": "code",
   "execution_count": 16,
   "metadata": {},
   "outputs": [],
   "source": [
    "from sklearn.metrics import confusion_matrix, roc_curve"
   ]
  },
  {
   "cell_type": "code",
   "execution_count": 17,
   "metadata": {},
   "outputs": [
    {
     "data": {
      "image/png": "[encoded data removed]",
      "text/plain": [
       "<Figure size 432x288 with 2 Axes>"
      ]
     },
     "metadata": {
      "needs_background": "light"
     },
     "output_type": "display_data"
    }
   ],
   "source": [
    "# Predictions\n",
    "pred0 = model0.predict(test_data0)\n",
    "\n",
    "# Convert probabilities into binary outputs\n",
    "bi = []\n",
    "p = []\n",
    "for i in pred0:\n",
    "    if i[0]>0.5:\n",
    "        bi.append(1)\n",
    "        p.append(i[0])\n",
    "    else:\n",
    "        bi.append(0)\n",
    "        p.append(i[0])\n",
    "        \n",
    "# Define confusion matrix and classes\n",
    "cm = confusion_matrix(test_target0.tolist(),bi)\n",
    "classes=[0,1]\n",
    "\n",
    "# Plot heat map\n",
    "heatmap(cm,normalize=True,labels=['predicted','true'],classes=[['0','1'],['0','1']])"
   ]
  },
  {
   "cell_type": "code",
   "execution_count": 18,
   "metadata": {},
   "outputs": [
    {
     "data": {
      "image/png": "[encoded data removed]",
      "text/plain": [
       "<Figure size 432x288 with 1 Axes>"
      ]
     },
     "metadata": {
      "needs_background": "light"
     },
     "output_type": "display_data"
    }
   ],
   "source": [
    "# Calculate false positive rate and true positive rate\n",
    "fpr, tpr, threshold = roc_curve(test_target0, pred0)\n",
    "roc_auc = metrics.auc(fpr, tpr)\n",
    "# Plot ROC curve\n",
    "plt.title('Receiver Operating Characteristic')\n",
    "plt.plot(fpr, tpr, 'b', label = 'AUC = %0.2f' % roc_auc)\n",
    "plt.legend(loc = 'lower right')\n",
    "plt.plot([0, 1], [0, 1],'r--')\n",
    "plt.xlim([0, 1])\n",
    "plt.ylim([0, 1])\n",
    "plt.ylabel('True Positive Rate')\n",
    "plt.xlabel('False Positive Rate')\n",
    "plt.show()"
   ]
  },
  {
   "cell_type": "markdown",
   "metadata": {},
   "source": [
    "## CP0 vs background"
   ]
  },
  {
   "cell_type": "code",
   "execution_count": 19,
   "metadata": {},
   "outputs": [
    {
     "data": {
      "text/html": [
       "<div>\n",
       "<style scoped>\n",
       "    .dataframe tbody tr th:only-of-type {\n",
       "        vertical-align: middle;\n",
       "    }\n",
       "\n",
       "    .dataframe tbody tr th {\n",
       "        vertical-align: top;\n",
       "    }\n",
       "\n",
       "    .dataframe thead th {\n",
       "        text-align: right;\n",
       "    }\n",
       "</style>\n",
       "<table border=\"1\" class=\"dataframe\">\n",
       "  <thead>\n",
       "    <tr style=\"text-align: right;\">\n",
       "      <th></th>\n",
       "      <th>phib</th>\n",
       "      <th>phif</th>\n",
       "      <th>phitstar</th>\n",
       "      <th>phiw</th>\n",
       "      <th>t</th>\n",
       "      <th>thetab</th>\n",
       "      <th>thetaf</th>\n",
       "      <th>thetah</th>\n",
       "      <th>thetat</th>\n",
       "      <th>thetaw</th>\n",
       "      <th>tt</th>\n",
       "      <th>tth</th>\n",
       "      <th>isSignal</th>\n",
       "    </tr>\n",
       "  </thead>\n",
       "  <tbody>\n",
       "    <tr>\n",
       "      <td>0</td>\n",
       "      <td>2.666109</td>\n",
       "      <td>0.659017</td>\n",
       "      <td>1.218142</td>\n",
       "      <td>0.900543</td>\n",
       "      <td>326.429093</td>\n",
       "      <td>0.127155</td>\n",
       "      <td>0.066293</td>\n",
       "      <td>-0.946580</td>\n",
       "      <td>-0.154676</td>\n",
       "      <td>-0.475217</td>\n",
       "      <td>980.827796</td>\n",
       "      <td>1179.845163</td>\n",
       "      <td>0</td>\n",
       "    </tr>\n",
       "    <tr>\n",
       "      <td>1</td>\n",
       "      <td>2.633734</td>\n",
       "      <td>1.050419</td>\n",
       "      <td>1.514080</td>\n",
       "      <td>0.070999</td>\n",
       "      <td>242.477516</td>\n",
       "      <td>-0.114385</td>\n",
       "      <td>-0.405857</td>\n",
       "      <td>0.778213</td>\n",
       "      <td>0.432509</td>\n",
       "      <td>0.956330</td>\n",
       "      <td>487.019795</td>\n",
       "      <td>653.468546</td>\n",
       "      <td>0</td>\n",
       "    </tr>\n",
       "    <tr>\n",
       "      <td>2</td>\n",
       "      <td>0.191305</td>\n",
       "      <td>1.442063</td>\n",
       "      <td>1.512599</td>\n",
       "      <td>0.471443</td>\n",
       "      <td>189.110600</td>\n",
       "      <td>0.228759</td>\n",
       "      <td>-0.061159</td>\n",
       "      <td>0.823676</td>\n",
       "      <td>0.826521</td>\n",
       "      <td>0.925808</td>\n",
       "      <td>636.961543</td>\n",
       "      <td>841.914035</td>\n",
       "      <td>0</td>\n",
       "    </tr>\n",
       "    <tr>\n",
       "      <td>3</td>\n",
       "      <td>2.400480</td>\n",
       "      <td>2.663370</td>\n",
       "      <td>1.923765</td>\n",
       "      <td>0.201620</td>\n",
       "      <td>189.840571</td>\n",
       "      <td>0.951206</td>\n",
       "      <td>-0.929448</td>\n",
       "      <td>-0.394958</td>\n",
       "      <td>0.396540</td>\n",
       "      <td>-0.357498</td>\n",
       "      <td>976.467591</td>\n",
       "      <td>1110.236748</td>\n",
       "      <td>0</td>\n",
       "    </tr>\n",
       "    <tr>\n",
       "      <td>4</td>\n",
       "      <td>2.602972</td>\n",
       "      <td>2.379159</td>\n",
       "      <td>1.428661</td>\n",
       "      <td>1.312775</td>\n",
       "      <td>427.481756</td>\n",
       "      <td>0.110223</td>\n",
       "      <td>-0.422071</td>\n",
       "      <td>-0.516657</td>\n",
       "      <td>0.439781</td>\n",
       "      <td>0.083684</td>\n",
       "      <td>940.026766</td>\n",
       "      <td>1123.360261</td>\n",
       "      <td>1</td>\n",
       "    </tr>\n",
       "    <tr>\n",
       "      <td>...</td>\n",
       "      <td>...</td>\n",
       "      <td>...</td>\n",
       "      <td>...</td>\n",
       "      <td>...</td>\n",
       "      <td>...</td>\n",
       "      <td>...</td>\n",
       "      <td>...</td>\n",
       "      <td>...</td>\n",
       "      <td>...</td>\n",
       "      <td>...</td>\n",
       "      <td>...</td>\n",
       "      <td>...</td>\n",
       "      <td>...</td>\n",
       "    </tr>\n",
       "    <tr>\n",
       "      <td>22207</td>\n",
       "      <td>0.617145</td>\n",
       "      <td>1.558053</td>\n",
       "      <td>2.009384</td>\n",
       "      <td>0.422967</td>\n",
       "      <td>152.103422</td>\n",
       "      <td>0.686124</td>\n",
       "      <td>-0.789562</td>\n",
       "      <td>0.712741</td>\n",
       "      <td>0.868207</td>\n",
       "      <td>-0.600543</td>\n",
       "      <td>1087.259019</td>\n",
       "      <td>1303.505239</td>\n",
       "      <td>0</td>\n",
       "    </tr>\n",
       "    <tr>\n",
       "      <td>22208</td>\n",
       "      <td>2.253724</td>\n",
       "      <td>1.330466</td>\n",
       "      <td>2.475894</td>\n",
       "      <td>1.290946</td>\n",
       "      <td>258.409579</td>\n",
       "      <td>-0.879863</td>\n",
       "      <td>0.933522</td>\n",
       "      <td>0.991576</td>\n",
       "      <td>0.640591</td>\n",
       "      <td>-0.977520</td>\n",
       "      <td>319.781103</td>\n",
       "      <td>472.132595</td>\n",
       "      <td>0</td>\n",
       "    </tr>\n",
       "    <tr>\n",
       "      <td>22209</td>\n",
       "      <td>3.026516</td>\n",
       "      <td>2.817986</td>\n",
       "      <td>2.652779</td>\n",
       "      <td>2.583968</td>\n",
       "      <td>155.310574</td>\n",
       "      <td>0.830668</td>\n",
       "      <td>0.017505</td>\n",
       "      <td>-0.902279</td>\n",
       "      <td>-0.878697</td>\n",
       "      <td>-0.013511</td>\n",
       "      <td>779.623333</td>\n",
       "      <td>941.757176</td>\n",
       "      <td>1</td>\n",
       "    </tr>\n",
       "    <tr>\n",
       "      <td>22210</td>\n",
       "      <td>2.832917</td>\n",
       "      <td>1.292186</td>\n",
       "      <td>1.424796</td>\n",
       "      <td>2.386450</td>\n",
       "      <td>866.190305</td>\n",
       "      <td>-0.569830</td>\n",
       "      <td>0.909869</td>\n",
       "      <td>0.927811</td>\n",
       "      <td>-0.492022</td>\n",
       "      <td>0.743300</td>\n",
       "      <td>1250.525708</td>\n",
       "      <td>1435.903622</td>\n",
       "      <td>1</td>\n",
       "    </tr>\n",
       "    <tr>\n",
       "      <td>22211</td>\n",
       "      <td>1.629996</td>\n",
       "      <td>0.464268</td>\n",
       "      <td>1.237801</td>\n",
       "      <td>2.645701</td>\n",
       "      <td>548.669228</td>\n",
       "      <td>0.729407</td>\n",
       "      <td>-0.537920</td>\n",
       "      <td>-0.128950</td>\n",
       "      <td>0.142762</td>\n",
       "      <td>0.815767</td>\n",
       "      <td>532.260425</td>\n",
       "      <td>658.547562</td>\n",
       "      <td>0</td>\n",
       "    </tr>\n",
       "  </tbody>\n",
       "</table>\n",
       "<p>22212 rows × 13 columns</p>\n",
       "</div>"
      ],
      "text/plain": [
       "           phib      phif  phitstar      phiw           t    thetab    thetaf  \\\n",
       "0      2.666109  0.659017  1.218142  0.900543  326.429093  0.127155  0.066293   \n",
       "1      2.633734  1.050419  1.514080  0.070999  242.477516 -0.114385 -0.405857   \n",
       "2      0.191305  1.442063  1.512599  0.471443  189.110600  0.228759 -0.061159   \n",
       "3      2.400480  2.663370  1.923765  0.201620  189.840571  0.951206 -0.929448   \n",
       "4      2.602972  2.379159  1.428661  1.312775  427.481756  0.110223 -0.422071   \n",
       "...         ...       ...       ...       ...         ...       ...       ...   \n",
       "22207  0.617145  1.558053  2.009384  0.422967  152.103422  0.686124 -0.789562   \n",
       "22208  2.253724  1.330466  2.475894  1.290946  258.409579 -0.879863  0.933522   \n",
       "22209  3.026516  2.817986  2.652779  2.583968  155.310574  0.830668  0.017505   \n",
       "22210  2.832917  1.292186  1.424796  2.386450  866.190305 -0.569830  0.909869   \n",
       "22211  1.629996  0.464268  1.237801  2.645701  548.669228  0.729407 -0.537920   \n",
       "\n",
       "         thetah    thetat    thetaw           tt          tth  isSignal  \n",
       "0     -0.946580 -0.154676 -0.475217   980.827796  1179.845163         0  \n",
       "1      0.778213  0.432509  0.956330   487.019795   653.468546         0  \n",
       "2      0.823676  0.826521  0.925808   636.961543   841.914035         0  \n",
       "3     -0.394958  0.396540 -0.357498   976.467591  1110.236748         0  \n",
       "4     -0.516657  0.439781  0.083684   940.026766  1123.360261         1  \n",
       "...         ...       ...       ...          ...          ...       ...  \n",
       "22207  0.712741  0.868207 -0.600543  1087.259019  1303.505239         0  \n",
       "22208  0.991576  0.640591 -0.977520   319.781103   472.132595         0  \n",
       "22209 -0.902279 -0.878697 -0.013511   779.623333   941.757176         1  \n",
       "22210  0.927811 -0.492022  0.743300  1250.525708  1435.903622         1  \n",
       "22211 -0.128950  0.142762  0.815767   532.260425   658.547562         0  \n",
       "\n",
       "[22212 rows x 13 columns]"
      ]
     },
     "execution_count": 19,
     "metadata": {},
     "output_type": "execute_result"
    }
   ],
   "source": [
    "# sample signal: alpha = 0\n",
    "S1 = s1.sample(b.shape[0], random_state=42)\n",
    "\n",
    "# training dataset\n",
    "train1 = pd.concat([S1,b])\n",
    "\n",
    "# Shuffle training dataset\n",
    "train1 = shuffle(train1,random_state=42).reset_index(drop=True)\n",
    "train1"
   ]
  },
  {
   "cell_type": "code",
   "execution_count": 20,
   "metadata": {},
   "outputs": [
    {
     "name": "stdout",
     "output_type": "stream",
     "text": [
      "(15548, 12) (15548,) (6664, 12) (6664,)\n"
     ]
    }
   ],
   "source": [
    "# Standardize\n",
    "sc1 = preprocessing . StandardScaler ()\n",
    "input_data1 = sc1 . fit_transform ( train1[c0[0:12]] )\n",
    "target1 = train1['isSignal']\n",
    "\n",
    "# train - test split of dataset\n",
    "train_data1 , test_data1 , train_target1 , test_target1 = model_selection . train_test_split (\\\n",
    "input_data1 , target1 , test_size =0.3 , random_state = Answer_to_all_questions )\n",
    "# Check shape\n",
    "print ( train_data1 . shape , train_target1 . shape , test_data1 . shape , test_target1 . shape )"
   ]
  },
  {
   "cell_type": "code",
   "execution_count": 21,
   "metadata": {
    "scrolled": true
   },
   "outputs": [
    {
     "name": "stdout",
     "output_type": "stream",
     "text": [
      "Train on 15548 samples, validate on 6664 samples\n",
      "Epoch 1/300\n",
      "15548/15548 [==============================] - 1s 89us/sample - loss: 0.6914 - acc: 0.5189 - val_loss: 0.6877 - val_acc: 0.5438\n",
      "Epoch 2/300\n",
      "15548/15548 [==============================] - 1s 71us/sample - loss: 0.6806 - acc: 0.5680 - val_loss: 0.6685 - val_acc: 0.5996\n",
      "Epoch 3/300\n",
      "15548/15548 [==============================] - 1s 69us/sample - loss: 0.6686 - acc: 0.5960 - val_loss: 0.6629 - val_acc: 0.5977\n",
      "Epoch 4/300\n",
      "15548/15548 [==============================] - 1s 66us/sample - loss: 0.6632 - acc: 0.6023 - val_loss: 0.6589 - val_acc: 0.6080\n",
      "Epoch 5/300\n",
      "15548/15548 [==============================] - 1s 65us/sample - loss: 0.6584 - acc: 0.6129 - val_loss: 0.6581 - val_acc: 0.6098\n",
      "Epoch 6/300\n",
      "15548/15548 [==============================] - 1s 64us/sample - loss: 0.6584 - acc: 0.6108 - val_loss: 0.6568 - val_acc: 0.6158\n",
      "Epoch 7/300\n",
      "15548/15548 [==============================] - 1s 67us/sample - loss: 0.6562 - acc: 0.6145 - val_loss: 0.6524 - val_acc: 0.6188\n",
      "Epoch 8/300\n",
      "15548/15548 [==============================] - 1s 61us/sample - loss: 0.6531 - acc: 0.6144 - val_loss: 0.6513 - val_acc: 0.6173\n",
      "Epoch 9/300\n",
      "15548/15548 [==============================] - 1s 61us/sample - loss: 0.6508 - acc: 0.6206 - val_loss: 0.6540 - val_acc: 0.6134\n",
      "Epoch 10/300\n",
      "15548/15548 [==============================] - 1s 70us/sample - loss: 0.6489 - acc: 0.6250 - val_loss: 0.6500 - val_acc: 0.6134\n",
      "Epoch 11/300\n",
      "15548/15548 [==============================] - 1s 72us/sample - loss: 0.6473 - acc: 0.6240 - val_loss: 0.6488 - val_acc: 0.6173\n",
      "Epoch 12/300\n",
      "15548/15548 [==============================] - 1s 73us/sample - loss: 0.6481 - acc: 0.6212 - val_loss: 0.6538 - val_acc: 0.6161\n",
      "Epoch 13/300\n",
      "15548/15548 [==============================] - 1s 70us/sample - loss: 0.6462 - acc: 0.6203 - val_loss: 0.6487 - val_acc: 0.6205\n",
      "Epoch 14/300\n",
      "15548/15548 [==============================] - 1s 73us/sample - loss: 0.6451 - acc: 0.6246 - val_loss: 0.6493 - val_acc: 0.6155\n",
      "Epoch 15/300\n",
      "15548/15548 [==============================] - 1s 88us/sample - loss: 0.6428 - acc: 0.6259 - val_loss: 0.6454 - val_acc: 0.6233\n",
      "Epoch 16/300\n",
      "15548/15548 [==============================] - 1s 75us/sample - loss: 0.6416 - acc: 0.6282 - val_loss: 0.6457 - val_acc: 0.6209\n",
      "Epoch 17/300\n",
      "15548/15548 [==============================] - 1s 68us/sample - loss: 0.6408 - acc: 0.6261 - val_loss: 0.6500 - val_acc: 0.6109\n",
      "Epoch 18/300\n",
      "15548/15548 [==============================] - 1s 72us/sample - loss: 0.6397 - acc: 0.6298 - val_loss: 0.6430 - val_acc: 0.6224\n",
      "Epoch 19/300\n",
      "15548/15548 [==============================] - 1s 70us/sample - loss: 0.6381 - acc: 0.6284 - val_loss: 0.6438 - val_acc: 0.6199\n",
      "Epoch 20/300\n",
      "15548/15548 [==============================] - 1s 67us/sample - loss: 0.6376 - acc: 0.6282 - val_loss: 0.6432 - val_acc: 0.6175\n",
      "Epoch 21/300\n",
      "15548/15548 [==============================] - 1s 63us/sample - loss: 0.6342 - acc: 0.6310 - val_loss: 0.6415 - val_acc: 0.6196\n",
      "Epoch 22/300\n",
      "15548/15548 [==============================] - 1s 57us/sample - loss: 0.6333 - acc: 0.6336 - val_loss: 0.6404 - val_acc: 0.6202\n",
      "Epoch 23/300\n",
      "15548/15548 [==============================] - 1s 62us/sample - loss: 0.6330 - acc: 0.6308 - val_loss: 0.6432 - val_acc: 0.6235\n",
      "Epoch 24/300\n",
      "15548/15548 [==============================] - 1s 65us/sample - loss: 0.6335 - acc: 0.6327 - val_loss: 0.6421 - val_acc: 0.6239\n",
      "Epoch 25/300\n",
      "15548/15548 [==============================] - 1s 61us/sample - loss: 0.6272 - acc: 0.6358 - val_loss: 0.6417 - val_acc: 0.6220\n",
      "Epoch 26/300\n",
      "15548/15548 [==============================] - 1s 61us/sample - loss: 0.6311 - acc: 0.6338 - val_loss: 0.6400 - val_acc: 0.6229\n",
      "Epoch 27/300\n",
      "15548/15548 [==============================] - 1s 59us/sample - loss: 0.6281 - acc: 0.6371 - val_loss: 0.6421 - val_acc: 0.6230\n",
      "Epoch 28/300\n",
      "15548/15548 [==============================] - 1s 58us/sample - loss: 0.6278 - acc: 0.6436 - val_loss: 0.6413 - val_acc: 0.6179\n",
      "Epoch 29/300\n",
      "15548/15548 [==============================] - 1s 62us/sample - loss: 0.6271 - acc: 0.6391 - val_loss: 0.6381 - val_acc: 0.6259\n",
      "Epoch 30/300\n",
      "15548/15548 [==============================] - 1s 66us/sample - loss: 0.6245 - acc: 0.6374 - val_loss: 0.6382 - val_acc: 0.6250\n",
      "Epoch 31/300\n",
      "15548/15548 [==============================] - 1s 58us/sample - loss: 0.6223 - acc: 0.6427 - val_loss: 0.6403 - val_acc: 0.6238\n",
      "Epoch 32/300\n",
      "15548/15548 [==============================] - 1s 58us/sample - loss: 0.6219 - acc: 0.6447 - val_loss: 0.6409 - val_acc: 0.6185\n",
      "Epoch 33/300\n",
      "15548/15548 [==============================] - 1s 60us/sample - loss: 0.6217 - acc: 0.6464 - val_loss: 0.6415 - val_acc: 0.6224\n",
      "Epoch 34/300\n",
      "15548/15548 [==============================] - 1s 61us/sample - loss: 0.6211 - acc: 0.6450 - val_loss: 0.6395 - val_acc: 0.6217\n",
      "Epoch 35/300\n",
      "15548/15548 [==============================] - 1s 62us/sample - loss: 0.6194 - acc: 0.6450 - val_loss: 0.6415 - val_acc: 0.6196\n",
      "Epoch 36/300\n",
      "15548/15548 [==============================] - 1s 59us/sample - loss: 0.6165 - acc: 0.6483 - val_loss: 0.6397 - val_acc: 0.6221\n",
      "Epoch 37/300\n",
      "15548/15548 [==============================] - 1s 57us/sample - loss: 0.6193 - acc: 0.6442 - val_loss: 0.6407 - val_acc: 0.6197\n",
      "Epoch 38/300\n",
      "15548/15548 [==============================] - 1s 60us/sample - loss: 0.6176 - acc: 0.6475 - val_loss: 0.6376 - val_acc: 0.6252\n",
      "Epoch 39/300\n",
      "15548/15548 [==============================] - 1s 58us/sample - loss: 0.6181 - acc: 0.6468 - val_loss: 0.6417 - val_acc: 0.6158\n",
      "Epoch 40/300\n",
      "15548/15548 [==============================] - 1s 63us/sample - loss: 0.6155 - acc: 0.6513 - val_loss: 0.6441 - val_acc: 0.6190\n",
      "Epoch 41/300\n",
      "15548/15548 [==============================] - 1s 60us/sample - loss: 0.6132 - acc: 0.6504 - val_loss: 0.6447 - val_acc: 0.6148\n",
      "Epoch 42/300\n",
      "15548/15548 [==============================] - 1s 59us/sample - loss: 0.6168 - acc: 0.6524 - val_loss: 0.6425 - val_acc: 0.6203\n",
      "Epoch 43/300\n",
      "15548/15548 [==============================] - 1s 60us/sample - loss: 0.6120 - acc: 0.6533 - val_loss: 0.6450 - val_acc: 0.6179\n",
      "Epoch 44/300\n",
      "15548/15548 [==============================] - 1s 61us/sample - loss: 0.6156 - acc: 0.6495 - val_loss: 0.6402 - val_acc: 0.6176\n",
      "Epoch 00044: early stopping\n"
     ]
    }
   ],
   "source": [
    "# train\n",
    "model1 = my_model(12,100,2)\n",
    "history1 =  model1. fit ( train_data1 , train_target1 , batch_size = 30 , epochs = 300 , verbose =1 , validation_data =( test_data1 , test_target1 ) , callbacks = callbacks_ )"
   ]
  },
  {
   "cell_type": "code",
   "execution_count": 22,
   "metadata": {},
   "outputs": [
    {
     "data": {
      "image/png": "[encoded data removed]",
      "text/plain": [
       "<Figure size 720x360 with 1 Axes>"
      ]
     },
     "metadata": {
      "needs_background": "light"
     },
     "output_type": "display_data"
    }
   ],
   "source": [
    "# Loss\n",
    "lossplot(history1.history['loss'], scale='log');"
   ]
  },
  {
   "cell_type": "code",
   "execution_count": 23,
   "metadata": {},
   "outputs": [
    {
     "data": {
      "image/png": "[encoded data removed]",
      "text/plain": [
       "<Figure size 720x360 with 1 Axes>"
      ]
     },
     "metadata": {
      "needs_background": "light"
     },
     "output_type": "display_data"
    }
   ],
   "source": [
    "# Accuracy\n",
    "accplot(history1.history['val_acc'], scale='linear')"
   ]
  },
  {
   "cell_type": "code",
   "execution_count": 24,
   "metadata": {},
   "outputs": [
    {
     "data": {
      "image/png": "[encoded data removed]",
      "text/plain": [
       "<Figure size 432x288 with 2 Axes>"
      ]
     },
     "metadata": {
      "needs_background": "light"
     },
     "output_type": "display_data"
    }
   ],
   "source": [
    "# Predictions\n",
    "pred1 = model1.predict(test_data1)\n",
    "\n",
    "# Convert probabilities into binary outputs\n",
    "bi = []\n",
    "p = []\n",
    "for i in pred1:\n",
    "    if i[0]>0.5:\n",
    "        bi.append(1)\n",
    "        p.append(i[0])\n",
    "    else:\n",
    "        bi.append(0)\n",
    "        p.append(i[0])\n",
    "        \n",
    "# Define confusion matrix and classes\n",
    "cm = confusion_matrix(test_target1.tolist(),bi)\n",
    "classes=[0,1]\n",
    "\n",
    "# Plot heat map\n",
    "heatmap(cm,normalize=True,labels=['predicted','true'],classes=[['0','1'],['0','1']])"
   ]
  },
  {
   "cell_type": "code",
   "execution_count": 25,
   "metadata": {},
   "outputs": [
    {
     "data": {
      "image/png": "[encoded data removed]",
      "text/plain": [
       "<Figure size 432x288 with 1 Axes>"
      ]
     },
     "metadata": {
      "needs_background": "light"
     },
     "output_type": "display_data"
    }
   ],
   "source": [
    "# Calculate false positive rate and true positive rate\n",
    "fpr, tpr, threshold = roc_curve(test_target1, pred1)\n",
    "roc_auc = metrics.auc(fpr, tpr)\n",
    "# Plot ROC curve\n",
    "plt.title('Receiver Operating Characteristic')\n",
    "plt.plot(fpr, tpr, 'b', label = 'AUC = %0.2f' % roc_auc)\n",
    "plt.legend(loc = 'lower right')\n",
    "plt.plot([0, 1], [0, 1],'r--')\n",
    "plt.xlim([0, 1])\n",
    "plt.ylim([0, 1])\n",
    "plt.ylabel('True Positive Rate')\n",
    "plt.xlabel('False Positive Rate')\n",
    "plt.show()"
   ]
  },
  {
   "cell_type": "markdown",
   "metadata": {},
   "source": [
    "## CP30 vs background"
   ]
  },
  {
   "cell_type": "code",
   "execution_count": 26,
   "metadata": {},
   "outputs": [
    {
     "data": {
      "text/html": [
       "<div>\n",
       "<style scoped>\n",
       "    .dataframe tbody tr th:only-of-type {\n",
       "        vertical-align: middle;\n",
       "    }\n",
       "\n",
       "    .dataframe tbody tr th {\n",
       "        vertical-align: top;\n",
       "    }\n",
       "\n",
       "    .dataframe thead th {\n",
       "        text-align: right;\n",
       "    }\n",
       "</style>\n",
       "<table border=\"1\" class=\"dataframe\">\n",
       "  <thead>\n",
       "    <tr style=\"text-align: right;\">\n",
       "      <th></th>\n",
       "      <th>phib</th>\n",
       "      <th>phif</th>\n",
       "      <th>phitstar</th>\n",
       "      <th>phiw</th>\n",
       "      <th>t</th>\n",
       "      <th>thetab</th>\n",
       "      <th>thetaf</th>\n",
       "      <th>thetah</th>\n",
       "      <th>thetat</th>\n",
       "      <th>thetaw</th>\n",
       "      <th>tt</th>\n",
       "      <th>tth</th>\n",
       "      <th>isSignal</th>\n",
       "    </tr>\n",
       "  </thead>\n",
       "  <tbody>\n",
       "    <tr>\n",
       "      <td>0</td>\n",
       "      <td>2.666109</td>\n",
       "      <td>0.659017</td>\n",
       "      <td>1.218142</td>\n",
       "      <td>0.900543</td>\n",
       "      <td>326.429093</td>\n",
       "      <td>0.127155</td>\n",
       "      <td>0.066293</td>\n",
       "      <td>-0.946580</td>\n",
       "      <td>-0.154676</td>\n",
       "      <td>-0.475217</td>\n",
       "      <td>980.827796</td>\n",
       "      <td>1179.845163</td>\n",
       "      <td>0</td>\n",
       "    </tr>\n",
       "    <tr>\n",
       "      <td>1</td>\n",
       "      <td>2.633734</td>\n",
       "      <td>1.050419</td>\n",
       "      <td>1.514080</td>\n",
       "      <td>0.070999</td>\n",
       "      <td>242.477516</td>\n",
       "      <td>-0.114385</td>\n",
       "      <td>-0.405857</td>\n",
       "      <td>0.778213</td>\n",
       "      <td>0.432509</td>\n",
       "      <td>0.956330</td>\n",
       "      <td>487.019795</td>\n",
       "      <td>653.468546</td>\n",
       "      <td>0</td>\n",
       "    </tr>\n",
       "    <tr>\n",
       "      <td>2</td>\n",
       "      <td>0.191305</td>\n",
       "      <td>1.442063</td>\n",
       "      <td>1.512599</td>\n",
       "      <td>0.471443</td>\n",
       "      <td>189.110600</td>\n",
       "      <td>0.228759</td>\n",
       "      <td>-0.061159</td>\n",
       "      <td>0.823676</td>\n",
       "      <td>0.826521</td>\n",
       "      <td>0.925808</td>\n",
       "      <td>636.961543</td>\n",
       "      <td>841.914035</td>\n",
       "      <td>0</td>\n",
       "    </tr>\n",
       "    <tr>\n",
       "      <td>3</td>\n",
       "      <td>2.400480</td>\n",
       "      <td>2.663370</td>\n",
       "      <td>1.923765</td>\n",
       "      <td>0.201620</td>\n",
       "      <td>189.840571</td>\n",
       "      <td>0.951206</td>\n",
       "      <td>-0.929448</td>\n",
       "      <td>-0.394958</td>\n",
       "      <td>0.396540</td>\n",
       "      <td>-0.357498</td>\n",
       "      <td>976.467591</td>\n",
       "      <td>1110.236748</td>\n",
       "      <td>0</td>\n",
       "    </tr>\n",
       "    <tr>\n",
       "      <td>4</td>\n",
       "      <td>2.491433</td>\n",
       "      <td>2.269836</td>\n",
       "      <td>1.181117</td>\n",
       "      <td>0.091614</td>\n",
       "      <td>174.395365</td>\n",
       "      <td>-0.458225</td>\n",
       "      <td>-0.292384</td>\n",
       "      <td>0.821720</td>\n",
       "      <td>0.261416</td>\n",
       "      <td>-0.447083</td>\n",
       "      <td>542.640597</td>\n",
       "      <td>742.676967</td>\n",
       "      <td>1</td>\n",
       "    </tr>\n",
       "    <tr>\n",
       "      <td>...</td>\n",
       "      <td>...</td>\n",
       "      <td>...</td>\n",
       "      <td>...</td>\n",
       "      <td>...</td>\n",
       "      <td>...</td>\n",
       "      <td>...</td>\n",
       "      <td>...</td>\n",
       "      <td>...</td>\n",
       "      <td>...</td>\n",
       "      <td>...</td>\n",
       "      <td>...</td>\n",
       "      <td>...</td>\n",
       "      <td>...</td>\n",
       "    </tr>\n",
       "    <tr>\n",
       "      <td>22207</td>\n",
       "      <td>0.617145</td>\n",
       "      <td>1.558053</td>\n",
       "      <td>2.009384</td>\n",
       "      <td>0.422967</td>\n",
       "      <td>152.103422</td>\n",
       "      <td>0.686124</td>\n",
       "      <td>-0.789562</td>\n",
       "      <td>0.712741</td>\n",
       "      <td>0.868207</td>\n",
       "      <td>-0.600543</td>\n",
       "      <td>1087.259019</td>\n",
       "      <td>1303.505239</td>\n",
       "      <td>0</td>\n",
       "    </tr>\n",
       "    <tr>\n",
       "      <td>22208</td>\n",
       "      <td>2.253724</td>\n",
       "      <td>1.330466</td>\n",
       "      <td>2.475894</td>\n",
       "      <td>1.290946</td>\n",
       "      <td>258.409579</td>\n",
       "      <td>-0.879863</td>\n",
       "      <td>0.933522</td>\n",
       "      <td>0.991576</td>\n",
       "      <td>0.640591</td>\n",
       "      <td>-0.977520</td>\n",
       "      <td>319.781103</td>\n",
       "      <td>472.132595</td>\n",
       "      <td>0</td>\n",
       "    </tr>\n",
       "    <tr>\n",
       "      <td>22209</td>\n",
       "      <td>0.481244</td>\n",
       "      <td>1.946183</td>\n",
       "      <td>2.552701</td>\n",
       "      <td>0.417852</td>\n",
       "      <td>159.582771</td>\n",
       "      <td>-0.433336</td>\n",
       "      <td>-0.510475</td>\n",
       "      <td>0.936356</td>\n",
       "      <td>-0.102932</td>\n",
       "      <td>-0.474294</td>\n",
       "      <td>809.720852</td>\n",
       "      <td>1168.876785</td>\n",
       "      <td>1</td>\n",
       "    </tr>\n",
       "    <tr>\n",
       "      <td>22210</td>\n",
       "      <td>1.151755</td>\n",
       "      <td>1.792614</td>\n",
       "      <td>1.338921</td>\n",
       "      <td>1.842647</td>\n",
       "      <td>160.120295</td>\n",
       "      <td>0.405887</td>\n",
       "      <td>-0.518286</td>\n",
       "      <td>0.051884</td>\n",
       "      <td>-0.419421</td>\n",
       "      <td>-0.552780</td>\n",
       "      <td>444.438552</td>\n",
       "      <td>658.352398</td>\n",
       "      <td>1</td>\n",
       "    </tr>\n",
       "    <tr>\n",
       "      <td>22211</td>\n",
       "      <td>1.629996</td>\n",
       "      <td>0.464268</td>\n",
       "      <td>1.237801</td>\n",
       "      <td>2.645701</td>\n",
       "      <td>548.669228</td>\n",
       "      <td>0.729407</td>\n",
       "      <td>-0.537920</td>\n",
       "      <td>-0.128950</td>\n",
       "      <td>0.142762</td>\n",
       "      <td>0.815767</td>\n",
       "      <td>532.260425</td>\n",
       "      <td>658.547562</td>\n",
       "      <td>0</td>\n",
       "    </tr>\n",
       "  </tbody>\n",
       "</table>\n",
       "<p>22212 rows × 13 columns</p>\n",
       "</div>"
      ],
      "text/plain": [
       "           phib      phif  phitstar      phiw           t    thetab    thetaf  \\\n",
       "0      2.666109  0.659017  1.218142  0.900543  326.429093  0.127155  0.066293   \n",
       "1      2.633734  1.050419  1.514080  0.070999  242.477516 -0.114385 -0.405857   \n",
       "2      0.191305  1.442063  1.512599  0.471443  189.110600  0.228759 -0.061159   \n",
       "3      2.400480  2.663370  1.923765  0.201620  189.840571  0.951206 -0.929448   \n",
       "4      2.491433  2.269836  1.181117  0.091614  174.395365 -0.458225 -0.292384   \n",
       "...         ...       ...       ...       ...         ...       ...       ...   \n",
       "22207  0.617145  1.558053  2.009384  0.422967  152.103422  0.686124 -0.789562   \n",
       "22208  2.253724  1.330466  2.475894  1.290946  258.409579 -0.879863  0.933522   \n",
       "22209  0.481244  1.946183  2.552701  0.417852  159.582771 -0.433336 -0.510475   \n",
       "22210  1.151755  1.792614  1.338921  1.842647  160.120295  0.405887 -0.518286   \n",
       "22211  1.629996  0.464268  1.237801  2.645701  548.669228  0.729407 -0.537920   \n",
       "\n",
       "         thetah    thetat    thetaw           tt          tth  isSignal  \n",
       "0     -0.946580 -0.154676 -0.475217   980.827796  1179.845163         0  \n",
       "1      0.778213  0.432509  0.956330   487.019795   653.468546         0  \n",
       "2      0.823676  0.826521  0.925808   636.961543   841.914035         0  \n",
       "3     -0.394958  0.396540 -0.357498   976.467591  1110.236748         0  \n",
       "4      0.821720  0.261416 -0.447083   542.640597   742.676967         1  \n",
       "...         ...       ...       ...          ...          ...       ...  \n",
       "22207  0.712741  0.868207 -0.600543  1087.259019  1303.505239         0  \n",
       "22208  0.991576  0.640591 -0.977520   319.781103   472.132595         0  \n",
       "22209  0.936356 -0.102932 -0.474294   809.720852  1168.876785         1  \n",
       "22210  0.051884 -0.419421 -0.552780   444.438552   658.352398         1  \n",
       "22211 -0.128950  0.142762  0.815767   532.260425   658.547562         0  \n",
       "\n",
       "[22212 rows x 13 columns]"
      ]
     },
     "execution_count": 26,
     "metadata": {},
     "output_type": "execute_result"
    }
   ],
   "source": [
    "# sample signal: alpha = 30\n",
    "S2 = s2.sample(b.shape[0], random_state=42)\n",
    "\n",
    "# training dataset\n",
    "train2 = pd.concat([S2,b])\n",
    "\n",
    "# Shuffle training dataset\n",
    "train2 = shuffle(train2,random_state=42).reset_index(drop=True)\n",
    "train2"
   ]
  },
  {
   "cell_type": "code",
   "execution_count": 27,
   "metadata": {},
   "outputs": [
    {
     "name": "stdout",
     "output_type": "stream",
     "text": [
      "(15548, 12) (15548,) (6664, 12) (6664,)\n"
     ]
    }
   ],
   "source": [
    "# Standardize\n",
    "sc2 = preprocessing . StandardScaler ()\n",
    "input_data2 = sc2 . fit_transform ( train2[c0[0:12]] )\n",
    "target2 = train2['isSignal']\n",
    "\n",
    "# train - test split of dataset\n",
    "train_data2 , test_data2 , train_target2 , test_target2 = model_selection . train_test_split (\\\n",
    "input_data2 , target2 , test_size =0.3 , random_state = Answer_to_all_questions )\n",
    "# Check shape\n",
    "print ( train_data2 . shape , train_target2 . shape , test_data2 . shape , test_target2 . shape )"
   ]
  },
  {
   "cell_type": "code",
   "execution_count": 28,
   "metadata": {
    "scrolled": true
   },
   "outputs": [
    {
     "name": "stdout",
     "output_type": "stream",
     "text": [
      "Train on 15548 samples, validate on 6664 samples\n",
      "Epoch 1/300\n",
      "15548/15548 [==============================] - 1s 86us/sample - loss: 0.6900 - acc: 0.5304 - val_loss: 0.6813 - val_acc: 0.5719\n",
      "Epoch 2/300\n",
      "15548/15548 [==============================] - 1s 66us/sample - loss: 0.6777 - acc: 0.5741 - val_loss: 0.6705 - val_acc: 0.5828\n",
      "Epoch 3/300\n",
      "15548/15548 [==============================] - 1s 66us/sample - loss: 0.6664 - acc: 0.5959 - val_loss: 0.6570 - val_acc: 0.6140\n",
      "Epoch 4/300\n",
      "15548/15548 [==============================] - 1s 66us/sample - loss: 0.6589 - acc: 0.6073 - val_loss: 0.6557 - val_acc: 0.6146\n",
      "Epoch 5/300\n",
      "15548/15548 [==============================] - 1s 65us/sample - loss: 0.6559 - acc: 0.6117 - val_loss: 0.6566 - val_acc: 0.6121\n",
      "Epoch 6/300\n",
      "15548/15548 [==============================] - 1s 81us/sample - loss: 0.6544 - acc: 0.6162 - val_loss: 0.6481 - val_acc: 0.6273\n",
      "Epoch 7/300\n",
      "15548/15548 [==============================] - 1s 68us/sample - loss: 0.6501 - acc: 0.6210 - val_loss: 0.6499 - val_acc: 0.6229\n",
      "Epoch 8/300\n",
      "15548/15548 [==============================] - 1s 65us/sample - loss: 0.6480 - acc: 0.6237 - val_loss: 0.6513 - val_acc: 0.6169\n",
      "Epoch 9/300\n",
      "15548/15548 [==============================] - 1s 66us/sample - loss: 0.6452 - acc: 0.6255 - val_loss: 0.6479 - val_acc: 0.6223\n",
      "Epoch 10/300\n",
      "15548/15548 [==============================] - 1s 64us/sample - loss: 0.6429 - acc: 0.6290 - val_loss: 0.6456 - val_acc: 0.6226\n",
      "Epoch 11/300\n",
      "15548/15548 [==============================] - 1s 65us/sample - loss: 0.6426 - acc: 0.6264 - val_loss: 0.6445 - val_acc: 0.6214\n",
      "Epoch 12/300\n",
      "15548/15548 [==============================] - 1s 66us/sample - loss: 0.6403 - acc: 0.6292 - val_loss: 0.6441 - val_acc: 0.6215\n",
      "Epoch 13/300\n",
      "15548/15548 [==============================] - 1s 64us/sample - loss: 0.6389 - acc: 0.6248 - val_loss: 0.6436 - val_acc: 0.6227\n",
      "Epoch 14/300\n",
      "15548/15548 [==============================] - 1s 61us/sample - loss: 0.6364 - acc: 0.6304 - val_loss: 0.6429 - val_acc: 0.6229\n",
      "Epoch 15/300\n",
      "15548/15548 [==============================] - 1s 60us/sample - loss: 0.6344 - acc: 0.6313 - val_loss: 0.6463 - val_acc: 0.6221\n",
      "Epoch 16/300\n",
      "15548/15548 [==============================] - 1s 62us/sample - loss: 0.6363 - acc: 0.6301 - val_loss: 0.6417 - val_acc: 0.6232\n",
      "Epoch 17/300\n",
      "15548/15548 [==============================] - 1s 65us/sample - loss: 0.6329 - acc: 0.6365 - val_loss: 0.6455 - val_acc: 0.6157\n",
      "Epoch 18/300\n",
      "15548/15548 [==============================] - 1s 66us/sample - loss: 0.6327 - acc: 0.6362 - val_loss: 0.6414 - val_acc: 0.6229\n",
      "Epoch 19/300\n",
      "15548/15548 [==============================] - 1s 67us/sample - loss: 0.6310 - acc: 0.6346 - val_loss: 0.6413 - val_acc: 0.6258\n",
      "Epoch 20/300\n",
      "15548/15548 [==============================] - 1s 64us/sample - loss: 0.6309 - acc: 0.6366 - val_loss: 0.6413 - val_acc: 0.6236\n",
      "Epoch 21/300\n",
      "15548/15548 [==============================] - 1s 73us/sample - loss: 0.6280 - acc: 0.6399 - val_loss: 0.6391 - val_acc: 0.6239\n",
      "Epoch 00021: early stopping\n"
     ]
    }
   ],
   "source": [
    "# train\n",
    "model2 = my_model(12,100,2)\n",
    "history2 =  model2. fit ( train_data2 , train_target2 , batch_size = 30 , epochs = 300 , verbose =1 , validation_data =( test_data2 , test_target2 ) , callbacks = callbacks_ )"
   ]
  },
  {
   "cell_type": "code",
   "execution_count": 29,
   "metadata": {},
   "outputs": [
    {
     "data": {
      "image/png": "[encoded data removed]",
      "text/plain": [
       "<Figure size 720x360 with 1 Axes>"
      ]
     },
     "metadata": {
      "needs_background": "light"
     },
     "output_type": "display_data"
    }
   ],
   "source": [
    "# Loss\n",
    "lossplot(history2.history['loss'], scale='log');"
   ]
  },
  {
   "cell_type": "code",
   "execution_count": 30,
   "metadata": {},
   "outputs": [
    {
     "data": {
      "image/png": "[encoded data removed]",
      "text/plain": [
       "<Figure size 720x360 with 1 Axes>"
      ]
     },
     "metadata": {
      "needs_background": "light"
     },
     "output_type": "display_data"
    }
   ],
   "source": [
    "# Accuracy\n",
    "accplot(history2.history['val_acc'], scale='linear')"
   ]
  },
  {
   "cell_type": "code",
   "execution_count": 31,
   "metadata": {},
   "outputs": [
    {
     "data": {
      "image/png": "[encoded data removed]",
      "text/plain": [
       "<Figure size 432x288 with 2 Axes>"
      ]
     },
     "metadata": {
      "needs_background": "light"
     },
     "output_type": "display_data"
    }
   ],
   "source": [
    "# Predictions\n",
    "pred2 = model2.predict(test_data2)\n",
    "\n",
    "# Convert probabilities into binary outputs\n",
    "bi = []\n",
    "p = []\n",
    "for i in pred2:\n",
    "    if i[0]>0.5:\n",
    "        bi.append(1)\n",
    "        p.append(i[0])\n",
    "    else:\n",
    "        bi.append(0)\n",
    "        p.append(i[0])\n",
    "        \n",
    "# Define confusion matrix and classes\n",
    "cm = confusion_matrix(test_target2.tolist(),bi)\n",
    "classes=[0,1]\n",
    "\n",
    "# Plot heat map\n",
    "heatmap(cm,normalize=True,labels=['predicted','true'],classes=[['0','1'],['0','1']])"
   ]
  },
  {
   "cell_type": "code",
   "execution_count": 32,
   "metadata": {},
   "outputs": [
    {
     "data": {
      "image/png": "[encoded data removed]",
      "text/plain": [
       "<Figure size 432x288 with 1 Axes>"
      ]
     },
     "metadata": {
      "needs_background": "light"
     },
     "output_type": "display_data"
    }
   ],
   "source": [
    "# Calculate false positive rate and true positive rate\n",
    "fpr, tpr, threshold = roc_curve(test_target2, pred2)\n",
    "roc_auc = metrics.auc(fpr, tpr)\n",
    "# Plot ROC curve\n",
    "plt.title('Receiver Operating Characteristic')\n",
    "plt.plot(fpr, tpr, 'b', label = 'AUC = %0.2f' % roc_auc)\n",
    "plt.legend(loc = 'lower right')\n",
    "plt.plot([0, 1], [0, 1],'r--')\n",
    "plt.xlim([0, 1])\n",
    "plt.ylim([0, 1])\n",
    "plt.ylabel('True Positive Rate')\n",
    "plt.xlabel('False Positive Rate')\n",
    "plt.show()"
   ]
  },
  {
   "cell_type": "markdown",
   "metadata": {},
   "source": [
    "## CP60 vs. background"
   ]
  },
  {
   "cell_type": "code",
   "execution_count": 33,
   "metadata": {},
   "outputs": [],
   "source": [
    "# sample signal: alpha = 30\n",
    "S3 = s3.sample(b.shape[0], random_state=42)\n",
    "\n",
    "# training dataset\n",
    "train3 = pd.concat([S3,b])\n",
    "\n",
    "# Shuffle training dataset\n",
    "train3 = shuffle(train3,random_state=42).reset_index(drop=True)"
   ]
  },
  {
   "cell_type": "code",
   "execution_count": 34,
   "metadata": {},
   "outputs": [
    {
     "name": "stdout",
     "output_type": "stream",
     "text": [
      "(15548, 12) (15548,) (6664, 12) (6664,)\n"
     ]
    }
   ],
   "source": [
    "# Standardize\n",
    "sc3 = preprocessing . StandardScaler ()\n",
    "input_data3 = sc3 . fit_transform ( train3[c0[0:12]] )\n",
    "target3 = train3['isSignal']\n",
    "\n",
    "# train - test split of dataset\n",
    "train_data3 , test_data3 , train_target3 , test_target3 = model_selection . train_test_split (\\\n",
    "input_data3 , target3 , test_size =0.3 , random_state = Answer_to_all_questions )\n",
    "# Check shape\n",
    "print ( train_data3 . shape , train_target3 . shape , test_data3 . shape , test_target3 . shape )"
   ]
  },
  {
   "cell_type": "code",
   "execution_count": 35,
   "metadata": {
    "scrolled": true
   },
   "outputs": [
    {
     "name": "stdout",
     "output_type": "stream",
     "text": [
      "Train on 15548 samples, validate on 6664 samples\n",
      "Epoch 1/300\n",
      "15548/15548 [==============================] - 2s 129us/sample - loss: 0.6812 - acc: 0.5575 - val_loss: 0.6581 - val_acc: 0.6091\n",
      "Epoch 2/300\n",
      "15548/15548 [==============================] - 2s 110us/sample - loss: 0.6513 - acc: 0.6150 - val_loss: 0.6459 - val_acc: 0.6255\n",
      "Epoch 3/300\n",
      "15548/15548 [==============================] - 2s 129us/sample - loss: 0.6414 - acc: 0.6369 - val_loss: 0.6356 - val_acc: 0.6417\n",
      "Epoch 4/300\n",
      "15548/15548 [==============================] - 2s 103us/sample - loss: 0.6344 - acc: 0.6444 - val_loss: 0.6321 - val_acc: 0.6465\n",
      "Epoch 5/300\n",
      "15548/15548 [==============================] - 1s 95us/sample - loss: 0.6334 - acc: 0.6412 - val_loss: 0.6251 - val_acc: 0.6508\n",
      "Epoch 6/300\n",
      "15548/15548 [==============================] - 1s 86us/sample - loss: 0.6284 - acc: 0.6528 - val_loss: 0.6235 - val_acc: 0.6505\n",
      "Epoch 7/300\n",
      "15548/15548 [==============================] - 1s 92us/sample - loss: 0.6251 - acc: 0.6484 - val_loss: 0.6250 - val_acc: 0.6502\n",
      "Epoch 8/300\n",
      "15548/15548 [==============================] - 1s 86us/sample - loss: 0.6220 - acc: 0.6520 - val_loss: 0.6233 - val_acc: 0.6523\n",
      "Epoch 9/300\n",
      "15548/15548 [==============================] - 1s 88us/sample - loss: 0.6199 - acc: 0.6533 - val_loss: 0.6206 - val_acc: 0.6537\n",
      "Epoch 10/300\n",
      "15548/15548 [==============================] - 1s 87us/sample - loss: 0.6182 - acc: 0.6529 - val_loss: 0.6260 - val_acc: 0.6451\n",
      "Epoch 11/300\n",
      "15548/15548 [==============================] - 1s 87us/sample - loss: 0.6177 - acc: 0.6576 - val_loss: 0.6270 - val_acc: 0.6430\n",
      "Epoch 12/300\n",
      "15548/15548 [==============================] - 1s 85us/sample - loss: 0.6156 - acc: 0.6540 - val_loss: 0.6188 - val_acc: 0.6513\n",
      "Epoch 13/300\n",
      "15548/15548 [==============================] - 1s 82us/sample - loss: 0.6123 - acc: 0.6578 - val_loss: 0.6219 - val_acc: 0.6514\n",
      "Epoch 14/300\n",
      "15548/15548 [==============================] - 1s 87us/sample - loss: 0.6109 - acc: 0.6574 - val_loss: 0.6190 - val_acc: 0.6493\n",
      "Epoch 15/300\n",
      "15548/15548 [==============================] - 1s 92us/sample - loss: 0.6089 - acc: 0.6608 - val_loss: 0.6151 - val_acc: 0.6547\n",
      "Epoch 16/300\n",
      "15548/15548 [==============================] - 1s 85us/sample - loss: 0.6084 - acc: 0.6623 - val_loss: 0.6144 - val_acc: 0.6565\n",
      "Epoch 17/300\n",
      "15548/15548 [==============================] - 1s 87us/sample - loss: 0.6046 - acc: 0.6629 - val_loss: 0.6229 - val_acc: 0.6504\n",
      "Epoch 18/300\n",
      "15548/15548 [==============================] - ETA: 0s - loss: 0.6044 - acc: 0.664 - 1s 86us/sample - loss: 0.6052 - acc: 0.6632 - val_loss: 0.6193 - val_acc: 0.6469\n",
      "Epoch 19/300\n",
      "15548/15548 [==============================] - 1s 85us/sample - loss: 0.6015 - acc: 0.6665 - val_loss: 0.6167 - val_acc: 0.6484\n",
      "Epoch 20/300\n",
      "15548/15548 [==============================] - 1s 86us/sample - loss: 0.5981 - acc: 0.6650 - val_loss: 0.6189 - val_acc: 0.6481\n",
      "Epoch 21/300\n",
      "15548/15548 [==============================] - 1s 83us/sample - loss: 0.5984 - acc: 0.6672 - val_loss: 0.6183 - val_acc: 0.6553\n",
      "Epoch 22/300\n",
      "15548/15548 [==============================] - 1s 84us/sample - loss: 0.5967 - acc: 0.6681 - val_loss: 0.6190 - val_acc: 0.6501\n",
      "Epoch 23/300\n",
      "15548/15548 [==============================] - 1s 86us/sample - loss: 0.5940 - acc: 0.6693 - val_loss: 0.6256 - val_acc: 0.6481\n",
      "Epoch 24/300\n",
      "15548/15548 [==============================] - 2s 117us/sample - loss: 0.5904 - acc: 0.6745 - val_loss: 0.6180 - val_acc: 0.6558\n",
      "Epoch 25/300\n",
      "15548/15548 [==============================] - 2s 115us/sample - loss: 0.5881 - acc: 0.6758 - val_loss: 0.6248 - val_acc: 0.6426\n",
      "Epoch 26/300\n",
      "15548/15548 [==============================] - 2s 99us/sample - loss: 0.5850 - acc: 0.6778 - val_loss: 0.6219 - val_acc: 0.6469\n",
      "Epoch 27/300\n",
      "15548/15548 [==============================] - 1s 95us/sample - loss: 0.5844 - acc: 0.6808 - val_loss: 0.6210 - val_acc: 0.6492\n",
      "Epoch 28/300\n",
      "15548/15548 [==============================] - 1s 91us/sample - loss: 0.5831 - acc: 0.6775 - val_loss: 0.6320 - val_acc: 0.6514\n",
      "Epoch 29/300\n",
      "15548/15548 [==============================] - 1s 89us/sample - loss: 0.5828 - acc: 0.6796 - val_loss: 0.6224 - val_acc: 0.6447\n",
      "Epoch 30/300\n",
      "15548/15548 [==============================] - 1s 89us/sample - loss: 0.5793 - acc: 0.6792 - val_loss: 0.6351 - val_acc: 0.6453\n",
      "Epoch 31/300\n",
      "15548/15548 [==============================] - 2s 106us/sample - loss: 0.5750 - acc: 0.6835 - val_loss: 0.6293 - val_acc: 0.6429\n",
      "Epoch 00031: early stopping\n"
     ]
    }
   ],
   "source": [
    "# train\n",
    "model3 = my_model(12,200,2)\n",
    "history3 =  model3. fit ( train_data3 , train_target3 , batch_size = 30 , epochs = 300 , verbose =1 , validation_data =( test_data3 , test_target3 ) , callbacks = callbacks_ )"
   ]
  },
  {
   "cell_type": "code",
   "execution_count": 36,
   "metadata": {},
   "outputs": [
    {
     "data": {
      "image/png": "[encoded data removed]",
      "text/plain": [
       "<Figure size 720x360 with 1 Axes>"
      ]
     },
     "metadata": {
      "needs_background": "light"
     },
     "output_type": "display_data"
    }
   ],
   "source": [
    "# Loss\n",
    "lossplot(history3.history['loss'], scale='log');"
   ]
  },
  {
   "cell_type": "code",
   "execution_count": 37,
   "metadata": {},
   "outputs": [
    {
     "data": {
      "image/png": "[encoded data removed]",
      "text/plain": [
       "<Figure size 720x360 with 1 Axes>"
      ]
     },
     "metadata": {
      "needs_background": "light"
     },
     "output_type": "display_data"
    }
   ],
   "source": [
    "# Accuracy\n",
    "accplot(history3.history['val_acc'], scale='linear')"
   ]
  },
  {
   "cell_type": "code",
   "execution_count": 38,
   "metadata": {},
   "outputs": [
    {
     "data": {
      "image/png": "[encoded data removed]",
      "text/plain": [
       "<Figure size 432x288 with 2 Axes>"
      ]
     },
     "metadata": {
      "needs_background": "light"
     },
     "output_type": "display_data"
    }
   ],
   "source": [
    "# Predictions\n",
    "pred3 = model3.predict(test_data3)\n",
    "\n",
    "# Convert probabilities into binary outputs\n",
    "bi = []\n",
    "p = []\n",
    "for i in pred3:\n",
    "    if i[0]>0.5:\n",
    "        bi.append(1)\n",
    "        p.append(i[0])\n",
    "    else:\n",
    "        bi.append(0)\n",
    "        p.append(i[0])\n",
    "        \n",
    "# Define confusion matrix and classes\n",
    "cm = confusion_matrix(test_target3.tolist(),bi)\n",
    "classes=[0,1]\n",
    "\n",
    "# Plot heat map\n",
    "heatmap(cm,normalize=True,labels=['predicted','true'],classes=[['0','1'],['0','1']])"
   ]
  },
  {
   "cell_type": "code",
   "execution_count": 39,
   "metadata": {},
   "outputs": [
    {
     "data": {
      "image/png": "[encoded data removed]",
      "text/plain": [
       "<Figure size 432x288 with 1 Axes>"
      ]
     },
     "metadata": {
      "needs_background": "light"
     },
     "output_type": "display_data"
    }
   ],
   "source": [
    "# Calculate false positive rate and true positive rate\n",
    "fpr, tpr, threshold = roc_curve(test_target3, pred3)\n",
    "roc_auc = metrics.auc(fpr, tpr)\n",
    "# Plot ROC curve\n",
    "plt.title('Receiver Operating Characteristic')\n",
    "plt.plot(fpr, tpr, 'b', label = 'AUC = %0.2f' % roc_auc)\n",
    "plt.legend(loc = 'lower right')\n",
    "plt.plot([0, 1], [0, 1],'r--')\n",
    "plt.xlim([0, 1])\n",
    "plt.ylim([0, 1])\n",
    "plt.ylabel('True Positive Rate')\n",
    "plt.xlabel('False Positive Rate')\n",
    "plt.show()"
   ]
  },
  {
   "cell_type": "markdown",
   "metadata": {},
   "source": [
    "## CP0, 30 and 60"
   ]
  },
  {
   "cell_type": "code",
   "execution_count": 40,
   "metadata": {},
   "outputs": [],
   "source": [
    "# ML imports\n",
    "from sklearn.preprocessing import MinMaxScaler\n",
    "from sklearn.utils import shuffle\n",
    "from sklearn.model_selection import train_test_split\n",
    "from tensorflow.python.keras.models import Model\n",
    "from tensorflow.python.keras.layers import Input, Dense\n",
    "from sklearn.model_selection import GridSearchCV, cross_val_score\n",
    "from sklearn.neural_network import MLPClassifier\n",
    "from sklearn.metrics import confusion_matrix\n",
    "\n",
    "# Custom imports\n",
    "import daml\n",
    "from daml import plot, utilities, optimisation"
   ]
  },
  {
   "cell_type": "code",
   "execution_count": 41,
   "metadata": {},
   "outputs": [
    {
     "data": {
      "text/plain": [
       "((38100, 13), (138901, 13), (138005, 13))"
      ]
     },
     "execution_count": 41,
     "metadata": {},
     "output_type": "execute_result"
    }
   ],
   "source": [
    "s1.shape, s2.shape, s3.shape"
   ]
  },
  {
   "cell_type": "code",
   "execution_count": 42,
   "metadata": {},
   "outputs": [],
   "source": [
    "cp0 = s1\n",
    "cp0.insert(13,'alpha',0)\n",
    "cp30 = s2.sample(s1.shape[0], random_state=42)\n",
    "cp30.insert(13,'alpha',1)\n",
    "cp60 = s3.sample(s1.shape[0], random_state=42)\n",
    "cp60.insert(13,'alpha',2)"
   ]
  },
  {
   "cell_type": "code",
   "execution_count": 43,
   "metadata": {},
   "outputs": [
    {
     "name": "stdout",
     "output_type": "stream",
     "text": [
      "(80010, 12) (80010,) (34290, 12) (34290,)\n"
     ]
    }
   ],
   "source": [
    "# training dataset\n",
    "train4 = pd.concat([cp0,cp30,cp60])\n",
    "\n",
    "# Shuffle training dataset\n",
    "train4 = shuffle(train4,random_state=42).reset_index(drop=True)\n",
    "\n",
    "# Standardize\n",
    "sc4 = preprocessing . StandardScaler ()\n",
    "input_data4 = sc4 . fit_transform ( train4[c0[0:12]] )\n",
    "target4 = train4['alpha']\n",
    "\n",
    "# train - test split of dataset\n",
    "train_data4 , test_data4 , train_target4 , test_target4 = model_selection . train_test_split (\\\n",
    "input_data4 , target4 , test_size =0.3 , random_state = Answer_to_all_questions )\n",
    "# Check shape\n",
    "print ( train_data4 . shape , train_target4 . shape , test_data4 . shape , test_target4 . shape )"
   ]
  },
  {
   "cell_type": "code",
   "execution_count": 65,
   "metadata": {},
   "outputs": [
    {
     "name": "stdout",
     "output_type": "stream",
     "text": [
      "Model: \"Small model (standard)\"\n",
      "_________________________________________________________________\n",
      "Layer (type)                 Output Shape              Param #   \n",
      "=================================================================\n",
      "input_6 (InputLayer)         [(None, 12)]              0         \n",
      "_________________________________________________________________\n",
      "dense_28 (Dense)             (None, 20)                260       \n",
      "_________________________________________________________________\n",
      "dense_29 (Dense)             (None, 3)                 63        \n",
      "=================================================================\n",
      "Total params: 323\n",
      "Trainable params: 323\n",
      "Non-trainable params: 0\n",
      "_________________________________________________________________\n"
     ]
    }
   ],
   "source": [
    "def smallmodel (name):\n",
    "    # Create a NW\n",
    "    input_tensor = Input(shape=(12,))\n",
    "    H1 = Dense(20, activation='relu')(input_tensor)\n",
    "    output_tensor = Dense(3, activation='softmax')(H1)\n",
    "    model = Model(input_tensor, output_tensor,name = name)\n",
    "    # Compile the model\n",
    "    model.compile(optimizer='Adam',loss='sparse_categorical_crossentropy',metrics=['accuracy'])\n",
    "    return model\n",
    "\n",
    "# Get the model\n",
    "model4 = smallmodel('Small model (standard)')\n",
    "model4.summary()"
   ]
  },
  {
   "cell_type": "code",
   "execution_count": 66,
   "metadata": {},
   "outputs": [
    {
     "name": "stdout",
     "output_type": "stream",
     "text": [
      "Train on 56007 samples, validate on 24003 samples\n",
      "Epoch 1/100\n",
      "56007/56007 - 1s - loss: 1.1329 - acc: 0.3399 - val_loss: 1.1069 - val_acc: 0.3497\n",
      "Epoch 2/100\n",
      "56007/56007 - 0s - loss: 1.1018 - acc: 0.3516 - val_loss: 1.1006 - val_acc: 0.3590\n",
      "Epoch 3/100\n",
      "56007/56007 - 0s - loss: 1.0972 - acc: 0.3588 - val_loss: 1.0979 - val_acc: 0.3607\n",
      "Epoch 4/100\n",
      "56007/56007 - 0s - loss: 1.0950 - acc: 0.3638 - val_loss: 1.0971 - val_acc: 0.3575\n",
      "Epoch 5/100\n",
      "56007/56007 - 0s - loss: 1.0939 - acc: 0.3656 - val_loss: 1.0960 - val_acc: 0.3587\n",
      "Epoch 6/100\n",
      "56007/56007 - 0s - loss: 1.0931 - acc: 0.3683 - val_loss: 1.0955 - val_acc: 0.3612\n",
      "Epoch 7/100\n",
      "56007/56007 - 0s - loss: 1.0926 - acc: 0.3678 - val_loss: 1.0956 - val_acc: 0.3585\n",
      "Epoch 8/100\n",
      "56007/56007 - 0s - loss: 1.0922 - acc: 0.3703 - val_loss: 1.0949 - val_acc: 0.3646\n",
      "Epoch 9/100\n",
      "56007/56007 - 0s - loss: 1.0919 - acc: 0.3708 - val_loss: 1.0946 - val_acc: 0.3635\n",
      "Epoch 10/100\n",
      "56007/56007 - 0s - loss: 1.0916 - acc: 0.3723 - val_loss: 1.0945 - val_acc: 0.3657\n",
      "Epoch 11/100\n",
      "56007/56007 - 0s - loss: 1.0912 - acc: 0.3733 - val_loss: 1.0951 - val_acc: 0.3631\n",
      "Epoch 12/100\n",
      "56007/56007 - 0s - loss: 1.0911 - acc: 0.3750 - val_loss: 1.0943 - val_acc: 0.3627\n",
      "Epoch 13/100\n",
      "56007/56007 - 0s - loss: 1.0910 - acc: 0.3733 - val_loss: 1.0940 - val_acc: 0.3677\n",
      "Epoch 14/100\n",
      "56007/56007 - 0s - loss: 1.0908 - acc: 0.3758 - val_loss: 1.0941 - val_acc: 0.3702\n",
      "Epoch 15/100\n",
      "56007/56007 - 0s - loss: 1.0905 - acc: 0.3754 - val_loss: 1.0940 - val_acc: 0.3645\n",
      "Epoch 16/100\n",
      "56007/56007 - 0s - loss: 1.0904 - acc: 0.3750 - val_loss: 1.0938 - val_acc: 0.3674\n",
      "Epoch 17/100\n",
      "56007/56007 - 0s - loss: 1.0903 - acc: 0.3779 - val_loss: 1.0937 - val_acc: 0.3624\n",
      "Epoch 18/100\n",
      "56007/56007 - 0s - loss: 1.0900 - acc: 0.3766 - val_loss: 1.0938 - val_acc: 0.3669\n",
      "Epoch 19/100\n",
      "56007/56007 - 0s - loss: 1.0900 - acc: 0.3755 - val_loss: 1.0935 - val_acc: 0.3696\n",
      "Epoch 20/100\n",
      "56007/56007 - 0s - loss: 1.0899 - acc: 0.3783 - val_loss: 1.0936 - val_acc: 0.3709\n",
      "Epoch 21/100\n",
      "56007/56007 - 0s - loss: 1.0898 - acc: 0.3770 - val_loss: 1.0939 - val_acc: 0.3656\n",
      "Epoch 22/100\n",
      "56007/56007 - 0s - loss: 1.0897 - acc: 0.3788 - val_loss: 1.0935 - val_acc: 0.3672\n",
      "Epoch 23/100\n",
      "56007/56007 - 0s - loss: 1.0895 - acc: 0.3772 - val_loss: 1.0938 - val_acc: 0.3705\n",
      "Epoch 24/100\n",
      "56007/56007 - 0s - loss: 1.0894 - acc: 0.3795 - val_loss: 1.0937 - val_acc: 0.3700\n",
      "Epoch 25/100\n",
      "56007/56007 - 0s - loss: 1.0895 - acc: 0.3783 - val_loss: 1.0932 - val_acc: 0.3665\n",
      "Epoch 26/100\n",
      "56007/56007 - 0s - loss: 1.0893 - acc: 0.3779 - val_loss: 1.0935 - val_acc: 0.3662\n",
      "Epoch 27/100\n",
      "56007/56007 - 0s - loss: 1.0896 - acc: 0.3775 - val_loss: 1.0934 - val_acc: 0.3703\n",
      "Epoch 28/100\n",
      "56007/56007 - 0s - loss: 1.0890 - acc: 0.3800 - val_loss: 1.0932 - val_acc: 0.3728\n",
      "Epoch 29/100\n",
      "56007/56007 - 0s - loss: 1.0891 - acc: 0.3780 - val_loss: 1.0934 - val_acc: 0.3700\n",
      "Epoch 30/100\n",
      "56007/56007 - 0s - loss: 1.0891 - acc: 0.3780 - val_loss: 1.0929 - val_acc: 0.3705\n",
      "Epoch 31/100\n",
      "56007/56007 - 0s - loss: 1.0889 - acc: 0.3793 - val_loss: 1.0935 - val_acc: 0.3653\n",
      "Epoch 32/100\n",
      "56007/56007 - 0s - loss: 1.0890 - acc: 0.3787 - val_loss: 1.0934 - val_acc: 0.3682\n",
      "Epoch 33/100\n",
      "56007/56007 - 0s - loss: 1.0890 - acc: 0.3804 - val_loss: 1.0930 - val_acc: 0.3702\n",
      "Epoch 34/100\n",
      "56007/56007 - 0s - loss: 1.0889 - acc: 0.3799 - val_loss: 1.0932 - val_acc: 0.3685\n",
      "Epoch 35/100\n",
      "56007/56007 - 0s - loss: 1.0887 - acc: 0.3803 - val_loss: 1.0934 - val_acc: 0.3715\n",
      "Epoch 36/100\n",
      "56007/56007 - 0s - loss: 1.0888 - acc: 0.3797 - val_loss: 1.0931 - val_acc: 0.3715\n",
      "Epoch 37/100\n",
      "56007/56007 - 0s - loss: 1.0888 - acc: 0.3802 - val_loss: 1.0932 - val_acc: 0.3691\n",
      "Epoch 38/100\n",
      "56007/56007 - 0s - loss: 1.0884 - acc: 0.3803 - val_loss: 1.0944 - val_acc: 0.3660\n",
      "Epoch 39/100\n",
      "56007/56007 - 0s - loss: 1.0887 - acc: 0.3783 - val_loss: 1.0934 - val_acc: 0.3715\n",
      "Epoch 40/100\n",
      "56007/56007 - 0s - loss: 1.0886 - acc: 0.3790 - val_loss: 1.0942 - val_acc: 0.3652\n",
      "Epoch 41/100\n",
      "56007/56007 - 0s - loss: 1.0886 - acc: 0.3805 - val_loss: 1.0935 - val_acc: 0.3694\n",
      "Epoch 42/100\n",
      "56007/56007 - 0s - loss: 1.0885 - acc: 0.3786 - val_loss: 1.0935 - val_acc: 0.3677\n",
      "Epoch 43/100\n",
      "56007/56007 - 0s - loss: 1.0885 - acc: 0.3791 - val_loss: 1.0935 - val_acc: 0.3680\n",
      "Epoch 44/100\n",
      "56007/56007 - 0s - loss: 1.0883 - acc: 0.3816 - val_loss: 1.0937 - val_acc: 0.3697\n",
      "Epoch 45/100\n",
      "56007/56007 - 0s - loss: 1.0883 - acc: 0.3810 - val_loss: 1.0938 - val_acc: 0.3666\n",
      "Epoch 46/100\n",
      "56007/56007 - 0s - loss: 1.0884 - acc: 0.3795 - val_loss: 1.0936 - val_acc: 0.3653\n",
      "Epoch 47/100\n",
      "56007/56007 - 0s - loss: 1.0884 - acc: 0.3822 - val_loss: 1.0936 - val_acc: 0.3665\n",
      "Epoch 48/100\n",
      "56007/56007 - 0s - loss: 1.0884 - acc: 0.3807 - val_loss: 1.0935 - val_acc: 0.3692\n",
      "Epoch 49/100\n",
      "56007/56007 - 0s - loss: 1.0883 - acc: 0.3800 - val_loss: 1.0935 - val_acc: 0.3693\n",
      "Epoch 50/100\n",
      "56007/56007 - 1s - loss: 1.0882 - acc: 0.3807 - val_loss: 1.0939 - val_acc: 0.3671\n",
      "Epoch 51/100\n",
      "56007/56007 - 0s - loss: 1.0883 - acc: 0.3817 - val_loss: 1.0937 - val_acc: 0.3672\n",
      "Epoch 52/100\n",
      "56007/56007 - 0s - loss: 1.0882 - acc: 0.3816 - val_loss: 1.0941 - val_acc: 0.3638\n",
      "Epoch 53/100\n",
      "56007/56007 - 0s - loss: 1.0882 - acc: 0.3799 - val_loss: 1.0933 - val_acc: 0.3728\n",
      "Epoch 54/100\n",
      "56007/56007 - 0s - loss: 1.0881 - acc: 0.3791 - val_loss: 1.0930 - val_acc: 0.3738\n",
      "Epoch 55/100\n",
      "56007/56007 - 0s - loss: 1.0882 - acc: 0.3820 - val_loss: 1.0939 - val_acc: 0.3644\n",
      "Epoch 56/100\n",
      "56007/56007 - 0s - loss: 1.0882 - acc: 0.3801 - val_loss: 1.0934 - val_acc: 0.3715\n",
      "Epoch 57/100\n",
      "56007/56007 - 0s - loss: 1.0882 - acc: 0.3816 - val_loss: 1.0938 - val_acc: 0.3697\n",
      "Epoch 58/100\n",
      "56007/56007 - 0s - loss: 1.0882 - acc: 0.3820 - val_loss: 1.0937 - val_acc: 0.3691\n",
      "Epoch 59/100\n",
      "56007/56007 - 0s - loss: 1.0881 - acc: 0.3815 - val_loss: 1.0945 - val_acc: 0.3705\n",
      "Epoch 60/100\n",
      "56007/56007 - 0s - loss: 1.0882 - acc: 0.3791 - val_loss: 1.0939 - val_acc: 0.3641\n",
      "Epoch 61/100\n",
      "56007/56007 - 0s - loss: 1.0881 - acc: 0.3817 - val_loss: 1.0936 - val_acc: 0.3703\n",
      "Epoch 62/100\n",
      "56007/56007 - 0s - loss: 1.0881 - acc: 0.3795 - val_loss: 1.0939 - val_acc: 0.3658\n",
      "Epoch 63/100\n",
      "56007/56007 - 0s - loss: 1.0882 - acc: 0.3802 - val_loss: 1.0936 - val_acc: 0.3660\n",
      "Epoch 64/100\n",
      "56007/56007 - 0s - loss: 1.0881 - acc: 0.3821 - val_loss: 1.0934 - val_acc: 0.3693\n",
      "Epoch 65/100\n",
      "56007/56007 - 0s - loss: 1.0879 - acc: 0.3807 - val_loss: 1.0948 - val_acc: 0.3635\n",
      "Epoch 66/100\n",
      "56007/56007 - 0s - loss: 1.0881 - acc: 0.3819 - val_loss: 1.0933 - val_acc: 0.3675\n",
      "Epoch 67/100\n",
      "56007/56007 - 0s - loss: 1.0880 - acc: 0.3803 - val_loss: 1.0932 - val_acc: 0.3726\n",
      "Epoch 68/100\n",
      "56007/56007 - 0s - loss: 1.0879 - acc: 0.3830 - val_loss: 1.0936 - val_acc: 0.3722\n",
      "Epoch 69/100\n",
      "56007/56007 - 0s - loss: 1.0881 - acc: 0.3831 - val_loss: 1.0936 - val_acc: 0.3729\n",
      "Epoch 70/100\n",
      "56007/56007 - 1s - loss: 1.0879 - acc: 0.3825 - val_loss: 1.0934 - val_acc: 0.3680\n",
      "Epoch 71/100\n",
      "56007/56007 - 0s - loss: 1.0880 - acc: 0.3815 - val_loss: 1.0937 - val_acc: 0.3687\n",
      "Epoch 72/100\n",
      "56007/56007 - 0s - loss: 1.0878 - acc: 0.3807 - val_loss: 1.0935 - val_acc: 0.3702\n",
      "Epoch 73/100\n",
      "56007/56007 - 0s - loss: 1.0879 - acc: 0.3823 - val_loss: 1.0936 - val_acc: 0.3715\n",
      "Epoch 74/100\n",
      "56007/56007 - 0s - loss: 1.0877 - acc: 0.3801 - val_loss: 1.0937 - val_acc: 0.3699\n",
      "Epoch 75/100\n",
      "56007/56007 - 0s - loss: 1.0880 - acc: 0.3814 - val_loss: 1.0933 - val_acc: 0.3722\n",
      "Epoch 76/100\n",
      "56007/56007 - 0s - loss: 1.0877 - acc: 0.3818 - val_loss: 1.0940 - val_acc: 0.3664\n",
      "Epoch 77/100\n",
      "56007/56007 - 0s - loss: 1.0878 - acc: 0.3815 - val_loss: 1.0934 - val_acc: 0.3706\n",
      "Epoch 78/100\n",
      "56007/56007 - 0s - loss: 1.0878 - acc: 0.3818 - val_loss: 1.0933 - val_acc: 0.3698\n",
      "Epoch 79/100\n",
      "56007/56007 - 0s - loss: 1.0879 - acc: 0.3831 - val_loss: 1.0935 - val_acc: 0.3657\n",
      "Epoch 80/100\n",
      "56007/56007 - 0s - loss: 1.0879 - acc: 0.3818 - val_loss: 1.0934 - val_acc: 0.3713\n",
      "Epoch 81/100\n",
      "56007/56007 - 0s - loss: 1.0877 - acc: 0.3823 - val_loss: 1.0934 - val_acc: 0.3692\n",
      "Epoch 82/100\n",
      "56007/56007 - 0s - loss: 1.0878 - acc: 0.3838 - val_loss: 1.0931 - val_acc: 0.3704\n",
      "Epoch 83/100\n",
      "56007/56007 - 0s - loss: 1.0878 - acc: 0.3808 - val_loss: 1.0935 - val_acc: 0.3690\n",
      "Epoch 84/100\n",
      "56007/56007 - 0s - loss: 1.0877 - acc: 0.3828 - val_loss: 1.0934 - val_acc: 0.3679\n",
      "Epoch 85/100\n",
      "56007/56007 - 0s - loss: 1.0879 - acc: 0.3817 - val_loss: 1.0934 - val_acc: 0.3703\n"
     ]
    },
    {
     "name": "stdout",
     "output_type": "stream",
     "text": [
      "Epoch 86/100\n",
      "56007/56007 - 1s - loss: 1.0878 - acc: 0.3799 - val_loss: 1.0933 - val_acc: 0.3727\n",
      "Epoch 87/100\n",
      "56007/56007 - 0s - loss: 1.0878 - acc: 0.3813 - val_loss: 1.0936 - val_acc: 0.3697\n",
      "Epoch 88/100\n",
      "56007/56007 - 0s - loss: 1.0877 - acc: 0.3825 - val_loss: 1.0934 - val_acc: 0.3737\n",
      "Epoch 89/100\n",
      "56007/56007 - 0s - loss: 1.0877 - acc: 0.3836 - val_loss: 1.0935 - val_acc: 0.3716\n",
      "Epoch 90/100\n",
      "56007/56007 - 0s - loss: 1.0878 - acc: 0.3826 - val_loss: 1.0938 - val_acc: 0.3684\n",
      "Epoch 91/100\n",
      "56007/56007 - 0s - loss: 1.0877 - acc: 0.3817 - val_loss: 1.0933 - val_acc: 0.3700\n",
      "Epoch 92/100\n",
      "56007/56007 - 0s - loss: 1.0877 - acc: 0.3823 - val_loss: 1.0933 - val_acc: 0.3700\n",
      "Epoch 93/100\n",
      "56007/56007 - 0s - loss: 1.0877 - acc: 0.3814 - val_loss: 1.0934 - val_acc: 0.3680\n",
      "Epoch 94/100\n",
      "56007/56007 - 0s - loss: 1.0878 - acc: 0.3814 - val_loss: 1.0938 - val_acc: 0.3690\n",
      "Epoch 95/100\n",
      "56007/56007 - 0s - loss: 1.0877 - acc: 0.3826 - val_loss: 1.0938 - val_acc: 0.3655\n",
      "Epoch 96/100\n",
      "56007/56007 - 0s - loss: 1.0876 - acc: 0.3832 - val_loss: 1.0933 - val_acc: 0.3732\n",
      "Epoch 97/100\n",
      "56007/56007 - 0s - loss: 1.0876 - acc: 0.3828 - val_loss: 1.0934 - val_acc: 0.3698\n",
      "Epoch 98/100\n",
      "56007/56007 - 0s - loss: 1.0877 - acc: 0.3828 - val_loss: 1.0936 - val_acc: 0.3672\n",
      "Epoch 99/100\n",
      "56007/56007 - 0s - loss: 1.0876 - acc: 0.3838 - val_loss: 1.0934 - val_acc: 0.3713\n",
      "Epoch 100/100\n",
      "56007/56007 - 0s - loss: 1.0877 - acc: 0.3817 - val_loss: 1.0935 - val_acc: 0.3682\n"
     ]
    }
   ],
   "source": [
    "# Compile and fit\n",
    "cp = model4.fit(train_data4,train_target4,batch_size=200,epochs=100,validation_split=0.3,shuffle=True,verbose=2)"
   ]
  },
  {
   "cell_type": "code",
   "execution_count": 67,
   "metadata": {},
   "outputs": [
    {
     "data": {
      "image/png": "[encoded data removed]",
      "text/plain": [
       "<Figure size 432x288 with 1 Axes>"
      ]
     },
     "metadata": {
      "needs_background": "light"
     },
     "output_type": "display_data"
    }
   ],
   "source": [
    "# Plot loss curves\n",
    "daml.plot.loss(cp);"
   ]
  },
  {
   "cell_type": "code",
   "execution_count": 68,
   "metadata": {},
   "outputs": [
    {
     "data": {
      "image/png": "[encoded data removed]",
      "text/plain": [
       "<Figure size 432x432 with 1 Axes>"
      ]
     },
     "metadata": {
      "needs_background": "light"
     },
     "output_type": "display_data"
    }
   ],
   "source": [
    "# Get predictions of X_test without weight\n",
    "pred4 = model4.predict(test_data4)\n",
    "pred4 = np.asarray([np.argmax(i) for i in pred4])\n",
    "cm = confusion_matrix(pred4,test_target4)\n",
    "daml.plot.confusion_matrix (cm, labels=None, normalise=True);"
   ]
  },
  {
   "cell_type": "code",
   "execution_count": null,
   "metadata": {},
   "outputs": [],
   "source": []
  }
 ],
 "metadata": {
  "kernelspec": {
   "display_name": "Python 3",
   "language": "python",
   "name": "python3"
  },
  "language_info": {
   "codemirror_mode": {
    "name": "ipython",
    "version": 3
   },
   "file_extension": ".py",
   "mimetype": "text/x-python",
   "name": "python",
   "nbconvert_exporter": "python",
   "pygments_lexer": "ipython3",
   "version": "3.7.4"
  }
 },
 "nbformat": 4,
 "nbformat_minor": 2
}
