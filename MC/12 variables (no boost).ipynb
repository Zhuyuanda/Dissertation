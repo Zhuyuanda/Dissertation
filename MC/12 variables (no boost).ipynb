{
 "cells": [
  {
   "cell_type": "code",
   "execution_count": 1,
   "metadata": {},
   "outputs": [
    {
     "name": "stdout",
     "output_type": "stream",
     "text": [
      "Welcome to JupyROOT 6.20/04\n"
     ]
    }
   ],
   "source": [
    "import ROOT\n",
    "import sys\n",
    "import numpy as np"
   ]
  },
  {
   "cell_type": "code",
   "execution_count": 2,
   "metadata": {},
   "outputs": [],
   "source": [
    "# read in data\n",
    "inFile = ROOT . TFile . Open ( \"ttH.root\" , \" READ \" )\n",
    "tree = inFile . Get ( \"ttHyyTree\" )"
   ]
  },
  {
   "cell_type": "code",
   "execution_count": 3,
   "metadata": {},
   "outputs": [],
   "source": [
    "# creat a canvas\n",
    "c = ROOT.TCanvas(\"myCanvasName\",\"The Canvas Title\",400,300)"
   ]
  },
  {
   "cell_type": "code",
   "execution_count": 4,
   "metadata": {},
   "outputs": [],
   "source": [
    "# creat 4 empty hist\n",
    "t1 = ROOT . TH1D ( \"tlvb\" ,\" m_{t->lvb} , GeV \" ,150 ,0 ,600 )\n",
    "t1 . Sumw2 ()\n",
    "\n",
    "t2 = ROOT . TH1D ( \"tqqb\" ,\" m_{t->qqb} , GeV \" ,150 ,0 ,600 )\n",
    "t2 . Sumw2 ()\n",
    "\n",
    "w1 = ROOT . TH1D ( \"wlv\" ,\" m_{w->lv} , GeV \" ,150 ,0 ,600 )\n",
    "w1 . Sumw2 ()\n",
    "\n",
    "w2 = ROOT . TH1D ( \"wqq\" ,\" m_{w->qq} , GeV \" ,150 ,0 ,600 )\n",
    "w2 . Sumw2 ()\n",
    "\n",
    "h = ROOT . TH1D ( \"Hyy\" ,\" m_{H->yy} , GeV \" ,150 ,100 ,150 )\n",
    "h . Sumw2 ()\n",
    "\n",
    "tth = ROOT . TH1D ( \"ttH\" ,\" m_{ttH} , GeV \" ,150, 0 ,2000 )\n",
    "tth . Sumw2 ()\n",
    "\n",
    "tt = ROOT . TH1D ( \"tt\" ,\" m_{tt} , GeV \" ,150, 0 ,2000 )\n",
    "tt . Sumw2 ()\n",
    "\n",
    "t = ROOT . TH1D ( \"t\" ,\" m_{t} , GeV \" ,150 ,0 ,600 )\n",
    "t . Sumw2 ()\n",
    "\n",
    "thetah = ROOT . TH1D ( \"thetah\" ,\" cos(theta_H) \" ,20 ,-1 ,1 )\n",
    "thetah . Sumw2 ()\n",
    "\n",
    "thetat = ROOT . TH1D ( \"thetat\" ,\" cos(theta_t) \" ,20 ,-1 ,1 )\n",
    "thetat . Sumw2 ()\n",
    "\n",
    "phitstar = ROOT . TH1D ( \"phitstar\" ,\" phi*t \" ,20 ,0 ,3.14 )\n",
    "phitstar . Sumw2 ()\n",
    "\n",
    "thetaw = ROOT . TH1D ( \"thetaw\" ,\" cos(theta_w) \" ,20 ,-1 ,1 )\n",
    "thetaw . Sumw2 ()\n",
    "\n",
    "phiw = ROOT . TH1D ( \"phiw\" ,\" phi_w \" ,20 ,0 ,3.14 )\n",
    "phiw . Sumw2 ()\n",
    "\n",
    "thetab = ROOT . TH1D ( \"thetab\" ,\" cos(theta_b) \" ,20 ,-1 ,1 )\n",
    "thetab . Sumw2 ()\n",
    "\n",
    "phib = ROOT . TH1D ( \"phib\" ,\" phi_b \" ,20 ,0 ,3.14 )\n",
    "phib . Sumw2 ()\n",
    "\n",
    "thetaf = ROOT . TH1D ( \"thetaf\" ,\" cos(theta_f) \" ,20 ,-1 ,1 )\n",
    "thetaf . Sumw2 ()\n",
    "\n",
    "phif = ROOT . TH1D ( \"phif\" ,\" phi_f \" ,20 ,0 ,3.14 )\n",
    "phif . Sumw2 ()"
   ]
  },
  {
   "cell_type": "code",
   "execution_count": 5,
   "metadata": {},
   "outputs": [],
   "source": [
    "# cos of 2 vectors\n",
    "def angle (v1, v2):\n",
    "  dot = v1[0]*v2[0] + v1[1]*v2[1] + v1[2]*v2[2]\n",
    "  m1 = np.sqrt(v1[0]**2 + v1[1]**2 + v1[2]**2)\n",
    "  m2 = np.sqrt(v2[0]**2 + v2[1]**2 + v2[2]**2)\n",
    "  return dot/(m1*m2)\n",
    "\n",
    "# cross production of 2 vectors\n",
    "def cross (v1,v2):\n",
    "  c1 = v1[1]*v2[2] - v2[1]*v1[2]\n",
    "  c2 = v1[2]*v2[0] - v1[0]*v2[2]\n",
    "  c3 = v1[0]*v2[1] - v2[0]*v1[1]\n",
    "  return [c1,c2,c3]"
   ]
  },
  {
   "cell_type": "code",
   "execution_count": 6,
   "metadata": {},
   "outputs": [],
   "source": [
    "for entryNum in range (0 , tree . GetEntries ()):\n",
    "  # read\n",
    "  tree . GetEntry ( entryNum )\n",
    "\n",
    "  # Event selection: 4jets, 2bjets, 1lepton\n",
    "  btag = 0\n",
    "    \n",
    "  # 4jets\n",
    "  if len(getattr(tree, \"jet_btag77\")) != 4:\n",
    "    continue\n",
    "    \n",
    "  # 2bjets\n",
    "  for i in getattr ( tree , \"jet_btag77\" ):\n",
    "    if i:\n",
    "      btag = btag + 1\n",
    "  if btag != 2:\n",
    "    continue\n",
    "\n",
    "  # 1lepton\n",
    "  if (getattr ( tree , \"n_el\" ) + getattr ( tree , \"n_mu\" )) != 1:\n",
    "    continue\n",
    "\n",
    "  # Lorentz vectors\n",
    "  # lepton\n",
    "  lepton = ROOT . TLorentzVector ()\n",
    "\n",
    "  if getattr ( tree , \"n_el\" ) == 1 and getattr ( tree , \"n_mu\" ) == 0:\n",
    "    lpt = getattr ( tree , \"el_pt\" )\n",
    "    leta = getattr ( tree , \"el_eta\" )\n",
    "    lphi = getattr ( tree , \"el_phi\" )\n",
    "    lm = 0.000511 # electron mass\n",
    "\n",
    "\n",
    "  if getattr ( tree , \"n_mu\" ) == 1 and getattr ( tree , \"n_el\" ) == 0:\n",
    "    lpt = getattr ( tree , \"mu_pt\" )\n",
    "    leta = getattr ( tree , \"mu_eta\" )\n",
    "    lphi = getattr ( tree , \"mu_phi\" )\n",
    "    lm = 0.10566 # muon mass\n",
    "\n",
    "  lepton . SetPtEtaPhiM ( lpt[0] , leta[0] , lphi[0] , lm) \n",
    "\n",
    "  # jets\n",
    "  q1 = ROOT . TLorentzVector ()\n",
    "  q2 = ROOT . TLorentzVector ()\n",
    "  b1 = ROOT . TLorentzVector ()\n",
    "  b2 = ROOT . TLorentzVector ()\n",
    "\n",
    "  jpt = getattr ( tree , \"jet_pt\" )\n",
    "  jeta = getattr ( tree , \"jet_eta\" )\n",
    "  jphi = getattr ( tree , \"jet_phi\" )\n",
    "  jE = getattr ( tree , \"jet_E\" )    \n",
    "  isb = getattr ( tree , \"jet_btag77\" )\n",
    "\n",
    "  if isb[0]:\n",
    "    b1 . SetPtEtaPhiE (jpt[0] , jeta[0] , jphi[0] , jE[0])\n",
    "    if isb[1]:\n",
    "      b2 . SetPtEtaPhiE (jpt[1] , jeta[1] , jphi[1] , jE[1])\n",
    "      q1 . SetPtEtaPhiE (jpt[2] , jeta[2] , jphi[2] , jE[2])\n",
    "      q2 . SetPtEtaPhiE (jpt[3] , jeta[3] , jphi[3] , jE[3])\n",
    "    else:\n",
    "      q1 . SetPtEtaPhiE (jpt[1] , jeta[1] , jphi[1] , jE[1])\n",
    "      if isb[2]:\n",
    "        b2 . SetPtEtaPhiE (jpt[2] , jeta[2] , jphi[2] , jE[2])\n",
    "        q2 . SetPtEtaPhiE (jpt[3] , jeta[3] , jphi[3] , jE[3])\n",
    "      else:\n",
    "        q2 . SetPtEtaPhiE (jpt[2] , jeta[2] , jphi[2] , jE[2])\n",
    "        b2 . SetPtEtaPhiE (jpt[3] , jeta[3] , jphi[3] , jE[3])\n",
    "\n",
    "  else:\n",
    "    q1 . SetPtEtaPhiE (jpt[0] , jeta[0] , jphi[0] , jE[0])\n",
    "    if isb[1]:\n",
    "      b1 . SetPtEtaPhiE (jpt[1] , jeta[1] , jphi[1] , jE[1])\n",
    "      if isb[2]:\n",
    "        b2 . SetPtEtaPhiE (jpt[2] , jeta[2] , jphi[2] , jE[2])\n",
    "        q2 . SetPtEtaPhiE (jpt[3] , jeta[3] , jphi[3] , jE[3])\n",
    "      else:\n",
    "        q2 . SetPtEtaPhiE (jpt[2] , jeta[2] , jphi[2] , jE[2])\n",
    "        b2 . SetPtEtaPhiE (jpt[3] , jeta[3] , jphi[3] , jE[3])\n",
    "        \n",
    "    else:\n",
    "      q2 . SetPtEtaPhiE (jpt[1] , jeta[1] , jphi[1] , jE[1])\n",
    "      b1 . SetPtEtaPhiE (jpt[2] , jeta[2] , jphi[2] , jE[2])\n",
    "      b2 . SetPtEtaPhiE (jpt[3] , jeta[3] , jphi[3] , jE[3])\n",
    "\n",
    "    \n",
    "  # neutrino\n",
    "  nu = ROOT . TLorentzVector ()\n",
    "  npx = - getattr ( tree , \"met_x\" )\n",
    "  npy = - getattr ( tree , \"met_y\" )\n",
    "\n",
    "  # neutrino Pz: assume m_w = 80.379 GeV\n",
    "    \n",
    "  A = 2 * lepton.Pz()\n",
    "  B = -2 * lepton.E()\n",
    "  C = npx**2+npy**2\n",
    "  D = lepton.M()**2 - 80.379**2 - 2*lepton.Px()*npx - 2*lepton.Py()*npy\n",
    "  E = A*A*D*D - (A**2-B**2)*(D**2-B*B*C)\n",
    "\n",
    "  if E<0:\n",
    "    E = 0\n",
    "    \n",
    "  npz = (A*D + np.sqrt(E))/(A**2 - B**2)\n",
    "\n",
    "  nE = np.sqrt(npx**2+npy**2+npz**2)\n",
    "  nu . SetPxPyPzE ( npx , npy , npz , nE)\n",
    "\n",
    "  # photon\n",
    "  y0 = ROOT . TLorentzVector ()\n",
    "  y1 = ROOT . TLorentzVector ()\n",
    "\n",
    "  # y0\n",
    "  pt0 = getattr ( tree , \"y1_pt\" )\n",
    "  eta0 = getattr ( tree , \"y1_eta\" )\n",
    "  phi0 = getattr ( tree , \"y1_phi\" )\n",
    "  nrg0 = getattr ( tree , \"y1_E\" )\n",
    "  y0 . SetPtEtaPhiE ( pt0 , eta0 , phi0 , nrg0)\n",
    "\n",
    "  # y1\n",
    "  pt1 = getattr ( tree , \"y2_pt\" )\n",
    "  eta1 = getattr ( tree , \"y2_eta\" )\n",
    "  phi1 = getattr ( tree , \"y2_phi\" )\n",
    "  nrg1 = getattr ( tree , \"y2_E\" )\n",
    "  y1 . SetPtEtaPhiE ( pt1 , eta1 , phi1 , nrg1)\n",
    "\n",
    "  # Higgs mass\n",
    "  higgs = y0 + y1\n",
    "  higgsMass = higgs . M ()\n",
    "\n",
    "  # W mass\n",
    "  wlv = lepton + nu     # w1\n",
    "  w1m = wlv.M()\n",
    "\n",
    "  wqq = q1 + q2      # w2\n",
    "  w2m = wqq.M()\n",
    "\n",
    "  # Top mass\n",
    "  w1b1 = (wlv + b1).M()\n",
    "  w2b2 = (wqq + b2).M()\n",
    "\n",
    "  w1b2 = (wlv + b2).M()\n",
    "  w2b1 = (wqq + b1).M()\n",
    "\n",
    "  chi1 = (w1b1 - 173)**2 + (w2b2 - 173)**2\n",
    "  chi2 = (w1b2 - 173)**2 + (w2b1 - 173)**2\n",
    "\n",
    "  if chi1 <= chi2:\n",
    "    tlvb = w1b1\n",
    "    tv1 = wlv + b1\n",
    "    \n",
    "    tqqb = w2b2\n",
    "    tv2 = wqq + b2\n",
    "\n",
    "  else:\n",
    "    tlvb = w1b2\n",
    "    tv1 = wlv + b2\n",
    "    \n",
    "    tqqb = w2b1\n",
    "    tv2 = wqq + b1\n",
    "  \n",
    "  # Variables\n",
    "\n",
    "  #### 1 ####\n",
    "  # ttH mass\n",
    "  tthm = (lepton + nu + b1 + b2 + q1 + q2 + y0 + y1).M()\n",
    "\n",
    "  #### 2 ####\n",
    "  # tt mass\n",
    "  ttv = lepton + nu + b1 + b2 + q1 + q2\n",
    "  ttm = (lepton + nu + b1 + b2 + q1 + q2).M()\n",
    "\n",
    "  #### 3 ####\n",
    "  # top mass, done before  \n",
    "    \n",
    "  #### 4 ####\n",
    "  # cos(θ_H): angle between the H boson direction and the incoming partons in the ttH frame\n",
    "  H_d = ROOT.TVector3()\n",
    "  H_d.SetXYZ(higgs.Px(), higgs.Py(), higgs.Pz())\n",
    "  beam_d = ROOT.TVector3()\n",
    "  beam_d.SetXYZ(0,0,1)\n",
    "  theta_H = np.cos(H_d.Angle(beam_d))\n",
    "  \n",
    "  #### 5 ####\n",
    "  # cos(θ_t): angle between the top quark direction and the opposite Higgs direction in the tt frame\n",
    "  # Boost vector\n",
    "  tt_b = ttv.BoostVector()\n",
    "    \n",
    "\n",
    "\n",
    "  # Directions in tt frame\n",
    "  H_ttd = ROOT.TVector3()\n",
    "  t1_ttd = ROOT.TVector3()\n",
    "  t2_ttd = ROOT.TVector3()\n",
    "    \n",
    "  H_ttd.SetXYZ(-higgs.Px(), -higgs.Py(), -higgs.Pz())\n",
    "  t1_ttd.SetXYZ(tv1.Px(), tv1.Py(), tv1.Pz())\n",
    "  t2_ttd.SetXYZ(tv2.Px(), tv2.Py(), tv2.Pz())\n",
    "  theta_t1 = np.cos(H_ttd.Angle(t1_ttd))\n",
    "  theta_t2 = np.cos(H_ttd.Angle(t2_ttd))\n",
    "\n",
    "\n",
    "  #### 6 ####\n",
    "  # Φ*t: angle between the decay planes of the tt system and H → VV in the ttH frame\n",
    "  H_ld = [higgs.Px(), higgs.Py(), higgs.Pz()]\n",
    "  y0_ld = [y0.Px(), y0.Py(), y0.Pz()]\n",
    "  y1_ld = [y1.Px(), y1.Py(), y1.Pz()]\n",
    "  t1_ld = [tv1.Px(), tv1.Py(), tv1.Pz()]\n",
    "  t2_ld = [tv2.Px(), tv2.Py(), tv2.Pz()]\n",
    "  plane_tt = cross(t1_ld, t2_ld)\n",
    "  plane_Hyy = cross(y0_ld, y1_ld)\n",
    "  phit = np.arccos(angle(plane_tt, plane_Hyy))\n",
    "\n",
    "  #### 7 ####\n",
    "  # cos(θ_W) : angle between W+ and opposite of the bb̄ system in the W+ W− frame\n",
    "  # Boost vector\n",
    "  ww = wlv + wqq\n",
    "  bb = b1 + b2\n",
    "  ww_b = ww.BoostVector()\n",
    "\n",
    "\n",
    "\n",
    "  # Directions in WW frame\n",
    "  bb_wwd = ROOT.TVector3()\n",
    "  w1_wwd = ROOT.TVector3()\n",
    "  w2_wwd = ROOT.TVector3()\n",
    "    \n",
    "  bb_wwd.SetXYZ(-bb.Px(), -bb.Py(), -bb.Pz())\n",
    "  w1_wwd.SetXYZ(wlv.Px(), wlv.Py(), wlv.Pz())\n",
    "  w2_wwd.SetXYZ(wqq.Px(), wqq.Py(), wqq.Pz())\n",
    "\n",
    "  theta_w1 = np.cos(w1_wwd.Angle(bb_wwd))\n",
    "  theta_w2 = np.cos(w2_wwd.Angle(bb_wwd))\n",
    "\n",
    "\n",
    "\n",
    "  #### 8 ####\n",
    "  # Φw: angle between the production (bb̄)(W+W−)H plane and the plane of the W+W− system in the tt frame\n",
    "\n",
    "\n",
    "  # Cross product\n",
    "  bb_ttd = [bb.Px(), bb.Py(), bb.Pz()]\n",
    "  h_ttd = [higgs.Px(), higgs.Py(), higgs.Pz()]\n",
    "  w1_ttd = [wlv.Px(), wlv.Py(), wlv.Pz()]\n",
    "  w2_ttd = [wqq.Px(), wqq.Py(), wqq.Pz()]\n",
    "\n",
    "  plane_bbwwh = cross(bb_ttd, h_ttd)\n",
    "  plane_ww = cross(w1_ttd, w2_ttd)\n",
    "  phi_w = np.arccos(angle(plane_bbwwh, plane_ww))\n",
    "\n",
    "  # Return to lab frame\n",
    "\n",
    "\n",
    "  #### 9 ####\n",
    "  # cos(θ_b): angle between the b quark and opposite of the W + W − system in the bb̄ frame\n",
    "  # Boost vector\n",
    "  bb_b = bb.BoostVector()\n",
    "\n",
    "\n",
    "\n",
    "  # Directions in bb frame\n",
    "  ww_bbd = ROOT.TVector3()\n",
    "  b1_bbd = ROOT.TVector3()\n",
    "  b2_bbd = ROOT.TVector3()\n",
    "    \n",
    "  ww_bbd.SetXYZ(-ww.Px(), -ww.Py(), -ww.Pz())\n",
    "  b1_bbd.SetXYZ(b1.Px(), b1.Py(), b1.Pz())\n",
    "  b2_bbd.SetXYZ(b2.Px(), b2.Py(), b2.Pz())\n",
    "  theta_b1 = np.cos(ww_bbd.Angle(b1_bbd))\n",
    "  theta_b2 = np.cos(ww_bbd.Angle(b2_bbd))\n",
    "\n",
    "\n",
    "\n",
    "  #### 10 ####\n",
    "  # Φb: angle between the planes of the bb and W+W− systems in the tt frame\n",
    "\n",
    "\n",
    "  # Cross product (w1w2 plane in tt frame already done in phi_w)\n",
    "  b1_ttd = [b1.Px(), b1.Py(), b1.Pz()]\n",
    "  b2_ttd = [b2.Px(), b2.Py(), b2.Pz()]\n",
    "  plane_b1b2 = cross(b1_ttd, b2_ttd)\n",
    "  phi_b = np.arccos(angle(plane_b1b2, plane_ww))\n",
    "\n",
    "\n",
    "\n",
    "  #### 11 ####\n",
    "  # cos(θ_f): angles between fermion direction and opposite of the b or b quark in the W+ or W− frame\n",
    "  # Boost vector\n",
    "  wlv_b = wlv.BoostVector()\n",
    "    \n",
    "\n",
    "\n",
    "  # Directions in w frame\n",
    "  l_wd = ROOT.TVector3()\n",
    "  b1_wd = ROOT.TVector3()\n",
    "  b2_wd = ROOT.TVector3()\n",
    "    \n",
    "  l_wd.SetXYZ(lepton.Px(), lepton.Py(), lepton.Pz())\n",
    "  b1_wd.SetXYZ(-b1.Px(), -b1.Py(), -b1.Pz())\n",
    "  b2_wd.SetXYZ(-b2.Px(), -b2.Py(), -b2.Pz())\n",
    "\n",
    "  if chi1 <= chi2:\n",
    "    theta_f = np.cos(l_wd.Angle(b1_wd))\n",
    "  else:\n",
    "    theta_f = np.cos(l_wd.Angle(b2_wd))\n",
    "\n",
    "\n",
    "\n",
    "  #### 12 ####\n",
    "  # Φf: angle between the W+ or W− decay plane and the t-W+b or tW−b̄ plane in the t or t̄ quark frame\n",
    "  # Boost vector\n",
    "  tv1_b = tv1.BoostVector()\n",
    "\n",
    "\n",
    "\n",
    "  # Cross product\n",
    "  l_td = [lepton.Px(), lepton.Py(), lepton.Pz()]\n",
    "  nu_td = [nu.Px(), nu.Py(), nu.Pz()]\n",
    "  b1_td = [b1.Px(), b1.Py(), b1.Pz()]\n",
    "  b2_td = [b2.Px(), b2.Py(), b2.Pz()]\n",
    "  t2_td = [tv2.Px(), tv2.Py(), tv2.Pz()]\n",
    "\n",
    "  plane_wwt = cross(l_td, nu)\n",
    "\n",
    "  if chi1 <= chi2:\n",
    "    plane_tlvb = cross(b1_td, t2_td)\n",
    "  else:\n",
    "    plane_tlvb = cross(b2_td, t2_td)\n",
    "\n",
    "  phi_f = np.arccos(angle(plane_tlvb, plane_wwt))\n",
    "\n",
    "\n",
    "\n",
    "  # Fill the hist\n",
    "  w1 . Fill ( w1m )\n",
    "  w2 . Fill ( w2m )\n",
    "  t1 . Fill ( tlvb )\n",
    "  t2 . Fill ( tqqb )\n",
    "  h . Fill ( higgsMass )\n",
    "  tth . Fill ( tthm )\n",
    "  tt . Fill ( ttm )\n",
    "  t . Fill (tlvb)\n",
    "  t . Fill (tqqb)\n",
    "  thetah . Fill (theta_H)\n",
    "  thetat . Fill (theta_t1)\n",
    "  thetat . Fill (theta_t2)\n",
    "  phitstar . Fill (phit)\n",
    "  thetaw . Fill (theta_w1)\n",
    "  thetaw . Fill (theta_w2)\n",
    "  phiw . Fill (phi_w)\n",
    "  thetab . Fill (theta_b1)\n",
    "  thetab . Fill (theta_b2)\n",
    "  phib . Fill (phi_b)\n",
    "  thetaf . Fill(theta_f)\n",
    "  phif . Fill (phi_f)"
   ]
  },
  {
   "cell_type": "code",
   "execution_count": 7,
   "metadata": {},
   "outputs": [
    {
     "data": {
      "image/png": "[encoded data removed]",
      "text/plain": [
       "<IPython.core.display.Image object>"
      ]
     },
     "metadata": {},
     "output_type": "display_data"
    }
   ],
   "source": [
    "w1.Draw()\n",
    "c.Draw()"
   ]
  },
  {
   "cell_type": "code",
   "execution_count": 8,
   "metadata": {},
   "outputs": [
    {
     "data": {
      "image/png": "[encoded data removed]",
      "text/plain": [
       "<IPython.core.display.Image object>"
      ]
     },
     "metadata": {},
     "output_type": "display_data"
    }
   ],
   "source": [
    "t1.Draw()\n",
    "c.Draw()"
   ]
  },
  {
   "cell_type": "code",
   "execution_count": 9,
   "metadata": {},
   "outputs": [
    {
     "data": {
      "image/png": "[encoded data removed]",
      "text/plain": [
       "<IPython.core.display.Image object>"
      ]
     },
     "metadata": {},
     "output_type": "display_data"
    }
   ],
   "source": [
    "w2.Draw()\n",
    "c.Draw()"
   ]
  },
  {
   "cell_type": "code",
   "execution_count": 10,
   "metadata": {},
   "outputs": [
    {
     "data": {
      "image/png": "[encoded data removed]",
      "text/plain": [
       "<IPython.core.display.Image object>"
      ]
     },
     "metadata": {},
     "output_type": "display_data"
    }
   ],
   "source": [
    "t2.Draw()\n",
    "c.Draw()"
   ]
  },
  {
   "cell_type": "code",
   "execution_count": 11,
   "metadata": {},
   "outputs": [
    {
     "data": {
      "image/png": "[encoded data removed]",
      "text/plain": [
       "<IPython.core.display.Image object>"
      ]
     },
     "metadata": {},
     "output_type": "display_data"
    }
   ],
   "source": [
    "h.Draw()\n",
    "c.Draw()"
   ]
  },
  {
   "cell_type": "code",
   "execution_count": 12,
   "metadata": {},
   "outputs": [
    {
     "data": {
      "image/png": "[encoded data removed]",
      "text/plain": [
       "<IPython.core.display.Image object>"
      ]
     },
     "metadata": {},
     "output_type": "display_data"
    }
   ],
   "source": [
    "tth.Draw()\n",
    "c.Draw()"
   ]
  },
  {
   "cell_type": "code",
   "execution_count": 13,
   "metadata": {},
   "outputs": [
    {
     "data": {
      "image/png": "[encoded data removed]",
      "text/plain": [
       "<IPython.core.display.Image object>"
      ]
     },
     "metadata": {},
     "output_type": "display_data"
    }
   ],
   "source": [
    "tt.Draw()\n",
    "c.Draw()"
   ]
  },
  {
   "cell_type": "code",
   "execution_count": 14,
   "metadata": {},
   "outputs": [
    {
     "data": {
      "image/png": "[encoded data removed]",
      "text/plain": [
       "<IPython.core.display.Image object>"
      ]
     },
     "metadata": {},
     "output_type": "display_data"
    }
   ],
   "source": [
    "t.Draw()\n",
    "c.Draw()"
   ]
  },
  {
   "cell_type": "code",
   "execution_count": 15,
   "metadata": {},
   "outputs": [
    {
     "data": {
      "image/png": "[encoded data removed]",
      "text/plain": [
       "<IPython.core.display.Image object>"
      ]
     },
     "metadata": {},
     "output_type": "display_data"
    }
   ],
   "source": [
    "thetah.Draw()\n",
    "c.Draw()"
   ]
  },
  {
   "cell_type": "code",
   "execution_count": 16,
   "metadata": {},
   "outputs": [
    {
     "data": {
      "image/png": "[encoded data removed]",
      "text/plain": [
       "<IPython.core.display.Image object>"
      ]
     },
     "metadata": {},
     "output_type": "display_data"
    }
   ],
   "source": [
    "thetat.Draw()\n",
    "c.Draw()"
   ]
  },
  {
   "cell_type": "code",
   "execution_count": 17,
   "metadata": {},
   "outputs": [
    {
     "data": {
      "image/png": "[encoded data removed]",
      "text/plain": [
       "<IPython.core.display.Image object>"
      ]
     },
     "metadata": {},
     "output_type": "display_data"
    }
   ],
   "source": [
    "phitstar.Draw()\n",
    "c.Draw()"
   ]
  },
  {
   "cell_type": "code",
   "execution_count": 18,
   "metadata": {},
   "outputs": [
    {
     "data": {
      "image/png": "[encoded data removed]",
      "text/plain": [
       "<IPython.core.display.Image object>"
      ]
     },
     "metadata": {},
     "output_type": "display_data"
    }
   ],
   "source": [
    "thetaw.Draw()\n",
    "c.Draw()"
   ]
  },
  {
   "cell_type": "code",
   "execution_count": 19,
   "metadata": {},
   "outputs": [
    {
     "data": {
      "image/png": "[encoded data removed]",
      "text/plain": [
       "<IPython.core.display.Image object>"
      ]
     },
     "metadata": {},
     "output_type": "display_data"
    }
   ],
   "source": [
    "phiw.Draw()\n",
    "c.Draw()"
   ]
  },
  {
   "cell_type": "code",
   "execution_count": 20,
   "metadata": {},
   "outputs": [
    {
     "data": {
      "image/png": "[encoded data removed]",
      "text/plain": [
       "<IPython.core.display.Image object>"
      ]
     },
     "metadata": {},
     "output_type": "display_data"
    }
   ],
   "source": [
    "thetab.Draw()\n",
    "c.Draw()"
   ]
  },
  {
   "cell_type": "code",
   "execution_count": 21,
   "metadata": {},
   "outputs": [
    {
     "data": {
      "image/png": "[encoded data removed]",
      "text/plain": [
       "<IPython.core.display.Image object>"
      ]
     },
     "metadata": {},
     "output_type": "display_data"
    }
   ],
   "source": [
    "phib.Draw()\n",
    "c.Draw()"
   ]
  },
  {
   "cell_type": "code",
   "execution_count": 22,
   "metadata": {},
   "outputs": [
    {
     "data": {
      "image/png": "[encoded data removed]",
      "text/plain": [
       "<IPython.core.display.Image object>"
      ]
     },
     "metadata": {},
     "output_type": "display_data"
    }
   ],
   "source": [
    "thetaf.Draw()\n",
    "c.Draw()"
   ]
  },
  {
   "cell_type": "code",
   "execution_count": 23,
   "metadata": {},
   "outputs": [
    {
     "data": {
      "image/png": "[encoded data removed]",
      "text/plain": [
       "<IPython.core.display.Image object>"
      ]
     },
     "metadata": {},
     "output_type": "display_data"
    }
   ],
   "source": [
    "phif.Draw()\n",
    "c.Draw()"
   ]
  }
 ],
 "metadata": {
  "kernelspec": {
   "display_name": "Python 2",
   "language": "python",
   "name": "python2"
  },
  "language_info": {
   "codemirror_mode": {
    "name": "ipython",
    "version": 2
   },
   "file_extension": ".py",
   "mimetype": "text/x-python",
   "name": "python",
   "nbconvert_exporter": "python",
   "pygments_lexer": "ipython2",
   "version": "2.7.17"
  }
 },
 "nbformat": 4,
 "nbformat_minor": 4
}
