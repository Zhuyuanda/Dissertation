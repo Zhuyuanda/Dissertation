{
 "cells": [
  {
   "cell_type": "code",
   "execution_count": 1,
   "metadata": {},
   "outputs": [
    {
     "name": "stdout",
     "output_type": "stream",
     "text": [
      "Welcome to JupyROOT 6.20/04\n"
     ]
    }
   ],
   "source": [
    "import ROOT\n",
    "import sys\n",
    "import numpy as np"
   ]
  },
  {
   "cell_type": "code",
   "execution_count": 2,
   "metadata": {},
   "outputs": [],
   "source": [
    "# read in data\n",
    "inFile = ROOT . TFile . Open ( \"ttH.root\" , \" READ \" )\n",
    "tree = inFile . Get ( \"ttHyyTree\" )"
   ]
  },
  {
   "cell_type": "code",
   "execution_count": 3,
   "metadata": {},
   "outputs": [],
   "source": [
    "# creat a canvas\n",
    "c = ROOT.TCanvas(\"myCanvasName\",\"The Canvas Title\",400,300)"
   ]
  },
  {
   "cell_type": "code",
   "execution_count": 4,
   "metadata": {},
   "outputs": [],
   "source": [
    "# creat 4 empty hist\n",
    "t1 = ROOT . TH1D ( \"tlvb\" ,\" m_{t->lvb} , transverse \" ,150 ,0 ,600 )\n",
    "t1 . Sumw2 ()\n",
    "\n",
    "t2 = ROOT . TH1D ( \"tqqb\" ,\" m_{t->qqb} , transverse \" ,150 ,0 ,600 )\n",
    "t2 . Sumw2 ()\n",
    "\n",
    "w1 = ROOT . TH1D ( \"wlv\" ,\" m_{w->lv} , transverse \" ,150 ,0 ,600 )\n",
    "w1 . Sumw2 ()\n",
    "\n",
    "w2 = ROOT . TH1D ( \"wqq\" ,\" m_{w->qq} , transverse \" ,150 ,0 ,600 )\n",
    "w2 . Sumw2 ()"
   ]
  },
  {
   "cell_type": "code",
   "execution_count": 5,
   "metadata": {},
   "outputs": [],
   "source": [
    "for entryNum in range (0 , tree . GetEntries ()):\n",
    "  # read\n",
    "  tree . GetEntry ( entryNum )\n",
    "\n",
    "  # Event selection: 4jets, 2bjets, 1lepton\n",
    "  btag = 0\n",
    "    \n",
    "  # 4jets\n",
    "  if len(getattr(tree, \"jet_btag77\")) != 4:\n",
    "    continue\n",
    "    \n",
    "  # 2bjets\n",
    "  for i in getattr ( tree , \"jet_btag77\" ):\n",
    "    if i:\n",
    "      btag = btag + 1\n",
    "  if btag != 2:\n",
    "    continue\n",
    "\n",
    "  # 1lepton\n",
    "  if (getattr ( tree , \"n_el\" ) + getattr ( tree , \"n_mu\" )) != 1:\n",
    "    continue\n",
    "\n",
    "  # Lorentz vectors\n",
    "  # lepton\n",
    "  lepton = ROOT . TLorentzVector ()\n",
    "\n",
    "  if getattr ( tree , \"n_el\" ) == 1 and getattr ( tree , \"n_mu\" ) == 0:\n",
    "    lpt = getattr ( tree , \"el_pt\" )\n",
    "    leta = getattr ( tree , \"el_eta\" )\n",
    "    lphi = getattr ( tree , \"el_phi\" )\n",
    "    lm = 0.000511 # electron mass\n",
    "\n",
    "\n",
    "  if getattr ( tree , \"n_mu\" ) == 1 and getattr ( tree , \"n_el\" ) == 0:\n",
    "    lpt = getattr ( tree , \"mu_pt\" )\n",
    "    leta = getattr ( tree , \"mu_eta\" )\n",
    "    lphi = getattr ( tree , \"mu_phi\" )\n",
    "    lm = 0.10566 # muon mass\n",
    "\n",
    "  lepton . SetPtEtaPhiM ( lpt[0] , leta[0] , lphi[0] , lm) \n",
    "\n",
    "  # neutrino\n",
    "  nu = ROOT . TLorentzVector ()\n",
    "  npx = - getattr ( tree , \"met_x\" )\n",
    "  npy = - getattr ( tree , \"met_y\" )\n",
    "  npz = 0\n",
    "  nE = np.sqrt(npx**2+npy**2)\n",
    "  nu . SetPxPyPzE ( npx , npy , npz , nE)\n",
    "\n",
    "  # jets\n",
    "  q1 = ROOT . TLorentzVector ()\n",
    "  q2 = ROOT . TLorentzVector ()\n",
    "  b1 = ROOT . TLorentzVector ()\n",
    "  b2 = ROOT . TLorentzVector ()\n",
    "\n",
    "  jpt = getattr ( tree , \"jet_pt\" )\n",
    "  jeta = getattr ( tree , \"jet_eta\" )\n",
    "  jphi = getattr ( tree , \"jet_phi\" )\n",
    "  jE = getattr ( tree , \"jet_E\" )    \n",
    "  isb = getattr ( tree , \"jet_btag77\" )\n",
    "\n",
    "  if isb[0]:\n",
    "    b1 . SetPtEtaPhiE (jpt[0] , jeta[0] , jphi[0] , jE[0])\n",
    "    if isb[1]:\n",
    "      b2 . SetPtEtaPhiE (jpt[1] , jeta[1] , jphi[1] , jE[1])\n",
    "      q1 . SetPtEtaPhiE (jpt[2] , jeta[2] , jphi[2] , jE[2])\n",
    "      q2 . SetPtEtaPhiE (jpt[3] , jeta[3] , jphi[3] , jE[3])\n",
    "    else:\n",
    "      q1 . SetPtEtaPhiE (jpt[1] , jeta[1] , jphi[1] , jE[1])\n",
    "      if isb[2]:\n",
    "        b2 . SetPtEtaPhiE (jpt[2] , jeta[2] , jphi[2] , jE[2])\n",
    "        q2 . SetPtEtaPhiE (jpt[3] , jeta[3] , jphi[3] , jE[3])\n",
    "      else:\n",
    "        q2 . SetPtEtaPhiE (jpt[2] , jeta[2] , jphi[2] , jE[2])\n",
    "        b2 . SetPtEtaPhiE (jpt[3] , jeta[3] , jphi[3] , jE[3])\n",
    "\n",
    "  else:\n",
    "    q1 . SetPtEtaPhiE (jpt[0] , jeta[0] , jphi[0] , jE[0])\n",
    "    if isb[1]:\n",
    "      b1 . SetPtEtaPhiE (jpt[1] , jeta[1] , jphi[1] , jE[1])\n",
    "      if isb[2]:\n",
    "        b2 . SetPtEtaPhiE (jpt[2] , jeta[2] , jphi[2] , jE[2])\n",
    "        q2 . SetPtEtaPhiE (jpt[3] , jeta[3] , jphi[3] , jE[3])\n",
    "      else:\n",
    "        q2 . SetPtEtaPhiE (jpt[2] , jeta[2] , jphi[2] , jE[2])\n",
    "        b2 . SetPtEtaPhiE (jpt[3] , jeta[3] , jphi[3] , jE[3])\n",
    "        \n",
    "    else:\n",
    "      q2 . SetPtEtaPhiE (jpt[1] , jeta[1] , jphi[1] , jE[1])\n",
    "      b1 . SetPtEtaPhiE (jpt[2] , jeta[2] , jphi[2] , jE[2])\n",
    "      b2 . SetPtEtaPhiE (jpt[3] , jeta[3] , jphi[3] , jE[3])\n",
    "  \n",
    "  # Convert into transverse mass\n",
    "  l_t = ROOT . TLorentzVector ()\n",
    "  b1t = ROOT . TLorentzVector ()\n",
    "  b2t = ROOT . TLorentzVector ()\n",
    "\n",
    "  l_t . SetPxPyPzE(lepton.Px(), lepton.Py(), 0, lepton.E())\n",
    "  b1t . SetPxPyPzE(b1.Px(), b1.Py(), 0, b1.E())\n",
    "  b2t . SetPxPyPzE(b2.Px(), b2.Py(), 0, b2.E())  \n",
    "\n",
    "  # W_t mass\n",
    "  wlv = l_t + nu     # w1\n",
    "  w1m = wlv.Mt()      \n",
    "\n",
    "  wqq = q1 + q2      # w2\n",
    "  w2m = wqq.Mt()\n",
    "\n",
    "  # Top_t mass\n",
    "  w1b1 = (wlv + b1t).Mt()\n",
    "  w2b2 = (wqq + b2).Mt()\n",
    "\n",
    "  w1b2 = (wlv + b2t).Mt()\n",
    "  w2b1 = (wqq + b1).Mt()\n",
    "\n",
    "  chi1 = (w1b1 - 173)**2 + (w2b2 - 173)**2\n",
    "  chi2 = (w1b2 - 173)**2 + (w2b1 - 173)**2\n",
    "\n",
    "  if chi1 <= chi2:\n",
    "    tlvb = w1b1\n",
    "    tqqb = w2b2\n",
    "\n",
    "  else:\n",
    "    tlvb = w1b2\n",
    "    tqqb = w2b1\n",
    "\n",
    "  # Fill the hist\n",
    "  w1 . Fill ( w1m )\n",
    "  w2 . Fill ( w2m )\n",
    "  t1 . Fill ( tlvb )\n",
    "  t2 . Fill ( tqqb )"
   ]
  },
  {
   "cell_type": "code",
   "execution_count": 6,
   "metadata": {},
   "outputs": [
    {
     "data": {
      "image/png": "[encoded data removed]",
      "text/plain": [
       "<IPython.core.display.Image object>"
      ]
     },
     "metadata": {},
     "output_type": "display_data"
    }
   ],
   "source": [
    "w1.Draw()\n",
    "c.Draw()"
   ]
  },
  {
   "cell_type": "code",
   "execution_count": 7,
   "metadata": {},
   "outputs": [
    {
     "data": {
      "image/png": "[encoded data removed]",
      "text/plain": [
       "<IPython.core.display.Image object>"
      ]
     },
     "metadata": {},
     "output_type": "display_data"
    }
   ],
   "source": [
    "t1.Draw()\n",
    "c.Draw()"
   ]
  },
  {
   "cell_type": "code",
   "execution_count": 8,
   "metadata": {},
   "outputs": [
    {
     "data": {
      "image/png": "[encoded data removed]",
      "text/plain": [
       "<IPython.core.display.Image object>"
      ]
     },
     "metadata": {},
     "output_type": "display_data"
    }
   ],
   "source": [
    "w2.Draw()\n",
    "c.Draw()"
   ]
  },
  {
   "cell_type": "code",
   "execution_count": 9,
   "metadata": {},
   "outputs": [
    {
     "data": {
      "image/png": "[encoded data removed]",
      "text/plain": [
       "<IPython.core.display.Image object>"
      ]
     },
     "metadata": {},
     "output_type": "display_data"
    }
   ],
   "source": [
    "t2.Draw()\n",
    "c.Draw()"
   ]
  },
  {
   "cell_type": "code",
   "execution_count": null,
   "metadata": {},
   "outputs": [],
   "source": []
  }
 ],
 "metadata": {
  "kernelspec": {
   "display_name": "Python 2",
   "language": "python",
   "name": "python2"
  },
  "language_info": {
   "codemirror_mode": {
    "name": "ipython",
    "version": 2
   },
   "file_extension": ".py",
   "mimetype": "text/x-python",
   "name": "python",
   "nbconvert_exporter": "python",
   "pygments_lexer": "ipython2",
   "version": "2.7.17"
  }
 },
 "nbformat": 4,
 "nbformat_minor": 4
}
